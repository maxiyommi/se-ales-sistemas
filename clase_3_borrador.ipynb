{
 "cells": [
  {
   "cell_type": "markdown",
   "id": "ecb2594e",
   "metadata": {},
   "source": [
    "# Listas"
   ]
  },
  {
   "cell_type": "code",
   "execution_count": 1,
   "id": "96acc651",
   "metadata": {},
   "outputs": [],
   "source": [
    "a = \"hola a todos\""
   ]
  },
  {
   "cell_type": "code",
   "execution_count": 2,
   "id": "58d30a20",
   "metadata": {},
   "outputs": [
    {
     "data": {
      "text/plain": [
       "'l'"
      ]
     },
     "execution_count": 2,
     "metadata": {},
     "output_type": "execute_result"
    }
   ],
   "source": [
    "a[2]"
   ]
  },
  {
   "cell_type": "code",
   "execution_count": 3,
   "id": "8aab9359",
   "metadata": {},
   "outputs": [],
   "source": [
    "x = [1,2,3]"
   ]
  },
  {
   "cell_type": "code",
   "execution_count": 4,
   "id": "0b3290ec",
   "metadata": {},
   "outputs": [
    {
     "data": {
      "text/plain": [
       "[1, 2, 3]"
      ]
     },
     "execution_count": 4,
     "metadata": {},
     "output_type": "execute_result"
    }
   ],
   "source": [
    "x"
   ]
  },
  {
   "cell_type": "code",
   "execution_count": 5,
   "id": "1ceee51d",
   "metadata": {},
   "outputs": [
    {
     "data": {
      "text/plain": [
       "2"
      ]
     },
     "execution_count": 5,
     "metadata": {},
     "output_type": "execute_result"
    }
   ],
   "source": [
    "x[1]"
   ]
  },
  {
   "cell_type": "code",
   "execution_count": 9,
   "id": "a41a2c63",
   "metadata": {},
   "outputs": [],
   "source": [
    "z = ['hola', 1, 3.4,'a']"
   ]
  },
  {
   "cell_type": "code",
   "execution_count": 10,
   "id": "6e5d024b",
   "metadata": {},
   "outputs": [
    {
     "data": {
      "text/plain": [
       "'hola'"
      ]
     },
     "execution_count": 10,
     "metadata": {},
     "output_type": "execute_result"
    }
   ],
   "source": [
    "x[0]"
   ]
  },
  {
   "cell_type": "code",
   "execution_count": null,
   "id": "53c2ea59",
   "metadata": {},
   "outputs": [],
   "source": []
  },
  {
   "cell_type": "code",
   "execution_count": 12,
   "id": "61a04a48",
   "metadata": {},
   "outputs": [],
   "source": [
    "z.append(5)"
   ]
  },
  {
   "cell_type": "code",
   "execution_count": 13,
   "id": "9f9a8b6a",
   "metadata": {},
   "outputs": [
    {
     "data": {
      "text/plain": [
       "['hola', 1, 3.4, 'a', 5]"
      ]
     },
     "execution_count": 13,
     "metadata": {},
     "output_type": "execute_result"
    }
   ],
   "source": [
    "z"
   ]
  },
  {
   "cell_type": "code",
   "execution_count": 14,
   "id": "e7b65d7e",
   "metadata": {},
   "outputs": [],
   "source": [
    "z.insert(0,0)"
   ]
  },
  {
   "cell_type": "code",
   "execution_count": 15,
   "id": "f8e625d0",
   "metadata": {},
   "outputs": [
    {
     "data": {
      "text/plain": [
       "[0, 'hola', 1, 3.4, 'a', 5]"
      ]
     },
     "execution_count": 15,
     "metadata": {},
     "output_type": "execute_result"
    }
   ],
   "source": [
    "z"
   ]
  },
  {
   "cell_type": "code",
   "execution_count": 16,
   "id": "b3bf6ab9",
   "metadata": {},
   "outputs": [],
   "source": [
    "y = [x,z]"
   ]
  },
  {
   "cell_type": "code",
   "execution_count": 17,
   "id": "b547c617",
   "metadata": {},
   "outputs": [
    {
     "data": {
      "text/plain": [
       "[['hola', 1, 3.4, 'a'], [0, 'hola', 1, 3.4, 'a', 5]]"
      ]
     },
     "execution_count": 17,
     "metadata": {},
     "output_type": "execute_result"
    }
   ],
   "source": [
    "y"
   ]
  },
  {
   "cell_type": "code",
   "execution_count": 29,
   "id": "c61b2768",
   "metadata": {},
   "outputs": [],
   "source": [
    "r = y[0]"
   ]
  },
  {
   "cell_type": "code",
   "execution_count": 31,
   "id": "61c64c28",
   "metadata": {},
   "outputs": [
    {
     "data": {
      "text/plain": [
       "list"
      ]
     },
     "execution_count": 31,
     "metadata": {},
     "output_type": "execute_result"
    }
   ],
   "source": [
    "type(r)"
   ]
  },
  {
   "cell_type": "code",
   "execution_count": 32,
   "id": "bd748957",
   "metadata": {},
   "outputs": [],
   "source": [
    "t = r[2]"
   ]
  },
  {
   "cell_type": "code",
   "execution_count": 33,
   "id": "9a534856",
   "metadata": {},
   "outputs": [],
   "source": [
    "e = y[0][2]"
   ]
  },
  {
   "cell_type": "code",
   "execution_count": 34,
   "id": "e3c66f09",
   "metadata": {},
   "outputs": [
    {
     "data": {
      "text/plain": [
       "True"
      ]
     },
     "execution_count": 34,
     "metadata": {},
     "output_type": "execute_result"
    }
   ],
   "source": [
    "e == t"
   ]
  },
  {
   "cell_type": "code",
   "execution_count": 36,
   "id": "e718f992",
   "metadata": {},
   "outputs": [
    {
     "data": {
      "text/plain": [
       "3.4"
      ]
     },
     "execution_count": 36,
     "metadata": {},
     "output_type": "execute_result"
    }
   ],
   "source": [
    "t"
   ]
  },
  {
   "cell_type": "code",
   "execution_count": 37,
   "id": "6329465a",
   "metadata": {},
   "outputs": [],
   "source": [
    "lista_ordenada = [\"primero\",\"segundo\",\"tercero\",\"cuarto\"]"
   ]
  },
  {
   "cell_type": "code",
   "execution_count": 39,
   "id": "688854c3",
   "metadata": {},
   "outputs": [
    {
     "data": {
      "text/plain": [
       "'primero'"
      ]
     },
     "execution_count": 39,
     "metadata": {},
     "output_type": "execute_result"
    }
   ],
   "source": [
    "lista_ordenada[0]"
   ]
  },
  {
   "cell_type": "code",
   "execution_count": 40,
   "id": "dee0aefc",
   "metadata": {},
   "outputs": [
    {
     "data": {
      "text/plain": [
       "'cuarto'"
      ]
     },
     "execution_count": 40,
     "metadata": {},
     "output_type": "execute_result"
    }
   ],
   "source": [
    "lista_ordenada[-1]"
   ]
  },
  {
   "cell_type": "code",
   "execution_count": 45,
   "id": "f586f28a",
   "metadata": {},
   "outputs": [],
   "source": [
    "t = lista_ordenada[0:2]"
   ]
  },
  {
   "cell_type": "code",
   "execution_count": 46,
   "id": "ce77557f",
   "metadata": {},
   "outputs": [
    {
     "data": {
      "text/plain": [
       "['primero', 'segundo']"
      ]
     },
     "execution_count": 46,
     "metadata": {},
     "output_type": "execute_result"
    }
   ],
   "source": [
    "t"
   ]
  },
  {
   "cell_type": "code",
   "execution_count": 57,
   "id": "9699bfd1",
   "metadata": {},
   "outputs": [
    {
     "data": {
      "text/plain": [
       "[]"
      ]
     },
     "execution_count": 57,
     "metadata": {},
     "output_type": "execute_result"
    }
   ],
   "source": [
    "lista_ordenada[4:-1:-1]"
   ]
  },
  {
   "cell_type": "code",
   "execution_count": 59,
   "id": "6d263727",
   "metadata": {},
   "outputs": [
    {
     "data": {
      "text/plain": [
       "['cuarto']"
      ]
     },
     "execution_count": 59,
     "metadata": {},
     "output_type": "execute_result"
    }
   ],
   "source": [
    "lista_ordenada[:2:-1]"
   ]
  },
  {
   "cell_type": "code",
   "execution_count": 83,
   "id": "8b317cd9",
   "metadata": {},
   "outputs": [],
   "source": [
    "lista_ordenada.append(\"Quinto\")"
   ]
  },
  {
   "cell_type": "code",
   "execution_count": 84,
   "id": "9ce3d60b",
   "metadata": {},
   "outputs": [
    {
     "data": {
      "text/plain": [
       "['Primero', 'Segundo', 'Tercero', 'Cuarto', 'Quinto', 'Quinto']"
      ]
     },
     "execution_count": 84,
     "metadata": {},
     "output_type": "execute_result"
    }
   ],
   "source": [
    "lista_ordenada"
   ]
  },
  {
   "cell_type": "code",
   "execution_count": 81,
   "id": "3a14a621",
   "metadata": {},
   "outputs": [],
   "source": [
    "lista_ordenada[1:5]=[\"Segundo\",\"Tercero\",\"Cuarto\",\"Quinto\"]"
   ]
  },
  {
   "cell_type": "code",
   "execution_count": 73,
   "id": "a8154e54",
   "metadata": {},
   "outputs": [],
   "source": [
    "lista_ordenada.remove('Quinto')"
   ]
  },
  {
   "cell_type": "code",
   "execution_count": 82,
   "id": "b58f59bb",
   "metadata": {},
   "outputs": [
    {
     "data": {
      "text/plain": [
       "['Primero', 'Segundo', 'Tercero', 'Cuarto', 'Quinto']"
      ]
     },
     "execution_count": 82,
     "metadata": {},
     "output_type": "execute_result"
    }
   ],
   "source": [
    "lista_ordenada"
   ]
  },
  {
   "cell_type": "code",
   "execution_count": 77,
   "id": "9c0fd868",
   "metadata": {},
   "outputs": [],
   "source": [
    "lista_ordenada[4:6]=[]"
   ]
  },
  {
   "cell_type": "code",
   "execution_count": 85,
   "id": "35da97b6",
   "metadata": {},
   "outputs": [],
   "source": [
    "del lista_ordenada[4:6]"
   ]
  },
  {
   "cell_type": "code",
   "execution_count": 92,
   "id": "eb26025e",
   "metadata": {},
   "outputs": [
    {
     "name": "stdout",
     "output_type": "stream",
     "text": [
      "Help on built-in function insert:\n",
      "\n",
      "insert(index, object, /) method of builtins.list instance\n",
      "    Insert object before index.\n",
      "\n"
     ]
    }
   ],
   "source": [
    "help (lista_ordenada.insert)"
   ]
  },
  {
   "cell_type": "code",
   "execution_count": 87,
   "id": "9da7b64b",
   "metadata": {},
   "outputs": [],
   "source": [
    "x = [1,2,3]\n",
    "y = [4,5,6]\n",
    "z = x + y"
   ]
  },
  {
   "cell_type": "code",
   "execution_count": 88,
   "id": "4f6c0355",
   "metadata": {},
   "outputs": [
    {
     "data": {
      "text/plain": [
       "[1, 2, 3, 4, 5, 6]"
      ]
     },
     "execution_count": 88,
     "metadata": {},
     "output_type": "execute_result"
    }
   ],
   "source": [
    "z"
   ]
  },
  {
   "cell_type": "code",
   "execution_count": 90,
   "id": "900eb4d4",
   "metadata": {},
   "outputs": [
    {
     "data": {
      "text/plain": [
       "False"
      ]
     },
     "execution_count": 90,
     "metadata": {},
     "output_type": "execute_result"
    }
   ],
   "source": [
    "4  in z"
   ]
  },
  {
   "cell_type": "code",
   "execution_count": null,
   "id": "e1921924",
   "metadata": {},
   "outputs": [],
   "source": [
    "def unaFuncion(a,b):\n",
    "    '''\n",
    "    sdas\n",
    "    asd\n",
    "    asd\n",
    "    \n",
    "    inputs\n",
    "    a = entero\n",
    "    b = real\n",
    "    \n",
    "    outputs\n",
    "    \n",
    "    '''\n",
    "    \n",
    "    return c = a + b"
   ]
  },
  {
   "cell_type": "code",
   "execution_count": 93,
   "id": "cd78c0aa",
   "metadata": {},
   "outputs": [],
   "source": [
    "x = range(10)"
   ]
  },
  {
   "cell_type": "code",
   "execution_count": 94,
   "id": "e65ff86b",
   "metadata": {},
   "outputs": [
    {
     "data": {
      "text/plain": [
       "range"
      ]
     },
     "execution_count": 94,
     "metadata": {},
     "output_type": "execute_result"
    }
   ],
   "source": [
    "type(x)"
   ]
  },
  {
   "cell_type": "code",
   "execution_count": 98,
   "id": "d05391b5",
   "metadata": {},
   "outputs": [],
   "source": [
    "y = list(x)"
   ]
  },
  {
   "cell_type": "code",
   "execution_count": 99,
   "id": "709e9a19",
   "metadata": {},
   "outputs": [
    {
     "data": {
      "text/plain": [
       "list"
      ]
     },
     "execution_count": 99,
     "metadata": {},
     "output_type": "execute_result"
    }
   ],
   "source": [
    "type (y)"
   ]
  },
  {
   "cell_type": "code",
   "execution_count": 100,
   "id": "dee7a998",
   "metadata": {},
   "outputs": [
    {
     "data": {
      "text/plain": [
       "[0, 1, 2, 3, 4, 5, 6, 7, 8, 9]"
      ]
     },
     "execution_count": 100,
     "metadata": {},
     "output_type": "execute_result"
    }
   ],
   "source": [
    "y"
   ]
  },
  {
   "cell_type": "code",
   "execution_count": 103,
   "id": "7df943b9",
   "metadata": {},
   "outputs": [],
   "source": [
    "x = [1,2,3]"
   ]
  },
  {
   "cell_type": "code",
   "execution_count": 106,
   "id": "faf66b16",
   "metadata": {},
   "outputs": [],
   "source": [
    "y = ([1,2,3],2,3)"
   ]
  },
  {
   "cell_type": "code",
   "execution_count": 107,
   "id": "c054fd44",
   "metadata": {},
   "outputs": [
    {
     "data": {
      "text/plain": [
       "tuple"
      ]
     },
     "execution_count": 107,
     "metadata": {},
     "output_type": "execute_result"
    }
   ],
   "source": [
    "type(y)"
   ]
  },
  {
   "cell_type": "code",
   "execution_count": 108,
   "id": "d65175cf",
   "metadata": {},
   "outputs": [
    {
     "data": {
      "text/plain": [
       "([1, 2, 3], 2, 3)"
      ]
     },
     "execution_count": 108,
     "metadata": {},
     "output_type": "execute_result"
    }
   ],
   "source": [
    "y"
   ]
  },
  {
   "cell_type": "code",
   "execution_count": null,
   "id": "bbe73076",
   "metadata": {},
   "outputs": [],
   "source": []
  }
 ],
 "metadata": {
  "kernelspec": {
   "display_name": "Python 3",
   "language": "python",
   "name": "python3"
  },
  "language_info": {
   "codemirror_mode": {
    "name": "ipython",
    "version": 3
   },
   "file_extension": ".py",
   "mimetype": "text/x-python",
   "name": "python",
   "nbconvert_exporter": "python",
   "pygments_lexer": "ipython3",
   "version": "3.8.5"
  }
 },
 "nbformat": 4,
 "nbformat_minor": 5
}
