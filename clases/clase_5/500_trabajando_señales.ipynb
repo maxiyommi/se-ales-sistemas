{
 "cells": [
  {
   "cell_type": "markdown",
   "metadata": {},
   "source": [
    "# Trabajando con señales"
   ]
  },
  {
   "cell_type": "markdown",
   "metadata": {},
   "source": [
    "## Índice\n",
    "\n",
    "* [Periodicidad](#Periodicidad)\n",
    "    * [Dominio continuo](#Dominio-continuo)\n",
    "        * [Periodo fundamental](#Periodo-fundamental-continuo)\n",
    "    * [Dominio discreto](#Dominio-discreto)\n",
    "        * [Periodo fundamental](#Periodo-fundamental-discreto)\n",
    "* [Transfomación de la variable independiente](#Transformación-de-la-variable-independiente)   \n",
    "* [Operación entre señales discretas](#Operación-entre-señales-discretas)    \n",
    "    * [Suma de secuencias](#Suma-de-secuencias)\n",
    "        * [Copias y vistas](#Copias-y-vistas)\n",
    "    * [Multiplicacón de secuencias](#Multiplicación-de-secuencias)\n",
    "* [Referencias](#Referencias)\n",
    "* [Licencia](#Licencia)"
   ]
  },
  {
   "cell_type": "markdown",
   "metadata": {},
   "source": [
    "## Objetivos del notebook\n",
    "\n",
    "* Trabajar con señales discretas y continuas.\n",
    "* Usar funciones lambda.\n",
    "* Evaluar la periodicidad de una señal.\n",
    "* Transformar la variable independiente de una señal.\n",
    "* Operar entre señales."
   ]
  },
  {
   "cell_type": "markdown",
   "metadata": {},
   "source": [
    "## Periodicidad\n",
    "\n",
    "### Dominio continuo"
   ]
  },
  {
   "cell_type": "markdown",
   "metadata": {},
   "source": [
    "Para las señales sinusoidales en **tiempo continuo**, una oscilación armónica se define como: \n",
    "\n",
    "$$x(t) = A\\mathrm{cos}(\\Omega t+\\theta), -\\infty<t>+\\infty\\quad$$\n",
    "\n",
    "Donde $A$ es la amplitud, $\\Omega$(mayuscula) es la frecuencia angular $\\Omega=2\\pi f$[rad/s], $f$ [Hz] y fase $\\theta$ [rad]. Entonces podemos representarla de la siguiente manera:"
   ]
  },
  {
   "cell_type": "code",
   "execution_count": null,
   "metadata": {},
   "outputs": [],
   "source": [
    "import sympy as sym\n",
    "from sympy.plotting import plot\n",
    "\n",
    "t = sym.symbols('t')\n",
    "\n",
    "A = 1\n",
    "f = 1/12 # Definición de la frecuencia [Hz][1/s]\n",
    "O = 0\n",
    "\n",
    "x = A*sym.cos(2*sym.pi*f*t + O)\n",
    "\n",
    "# grafico de con los resultados y definición del eje temporal [s]\n",
    "plot(x, (t, -24, 24),line_color='red', title='Señal sinusoidal', xlabel='t [segundos]', ylabel='x(t)')"
   ]
  },
  {
   "cell_type": "markdown",
   "metadata": {},
   "source": [
    "Podemos corroborar que la energia de una señal periodica es infinita"
   ]
  },
  {
   "cell_type": "code",
   "execution_count": null,
   "metadata": {},
   "outputs": [],
   "source": [
    "t, T = sym.symbols('t T')\n",
    "\n",
    "energia = lambda f: sym.integrate(abs(f)**2,(t,-sym.oo, sym.oo))\n",
    "potencia = lambda f: sym.limit((1/(2*T)*sym.integrate(f,(t,-sym.oo, sym.oo))),T,sym.oo)"
   ]
  },
  {
   "cell_type": "code",
   "execution_count": null,
   "metadata": {},
   "outputs": [],
   "source": [
    "energia(x).evalf()"
   ]
  },
  {
   "cell_type": "code",
   "execution_count": null,
   "metadata": {},
   "outputs": [],
   "source": [
    "potencia(x).evalf()"
   ]
  },
  {
   "cell_type": "markdown",
   "metadata": {},
   "source": [
    "> Aca usamos funciones [lambda](https://medium.com/@borjauria/que-son-y-como-utilizar-lambdas-en-python-4d1d168e2f90), que refiere a una pequeña función anónima. Las llamamos *funciones anónimas* porque técnicamente carecen de nombre. Al contrario que una función normal, no la definimos con la palabra clave estándar *def* que utilizamos en Python. En su lugar, las funciones Lambda se definen como una línea que ejecuta una sola expresión. Este tipo de funciones pueden tomar cualquier número de argumentos, pero solo pueden tener una expresión."
   ]
  },
  {
   "cell_type": "markdown",
   "metadata": {},
   "source": [
    "#### Periodo fundamental continuo\n",
    "\n",
    "$$\\text{si sabemos que } \\Omega = 2\\pi f \\longrightarrow {\\Omega} = 2\\pi / T \\text{ Donde T [s] es el período}$$\n",
    "\n",
    "$$X\\quad \\text{es períodica de período } T \\Leftrightarrow X(t \\pm T) = X(t), \\text{ cuando } T = 2k\\pi / {\\Omega} \\text{ con }k \\in\\mathbf{N}, \\text{ para el } k \\text{ más pequeño } T \\text{ es } T_0 \\text{ , período fundamental con } T_0 \\in\\mathbf{R}$$\n",
    "\n",
    "$$\\mathrm{cos}\\left(2\\pi t / 12\\right) \\text{ como } \\Omega= \\left (2\\pi/12\\right) \\rightarrow T=\\left(2k\\pi12/2\\pi\\right)= 12k \\text{ con } k=1  \\rightarrow T_0=12$$"
   ]
  },
  {
   "cell_type": "code",
   "execution_count": null,
   "metadata": {},
   "outputs": [],
   "source": [
    "import numpy as np\n",
    "\n",
    "T0 = lambda w0 :np.min(2*np.arange(1,100)*sym.pi/w0)\n",
    "\n",
    "T0 (2*sym.pi/12)"
   ]
  },
  {
   "cell_type": "markdown",
   "metadata": {},
   "source": [
    "### Dominio discreto"
   ]
  },
  {
   "cell_type": "markdown",
   "metadata": {},
   "source": [
    "Para las señales sinusoidales en **tiempo discreto**, una oscilación armónica se define como: \n",
    "\n",
    "$$x[n] = A\\mathrm{cos}[\\omega n+\\theta], -\\infty<n>+\\infty\\quad$$\n",
    "\n",
    "Donde $A$ es la amplitud, $\\omega$(minuscula) es la frecuencia angular $\\omega=2\\pi f$[rad/muestras], $f$ [Hz] y fase $\\theta$ [rad]. Entonces podemos representarla de la siguiente manera:"
   ]
  },
  {
   "cell_type": "code",
   "execution_count": null,
   "metadata": {},
   "outputs": [],
   "source": [
    "import matplotlib.pyplot as plt\n",
    "\n",
    "# Definición de los periodos de muestreo [s]\n",
    "t_final = 2;\n",
    "F = 20; # 0.5\n",
    "T1 = 1/F;\n",
    "\n",
    "# Definicion de la cantindad de muestras en funcion de T\n",
    "n = np.arange(0, t_final,T1)\n",
    "\n",
    "# Definición de la frecuencia [Hz], Amplitud y fase\n",
    "f = 2; #1/12\n",
    "\n",
    "A = 1\n",
    "O = 0\n",
    "\n",
    "# Definicion de las funciones discretas\n",
    "x = A*np.cos(2*np.pi*f*n) # Calcula la exponencial de todos los elementos de la matriz de entrada.\n",
    "\n",
    "\n",
    "plt.stem(n,x)\n",
    "plt.title('Señal discreta muestreada a '+ str(T1)+ 's')\n",
    "plt.ylabel('Amplitud $x[nT1]$')\n",
    "plt.xlabel('Tiempo [s]')"
   ]
  },
  {
   "cell_type": "markdown",
   "metadata": {},
   "source": [
    "### Periodo fundamental discreto\n",
    "\n",
    "$$\\text{si sabemos que } \\omega = 2\\pi f \\longrightarrow \\omega = 2\\pi / N \\text{ Donde N [1/muestra] es el período}$$\n",
    "\n",
    "$$X\\quad \\text{es una señal periodica de periodo } N \\Leftrightarrow X[n\\pm N] = X[n] \\text{ donde } N = \\frac{2k\\pi}{\\omega} \\text{ con }k\\in\\mathbf{N}, \\text{para el } k \\text{ más pequeño } N \\text{ es } N_0  \\text{ periodo fundamental con } N_0 \\in\\mathbf{Z}$$\n",
    "\n",
    "$$\\mathrm{cos}\\left(2\\pi n/ 12\\right) \\text{ como } \\omega= \\left (2\\pi/12\\right) \\rightarrow N=\\left(2k\\pi12/2\\pi\\right)= 12k \\text{ con } k=1  \\rightarrow N=12$$"
   ]
  },
  {
   "cell_type": "code",
   "execution_count": null,
   "metadata": {},
   "outputs": [],
   "source": [
    "N0 = lambda w0 :2*np.arange(1,100)*np.pi/w0\n",
    "\n",
    "N0(2*np.pi/12)"
   ]
  },
  {
   "cell_type": "markdown",
   "metadata": {},
   "source": [
    "## Transformación de la variable independiente\n",
    "\n",
    "Se sabe que dada una **secuencia discreta**:\n",
    "\n",
    "$$x[n] \\Rightarrow x[n \\alpha + \\beta]$$\n",
    "\n",
    "$$\\text{Si } \\vert \\alpha \\vert < 1 \\text{ se expande linealmente}$$\n",
    "\n",
    "$$\\text{Si } \\vert \\alpha \\vert > 1 \\text{ se comprime linealmente}$$\n",
    "\n",
    "$$\\text{Si } \\alpha < 0 \\text{ se invierte en el tiempo}$$\n",
    "\n",
    "$$\\text{Si } \\beta  < n \\text{ con }n <0 \\text{ son } n \\text{ lugares a la derecha}$$\n",
    "\n",
    "$$\\text{Si } \\beta  > n \\text{ con }n >0 \\text{ son } n \\text{ lugares a la izquierda}$$\n",
    "\n",
    "$$\\text{Si  } x[n] \\text{ es reflejado, entonces los movimientos son invertidos}$$\n",
    "\n",
    "Entonces que sucede con una señal expresada en 2 vectores:"
   ]
  },
  {
   "cell_type": "code",
   "execution_count": null,
   "metadata": {},
   "outputs": [],
   "source": [
    "x = np.array([2,1,-1,0,1,4,3,7]) # secuencia - rango\n",
    "n = np.arange(-3,5) # indices (o posición) - dominio\n",
    "\n",
    "plt.stem(n,x,'b')\n",
    "plt.title('Transformacion de la variable independiente')\n",
    "plt.ylabel('Amplitud $x[n]$')\n",
    "plt.xlabel('n')\n",
    "\n",
    "plt.grid()\n",
    "\n",
    "# transformaciones\n",
    "#plt.stem(n+(-2),x,'r',label='original') # mov. der\n",
    "#plt.stem(n+(2),x,'r') # mov. izq\n",
    "#plt.stem(-n,x,'r') # inv. temporal\n",
    "#plt.stem(n/abs(2),x,'r') # comp (la mitad)\n",
    "#plt.stem(n/abs(0.5),x,'r') # exp. (doble)"
   ]
  },
  {
   "cell_type": "markdown",
   "metadata": {},
   "source": [
    "Otro ejemplo es con una secuencia continua definida a tramos:\n",
    "\n",
    "$$x(t)=\\begin{cases} \n",
    "0, \\text{ para } -1<t<0 \\\\  \n",
    "1, \\text{  para } 0<t<2 \\\\\n",
    "2-(t/2), \\text{ para } 2<t<4 \\\\ \n",
    "0, \\text{ para } 4<t<5 \\\\  \n",
    "\\end{cases}$$\n",
    "\n",
    "$$y(t)=x(-2t+1)$$"
   ]
  },
  {
   "cell_type": "code",
   "execution_count": null,
   "metadata": {},
   "outputs": [],
   "source": [
    "t = np.linspace(-3, 5)\n",
    "x = lambda t: np.piecewise(t, [(t>-1)&(t<0), (t>0)&(t<2), (t>2)&(t<4), (t>4)&(t<5)], [lambda t: 0, lambda t: 1, lambda t: 2-(t/2), lambda t: 0])\n",
    "\n",
    "X = x(t)\n",
    "y = x(-2*t+1)\n",
    "plt.plot(t,X,'r')\n",
    "plt.plot(t,y)\n"
   ]
  },
  {
   "cell_type": "markdown",
   "metadata": {},
   "source": [
    "## Operación entre señales discretas"
   ]
  },
  {
   "cell_type": "markdown",
   "metadata": {},
   "source": [
    "### Suma de secuencias\n",
    "Esto es una suma muestra a muestra dado por:\n",
    "\n",
    "$$\\left\\lbrace x_1 \\left\\lbrack n\\right\\rbrack \\right\\rbrace +\\left\\lbrace x_2 \\left\\lbrack n\\right\\rbrack \\right\\rbrace =\\left\\lbrace x_1 \\left\\lbrack n\\right\\rbrack +x_2 \\left\\lbrack n\\right\\rbrack \\right\\rbrace$$\n",
    "\n",
    "El problema de sumar secuencias radica en que $x_1[n]$ y $x_2[n]$, deben tener la misma dimensiónes, para lo cual se agregan ceros en la secuencia faltante. En el caso de los vectores de indices, pueden ser distintos:"
   ]
  },
  {
   "cell_type": "code",
   "execution_count": null,
   "metadata": {},
   "outputs": [],
   "source": [
    "x1 = np.array([0,0,1,2,3,0,0,2,2,0])\n",
    "n1 = np.arange(-2,8)\n",
    "\n",
    "x2 = np.array([0,-2,-2,2,2,0,-2,0])\n",
    "n2 = np.arange(-3,5)"
   ]
  },
  {
   "cell_type": "code",
   "execution_count": null,
   "metadata": {},
   "outputs": [],
   "source": [
    "plt.stem(n1,x1,'r')"
   ]
  },
  {
   "cell_type": "code",
   "execution_count": null,
   "metadata": {},
   "outputs": [],
   "source": [
    "plt.stem(n2,x2,'g')"
   ]
  },
  {
   "cell_type": "code",
   "execution_count": 111,
   "metadata": {},
   "outputs": [
    {
     "name": "stderr",
     "output_type": "stream",
     "text": [
      "/home/max/miniconda3/lib/python3.7/site-packages/ipykernel_launcher.py:13: UserWarning: In Matplotlib 3.3 individual lines on a stem plot will be added as a LineCollection instead of individual lines. This significantly improves the performance of a stem plot. To remove this warning and switch to the new behaviour, set the \"use_line_collection\" keyword argument to True.\n",
      "  del sys.path[0]\n",
      "/home/max/miniconda3/lib/python3.7/site-packages/ipykernel_launcher.py:14: UserWarning: In Matplotlib 3.3 individual lines on a stem plot will be added as a LineCollection instead of individual lines. This significantly improves the performance of a stem plot. To remove this warning and switch to the new behaviour, set the \"use_line_collection\" keyword argument to True.\n",
      "  \n",
      "/home/max/miniconda3/lib/python3.7/site-packages/ipykernel_launcher.py:15: UserWarning: In Matplotlib 3.3 individual lines on a stem plot will be added as a LineCollection instead of individual lines. This significantly improves the performance of a stem plot. To remove this warning and switch to the new behaviour, set the \"use_line_collection\" keyword argument to True.\n",
      "  from ipykernel import kernelapp as app\n"
     ]
    },
    {
     "data": {
      "text/plain": [
       "<StemContainer object of 3 artists>"
      ]
     },
     "execution_count": 111,
     "metadata": {},
     "output_type": "execute_result"
    },
    {
     "data": {
      "image/png": "[encoded data removed]",
      "text/plain": [
       "<Figure size 432x288 with 1 Axes>"
      ]
     },
     "metadata": {
      "needs_background": "light"
     },
     "output_type": "display_data"
    }
   ],
   "source": [
    "n = np.arange(np.min([np.min(n1),np.min(n2)]),np.max([np.max(n1),np.max(n2)])+1) # duracion y(n)\n",
    "\n",
    "# inicialización\n",
    "y1 = np.zeros(n.size)\n",
    "#y2 = y1.copy()\n",
    "y2 = y1\n",
    "# y1 con duracion de x1\n",
    "y1[np.where((n>=np.min(n1))&(n<=np.max(n1))==1)] = x1\n",
    "# y2 con duracion de x2\n",
    "y2[np.where((n>=np.min(n2))&(n<=np.max(n2))==1)] = x2\n",
    "# suma\n",
    "y = y1+y2\n",
    "\n",
    "plt.stem(n,y1,'r')\n",
    "plt.stem(n,y2,'b')\n",
    "plt.stem(n,y,'g')"
   ]
  },
  {
   "cell_type": "markdown",
   "metadata": {},
   "source": [
    "#### Copias y vistas\n",
    "\n",
    "Si copiamos una lista en Python y modificamos la copia, no se modifica la lista originalmente copiada:"
   ]
  },
  {
   "cell_type": "code",
   "execution_count": 106,
   "metadata": {},
   "outputs": [
    {
     "name": "stdout",
     "output_type": "stream",
     "text": [
      "[1, 2, 3]\n",
      "[100, 2, 3]\n",
      "[1, 2, 3]\n"
     ]
    }
   ],
   "source": [
    "a = [1, 2, 3]\n",
    "b = a[:]\n",
    "print (b)\n",
    "b[0] = 100\n",
    "print (b)\n",
    "print (a)"
   ]
  },
  {
   "cell_type": "markdown",
   "metadata": {},
   "source": [
    "Si trabajamos con arreglos de NumPy, el comportamiento es diferente (cuando copiamos, en realidad, estamos haciendo una vista al objeto original, apuntamos al mismo objeto):"
   ]
  },
  {
   "cell_type": "code",
   "execution_count": 107,
   "metadata": {},
   "outputs": [
    {
     "name": "stdout",
     "output_type": "stream",
     "text": [
      "[1 2 3]\n",
      "[100   2   3]\n",
      "[100   2   3]\n"
     ]
    }
   ],
   "source": [
    "a = np.array([1, 2, 3])\n",
    "b = a[:]\n",
    "print (b)\n",
    "b[0] = 100\n",
    "print (b)\n",
    "print (a)"
   ]
  },
  {
   "cell_type": "code",
   "execution_count": 108,
   "metadata": {},
   "outputs": [
    {
     "name": "stdout",
     "output_type": "stream",
     "text": [
      "[1 2 3]\n",
      "[100   2   3]\n",
      "[1 2 3]\n"
     ]
    }
   ],
   "source": [
    "a = np.array([1, 2, 3])\n",
    "b = a[:].copy() # fuerzo la copia\n",
    "print (b)\n",
    "b[0] = 100\n",
    "print (b)\n",
    "print (a)"
   ]
  },
  {
   "cell_type": "markdown",
   "metadata": {},
   "source": [
    "> Siempre devuelve vistas para evitar incrementos innecesarios de memoria. Este comportamiento por defecto es realmente muy útil, significa que, trabajando con grandes conjuntos de datos, podemos acceder y procesar piezas de estos conjuntos de datos sin necesidad de copiar el buffer de datos original."
   ]
  },
  {
   "cell_type": "markdown",
   "metadata": {},
   "source": [
    "### Multiplicación de secuencias\n",
    "Esto es un producto muestra a muestra (o producto punto) dado por:\n",
    "\n",
    "$$\\left\\lbrace x_1 \\left\\lbrack n\\right\\rbrack \\right\\rbrace \\ldotp \\left\\lbrace x_2 \\left\\lbrack n\\right\\rbrack \\right\\rbrace =\\left\\lbrace x_1 \\left\\lbrack n\\right\\rbrack x_2 \\left\\lbrack n\\right\\rbrack \\right\\rbrace$$\n",
    "\n",
    "El problema de multiplicar secuencia radica en que $x_1[n]$ y $x_2[n]$ , deben tener la misma dimensiónes, para lo cual se agregan ceros en la secuencia faltante. En el caso de los vectores de indices, pueden ser distintos:"
   ]
  },
  {
   "cell_type": "code",
   "execution_count": null,
   "metadata": {},
   "outputs": [],
   "source": [
    "# completar"
   ]
  },
  {
   "cell_type": "markdown",
   "metadata": {},
   "source": [
    "## Referencias\n",
    "\n",
    " * *Numpy User Guide*, https://www.numpy.org/\n",
    " * Scott, Shell, *An introduction to Numpy and Scipy*, 2014. \n",
    " * Martín, Gaitán. *Curso de Python para ciencias e ingenierías*. Extraido de [GitHub](https://github.com/mgaitan/curso-python-cientifico), 2017.\n",
    " * Oppenheim, Alan V.; Willsky, Alan S.; Nawab, S. Hamid. Señales y sistemas. Pearson Educación, 1998.\n",
    " * Jesús C, https://thepythonlab.com/numpy/\n",
    " * Damian Vila, https://damianavila.github.io/Python-Cientifico-HCC/3_NumPy.html"
   ]
  },
  {
   "cell_type": "markdown",
   "metadata": {},
   "source": [
    "## Licencia\n",
    "\n",
    "<a rel=\"license\" href=\"http://creativecommons.org/licenses/by-sa/4.0/\"><img alt=\"Licencia de Creative Commons\" style=\"border-width:0\" src=\"https://i.creativecommons.org/l/by-sa/4.0/88x31.png\" /></a><br />Este documento se destribuye con una <a rel=\"license\" href=\"http://creativecommons.org/licenses/by-sa/4.0/\">licencia Atribución CompartirIgual 4.0 Internacional de Creative Commons</a>.\n",
    "\n",
    "Material adaptado del curso [Introducción a Python](https://github.com/infiniemlabs-acustica/python_introduccion)\n",
    "\n",
    "© 2020. Infiniem Labs Acústica. infiniemlab.dsp@gmail.com (CC BY-SA 4.0))"
   ]
  }
 ],
 "metadata": {
  "kernelspec": {
   "display_name": "Python 3",
   "language": "python",
   "name": "python3"
  },
  "language_info": {
   "codemirror_mode": {
    "name": "ipython",
    "version": 3
   },
   "file_extension": ".py",
   "mimetype": "text/x-python",
   "name": "python",
   "nbconvert_exporter": "python",
   "pygments_lexer": "ipython3",
   "version": "3.8.5"
  }
 },
 "nbformat": 4,
 "nbformat_minor": 4
}
