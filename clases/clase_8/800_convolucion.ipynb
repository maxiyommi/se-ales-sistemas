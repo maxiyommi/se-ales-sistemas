{
 "cells": [
  {
   "cell_type": "markdown",
   "metadata": {},
   "source": [
    "# Convolución"
   ]
  },
  {
   "cell_type": "markdown",
   "metadata": {},
   "source": [
    "## Índice "
   ]
  },
  {
   "cell_type": "markdown",
   "metadata": {},
   "source": [
    "## Objetivos del notebook "
   ]
  },
  {
   "cell_type": "markdown",
   "metadata": {},
   "source": [
    "## Convolución continua\n",
    "\n",
    "La convolución entre dos funciones es un concepto físico importante en muchas ramas de la ciencia. Para el caso de sistemas lineales e invariantes en el tiempo (LTI), la integral de convolución permite determinar la respuesta del sistema ante cualquier entrada, a partir del conocimiento de la respuesta del sistema ante una única entrada particular: **el impulso** $\\delta(t)$. Si la **respuesta impulsiva** se denota como $h(t)$, la salida de un sistema LTI excitado con una entrada cualquiera $x(t)$ está dada por la expresión:\n",
    "\n",
    "$$y(t)=x(t)*h(t)=\\int_{-\\infty}^{\\infty}{x(\\tau)h(t-\\tau) d\\tau}$$\n",
    "\n",
    "Esta integral se conoce como **integral de convolución o integral de superposicion** y es la representación de una sistema continuo en el tiempo, lineal e invariante en función de su respuesta impulsiva $h(t)$.\n",
    "\n",
    "Aprovechemos para recordar los pasos del procedimiento para realizar la convolución continua (Analíticamente):\n",
    "\n",
    "1. **Graficar**: ambas señales integrando en la variable de integración.\n",
    "2. **Determinar**: encontrar los valores de t (casos) donde se produce una superposición (parcial o total) en el integrando.\n",
    "3. **Establecer**: los límites de integración a partir de la alineación de las señales.\n",
    "4. **Integrar**: y desplazar.\n",
    "\n",
    "Los pasos del procedimiento para realizar la convolución continua (gráficamente):\n",
    "1. **Reflexión**: se refleja h(t) respecto del eje de ordenadas.\n",
    "2. **Desplazamiento**: se desplaza h(-) una cantidad t donde se desea evaluar la convolución.\n",
    "3. **Mutiplicación**: Se multiplica la funcion desplazada h(t-) y x(t).\n",
    "4. **Integración**: el área bajo el producto h(t-) y x(t) es el valor de la convolución en el tiempo t."
   ]
  },
  {
   "cell_type": "markdown",
   "metadata": {},
   "source": [
    "Veamos un ejemplo con señal y respuesta al impulso **finitas** (adaptado de Signals and Systems for Dummies pp.107)\n",
    "\n",
    "$$2x(t-3.5) \\rightarrow x(t)=\\begin{cases} 1/\\tau, \\text{para } \\vert t \\vert< \\tau/2  \\\\  0, \\text{resto  } \n",
    "\\end{cases}$$\n",
    "\n",
    "$$h[(t-1)/2] \\rightarrow h(t)=\\begin{cases} 1/\\tau, \\text{para } \\vert t \\vert< \\tau/2  \\\\  0, \\text{resto  } \n",
    "\\end{cases}$$"
   ]
  },
  {
   "cell_type": "markdown",
   "metadata": {},
   "source": [
    "### **Graficar**\n",
    "![](../img/conv.png)"
   ]
  },
  {
   "cell_type": "code",
   "execution_count": 105,
   "metadata": {},
   "outputs": [],
   "source": [
    "import numpy as np\n",
    "import matplotlib.pyplot as plt"
   ]
  },
  {
   "cell_type": "code",
   "execution_count": null,
   "metadata": {},
   "outputs": [],
   "source": [
    "def rect(t,tau):\n",
    "    x = np.zeros(len(t))\n",
    "    for k,tk in enumerate(t): # agrega un contador a un iterable y lo devuelve en forma de objeto enumerado\n",
    "        if np.abs(tk) > tau/2.:\n",
    "            x[k] = 0\n",
    "        else:\n",
    "            x[k] = 1\n",
    "    return x\n",
    "\n",
    "t = np.arange(-5,5,.01)\n",
    "x = rect(t-3.5,1)\n",
    "\n",
    "plt.plot(t,2*x,'r')\n",
    "plt.ylabel('$x(t)$')\n",
    "plt.xlabel('$t$')"
   ]
  },
  {
   "cell_type": "code",
   "execution_count": null,
   "metadata": {},
   "outputs": [],
   "source": [
    "h = rect((t-1)/2,1)\n",
    "plt.plot(t,h)\n",
    "plt.ylabel('$h(t)$')\n",
    "plt.xlabel('$t$')"
   ]
  },
  {
   "cell_type": "markdown",
   "metadata": {},
   "source": [
    "### **Determinar**\n",
    "\n",
    "Hay 5 casos a considerar:\n",
    "\n",
    "* El caso 1 y 5 ocurre cuando **no hay solapamiento**. Para $t<3$ y para $t-2>4$ o de igual manera $t>6$.\n",
    " * Para el caso 1: $y(t)=0$ para $t<3$.\n",
    " * Para el caso 5: $y(t)=0$ para $t-2>4$.\n",
    "* El caso 2 ocurre cuando hay un **solapamiento parcial**. Para $t\\geq 3$ y $t<4$ o de igual manera para $3\\leq t<4$.\n",
    "* El caso 3 ocurre cuando hay un **solapamiento total**. Para $t-2<3$ y $t\\geq 4$ o de igual manera para $4\\leq t<5$.\n",
    "* El caso 4 ocurre cuando hay un **solapamiento parcial**. Para $t-2>3$ y $t-2<4$ o de igual manera para $5\\leq t\\leq 6$."
   ]
  },
  {
   "cell_type": "markdown",
   "metadata": {},
   "source": [
    "### **Establecer**\n",
    "\n",
    "* Caso 2: los limites respecto a $\\tau$ son: 3 a t.\n",
    "* Caso 3: los limites respecto a $\\tau$ son: 3 a 4.\n",
    "* Caso 4: los limites respecto a $\\tau$ son: t-2 a 4."
   ]
  },
  {
   "cell_type": "markdown",
   "metadata": {},
   "source": [
    "### **Integrar**\n",
    "\n",
    "* Caso 2: $y(t)=\\int_{3}^{t}{2x1d\\tau}=[2\\tau]_{3}^{t}=2(t-3)$, para $3\\leq t<4$."
   ]
  },
  {
   "cell_type": "code",
   "execution_count": null,
   "metadata": {},
   "outputs": [],
   "source": [
    "import sympy as sym\n",
    "\n",
    "tau = sym.symbols('tau')"
   ]
  },
  {
   "cell_type": "code",
   "execution_count": null,
   "metadata": {},
   "outputs": [],
   "source": [
    "y =  sym.integrate(2,(tau,3, 't'))\n",
    "y"
   ]
  },
  {
   "cell_type": "markdown",
   "metadata": {},
   "source": [
    "* Caso 3: $y(t)=\\int_{3}^{4}{2x1d\\tau}=[2\\tau]_{3}^{4}=2$, para $4\\leq t<5$."
   ]
  },
  {
   "cell_type": "code",
   "execution_count": null,
   "metadata": {},
   "outputs": [],
   "source": [
    "y =  sym.integrate(2,(tau,3, 4))\n",
    "y"
   ]
  },
  {
   "cell_type": "markdown",
   "metadata": {},
   "source": [
    "* Caso 4: $y(t)=\\int_{t-2}^{4}{2x1d\\tau}=[2\\tau]_{t-2}^{4}=2(6-t)$, para $5\\leq t\\leq 6$."
   ]
  },
  {
   "cell_type": "code",
   "execution_count": null,
   "metadata": {},
   "outputs": [],
   "source": [
    "y =  sym.integrate(2,(tau,'t-2', 4))\n",
    "y"
   ]
  },
  {
   "cell_type": "markdown",
   "metadata": {},
   "source": [
    "Si componemos los resultados parciales obtenemos:\n",
    "\n",
    "$$y(t)=\\begin{cases} \n",
    "2(t-3), \\text{ para } 3\\leq t<4 \\\\  \n",
    "2, \\text{  para } 4\\leq t<5 \\\\\n",
    "2(6-t), \\text{ para } 5\\leq t\\leq 6 \\\\ \n",
    "0, \\text{ para otros casos }\\\\  \n",
    "\\end{cases}$$"
   ]
  },
  {
   "cell_type": "code",
   "execution_count": null,
   "metadata": {},
   "outputs": [],
   "source": [
    "t = np.arange(0,8,0.05)\n",
    "\n",
    "def ejemplo(t):\n",
    "    y = np.zeros(len(t))\n",
    "    for k, tt in enumerate(t):\n",
    "        if tt >= 3 and tt < 4:\n",
    "            y[k] = 2*(tt - 3)\n",
    "        elif tt >= 4 and tt < 5:\n",
    "            y[k] = 2\n",
    "        elif tt >= 5 and tt < 6:\n",
    "            y[k] = 2*(6 - tt)\n",
    "    return y\n",
    "\n",
    "y = ejemplo(t)\n",
    "plt.plot(t,y)"
   ]
  },
  {
   "cell_type": "markdown",
   "metadata": {},
   "source": [
    "> Pensar en una función que realice la integral de convolución, teniendo como argumentos de entrada el eje temporal, la señal x(t) y la respuesta al impulso h(t). Los argumentos de salida deben ser y y ty."
   ]
  },
  {
   "cell_type": "markdown",
   "metadata": {},
   "source": [
    "## Convolución discreta\n",
    "\n",
    "Un sistema representado en entrada/salida por lo general se expresa en términos de su respuesta al pulso unitario, la cual se define como $h[n]$. Esta respuesta es el resultado de aplicar un pulso unitario \\delta [n] Por las propiedades de causalidad la respuesta al pulso unitario h[n] debe ser cero para todos los enteros n < 0.\n",
    "\n",
    "$$y[n] = \\sum_{i=0}^{n}{h[i]x[n-i]} , n\\ge 0,$$\n",
    "\n",
    "se lo conoce como la convolución de $h[n]$ y $x[n]$, y se denota con el simbolo $*$, por lo tanto:\n",
    "\n",
    "$$y[n] = h[n]*x[n]=\\sum_{i=0}^{n}{h[i]x[n-i]}$$\n",
    "\n",
    "Una consecuencia interesante de la representación de convolución es que el sistema está determinado completamente por la respuesta al pulso unitario $h[n]$. En particular, si conocemos $h[n]$, la respuesta de salida resultante de cualquier entrada $x[n]$ puede calcularse, evaluando la ultima ecuación.\n",
    "\n",
    "Veamos un ejemplo de la convolución de un pulso unitario consigo mismo [Kamen, Edward W., 2008]:"
   ]
  },
  {
   "cell_type": "markdown",
   "metadata": {},
   "source": [
    "$$x[n]=h[n]=\\begin{cases} 1/\\tau, \\text{para } \\vert n \\vert< \\tau/2  \\\\  0, \\text{resto  } \n",
    "\\end{cases}$$"
   ]
  },
  {
   "cell_type": "code",
   "execution_count": 94,
   "metadata": {},
   "outputs": [
    {
     "name": "stderr",
     "output_type": "stream",
     "text": [
      "/home/max/miniconda3/lib/python3.7/site-packages/ipykernel_launcher.py:4: UserWarning: In Matplotlib 3.3 individual lines on a stem plot will be added as a LineCollection instead of individual lines. This significantly improves the performance of a stem plot. To remove this warning and switch to the new behaviour, set the \"use_line_collection\" keyword argument to True.\n",
      "  after removing the cwd from sys.path.\n"
     ]
    },
    {
     "data": {
      "text/plain": [
       "Text(0.5, 0, 'Muestras $n$')"
      ]
     },
     "execution_count": 94,
     "metadata": {},
     "output_type": "execute_result"
    },
    {
     "data": {
      "image/png": "[encoded data removed]",
      "text/plain": [
       "<Figure size 432x288 with 1 Axes>"
      ]
     },
     "metadata": {
      "needs_background": "light"
     },
     "output_type": "display_data"
    }
   ],
   "source": [
    "x = np.concatenate((np.ones(11),np.zeros(5)))\n",
    "n = np.arange(0, 16)\n",
    "np.convolve\n",
    "plt.stem(n,x)\n",
    "plt.title('Pulso rectangular')\n",
    "plt.ylabel('Amplitud $x[n]$')\n",
    "plt.xlabel('Muestras $n$')"
   ]
  },
  {
   "cell_type": "code",
   "execution_count": 95,
   "metadata": {},
   "outputs": [
    {
     "name": "stderr",
     "output_type": "stream",
     "text": [
      "/home/max/miniconda3/lib/python3.7/site-packages/ipykernel_launcher.py:2: UserWarning: In Matplotlib 3.3 individual lines on a stem plot will be added as a LineCollection instead of individual lines. This significantly improves the performance of a stem plot. To remove this warning and switch to the new behaviour, set the \"use_line_collection\" keyword argument to True.\n",
      "  \n"
     ]
    },
    {
     "data": {
      "text/plain": [
       "Text(0.5, 0, 'Muestras $n$')"
      ]
     },
     "execution_count": 95,
     "metadata": {},
     "output_type": "execute_result"
    },
    {
     "data": {
      "image/png": "[encoded data removed]",
      "text/plain": [
       "<Figure size 432x288 with 1 Axes>"
      ]
     },
     "metadata": {
      "needs_background": "light"
     },
     "output_type": "display_data"
    }
   ],
   "source": [
    "h = np.copy(x)\n",
    "plt.stem(n,h)\n",
    "plt.title('Pulso rectangular')\n",
    "plt.ylabel('Amplitud $h[n]$')\n",
    "plt.xlabel('Muestras $n$')"
   ]
  },
  {
   "cell_type": "code",
   "execution_count": 96,
   "metadata": {},
   "outputs": [],
   "source": [
    "import time\n",
    "from scipy import signal"
   ]
  },
  {
   "cell_type": "code",
   "execution_count": 103,
   "metadata": {},
   "outputs": [
    {
     "name": "stderr",
     "output_type": "stream",
     "text": [
      "/home/max/miniconda3/lib/python3.7/site-packages/ipykernel_launcher.py:6: UserWarning: In Matplotlib 3.3 individual lines on a stem plot will be added as a LineCollection instead of individual lines. This significantly improves the performance of a stem plot. To remove this warning and switch to the new behaviour, set the \"use_line_collection\" keyword argument to True.\n",
      "  \n"
     ]
    },
    {
     "name": "stdout",
     "output_type": "stream",
     "text": [
      "Tiempo transcurrido: 0.0005857944488525391 s\n"
     ]
    },
    {
     "data": {
      "image/png": "[encoded data removed]",
      "text/plain": [
       "<Figure size 432x288 with 1 Axes>"
      ]
     },
     "metadata": {
      "needs_background": "light"
     },
     "output_type": "display_data"
    }
   ],
   "source": [
    "t = time.time()\n",
    "y = np.convolve(x,h)\n",
    "dt = time.time() - t\n",
    "\n",
    "n = np.arange(0,len(x)+len(h)-1,1)\n",
    "plt.stem(n,y)\n",
    "plt.title('Pulso rectangular')\n",
    "plt.ylabel('Amplitud $h[n]$')\n",
    "plt.xlabel('Muestras $n$')\n",
    "\n",
    "print('Tiempo transcurrido:', dt, 's')"
   ]
  },
  {
   "cell_type": "code",
   "execution_count": 104,
   "metadata": {},
   "outputs": [
    {
     "name": "stdout",
     "output_type": "stream",
     "text": [
      "Tiempo transcurrido: 0.0017414093017578125 s\n"
     ]
    }
   ],
   "source": [
    "t1 = time.time()\n",
    "signal.fftconvolve(x,h)\n",
    "dt1 = time.time() - t1\n",
    "\n",
    "print('Tiempo transcurrido:', dt1, 's')"
   ]
  },
  {
   "cell_type": "markdown",
   "metadata": {},
   "source": [
    "> nota: Esto es generalmente mucho más rápido que convolve para matrices grandes (n> ~ 500), pero puede ser más lento cuando solo se necesitan unos pocos valores de salida, y solo puede generar matrices flotantes (las entradas de matriz de objetos o int se convertirán en flotantes). A partir de la versión 0.19, convolve elige automáticamente este método o el método directo basándose en una estimación de cuál es más rápido."
   ]
  },
  {
   "cell_type": "markdown",
   "metadata": {},
   "source": [
    "## Referencias\n",
    "\n",
    " * Wickert, Mark. Signals and Systems for Dummies. John Wiley & Sons, 2013.\n",
    " * Kamen, Edward W., and Bonnie S. Heck. Fundamentos de señales y sistemas usando la Web y Matlab. Pearson Prentice-Hall, 2008."
   ]
  },
  {
   "cell_type": "markdown",
   "metadata": {},
   "source": [
    "## Licencia\n",
    "\n",
    "<a rel=\"license\" href=\"http://creativecommons.org/licenses/by-sa/4.0/\"><img alt=\"Licencia de Creative Commons\" style=\"border-width:0\" src=\"https://i.creativecommons.org/l/by-sa/4.0/88x31.png\" /></a><br />Este documento se destribuye con una <a rel=\"license\" href=\"http://creativecommons.org/licenses/by-sa/4.0/\">licencia Atribución CompartirIgual 4.0 Internacional de Creative Commons</a>.\n",
    "\n",
    "Material adaptado del curso [Introducción a Python](https://github.com/infiniemlabs-acustica/python_introduccion)\n",
    "\n",
    "© 2020. Infiniem Labs Acústica. infiniemlab.dsp@gmail.com (CC BY-SA 4.0))"
   ]
  }
 ],
 "metadata": {
  "kernelspec": {
   "display_name": "Python 3",
   "language": "python",
   "name": "python3"
  },
  "language_info": {
   "codemirror_mode": {
    "name": "ipython",
    "version": 3
   },
   "file_extension": ".py",
   "mimetype": "text/x-python",
   "name": "python",
   "nbconvert_exporter": "python",
   "pygments_lexer": "ipython3",
   "version": "3.7.9"
  }
 },
 "nbformat": 4,
 "nbformat_minor": 4
}
