{
 "cells": [
  {
   "cell_type": "markdown",
   "metadata": {},
   "source": [
    "# Convolución"
   ]
  },
  {
   "cell_type": "markdown",
   "metadata": {},
   "source": [
    "## Índice "
   ]
  },
  {
   "cell_type": "markdown",
   "metadata": {},
   "source": [
    "## Objetivos del notebook "
   ]
  },
  {
   "cell_type": "markdown",
   "metadata": {},
   "source": [
    "## Convolución continua\n",
    "\n",
    "La convolución entre dos funciones es un concepto físico importante en muchas ramas de la ciencia. Para el caso de sistemas lineales e invariantes en el tiempo (LTI), la integral de convolución permite determinar la respuesta del sistema ante cualquier entrada, a partir del conocimiento de la respuesta del sistema ante una única entrada particular: **el impulso** $\\delta(t)$. Si la **respuesta impulsiva** se denota como $h(t)$, la salida de un sistema LTI excitado con una entrada cualquiera $x(t)$ está dada por la expresión:\n",
    "\n",
    "$$y(t)=x(t)*h(t)=\\int_{-\\infty}^{\\infty}{x(\\tau)h(t-\\tau) d\\tau}$$\n",
    "\n",
    "Esta integral se conoce como **integral de convolución o integral de superposicion** y es la representación de una sistema continuo en el tiempo, lineal e invariante en función de su respuesta impulsiva $h(t)$.\n",
    "\n",
    "Aprovechemos para recordar los pasos del procedimiento para realizar la convolución continua (Analíticamente):\n",
    "\n",
    "1. **Graficar**: ambas señales integrando en la variable de integración.\n",
    "2. **Determinar**: encontrar los valores de t (casos) donde se produce una superposición (parcial o total) en el integrando.\n",
    "3. **Establecer**: los límites de integración a partir de la alineación de las señales.\n",
    "4. **Integrar**: y desplazar.\n",
    "\n",
    "Los pasos del procedimiento para realizar la convolución continua (gráficamente):\n",
    "1. **Reflexión**: se refleja h(t) respecto del eje de ordenadas.\n",
    "2. **Desplazamiento**: se desplaza h(-) una cantidad t donde se desea evaluar la convolución.\n",
    "3. **Mutiplicación**: Se multiplica la funcion desplazada h(t-) y x(t).\n",
    "4. **Integración**: el área bajo el producto h(t-) y x(t) es el valor de la convolución en el tiempo t."
   ]
  },
  {
   "cell_type": "markdown",
   "metadata": {},
   "source": [
    "Veamos un ejemplo con señal y respuesta al impulso **finitas** (adaptado de Signals and Systems for Dummies pp.107)\n",
    "\n",
    "$$2x(t-3.5) \\rightarrow x(t)=\\begin{cases} 1/\\tau, \\text{para } \\vert t \\vert< \\tau/2  \\\\  0, \\text{resto  } \n",
    "\\end{cases}$$\n",
    "\n",
    "$$h[(t-1)/2] \\rightarrow h(t)=\\begin{cases} 1/\\tau, \\text{para } \\vert t \\vert< \\tau/2  \\\\  0, \\text{resto  } \n",
    "\\end{cases}$$"
   ]
  },
  {
   "cell_type": "markdown",
   "metadata": {},
   "source": [
    "### **Graficar**\n",
    "![](../img/conv.png)"
   ]
  },
  {
   "cell_type": "code",
   "execution_count": 2,
   "metadata": {},
   "outputs": [],
   "source": [
    "import numpy as np\n",
    "import matplotlib.pyplot as plt"
   ]
  },
  {
   "cell_type": "code",
   "execution_count": 3,
   "metadata": {},
   "outputs": [
    {
     "data": {
      "image/png": "[encoded data removed]",
      "text/plain": [
       "<Figure size 432x288 with 1 Axes>"
      ]
     },
     "metadata": {
      "needs_background": "light"
     },
     "output_type": "display_data"
    }
   ],
   "source": [
    "def rect(t,tau):\n",
    "    x = np.zeros(len(t))\n",
    "    for k,tk in enumerate(t): # agrega un contador a un iterable y lo devuelve en forma de objeto enumerado\n",
    "        if np.abs(tk) > tau/2.:\n",
    "            x[k] = 0\n",
    "        else:\n",
    "            x[k] = 1\n",
    "    return x\n",
    "\n",
    "t = np.arange(-5,5,.01)\n",
    "x = rect(t-3.5,1)\n",
    "\n",
    "plt.plot(t,2*x,'r')\n",
    "plt.ylabel('$x(t)$')\n",
    "plt.xlabel('$t$')\n",
    "plt.xlim(-1,5);"
   ]
  },
  {
   "cell_type": "code",
   "execution_count": 4,
   "metadata": {},
   "outputs": [
    {
     "data": {
      "image/png": "[encoded data removed]",
      "text/plain": [
       "<Figure size 432x288 with 1 Axes>"
      ]
     },
     "metadata": {
      "needs_background": "light"
     },
     "output_type": "display_data"
    }
   ],
   "source": [
    "h = rect((t-1)/2,1)\n",
    "plt.plot(t,h)\n",
    "plt.ylabel('$h(t)$')\n",
    "plt.xlabel('$t$')\n",
    "plt.xlim(-1,5);"
   ]
  },
  {
   "cell_type": "markdown",
   "metadata": {},
   "source": [
    "### **Determinar**\n",
    "\n",
    "Hay 5 casos a considerar:\n",
    "\n",
    "* El caso 1 y 5 ocurre cuando **no hay solapamiento**. Para $t<3$ y para $t-2>4$ o de igual manera $t>6$.\n",
    " * Para el caso 1: $y(t)=0$ para $t<3$.\n",
    " * Para el caso 5: $y(t)=0$ para $t-2>4$.\n",
    "* El caso 2 ocurre cuando hay un **solapamiento parcial**. Para $t\\geq 3$ y $t<4$ o de igual manera para $3\\leq t<4$.\n",
    "* El caso 3 ocurre cuando hay un **solapamiento total**. Para $t-2<3$ y $t\\geq 4$ o de igual manera para $4\\leq t<5$.\n",
    "* El caso 4 ocurre cuando hay un **solapamiento parcial**. Para $t-2>3$ y $t-2<4$ o de igual manera para $5\\leq t\\leq 6$."
   ]
  },
  {
   "cell_type": "markdown",
   "metadata": {},
   "source": [
    "### **Establecer**\n",
    "\n",
    "* Caso 2: los limites respecto a $\\tau$ son: 3 a t.\n",
    "* Caso 3: los limites respecto a $\\tau$ son: 3 a 4.\n",
    "* Caso 4: los limites respecto a $\\tau$ son: t-2 a 4."
   ]
  },
  {
   "cell_type": "markdown",
   "metadata": {},
   "source": [
    "### **Integrar**\n",
    "\n",
    "* Caso 2: $y(t)=\\int_{3}^{t}{2x1d\\tau}=[2\\tau]_{3}^{t}=2(t-3)$, para $3\\leq t<4$."
   ]
  },
  {
   "cell_type": "code",
   "execution_count": 5,
   "metadata": {},
   "outputs": [],
   "source": [
    "import sympy as sym\n",
    "\n",
    "tau = sym.symbols('tau')"
   ]
  },
  {
   "cell_type": "code",
   "execution_count": 6,
   "metadata": {},
   "outputs": [
    {
     "data": {
      "text/latex": [
       "$\\displaystyle 2 t - 6$"
      ],
      "text/plain": [
       "2*t - 6"
      ]
     },
     "execution_count": 6,
     "metadata": {},
     "output_type": "execute_result"
    }
   ],
   "source": [
    "y =  sym.integrate(2,(tau,3, 't'))\n",
    "y"
   ]
  },
  {
   "cell_type": "markdown",
   "metadata": {},
   "source": [
    "* Caso 3: $y(t)=\\int_{3}^{4}{2x1d\\tau}=[2\\tau]_{3}^{4}=2$, para $4\\leq t<5$."
   ]
  },
  {
   "cell_type": "code",
   "execution_count": 7,
   "metadata": {},
   "outputs": [
    {
     "data": {
      "text/latex": [
       "$\\displaystyle 2$"
      ],
      "text/plain": [
       "2"
      ]
     },
     "execution_count": 7,
     "metadata": {},
     "output_type": "execute_result"
    }
   ],
   "source": [
    "y =  sym.integrate(2,(tau,3, 4))\n",
    "y"
   ]
  },
  {
   "cell_type": "markdown",
   "metadata": {},
   "source": [
    "* Caso 4: $y(t)=\\int_{t-2}^{4}{2x1d\\tau}=[2\\tau]_{t-2}^{4}=2(6-t)$, para $5\\leq t\\leq 6$."
   ]
  },
  {
   "cell_type": "code",
   "execution_count": 8,
   "metadata": {},
   "outputs": [
    {
     "data": {
      "text/latex": [
       "$\\displaystyle 12 - 2 t$"
      ],
      "text/plain": [
       "12 - 2*t"
      ]
     },
     "execution_count": 8,
     "metadata": {},
     "output_type": "execute_result"
    }
   ],
   "source": [
    "y =  sym.integrate(2,(tau,'t-2', 4))\n",
    "y"
   ]
  },
  {
   "cell_type": "markdown",
   "metadata": {},
   "source": [
    "Si componemos los resultados parciales obtenemos:\n",
    "\n",
    "$$y(t)=\\begin{cases} \n",
    "2(t-3), \\text{ para } 3\\leq t<4 \\\\  \n",
    "2, \\text{  para } 4\\leq t<5 \\\\\n",
    "2(6-t), \\text{ para } 5\\leq t\\leq 6 \\\\ \n",
    "0, \\text{ para otros casos }\\\\  \n",
    "\\end{cases}$$"
   ]
  },
  {
   "cell_type": "code",
   "execution_count": 9,
   "metadata": {},
   "outputs": [
    {
     "data": {
      "image/png": "[encoded data removed]",
      "text/plain": [
       "<Figure size 432x288 with 1 Axes>"
      ]
     },
     "metadata": {
      "needs_background": "light"
     },
     "output_type": "display_data"
    }
   ],
   "source": [
    "t = np.arange(0,8,0.05)\n",
    "\n",
    "def ejemplo(t):\n",
    "    y = np.zeros(len(t))\n",
    "    for k, tt in enumerate(t):\n",
    "        if tt >= 3 and tt < 4:\n",
    "            y[k] = 2*(tt - 3)\n",
    "        elif tt >= 4 and tt < 5:\n",
    "            y[k] = 2\n",
    "        elif tt >= 5 and tt < 6:\n",
    "            y[k] = 2*(6 - tt)\n",
    "    return y\n",
    "\n",
    "y = ejemplo(t)\n",
    "plt.plot(t,y);"
   ]
  },
  {
   "cell_type": "markdown",
   "metadata": {},
   "source": [
    "> Pensar en una función que realice la integral de convolución, teniendo como argumentos de entrada el eje temporal, la señal x(t) y la respuesta al impulso h(t). Los argumentos de salida deben ser y y ty."
   ]
  },
  {
   "cell_type": "markdown",
   "metadata": {},
   "source": [
    "## Convolución discreta\n",
    "\n",
    "Un sistema representado en entrada/salida por lo general se expresa en términos de su respuesta al pulso unitario, la cual se define como $h[n]$. Esta respuesta es el resultado de aplicar un pulso unitario x[n] = $\\delta$ [n]. Por las propiedades de causalidad la respuesta al pulso unitario h[n] debe ser cero para todos los enteros n < 0.\n",
    "\n",
    "$$y[n] = \\sum_{i=0}^{n}{h[i]x[n-i]} , n\\ge 0,$$\n",
    "\n",
    "se lo conoce como la convolución de $h[n]$ y $x[n]$, y se denota con el simbolo \"$*$\", por lo tanto:\n",
    "\n",
    "$$y[n] = h[n]*x[n]=\\sum_{i=0}^{n}{h[i]x[n-i]}$$\n",
    "\n",
    "Una consecuencia interesante de la representación de convolución es que el sistema está determinado completamente por la respuesta al pulso unitario $h[n]$. En particular, si conocemos $h[n]$, la respuesta de salida resultante de cualquier entrada $x[n]$ puede calcularse, evaluando la ultima ecuación.\n",
    "\n",
    "Veamos un ejemplo de la convolución de un pulso unitario consigo mismo [Kamen, Edward W., 2008]:"
   ]
  },
  {
   "cell_type": "markdown",
   "metadata": {},
   "source": [
    "$$x[n]=h[n]=\\begin{cases} 1/\\tau, \\text{para } \\vert n \\vert< \\tau/2  \\\\  0, \\text{resto  } \n",
    "\\end{cases}$$"
   ]
  },
  {
   "cell_type": "code",
   "execution_count": 11,
   "metadata": {},
   "outputs": [
    {
     "data": {
      "image/png": "[encoded data removed]",
      "text/plain": [
       "<Figure size 432x288 with 1 Axes>"
      ]
     },
     "metadata": {
      "needs_background": "light"
     },
     "output_type": "display_data"
    }
   ],
   "source": [
    "x = np.concatenate((np.ones(11),np.zeros(5)))\n",
    "n = np.arange(0, 16)\n",
    "plt.stem(n,x)\n",
    "plt.title('Pulso rectangular')\n",
    "plt.ylabel('Amplitud $x[n]$')\n",
    "plt.xlabel('Muestras $n$');"
   ]
  },
  {
   "cell_type": "code",
   "execution_count": 13,
   "metadata": {},
   "outputs": [
    {
     "data": {
      "image/png": "[encoded data removed]",
      "text/plain": [
       "<Figure size 432x288 with 1 Axes>"
      ]
     },
     "metadata": {
      "needs_background": "light"
     },
     "output_type": "display_data"
    }
   ],
   "source": [
    "h = np.copy(x)\n",
    "plt.stem(n,h)\n",
    "plt.title('Pulso rectangular')\n",
    "plt.ylabel('Amplitud $h[n]$')\n",
    "plt.xlabel('Muestras $n$');"
   ]
  },
  {
   "cell_type": "code",
   "execution_count": 14,
   "metadata": {},
   "outputs": [],
   "source": [
    "import time\n",
    "from scipy import signal"
   ]
  },
  {
   "cell_type": "code",
   "execution_count": 15,
   "metadata": {},
   "outputs": [
    {
     "name": "stdout",
     "output_type": "stream",
     "text": [
      "Tiempo transcurrido: 0.0020008087158203125 s\n"
     ]
    },
    {
     "data": {
      "image/png": "[encoded data removed]",
      "text/plain": [
       "<Figure size 432x288 with 1 Axes>"
      ]
     },
     "metadata": {
      "needs_background": "light"
     },
     "output_type": "display_data"
    }
   ],
   "source": [
    "t = time.time()\n",
    "y = np.convolve(x,h)\n",
    "dt = time.time() - t\n",
    "\n",
    "n = np.arange(0,len(x)+len(h)-1,1)\n",
    "plt.stem(n,y)\n",
    "plt.title('Pulso rectangular')\n",
    "plt.ylabel('Amplitud $h[n]$')\n",
    "plt.xlabel('Muestras $n$')\n",
    "\n",
    "print('Tiempo transcurrido:', dt, 's')"
   ]
  },
  {
   "cell_type": "code",
   "execution_count": 16,
   "metadata": {},
   "outputs": [
    {
     "name": "stdout",
     "output_type": "stream",
     "text": [
      "Tiempo transcurrido: 0.0019981861114501953 s\n"
     ]
    }
   ],
   "source": [
    "t1 = time.time()\n",
    "signal.fftconvolve(x,h)\n",
    "dt1 = time.time() - t1\n",
    "\n",
    "print('Tiempo transcurrido:', dt1, 's')"
   ]
  },
  {
   "cell_type": "markdown",
   "metadata": {},
   "source": [
    "> nota: Esto es generalmente mucho más rápido que convolve para matrices grandes (n> ~ 500), pero puede ser más lento cuando solo se necesitan unos pocos valores de salida, y solo puede generar matrices flotantes (las entradas de matriz de objetos o int se convertirán en flotantes). A partir de la versión 0.19, convolve elige automáticamente este método o el método directo basándose en una estimación de cuál es más rápido."
   ]
  },
  {
   "cell_type": "markdown",
   "metadata": {},
   "source": [
    "## Aplicación en polinomios\n",
    "\n",
    "La convolución tambien la podemos ver como la multiplicación de polinomios, como en el siguiente ejemplo:\n",
    "\n",
    "$$ (x^2+1)(2x+7) = 2x^3+7x^2+2x+7 $$"
   ]
  },
  {
   "cell_type": "code",
   "execution_count": 17,
   "metadata": {},
   "outputs": [
    {
     "name": "stdout",
     "output_type": "stream",
     "text": [
      "[2 7 2 7]\n"
     ]
    }
   ],
   "source": [
    "polinomio_1 = [1, 0, 1]\n",
    "polinomio_2 = [2, 7]\n",
    "resultado = np.convolve(polinomio_1, polinomio_2)\n",
    "print(resultado)"
   ]
  },
  {
   "cell_type": "markdown",
   "metadata": {},
   "source": [
    "Esta multiplicación no es posible realizarla de la siguiente forma"
   ]
  },
  {
   "cell_type": "code",
   "execution_count": 18,
   "metadata": {},
   "outputs": [
    {
     "name": "stdout",
     "output_type": "stream",
     "text": [
      "Error: can't multiply sequence by non-int of type 'list'\n"
     ]
    }
   ],
   "source": [
    "try:\n",
    "    polinomio_1*polinomio_2\n",
    "except Exception as exc:\n",
    "    print('Error:', exc)"
   ]
  },
  {
   "cell_type": "markdown",
   "metadata": {},
   "source": [
    "Aunque si se puede realizar utilizando la librería \"Sympy\""
   ]
  },
  {
   "cell_type": "markdown",
   "metadata": {},
   "source": [
    "## Cálculo de la salida del sistema (800_Ejercicio_1)\n",
    "\n",
    "Ahora vamos a considerar un sistema de tiempo discreto (señal digital) lineal e invariante en el tiempo y\n",
    "causal, por ejemplo la respuesta acustica de un recinto frente a un estimulo sonoro con:\n",
    "\n",
    "* Señal de entrada x[n].\n",
    "* Respuesta al impulso del recinto h[n].\n",
    "* La respuesta del recinto frente al estimulo x[n] es igual a la convolución de tiempo\n",
    "discreto h[n]*[n].\n",
    "\n",
    "Descargue del siguiente link http://www.openairlib.net/ una respuesta al impulso y una señal anecoica.\n",
    "A partir de estos dos archivos diseñe un script que convoluciones dichas señales y obtener la señal\n",
    "como si se ejecutara en dicho recinto. Como se demostrará en futuras unidades la convolucion es\n",
    "costosa computacionalmente hablando, para realizar dicho procedimiento se utilizara propiedades de la\n",
    "Transformada de Fourier, de modo de aumentar el rendimiento en los calculos.\n"
   ]
  },
  {
   "cell_type": "markdown",
   "metadata": {},
   "source": [
    "## Ejercicios de la guía n°3 (800_Ejercicio_2)\n",
    "\n",
    "Resolver el ejercicio n°1 en Python.  \n",
    "Verificar las siguientes igualdades:\n",
    "\n",
    "a. $ x(t) * \\delta(t) = x(t) $  \n",
    "b. $ x(t) * \\delta(t - t_{0}) = x(t - t_{0}) $  \n",
    "c. $ x(t) * u(t) = \\int^t_{-\\infty} x(\\tau) d\\tau $\n",
    "\n"
   ]
  },
  {
   "cell_type": "markdown",
   "metadata": {},
   "source": [
    "## Ejercicios de la guía n°3 (800_Ejercicio_3)\n",
    "\n",
    "Resolver el ejercicio n°2 en Python.  \n",
    "La entrada y la respuesta al impulso de un sistema continuo, lineal e invariante en el tiempo (LTI) están dadas por las siguientes expresiones:\n",
    "\n",
    "$$  x(t) = u(t); h(t) = e^{-\\alpha t}u(t), \\alpha > 0 $$\n",
    "\n",
    "Obtenga la salida y(t)"
   ]
  },
  {
   "cell_type": "markdown",
   "metadata": {},
   "source": [
    "## Referencias\n",
    "\n",
    " * Wickert, Mark. Signals and Systems for Dummies. John Wiley & Sons, 2013.\n",
    " * Kamen, Edward W., and Bonnie S. Heck. Fundamentos de señales y sistemas usando la Web y Matlab. Pearson Prentice-Hall, 2008."
   ]
  },
  {
   "cell_type": "markdown",
   "metadata": {},
   "source": [
    "## Licencia\n",
    "\n",
    "<a rel=\"license\" href=\"http://creativecommons.org/licenses/by-sa/4.0/\"><img alt=\"Licencia de Creative Commons\" style=\"border-width:0\" src=\"https://i.creativecommons.org/l/by-sa/4.0/88x31.png\" /></a><br />Este documento se destribuye con una <a rel=\"license\" href=\"http://creativecommons.org/licenses/by-sa/4.0/\">licencia Atribución CompartirIgual 4.0 Internacional de Creative Commons</a>.\n",
    "\n",
    "Material adaptado del curso [Introducción a Python](https://github.com/infiniemlabs-acustica/python_introduccion)\n",
    "\n",
    "© 2020. Infiniem Labs Acústica. infiniemlab.dsp@gmail.com (CC BY-SA 4.0))"
   ]
  }
 ],
 "metadata": {
  "kernelspec": {
   "display_name": "Python 3.9.12 ('SyS')",
   "language": "python",
   "name": "python3"
  },
  "language_info": {
   "codemirror_mode": {
    "name": "ipython",
    "version": 3
   },
   "file_extension": ".py",
   "mimetype": "text/x-python",
   "name": "python",
   "nbconvert_exporter": "python",
   "pygments_lexer": "ipython3",
   "version": "3.9.12"
  },
  "vscode": {
   "interpreter": {
    "hash": "91243106a5d8200349fdd5fb65c364865d517a460373e41279733d68a505750a"
   }
  }
 },
 "nbformat": 4,
 "nbformat_minor": 4
}
