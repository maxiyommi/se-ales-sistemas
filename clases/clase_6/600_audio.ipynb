{
 "cells": [
  {
   "cell_type": "markdown",
   "metadata": {},
   "source": [
    "# Audio\n",
    "\n",
    "> Material adaptado de [Real Python](https://realpython.com) [\"Playing and Recording Sound in Python\"](https://realpython.com/playing-and-recording-sound-python/) -  [Joska de Langen](https://realpython.com/team/jdelangen/)"
   ]
  },
  {
   "cell_type": "markdown",
   "metadata": {},
   "source": [
    "## Índice \n",
    "\n",
    "* [Nociones básicas de audio](#Nociones-básicas-de-audio)\n",
    "    * [Hagamos algunas cuentas](#Hagamos-algunas-cuentas)\n",
    "    * [¿Qué es muestreo y frecuencia de muestreo?](#¿Qué-es-muestreo-y-frecuencia-de-muestreo?)\n",
    "* [Reproducción de archivos de audio](#Reproducción-de-archivos-de-audio)\n",
    "    * [simpleaudio](#simpleaudio)\n",
    "    * [python-sounddevice](#python-sounddevice)\n",
    "    * [pydub](#pydub)\n",
    "    * [pyaudio](#pyaudio)\n",
    "        * [PortAudio](#PortAudio)\n",
    "    * [scipy+jupyter](#scipy-+-jupyter)\n",
    "* [Grabación de archivos de audio](#Grabacion-de-archivos-de-audio)\n",
    "    * [python-sounddevice + scipy](#python-sounddevice-+-scipy)\n",
    "    * [pyaudio + wave](#pyaudio-+-wave)\n",
    "* [Referencias](#Referencias)\n",
    "* [Licencia](#Licencia)"
   ]
  },
  {
   "cell_type": "markdown",
   "metadata": {},
   "source": [
    "## Objetivos del notebook \n",
    "\n",
    "* Introducir a nociones básicas de audio.\n",
    "* Conocer las principales librerias para trabajar con audio en python.\n",
    "* Reproducir archivos WAV y MP3.\n",
    "* Reproducir matrices NumPy que contiene una secuencia.\n",
    "* Grabar sonido usando Python.\n",
    "\n",
    "> Una lista completa de las bibliotecas de Python relacionadas con el audio, en la [página wiki sobre audio en Python](https://wiki.python.org/moin/Audio/) ."
   ]
  },
  {
   "cell_type": "markdown",
   "metadata": {},
   "source": [
    "## Nociones básicas de audio"
   ]
  },
  {
   "cell_type": "markdown",
   "metadata": {},
   "source": [
    "Los extractos de sonido son archivos de audio digital en formato .wav. Las ondas sonoras se digitalizan muestreándolas a intervalos discretos conocidos como frecuencia de muestreo (normalmente 44,1 kHz para audio con calidad de CD, lo que significa que las muestras se toman 44,100 veces por segundo).\n",
    "\n",
    "Cada muestra es la amplitud de la onda en un intervalo de tiempo particular, donde la profundidad de bits determina qué tan detallada será la muestra, también conocida como el rango dinámico de la señal (normalmente 16 bits, lo que significa que una muestra puede variar entre 65.536 valores de amplitud).\n",
    "\n",
    "### Hagamos algunas cuentas\n",
    "\n",
    "Esto significa que la canción se describe digitalmente en modulación de código de pulso ([PCM](https://es.wikipedia.org/wiki/Audio_digital)) por casi 16 millones de números (3 [ minutos ] x 60 [ segundos ] x 2 [ canales estéreo ] x 44100 [ frecuencia de muestreo]). Esta información requiere 30 MB de memoria y una cantidad considerable de tiempo para procesarse. Procesar la pequeña cantidad de 100 pistas, que se relaciona con aproximadamente 10 CD de audio, requeriría alrededor de 3 GB de memoria, que actualmente es aproximadamente el tamaño promedio de memoria que se proporciona en las computadoras personales. Procesar 100000 canciones requeriría 3 TB de memoria, lo que requiere vastos recursos (por ejemplo, adquisición, alojamiento, consumo de energía, etc.) y solo es adecuado para entornos académicos o industriales.\n",
    "\n",
    "### ¿Qué es muestreo y frecuencia de muestreo?\n",
    "\n",
    "En el procesamiento de señales, el muestreo es la reducción de una señal continua en una serie de valores discretos. La frecuencia o tasa de muestreo es el número de muestras tomadas durante un período de tiempo fijo. Una frecuencia de muestreo alta da como resultado una menor pérdida de información pero un mayor gasto computacional, y las frecuencias de muestreo bajas tienen una mayor pérdida de información pero son rápidas y económicas de calcular. \n",
    "\n",
    "A continuación una onda de sonido, en rojo, representada digitalmente, en azul (después del muestreo y la cuantificación de 4 bits), con la matriz (secuencia) resultante mostrada a la derecha. \n",
    "\n",
    "![](../img/audio_digitalizacion.png)\n",
    "\n",
    "\n",
    "El sonido se representa en forma de una señal de audio con parámetros como frecuencia, ancho de banda, decibelios, etc. Una señal de audio típica se puede expresar en función de la amplitud y el tiempo.\n",
    "\n",
    "![](../img/audio_tiempo_frecuencia.png)\n",
    "\n",
    "Hay dispositivos construidos que ayudan a adquirir estos sonidos y representarlos en un formato legible por computadora. Ejemplos de estos formatos son\n",
    "\n",
    "* Formato wav (archivo de audio de forma de onda)\n",
    "* Formato mp3 (MPEG-1 Audio Layer 3)\n",
    "* Formato WMA (Windows Media Audio)\n",
    "\n",
    "Un proceso de procesamiento de audio típico implica la extracción de características acústicas relevantes para la tarea en cuestión, seguida de esquemas de toma de decisiones que involucran detección, clasificación y fusión de conocimientos. Afortunadamente, tenemos algunas bibliotecas de Python útiles que facilitan esta tarea.\n"
   ]
  },
  {
   "cell_type": "markdown",
   "metadata": {},
   "source": [
    "## Reproducción de archivos de audio\n",
    "\n",
    "A continuación, se verá cómo reproducir archivos de audio con una selección de bibliotecas de Python. Algunas de estas bibliotecas le permiten reproducir una variedad de formatos de audio, incluidos arreglos MP3 y NumPy. Todas las bibliotecas a continuación le permiten reproducir archivos WAV, algunas con algunas líneas de código más que otras:\n",
    "\n",
    "* **simpleaudio** permite reproducir archivos WAV y matrices NumPy, y le ofrece opciones para comprobar si un archivo todavía se está reproduciendo.\n",
    "\n",
    "* **python-sounddevice** y **pyaudio** proporcionar enlaces para la biblioteca [PortAudio](http://www.portaudio.com/) para la reproducción multiplataforma de archivos WAV.\n",
    "\n",
    "* **pydub** requiere pyaudio para la reproducción de audio, pero si está ffmpeg instalado, le permite reproducir una amplia gama de formatos de audio con solo unas pocas líneas de código.\n",
    "\n",
    "* **scipy + jupyter** no es una libreria especifica de audio, pero tiene metodos para leer archivos WAV."
   ]
  },
  {
   "cell_type": "markdown",
   "metadata": {},
   "source": [
    "### simpleaudio\n",
    "\n",
    "``` bash\n",
    " pip install simpleaudio\n",
    "```\n",
    "\n",
    "[Documentación](https://simpleaudio.readthedocs.io/en/latest/installation.html)\n",
    "\n",
    "Es una biblioteca multiplataforma para la reproducción de archivos WAV (mono y estéreo) sin dependencias. El siguiente código se puede utilizar para reproducir un archivo WAV y esperar a que el archivo termine de reproducirse antes de finalizar el script:"
   ]
  },
  {
   "cell_type": "code",
   "execution_count": null,
   "metadata": {},
   "outputs": [],
   "source": [
    "import simpleaudio as sa\n",
    "\n",
    "filename = '../audio/clarinete.wav'\n",
    "wave_obj = sa.WaveObject.from_wave_file(filename)\n",
    "play_obj = wave_obj.play()\n",
    "play_obj.wait_done()  # Wait until sound has finished playing"
   ]
  },
  {
   "cell_type": "markdown",
   "metadata": {},
   "source": [
    "Los archivos WAV contienen una secuencia de bits que representan los datos de audio sin procesar, así como encabezados con metadatos en [formato RIFF](https://es.wikipedia.org/wiki/Resource_Interchange_File_Format) (formato de archivo de intercambio de recursos). Para conocer detalles respecto a como se forman estos archivos ir al [siguiente link](https://www.tactilemedia.com/info/MCI_Control_Info.html).\n",
    "\n",
    "Para las grabaciones de CD, el estándar de la industria es almacenar cada muestra de audio (una secuencia de datos de audio individual relacionado con la presión del aire) como un valor de 16 bits , a 44100 muestras por segundo.\n",
    "\n",
    "Para reducir el tamaño del archivo, puede ser suficiente almacenar algunas grabaciones (por ejemplo, del habla humana) a una frecuencia de muestreo más baja, como 8000 muestras por segundo, aunque esto significa que es posible que las frecuencias de sonido más altas no se representen con tanta precisión.\n",
    "\n",
    "Ahora vamos a usar la libreria [**wave**](https://docs.python.org/3/library/wave.html) para leer los metadatos:"
   ]
  },
  {
   "cell_type": "code",
   "execution_count": null,
   "metadata": {},
   "outputs": [],
   "source": [
    "import simpleaudio as sa\n",
    "import wave\n",
    "\n",
    "wave_read = wave.open('../audio/clarinete.wav', 'rb')\n",
    "audio_data = wave_read.readframes(wave_read.getnframes())\n",
    "num_channels = wave_read.getnchannels()\n",
    "bytes_per_sample = wave_read.getsampwidth()\n",
    "sample_rate = wave_read.getframerate()\n",
    "\n",
    "play_obj = sa.play_buffer(audio_data, num_channels, bytes_per_sample, sample_rate)\n",
    "play_obj.wait_done()\n"
   ]
  },
  {
   "cell_type": "markdown",
   "metadata": {},
   "source": [
    "\n",
    "Algunas de las bibliotecas reproducen y graban **bytes objetos**, mientras que otras usan **matrices NumPy** para almacenar datos de audio sin procesar. Ambos corresponden a una secuencia de puntos de datos que se pueden reproducir a una frecuencia de muestreo específica para reproducir un sonido. \n",
    "\n",
    "> Para un bytes objeto, cada muestra se almacena como un conjunto de dos valores de 8 bits, mientras que en una matriz NumPy, cada elemento puede contener un valor de 16 bits correspondiente a una sola muestra.\n",
    "\n",
    "Una diferencia importante entre estos dos tipos de datos es que los **bytes objetos son inmutables**, mientras que los **arreglos NumPy son mutables**, lo que hace que este último sea más adecuado para generar sonidos y para un procesamiento de señales más complejo. "
   ]
  },
  {
   "cell_type": "markdown",
   "metadata": {},
   "source": [
    "A continuación, verá cómo generar una matriz NumPy correspondiente a un tono de 440 Hz y reproducirlo usando simpleaudio.play_buffer():"
   ]
  },
  {
   "cell_type": "code",
   "execution_count": null,
   "metadata": {},
   "outputs": [],
   "source": [
    "import numpy as np\n",
    "import simpleaudio as sa\n",
    "\n",
    "frequency = 440  # Our played note will be 440 Hz\n",
    "fs = 44100  # 44100 samples per second\n",
    "seconds = 3  # Note duration of 3 seconds\n",
    "\n",
    "# Generate array with seconds*sample_rate steps, ranging between 0 and seconds\n",
    "t = np.linspace(0, seconds, seconds * fs, False)\n",
    "\n",
    "# Generate a 440 Hz sine wave\n",
    "note = np.sin(frequency * t * 2 * np.pi)\n",
    "\n",
    "# Asegúrese de que el valor más alto esté en el rango de 16 bits (normalizado)\n",
    "audio = note * (2**15 - 1) / np.max(np.abs(note))\n",
    "# Convert to 16-bit data\n",
    "audio = audio.astype(np.int16)\n",
    "\n",
    "# Start playback\n",
    "play_obj = sa.play_buffer(audio, 1, 2, fs) # audio_data, num_canales, bytes\n",
    "\n",
    "# Wait for playback to finish before exiting\n",
    "play_obj.wait_done()\n"
   ]
  },
  {
   "cell_type": "markdown",
   "metadata": {},
   "source": [
    "### python-sounddevice\n",
    "\n",
    "``` bash\n",
    " pip install sounddevice\n",
    "```\n",
    "\n",
    "[Documentación](https://python-sounddevice.readthedocs.io/en/latest/)\n",
    "\n",
    "Proporciona enlaces para la biblioteca PortAudio y algunas funciones de conveniencia para reproducir y grabar matrices NumPy que contienen señales de audio. "
   ]
  },
  {
   "cell_type": "code",
   "execution_count": null,
   "metadata": {},
   "outputs": [],
   "source": [
    "import sounddevice as sd\n",
    "import soundfile as sf\n",
    "\n",
    "filename = '../audio/output.wav'\n",
    "# Extract data and sampling rate from file\n",
    "data, fs = sf.read(filename, dtype='float32')  \n",
    "sd.play(data, fs)\n",
    "status = sd.wait()  # Wait until file is done playing"
   ]
  },
  {
   "cell_type": "code",
   "execution_count": 96,
   "metadata": {},
   "outputs": [],
   "source": [
    "import sounddevice as sd\n",
    "import soundfile as sf\n",
    "\n",
    "def reproducir (filename):\n",
    "    'Función para reproducir audio'\n",
    "\n",
    "    # Extract data and sampling rate from file\n",
    "    data, fs = sf.read(filename, dtype='float32')  \n",
    "    sd.play(data, fs)\n",
    "    status = sd.wait()  # Wait until file is done playing\n",
    "    return data"
   ]
  },
  {
   "cell_type": "markdown",
   "metadata": {},
   "source": [
    "La línea que contiene sf.read() extrae los datos de audio sin procesar, así como la frecuencia de muestreo del archivo almacenada en su encabezado RIFF, y sounddevice.wait() asegura que la secuencia de comandos solo finalice después de que el sonido termine de reproducirse."
   ]
  },
  {
   "cell_type": "markdown",
   "metadata": {},
   "source": [
    "### pydub\n",
    "\n",
    "``` bash\n",
    " pip install pydub\n",
    "```\n",
    "\n",
    "[Documentación](https://www.github.com/jiaaro/pydub)\n",
    "\n",
    "Aunque pydubpuede abrir y guardar archivos WAV sin dependencias, necesita tener instalado un paquete de reproducción de audio para reproducir **simpleaudio**."
   ]
  },
  {
   "cell_type": "code",
   "execution_count": 85,
   "metadata": {},
   "outputs": [],
   "source": [
    "from pydub import AudioSegment\n",
    "from pydub.playback import play\n",
    "\n",
    "sound = AudioSegment.from_wav('../audio/clarinete.wav')\n",
    "play(sound)"
   ]
  },
  {
   "cell_type": "markdown",
   "metadata": {},
   "source": [
    "Para reproducir otros tipos de audio, como archivos MP3, ffmpeg o libav debería estar instalado:\n",
    "\n",
    "``` bash\n",
    " pip install ffmpeg-python\n",
    "```"
   ]
  },
  {
   "cell_type": "code",
   "execution_count": 86,
   "metadata": {},
   "outputs": [],
   "source": [
    "from pydub import AudioSegment\n",
    "from pydub.playback import play\n",
    "\n",
    "sound = AudioSegment.from_mp3('../audio/clarinete.mp3')\n",
    "play(sound)"
   ]
  },
  {
   "cell_type": "markdown",
   "metadata": {},
   "source": [
    "> En caso de arrojar algun error por falta de ffmpeg, instalarlo. Por ejemplo en linux: `apt install -y ffmpeg`\n",
    "\n",
    "pydub ofrece más herramientas para trabajar con audio en el siguiente [link](https://github.com/jiaaro/pydub/blob/master/API.markdown)"
   ]
  },
  {
   "cell_type": "markdown",
   "metadata": {},
   "source": [
    "### pyaudio\n",
    "\n",
    "``` bash\n",
    " pip install pyaudio\n",
    "```\n",
    "\n",
    "[Documentación](https://people.csail.mit.edu/hubert/pyaudio)\n",
    "\n",
    "Proporciona enlaces a PortAudio, la biblioteca de E / S de audio multiplataforma. Esto significa que puede usar pyaudio para reproducir y grabar audio en una variedad de plataformas, incluidas Windows, Linux y Mac. Con pyaudio, la reproducción de audio se realiza escribiendo en .Stream:"
   ]
  },
  {
   "cell_type": "code",
   "execution_count": null,
   "metadata": {},
   "outputs": [],
   "source": [
    "import pyaudio\n",
    "import wave\n",
    "\n",
    "filename = '../audio/clarinete.wav'\n",
    "\n",
    "# Set chunk size of 1024 samples per data frame\n",
    "chunk = 1024  \n",
    "\n",
    "# Open the sound file \n",
    "wf = wave.open(filename, 'rb')\n",
    "\n",
    "# Create an interface to PortAudio\n",
    "p = pyaudio.PyAudio()\n",
    "\n",
    "# Open a .Stream object to write the WAV file to\n",
    "# 'output = True' indicates that the sound will be played rather than recorded\n",
    "stream = p.open(format = p.get_format_from_width(wf.getsampwidth()),\n",
    "                channels = wf.getnchannels(),\n",
    "                rate = wf.getframerate(),\n",
    "                output = True)\n",
    "\n",
    "# Read data in chunks\n",
    "data = wf.readframes(chunk)\n",
    "\n",
    "# Play the sound by writing the audio data to the stream\n",
    "while data != '':\n",
    "    stream.write(data)\n",
    "    data = wf.readframes(chunk)\n",
    "\n",
    "# Close and terminate the stream\n",
    "stream.close()\n",
    "p.terminate()\n"
   ]
  },
  {
   "cell_type": "markdown",
   "metadata": {},
   "source": [
    "Debido a que pyaudio brinda más control de bajo nivel, es posible obtener y establecer parámetros para los dispositivos de entrada y salida, verificar la carga de la CPU y la latencia de entrada o salida.\n",
    "\n",
    "También permite reproducir y grabar audio en el modo **callback**, donde se llama a una función específica cuando se requieren nuevos datos para la reproducción o están disponibles para la grabación. Estas opciones hacen de pyaudio una biblioteca adecuada para usar si sus necesidades de audio van más allá de la simple reproducción."
   ]
  },
  {
   "cell_type": "markdown",
   "metadata": {},
   "source": [
    "#### PortAudio\n",
    "\n",
    "PortAudio proporciona una interfaz de programación de aplicaciones (API) uniforme en todas las plataformas compatibles. Puede pensar en la biblioteca PortAudio como un contenedor que convierte las llamadas a la API de PortAudio en llamadas a las API de audio nativas específicas de la plataforma. Los sistemas operativos a menudo ofrecen más de una API de audio nativa y algunas API (como JACK) pueden estar disponibles en varios sistemas operativos de destino. PortAudio admite todas las principales API de audio nativas en cada plataforma compatible. El diagrama a continuación ilustra la relación entre su aplicación, PortAudio y las API de audio nativas compatibles:\n",
    "\n",
    "![](../img/portaudio.png)\n",
    "\n",
    "PortAudio proporciona una interfaz uniforme para las API de audio nativas. Sin embargo, no siempre proporciona una funcionalidad totalmente uniforme. Hay casos en los que PortAudio está limitado por las capacidades de la API de audio nativa subyacente. Por ejemplo, PortAudio no proporciona conversión de frecuencia de muestreo si solicita una frecuencia de muestreo que no es compatible con la API de audio nativa. Otro ejemplo es que ASIO SDK solo permite abrir un dispositivo a la vez, por lo que PortAudio / ASIO no admite actualmente la apertura de varios dispositivos ASIO simultáneamente."
   ]
  },
  {
   "cell_type": "markdown",
   "metadata": {},
   "source": [
    "### scipy + jupyter\n",
    "\n",
    "``` bash\n",
    " pip install scipy\n",
    "```\n",
    "\n",
    "[Documentación - IO - WAV](https://docs.scipy.org/doc/scipy/reference/generated/scipy.io.wavfile.read.html)"
   ]
  },
  {
   "cell_type": "code",
   "execution_count": null,
   "metadata": {},
   "outputs": [],
   "source": [
    "# Example: Reading audio file with scipy.io\n",
    "audioFileName = \"../audio/clarinete.wav\"\n",
    "from scipy.io import wavfile\n",
    "\n",
    "# Output fs: Frequency sample and data: Audio signal -> int16\n",
    "fs, audiodata = wavfile.read(audioFileName)\n",
    "print('AudioFile = {}, Sample Rate = {} [Samples/Sec], Wav format = {}, Samples = {}, length = {}'.format(audioFileName,fs,audiodata.dtype,audiodata.shape[0],audiodata.shape[0]/fs))\n",
    "\n",
    "# For play audio in Jupyter Notebook\n",
    "import IPython.display as ipd #Ipython functions for jupyter\n",
    "ipd.Audio(audioFileName) # play audio directly in a Jupyter notebook."
   ]
  },
  {
   "cell_type": "code",
   "execution_count": null,
   "metadata": {},
   "outputs": [],
   "source": [
    "import numpy as np\n",
    "import matplotlib.pyplot as plt\n",
    "\n",
    "\n",
    "def visualizar (audioData,fs):\n",
    "    '''\n",
    "        Funcion para visualizar audio\n",
    "    '''\n",
    "\n",
    "    length = audioData.shape[0] / fs\n",
    "    t = np.linspace(0., length, audioData.shape[0])\n",
    "    #t = np.arange(0, len(audioData), 1)/ fs\n",
    "    \n",
    "    plt.rcParams['figure.figsize'] = (15, 5) # set plot size\n",
    "    #plt.plot(t, audioData)\n",
    "    plt.plot(t, audioData / (2.**15))\n",
    "   \n",
    "    plt.title('Audio Waveform',size=16);\n",
    "    plt.xlabel(\"Tiempo [s]\")\n",
    "    plt.ylabel(\"Amplitud [int16]\")"
   ]
  },
  {
   "cell_type": "code",
   "execution_count": null,
   "metadata": {},
   "outputs": [],
   "source": [
    "visualizar(audiodata,fs)"
   ]
  },
  {
   "cell_type": "markdown",
   "metadata": {},
   "source": [
    "## Grabacion de archivos de audio\n",
    "\n",
    "* **python-sounddevice + scipy** almacena las secuencias en matrices Numpy. Facilmente convertida a WAV con scipy.\n",
    "* **pyaudio** almacena las secuencias en objetos bytes. Facilmente convertida a WAV con scipy."
   ]
  },
  {
   "cell_type": "markdown",
   "metadata": {},
   "source": [
    "### python-sounddevice + scipy\n",
    "\n",
    "permite grabar audio desde su micrófono y almacenarlo como una matriz NumPy. Este es un tipo de datos útil para el procesamiento de sonido que se puede convertir a formato WAV para su almacenamiento utilizando el scipy.io.wavfilemódulo. Asegúrese de instalar el scipymódulo para el siguiente ejemplo ( pip install scipy). Esto instala automáticamente NumPy como una de sus dependencias:"
   ]
  },
  {
   "cell_type": "code",
   "execution_count": null,
   "metadata": {},
   "outputs": [],
   "source": [
    "import sounddevice as sd\n",
    "from scipy.io.wavfile import write\n",
    "\n",
    "fs = 44100  # Sample rate\n",
    "seconds = 3  # Duration of recording\n",
    "\n",
    "filename = '../audio/output.wav'\n",
    "myrecording = sd.rec(int(seconds * fs), samplerate=fs, channels=1)\n",
    "sd.wait()  # Wait until recording is finished\n",
    "write(filename, fs, myrecording)  # Save as WAV file "
   ]
  },
  {
   "cell_type": "code",
   "execution_count": null,
   "metadata": {},
   "outputs": [],
   "source": [
    "filename = '../audio/output.wav'\n",
    "reproducir(filename)"
   ]
  },
  {
   "cell_type": "markdown",
   "metadata": {},
   "source": [
    "Crear un archivo desde una secuencia sintetizada."
   ]
  },
  {
   "cell_type": "code",
   "execution_count": null,
   "metadata": {},
   "outputs": [],
   "source": [
    "import numpy as np\n",
    "\n",
    "\n",
    "filename = '../audio/output.wav'\n",
    "\n",
    "# Definición de los periodos de muestreo [s]\n",
    "t_final = 2;\n",
    "F = 44100; \n",
    "T1 = 1/F;\n",
    "\n",
    "# Definicion de la cantindad de muestras en funcion de T\n",
    "n = np.linspace(0., 1., samplerate)\n",
    "amplitude = np.iinfo(np.int16).max\n",
    "\n",
    "# Definición de la frecuencia [Hz], Amplitud y fase\n",
    "f = 1000; \n",
    "\n",
    "# Definicion de las funciones discretas\n",
    "x = amplitude * np.sin(2. * np.pi * f * n)\n",
    "write(filename, samplerate, data)"
   ]
  },
  {
   "cell_type": "code",
   "execution_count": 97,
   "metadata": {},
   "outputs": [],
   "source": [
    "reproducir(filename)"
   ]
  },
  {
   "cell_type": "code",
   "execution_count": 99,
   "metadata": {},
   "outputs": [
    {
     "data": {
      "text/plain": [
       "(0.0, 0.005)"
      ]
     },
     "execution_count": 99,
     "metadata": {},
     "output_type": "execute_result"
    },
    {
     "data": {
      "image/png": "[encoded data removed]",
      "text/plain": [
       "<Figure size 1080x360 with 1 Axes>"
      ]
     },
     "metadata": {
      "needs_background": "light"
     },
     "output_type": "display_data"
    }
   ],
   "source": [
    "visualizar(x,F)\n",
    "plt.xlim((0, 0.005))"
   ]
  },
  {
   "cell_type": "markdown",
   "metadata": {},
   "source": [
    "### pyaudio + wave"
   ]
  },
  {
   "cell_type": "code",
   "execution_count": 89,
   "metadata": {},
   "outputs": [
    {
     "name": "stdout",
     "output_type": "stream",
     "text": [
      "Recording\n",
      "Finished recording\n"
     ]
    }
   ],
   "source": [
    "import pyaudio\n",
    "import wave\n",
    "\n",
    "chunk = 1024  # Record in chunks of 1024 samples\n",
    "sample_format = pyaudio.paInt16  # 16 bits per sample\n",
    "channels = 2\n",
    "fs = 44100  # Record at 44100 samples per second\n",
    "seconds = 3\n",
    "filename = \"../audio/output.wav\"\n",
    "\n",
    "p = pyaudio.PyAudio()  # Create an interface to PortAudio\n",
    "\n",
    "print('Recording')\n",
    "\n",
    "stream = p.open(format=sample_format,\n",
    "                channels=channels,\n",
    "                rate=fs,\n",
    "                frames_per_buffer=chunk,\n",
    "                input=True)\n",
    "\n",
    "frames = []  # Initialize array to store frames\n",
    "\n",
    "# Store data in chunks for 3 seconds\n",
    "for i in range(0, int(fs / chunk * seconds)):\n",
    "    data = stream.read(chunk)\n",
    "    frames.append(data)\n",
    "\n",
    "# Stop and close the stream \n",
    "stream.stop_stream()\n",
    "stream.close()\n",
    "# Terminate the PortAudio interface\n",
    "p.terminate()\n",
    "\n",
    "print('Finished recording')\n",
    "\n",
    "# Save the recorded data as a WAV file\n",
    "wf = wave.open(filename, 'wb')\n",
    "wf.setnchannels(channels)\n",
    "wf.setsampwidth(p.get_sample_size(sample_format))\n",
    "wf.setframerate(fs)\n",
    "wf.writeframes(b''.join(frames))\n",
    "wf.close()"
   ]
  },
  {
   "cell_type": "code",
   "execution_count": 101,
   "metadata": {},
   "outputs": [],
   "source": [
    "data = reproducir(filename)"
   ]
  },
  {
   "cell_type": "code",
   "execution_count": 102,
   "metadata": {},
   "outputs": [
    {
     "data": {
      "image/png": "[encoded data removed]",
      "text/plain": [
       "<Figure size 1080x360 with 1 Axes>"
      ]
     },
     "metadata": {
      "needs_background": "light"
     },
     "output_type": "display_data"
    }
   ],
   "source": [
    "visualizar(data,F)"
   ]
  },
  {
   "cell_type": "markdown",
   "metadata": {},
   "source": [
    "## Referencias\n",
    "\n",
    " * Nagesh Singh Chauhan, https://www.kdnuggets.com/2020/02/audio-data-analysis-deep-learning-python-part-1.html\n",
    " * Joska de Langen, https://realpython.com/playing-and-recording-sound-python/"
   ]
  },
  {
   "cell_type": "markdown",
   "metadata": {},
   "source": [
    "## Licencia\n",
    "\n",
    "<a rel=\"license\" href=\"http://creativecommons.org/licenses/by-sa/4.0/\"><img alt=\"Licencia de Creative Commons\" style=\"border-width:0\" src=\"https://i.creativecommons.org/l/by-sa/4.0/88x31.png\" /></a><br />Este documento se destribuye con una <a rel=\"license\" href=\"http://creativecommons.org/licenses/by-sa/4.0/\">licencia Atribución CompartirIgual 4.0 Internacional de Creative Commons</a>.\n",
    "\n",
    "Material adaptado del curso [Introducción a Python](https://github.com/infiniemlabs-acustica/python_introduccion)\n",
    "\n",
    "© 2020. Infiniem Labs Acústica. infiniemlab.dsp@gmail.com (CC BY-SA 4.0))"
   ]
  }
 ],
 "metadata": {
  "kernelspec": {
   "display_name": "Python 3",
   "language": "python",
   "name": "python3"
  },
  "language_info": {
   "codemirror_mode": {
    "name": "ipython",
    "version": 3
   },
   "file_extension": ".py",
   "mimetype": "text/x-python",
   "name": "python",
   "nbconvert_exporter": "python",
   "pygments_lexer": "ipython3",
   "version": "3.7.9"
  }
 },
 "nbformat": 4,
 "nbformat_minor": 4
}
