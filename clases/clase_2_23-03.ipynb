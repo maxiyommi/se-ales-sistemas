{
 "cells": [
  {
   "cell_type": "markdown",
   "id": "protecting-grass",
   "metadata": {},
   "source": [
    "Números enteros (int)"
   ]
  },
  {
   "cell_type": "code",
   "execution_count": null,
   "id": "liable-grounds",
   "metadata": {},
   "outputs": [],
   "source": []
  },
  {
   "cell_type": "code",
   "execution_count": 10,
   "id": "accepting-communist",
   "metadata": {},
   "outputs": [
    {
     "data": {
      "text/plain": [
       "-6"
      ]
     },
     "execution_count": 10,
     "metadata": {},
     "output_type": "execute_result"
    }
   ],
   "source": [
    "-6 "
   ]
  },
  {
   "cell_type": "code",
   "execution_count": 11,
   "id": "portable-experiment",
   "metadata": {},
   "outputs": [
    {
     "data": {
      "text/plain": [
       "(-6, 22, 4)"
      ]
     },
     "execution_count": 11,
     "metadata": {},
     "output_type": "execute_result"
    }
   ],
   "source": [
    "-6, 22, 4"
   ]
  },
  {
   "cell_type": "code",
   "execution_count": 12,
   "id": "another-train",
   "metadata": {},
   "outputs": [
    {
     "data": {
      "text/plain": [
       "(0.009, -31.25, 3.0)"
      ]
     },
     "execution_count": 12,
     "metadata": {},
     "output_type": "execute_result"
    }
   ],
   "source": [
    "# número reales (float)\n",
    "0.009, -31.25, 3.0"
   ]
  },
  {
   "cell_type": "code",
   "execution_count": 13,
   "id": "social-processor",
   "metadata": {},
   "outputs": [
    {
     "data": {
      "text/plain": [
       "(True, False)"
      ]
     },
     "execution_count": 13,
     "metadata": {},
     "output_type": "execute_result"
    }
   ],
   "source": [
    "True, False"
   ]
  },
  {
   "cell_type": "code",
   "execution_count": 14,
   "id": "worst-hughes",
   "metadata": {},
   "outputs": [
    {
     "data": {
      "text/plain": [
       "('h', '1', 'A')"
      ]
     },
     "execution_count": 14,
     "metadata": {},
     "output_type": "execute_result"
    }
   ],
   "source": [
    "\"h\", '1' , 'A'"
   ]
  },
  {
   "cell_type": "markdown",
   "id": "deadly-nutrition",
   "metadata": {},
   "source": [
    "Estructuras de datos"
   ]
  },
  {
   "cell_type": "code",
   "execution_count": 15,
   "id": "convinced-twins",
   "metadata": {},
   "outputs": [
    {
     "data": {
      "text/plain": [
       "((2+3j), (-0-1j))"
      ]
     },
     "execution_count": 15,
     "metadata": {},
     "output_type": "execute_result"
    }
   ],
   "source": [
    "# nÚMEROS COMPLEJOS\n",
    "2+3j, -1j"
   ]
  },
  {
   "cell_type": "code",
   "execution_count": 16,
   "id": "nuclear-fraction",
   "metadata": {},
   "outputs": [
    {
     "data": {
      "text/plain": [
       "('Esto es una cadena de caracteres', '1235ESHA')"
      ]
     },
     "execution_count": 16,
     "metadata": {},
     "output_type": "execute_result"
    }
   ],
   "source": [
    "# Cadena de caracteres\n",
    "\"Esto es una cadena de caracteres\",'1235ESHA'"
   ]
  },
  {
   "cell_type": "code",
   "execution_count": 17,
   "id": "adapted-collaboration",
   "metadata": {},
   "outputs": [
    {
     "data": {
      "text/plain": [
       "('Esto es una cadena de caracteres', '1235ESHA')"
      ]
     },
     "execution_count": 17,
     "metadata": {},
     "output_type": "execute_result"
    }
   ],
   "source": [
    "_"
   ]
  },
  {
   "cell_type": "code",
   "execution_count": 18,
   "id": "average-portable",
   "metadata": {},
   "outputs": [
    {
     "data": {
      "text/plain": [
       "-6"
      ]
     },
     "execution_count": 18,
     "metadata": {},
     "output_type": "execute_result"
    }
   ],
   "source": [
    "_10"
   ]
  },
  {
   "cell_type": "code",
   "execution_count": 19,
   "id": "suspected-combat",
   "metadata": {},
   "outputs": [
    {
     "data": {
      "text/plain": [
       "-12"
      ]
     },
     "execution_count": 19,
     "metadata": {},
     "output_type": "execute_result"
    }
   ],
   "source": [
    "2*_10"
   ]
  },
  {
   "cell_type": "code",
   "execution_count": 27,
   "id": "logical-chosen",
   "metadata": {},
   "outputs": [
    {
     "data": {
      "text/plain": [
       "1000002"
      ]
     },
     "execution_count": 27,
     "metadata": {},
     "output_type": "execute_result"
    }
   ],
   "source": [
    "10**6+2"
   ]
  },
  {
   "cell_type": "code",
   "execution_count": 21,
   "id": "operational-manufacturer",
   "metadata": {},
   "outputs": [
    {
     "data": {
      "text/plain": [
       "135.2"
      ]
     },
     "execution_count": 21,
     "metadata": {},
     "output_type": "execute_result"
    }
   ],
   "source": [
    "12+ 123.2"
   ]
  },
  {
   "cell_type": "code",
   "execution_count": 22,
   "id": "spatial-lighter",
   "metadata": {},
   "outputs": [
    {
     "data": {
      "text/plain": [
       "1"
      ]
     },
     "execution_count": 22,
     "metadata": {},
     "output_type": "execute_result"
    }
   ],
   "source": [
    "123- 122"
   ]
  },
  {
   "cell_type": "code",
   "execution_count": 23,
   "id": "guilty-fields",
   "metadata": {},
   "outputs": [
    {
     "data": {
      "text/plain": [
       "-1512.9"
      ]
     },
     "execution_count": 23,
     "metadata": {},
     "output_type": "execute_result"
    }
   ],
   "source": [
    "123 * -12.3"
   ]
  },
  {
   "cell_type": "code",
   "execution_count": 24,
   "id": "prescription-powell",
   "metadata": {},
   "outputs": [
    {
     "data": {
      "text/plain": [
       "5.0"
      ]
     },
     "execution_count": 24,
     "metadata": {},
     "output_type": "execute_result"
    }
   ],
   "source": [
    "10/2"
   ]
  },
  {
   "cell_type": "code",
   "execution_count": 25,
   "id": "bigger-ethics",
   "metadata": {},
   "outputs": [
    {
     "data": {
      "text/plain": [
       "1"
      ]
     },
     "execution_count": 25,
     "metadata": {},
     "output_type": "execute_result"
    }
   ],
   "source": [
    "10%3"
   ]
  },
  {
   "cell_type": "code",
   "execution_count": 26,
   "id": "cooked-instrument",
   "metadata": {},
   "outputs": [
    {
     "data": {
      "text/plain": [
       "3.3333333333333335"
      ]
     },
     "execution_count": 26,
     "metadata": {},
     "output_type": "execute_result"
    }
   ],
   "source": [
    "10/3"
   ]
  },
  {
   "cell_type": "code",
   "execution_count": 28,
   "id": "greatest-victim",
   "metadata": {},
   "outputs": [
    {
     "data": {
      "text/plain": [
       "3.3333333333333335"
      ]
     },
     "execution_count": 28,
     "metadata": {},
     "output_type": "execute_result"
    }
   ],
   "source": [
    "_26"
   ]
  },
  {
   "cell_type": "code",
   "execution_count": 31,
   "id": "faced-economy",
   "metadata": {},
   "outputs": [],
   "source": [
    "a = 1"
   ]
  },
  {
   "cell_type": "code",
   "execution_count": 32,
   "id": "collect-credits",
   "metadata": {},
   "outputs": [
    {
     "data": {
      "text/plain": [
       "1"
      ]
     },
     "execution_count": 32,
     "metadata": {},
     "output_type": "execute_result"
    }
   ],
   "source": [
    "a"
   ]
  },
  {
   "cell_type": "code",
   "execution_count": 33,
   "id": "laden-reference",
   "metadata": {},
   "outputs": [],
   "source": [
    "a = 2"
   ]
  },
  {
   "cell_type": "code",
   "execution_count": 34,
   "id": "comprehensive-wallpaper",
   "metadata": {},
   "outputs": [
    {
     "data": {
      "text/plain": [
       "2"
      ]
     },
     "execution_count": 34,
     "metadata": {},
     "output_type": "execute_result"
    }
   ],
   "source": [
    "a"
   ]
  },
  {
   "cell_type": "code",
   "execution_count": 35,
   "id": "phantom-avatar",
   "metadata": {},
   "outputs": [],
   "source": [
    "x = \"Monty Python\" "
   ]
  },
  {
   "cell_type": "code",
   "execution_count": 36,
   "id": "minus-hearing",
   "metadata": {},
   "outputs": [
    {
     "data": {
      "text/plain": [
       "'y'"
      ]
     },
     "execution_count": 36,
     "metadata": {},
     "output_type": "execute_result"
    }
   ],
   "source": [
    "x[4]"
   ]
  },
  {
   "cell_type": "code",
   "execution_count": 37,
   "id": "monthly-blackberry",
   "metadata": {},
   "outputs": [
    {
     "data": {
      "text/plain": [
       "'t'"
      ]
     },
     "execution_count": 37,
     "metadata": {},
     "output_type": "execute_result"
    }
   ],
   "source": [
    "x[3]"
   ]
  },
  {
   "cell_type": "code",
   "execution_count": 38,
   "id": "split-eligibility",
   "metadata": {},
   "outputs": [
    {
     "data": {
      "text/plain": [
       "'M'"
      ]
     },
     "execution_count": 38,
     "metadata": {},
     "output_type": "execute_result"
    }
   ],
   "source": [
    "x[0]"
   ]
  },
  {
   "cell_type": "code",
   "execution_count": 39,
   "id": "sharp-demonstration",
   "metadata": {},
   "outputs": [
    {
     "data": {
      "text/plain": [
       "'M'"
      ]
     },
     "execution_count": 39,
     "metadata": {},
     "output_type": "execute_result"
    }
   ],
   "source": [
    "x[-12]"
   ]
  },
  {
   "cell_type": "code",
   "execution_count": 40,
   "id": "romantic-vitamin",
   "metadata": {
    "collapsed": true,
    "jupyter": {
     "outputs_hidden": true,
     "source_hidden": true
    },
    "tags": []
   },
   "outputs": [
    {
     "data": {
      "text/plain": [
       "12"
      ]
     },
     "execution_count": 40,
     "metadata": {},
     "output_type": "execute_result"
    }
   ],
   "source": [
    "len(x)"
   ]
  },
  {
   "cell_type": "code",
   "execution_count": 41,
   "id": "dying-wealth",
   "metadata": {},
   "outputs": [
    {
     "data": {
      "text/plain": [
       "'M'"
      ]
     },
     "execution_count": 41,
     "metadata": {},
     "output_type": "execute_result"
    }
   ],
   "source": [
    "x[-len(x)]"
   ]
  },
  {
   "cell_type": "code",
   "execution_count": 44,
   "id": "charged-census",
   "metadata": {},
   "outputs": [
    {
     "data": {
      "text/plain": [
       "'o'"
      ]
     },
     "execution_count": 44,
     "metadata": {},
     "output_type": "execute_result"
    }
   ],
   "source": [
    "x[-2]"
   ]
  },
  {
   "cell_type": "code",
   "execution_count": null,
   "id": "horizontal-freedom",
   "metadata": {},
   "outputs": [],
   "source": [
    "# código de ingreso de usuarios\n",
    "a = input(\"ingrese un saludo\") # input del usuario\n",
    "b = \"hola a todos menos a vos\"\n",
    "\n"
   ]
  },
  {
   "cell_type": "code",
   "execution_count": null,
   "id": "decreased-spoke",
   "metadata": {},
   "outputs": [],
   "source": []
  },
  {
   "cell_type": "code",
   "execution_count": null,
   "id": "cellular-hebrew",
   "metadata": {},
   "outputs": [],
   "source": []
  }
 ],
 "metadata": {
  "kernelspec": {
   "display_name": "Python 3",
   "language": "python",
   "name": "python3"
  },
  "language_info": {
   "codemirror_mode": {
    "name": "ipython",
    "version": 3
   },
   "file_extension": ".py",
   "mimetype": "text/x-python",
   "name": "python",
   "nbconvert_exporter": "python",
   "pygments_lexer": "ipython3",
   "version": "3.6.9"
  }
 },
 "nbformat": 4,
 "nbformat_minor": 5
}
