{
 "cells": [
  {
   "cell_type": "markdown",
   "metadata": {},
   "source": [
    "# Introducción a Python Científico"
   ]
  },
  {
   "cell_type": "markdown",
   "metadata": {},
   "source": [
    "## Índice\n",
    "\n",
    " * [Scientific Computing Tools for Python](#Scientific-Computing-Tools-for-Python)\n",
    " * [Energía y potencia](#Energia-y-potencia)\n",
    "     * [SymPy](#SymPy)\n",
    " * [Secuencias](#Secuencias)\n",
    "     * [Numpy](#Numpy)\n",
    "         * [Importando la librería y creando un array](#Importando-la-libreria-y-creando-un-array)\n",
    "         * [Listas y arrays](#Listas-y-arrays)\n",
    "     * [Matplotlib](#Matplotlib) \n",
    " * [Referencias](#Referencias)\n",
    " * [Licencia](#Licencia)"
   ]
  },
  {
   "cell_type": "markdown",
   "metadata": {},
   "source": [
    "## Objetivos del notebook\n",
    "\n",
    "* Importar y trabajar con librerias de Scipy (Sympy, numpy y matplotlib)\n",
    "* Calcular energía y potencia.\n",
    "* Introducción a secuencias."
   ]
  },
  {
   "cell_type": "markdown",
   "metadata": {},
   "source": [
    "## Scientific Computing Tools for Python\n",
    "\n",
    "Se denomina **SciPy (Scientific Comuting Tools for Python)** a todo el paquete de librerías que engloba a Numpy, Matplotlib, la librería del mismo nombre, Sympy y Pandas. Éstas, en su conjunto, proveen **herramientas Open Source** para la **implementación de operaciones matemáticas y algebraicas, algoritmos de procesamiento de señales, estadísticas y graficadores en 2 y 3 dimensiones**.\n",
    "\n",
    "![](../img/scipy-org.png)\n",
    "\n",
    "**Podemos encontrar una extensa documentación en su [página web](https://www.scipy.org/)**\n",
    "\n",
    "**Para lo usuarios de [MATLAB](https://www.mathworks.com/products/matlab.html) la [siguiente documentación](https://www.mathworks.com/products/matlab.html) es util para facilitar la migración.**"
   ]
  },
  {
   "cell_type": "markdown",
   "metadata": {},
   "source": [
    "## Energia y potencia\n",
    "\n",
    "En muchas aplicaciones, aunque no en todas, las señales que examinamos están directamente realacionas con cantidades físicas que capturan potencia y energia de un sistema físico [Oppenheim A.,pp. 5-7, 1998]. Por ejemplo, el voltaje y la corriente a través de un resistor con resistencia R, entonces la **potencia istantánea** es:\n",
    "\n",
    "$$ p(t)=v(t)i(t)=\\frac {1}{R}v^2(t) $$\n",
    "\n",
    "Entonces la **energía total** gastada durante un **intervalo de tiempo continuo** $[t_1:t_2]$ se define como:\n",
    "\n",
    "$$E[p(t)]_{t_1 \\rightarrow t_2} = \\int_{t_1}^{t_2} p(t) dt = \\int_{t_1}^{t_2} \\frac {1}{R} \\vert v(t) \\vert^2 dt$$\n",
    "\n",
    "La **potencia promedio** durante el mismo **intervalo de tiempo continuo** $[t_1:t_2]$ es:\n",
    "\n",
    "$$P[p(t)]_{t_1 \\rightarrow t_2} = \\frac {1}{t_2-t_1} \\int_{t_1}^{t_2} p(t) dt = \\frac {1}{t_2-t_1} \\int_{t_1}^{t_2} \\frac {1}{R} \\vert v(t) \\vert^2 dt$$\n",
    "\n",
    "De lo presentado anteriormente se desprende la definición de **energia total** durante un **intervalo de tiempo continuo** $[t_1:t_2]$:\n",
    "\n",
    "$$E[x(t)]_{t_1 \\rightarrow t_2} = \\int_{t_1}^{t_2} \\vert x(t) \\vert^2 dt$$\n",
    "\n",
    "En el **caso discreto** de una señal $x[n]$ en el intervalo $[N_1:N_2]$ se define como:\n",
    "\n",
    "$$E[x[n]]_{N_1 \\rightarrow N_2} = \\sum_{n \\rightarrow N_1}^{N_2} \\vert x[n] \\vert^2$$\n",
    "\n",
    "Y la definición de la **potencia promedio** durante el mismo **intervalo de tiempo continuo** $[t_1:t_2]$:\n",
    "\n",
    "$$P[x(t)]_{t_1 \\rightarrow t_2} = \\frac {1}{t_2-t_1} \\int_{t_1}^{t_2} \\vert x(t) \\vert^2 dt$$\n",
    "\n",
    "En el **caso discreto** de una señal $x[n]$ en el intervalo $[N_1:N_2]$ se define como:\n",
    "\n",
    "$$P[x[n]]_{N_1 \\rightarrow N_2} = \\frac {1}{N_2-N_1+1} \\sum_{n \\rightarrow N_1}^{N_2} \\vert x[n] \\vert^2$$\n",
    "\n",
    "Con $\\vert x(t) \\vert$ la magnitud de una señal continua o señal discreta ."
   ]
  },
  {
   "cell_type": "markdown",
   "metadata": {},
   "source": [
    "En muchos sistemas nos interesa examinar la **potencia** y **energía de señales** en un **intervalo de tiempo infinito**:\n",
    "* **Energía** total para tiempo **continuo**:\n",
    "\n",
    "$$E_\\infty=\\lim_{T \\to \\infty }\\int _{-T}^{T} \\vert x(t) \\vert^2 dt=\\int _{-\\infty}^{\\infty} \\vert x(t) \\vert^2 dt$$\n",
    "\n",
    "* **Energía** total para tiempo **discreto**:\n",
    "\n",
    "$$E_\\infty=\\lim_{N \\to \\infty }\\sum _{n=-N}^{N} \\vert x[n] \\vert^2 =\\sum_{n=-\\infty}^{\\infty} \\vert x[n] \\vert^2$$\n",
    "\n",
    "* **Potencia** promedio para tiempo **continuo**:\n",
    "\n",
    "$$P_\\infty=\\lim_{T \\to \\infty } \\frac{1}{2T} \\int _{-T}^{T} \\vert x(t) \\vert^2 dt$$\n",
    "\n",
    "* **Potencia** promedio para tiempo **discreto**:\n",
    "\n",
    "$$P_\\infty=\\lim_{N \\to \\infty } \\frac{1}{2N+1} \\sum_{n=-N}^{N} \\vert x[n] \\vert^2 $$\n"
   ]
  },
  {
   "cell_type": "markdown",
   "metadata": {},
   "source": [
    "El analisis de las señales $x(t)$ o $x[n]$ en un **intervalo infinito** permite identificar tres clases importantes de señales: \n",
    "* Son señales con **energía finita (o señales de energía)**, si y sólo si, $0<E_\\infty<\\infty$ (**energía total finita**). Una señal de este tipo debe tener una **potencia promedio igual a cero**, ya que, en el caso de tiempo continuo, por ejemplo, vemos que:\n",
    "$$P_\\infty=\\lim_{T \\to \\infty}\\frac{E_\\infty}{2T}=0$$\n",
    "\n",
    "* Son señales con **potencia promedio finita (señales de potencia)**, si y sólo si $0<P<\\infty$ (**potencia promedio finita**). Entonces, si $P_\\infty >0$, por necesidad $E_\\infty \\to \\infty$. Esto tiene sentido, ya que si se tiene una energía promedio por unidad de tiempo diferente de cero, entonces integrando o sumando en un intervalo de tiempo infinito produce una cantidad de **energía infinita**. Por ejemplo, la señal constante $x[n]=4$ tiene energía infinita, pero la potencia promedio es $P_\\infty=16$. Otro ejemplo de esto son las señales periodicas.\n",
    "\n",
    "* Señales con **energia** y **potencia promedio infinita**, por ejemplo la señal $x(t)=t$."
   ]
  },
  {
   "cell_type": "markdown",
   "metadata": {},
   "source": [
    "### SymPy\n",
    "\n",
    "![](../img/sympy.jpeg)\n",
    "\n",
    "[SymPy](https://www.sympy.org/en/index.html) es una biblioteca para matemática simbólica, similar a software como [Mathematica](https://www.wolfram.com/mathematica/) o [Mathcad](https://www.mathcad.com/es).\n",
    "Comunmente, las computadoras usan una [coma flotante](https://en.wikipedia.org/wiki/Floating_point) para representar números reales (y complejos) y calcular operaciones matemáticas. Esto implica que la precisión es limitada."
   ]
  },
  {
   "cell_type": "code",
   "execution_count": null,
   "metadata": {},
   "outputs": [],
   "source": [
    "import math\n",
    "math.sqrt(8)"
   ]
  },
  {
   "cell_type": "markdown",
   "metadata": {},
   "source": [
    "Los sistemas de cálculo simbólico (o álgebra computacional), utilizan una representación simbólica (presentada de la manera más simplicifada posible). Es un área científica que se refiere al estudio y desarrollo de algoritmos y software para la manipulación de expresiones matemáticas y otros objetos matemáticos. Aunque, hablando con propiedad, el álgebra computacional debe ser un sub-campo de la computación científica, ellos son considerados generalmente como campos distintos, porque la computación científica se basa generalmente en el análisis numérico con números aproximados en punto flotante; mientras que, el álgebra computacional enfatiza el cálculo exacto con expresiones que contengan variables y por lo tanto son manipulados como símbolos (de ahí se debe el nombre de cálculo simbólico)."
   ]
  },
  {
   "cell_type": "code",
   "execution_count": 1,
   "metadata": {},
   "outputs": [
    {
     "data": {
      "text/latex": [
       "$\\displaystyle 2 \\sqrt{2}$"
      ],
      "text/plain": [
       "2*sqrt(2)"
      ]
     },
     "execution_count": 1,
     "metadata": {},
     "output_type": "execute_result"
    }
   ],
   "source": [
    "import sympy\n",
    "\n",
    "raiz8 = sympy.sqrt(8)\n",
    "raiz8"
   ]
  },
  {
   "cell_type": "markdown",
   "metadata": {},
   "source": [
    "> **Nota 1**: en caso que figuré el siguiente error: *ModuleNotFoundError: No module named 'sympy'*. Indica que no esta instalada la librería, hacerlo usando pip:`pip install sympy`."
   ]
  },
  {
   "cell_type": "markdown",
   "metadata": {},
   "source": [
    "> **Nota 2**: para obtener una salida enriquecida:\n",
    "```python\n",
    "import sympy\n",
    "from sympy.interactive import printing\n",
    "printing.init_printing(use_latex='mathjax')\n",
    "```"
   ]
  },
  {
   "cell_type": "markdown",
   "metadata": {},
   "source": [
    "Podemos, por supuesto, evaluar la expresión simbólica"
   ]
  },
  {
   "cell_type": "code",
   "execution_count": 2,
   "metadata": {},
   "outputs": [
    {
     "data": {
      "text/latex": [
       "$\\displaystyle 2.82842712474619$"
      ],
      "text/plain": [
       "2.82842712474619"
      ]
     },
     "execution_count": 2,
     "metadata": {},
     "output_type": "execute_result"
    }
   ],
   "source": [
    "raiz8.evalf()"
   ]
  },
  {
   "cell_type": "markdown",
   "metadata": {},
   "source": [
    "Por defecto la evaluación numérica se lleva a cabo con un precisión de 15 decimales. Pero puede ajustarse la precisión al número de decimales que uno desee, enviando el número de decimales como argumento a evalf()."
   ]
  },
  {
   "cell_type": "code",
   "execution_count": 3,
   "metadata": {},
   "outputs": [
    {
     "data": {
      "text/latex": [
       "$\\displaystyle 2.8284271247461900976033774484193961571393437507538961463533594759814649569242140777007750686552831454700276924618245940498496721117014744252882429942$"
      ],
      "text/plain": [
       "2.82842712474619009760337744841939615713934375075389614635335947598146495692421407770077506865528314547002769246182459404984967211170147442528824299420"
      ]
     },
     "execution_count": 3,
     "metadata": {},
     "output_type": "execute_result"
    }
   ],
   "source": [
    "raiz8.evalf(n=150)"
   ]
  },
  {
   "cell_type": "markdown",
   "metadata": {},
   "source": [
    "SymPy utiliza como background la biblioteca [mpmath](https://code.google.com/archive/p/mpmath/) que le permite realizar cálculos con aritmética de precisión arbitraria, de forma tal que ciertas constantes especiales, como pi, el número e, $\\infty$, son tratadas como símbolos y pueden ser evaluadas con aritmética de alta precisión."
   ]
  },
  {
   "cell_type": "markdown",
   "metadata": {},
   "source": [
    "Veamos un ejemplo, para entender como resolver estos problemas. Calcular energía y potencia de la siguiente señal:\n",
    "$$f(t)=2e^{-t}u(t)$$"
   ]
  },
  {
   "cell_type": "code",
   "execution_count": 4,
   "metadata": {},
   "outputs": [],
   "source": [
    "from sympy import exp, Heaviside # importar funciones\n",
    "t, T = sympy.symbols('t T') # asignación multiple"
   ]
  },
  {
   "cell_type": "code",
   "execution_count": 5,
   "metadata": {},
   "outputs": [
    {
     "data": {
      "text/latex": [
       "$\\displaystyle 2 e^{- t} \\theta\\left(t\\right)$"
      ],
      "text/plain": [
       "2*exp(-t)*Heaviside(t)"
      ]
     },
     "execution_count": 5,
     "metadata": {},
     "output_type": "execute_result"
    }
   ],
   "source": [
    "f = 2*exp(-t)*Heaviside(t) # definicion\n",
    "f"
   ]
  },
  {
   "cell_type": "code",
   "execution_count": 6,
   "metadata": {},
   "outputs": [],
   "source": [
    "from sympy.plotting import plot # función para graficar"
   ]
  },
  {
   "cell_type": "code",
   "execution_count": 7,
   "metadata": {},
   "outputs": [
    {
     "data": {
      "image/png": "[encoded data removed]",
      "text/plain": [
       "<Figure size 432x288 with 1 Axes>"
      ]
     },
     "metadata": {
      "needs_background": "light"
     },
     "output_type": "display_data"
    },
    {
     "data": {
      "text/plain": [
       "<sympy.plotting.plot.Plot at 0x7fd56ad26df0>"
      ]
     },
     "execution_count": 7,
     "metadata": {},
     "output_type": "execute_result"
    }
   ],
   "source": [
    "plot(f)"
   ]
  },
  {
   "cell_type": "markdown",
   "metadata": {},
   "source": [
    "$$E_\\infty=2\\int _{0}^{\\infty} \\vert e^{-t} \\vert^2 dt$$"
   ]
  },
  {
   "cell_type": "code",
   "execution_count": 8,
   "metadata": {},
   "outputs": [],
   "source": [
    "from sympy import limit, integrate # función limite y integral"
   ]
  },
  {
   "cell_type": "code",
   "execution_count": 9,
   "metadata": {},
   "outputs": [
    {
     "data": {
      "text/latex": [
       "$\\displaystyle 2$"
      ],
      "text/plain": [
       "2"
      ]
     },
     "execution_count": 9,
     "metadata": {},
     "output_type": "execute_result"
    }
   ],
   "source": [
    "E =  integrate(abs(f)**2,(t,-sympy.oo, sympy.oo))\n",
    "E"
   ]
  },
  {
   "cell_type": "markdown",
   "metadata": {},
   "source": [
    "$$P_\\infty=\\lim_{T \\to \\infty } \\frac{1}{2T} 4 \\int _{0}^{T} \\vert e^{-t} \\vert^2 dt$$"
   ]
  },
  {
   "cell_type": "code",
   "execution_count": 10,
   "metadata": {},
   "outputs": [
    {
     "data": {
      "text/latex": [
       "$\\displaystyle 0$"
      ],
      "text/plain": [
       "0"
      ]
     },
     "execution_count": 10,
     "metadata": {},
     "output_type": "execute_result"
    }
   ],
   "source": [
    "P = limit((1/(2*T)*integrate(abs(f)**2,(t,-sympy.oo, sympy.oo))),T,sympy.oo)\n",
    "P"
   ]
  },
  {
   "cell_type": "markdown",
   "metadata": {},
   "source": [
    "## Secuencias\n",
    "\n",
    "Las señales pueden ser clasificadas en **analogicas** o **discretas**. Una señal **analogica** es denotada por $x(t)$, donde la variable t (**variable independiente**) puede ser representada como alguna cantidad fisica **continua**. En nuestro caso de estudio representa el tiempo en segundos (continua). En el caso de una señal **discreta** se denota por $x[n]$ , donde la **variable n** son **valores enteros** y representa instancias de tiempo discreto. A lo largo de este apunte haremos mayor hicapié en las señales discretas, para lo cual vamos a definir una secuencia discreta como:\n",
    "\n",
    "$$x\\left\\lbrack n\\right\\rbrack =\\left\\lbrace x\\left(x\\right)\\right\\rbrace =\\left\\lbrace \\ldotp \\ldotp \\ldotp ,x\\left(-1\\right),x^{\\uparrow }{} \\left(0\\right),x\\left(1\\right),\\ldotp \\ldotp \\ldotp \\right\\rbrace$$\n",
    "\n",
    "Python, puede representar solo secuencias de duración finita, por medio de un vector fila. Esto es posible utilizando la libreria [Numpy](https://numpy.org/)."
   ]
  },
  {
   "cell_type": "markdown",
   "metadata": {},
   "source": [
    "### Numpy\n",
    "\n",
    "![](../img/numpy.png)\n",
    "\n",
    "Numpy es la librería dedicada a manipular datos numéricos, ya sea en forma de vectores, matrices u otras estructuras. El **dato** principal con el que se trabaja en numpy es un **array** de una o varias dimensiones. El mismo contiene elementos, en general de formato numérico.  Se pueden definir las siguientes características para un array de numpy:\n",
    "\n",
    "* Los elementos que lo componen son todos de un mismo tipo o formato.\n",
    "* Cuenta con una longitud, igual a la cantidad de elementos que contiene por fila; y una cantidad de ejes o dimensiones, igual a la cantidad de filas que contiene.\n",
    "* Cada elemento del array posee un índice que denota su ubicación dentro del mismo."
   ]
  },
  {
   "cell_type": "markdown",
   "metadata": {},
   "source": [
    "#### Importando la libreria y creando un array\n",
    "\n",
    "Para utilizar Numpy en nuestro código, primero debemos importarla utilizando el comando `import numpy`. Existen varias formas de importar librerías en  Python (como ya vimos en la [clase 3](302_modulos_funciones.ipynb/#Modulos)), en el caso de numpy:"
   ]
  },
  {
   "cell_type": "code",
   "execution_count": 20,
   "metadata": {},
   "outputs": [],
   "source": [
    "# 1° forma\n",
    "import numpy\n",
    "\n",
    "a = numpy.array([1,2,5,9])"
   ]
  },
  {
   "cell_type": "code",
   "execution_count": null,
   "metadata": {},
   "outputs": [],
   "source": [
    "# 2° forma\n",
    "from numpy import *\n",
    "\n",
    "a = array([1,2,5,9])"
   ]
  },
  {
   "cell_type": "code",
   "execution_count": 21,
   "metadata": {},
   "outputs": [
    {
     "data": {
      "text/plain": [
       "9"
      ]
     },
     "execution_count": 21,
     "metadata": {},
     "output_type": "execute_result"
    }
   ],
   "source": [
    "# 3° forma\n",
    "import numpy as np\n",
    "\n",
    "a = np.array([1,2,5,9])\n",
    "a[-1]"
   ]
  },
  {
   "cell_type": "markdown",
   "metadata": {},
   "source": [
    "Por convención general, se suele utilizar la tercera forma para la importación de numpy. Es una forma de abreviar el nombre de la librería, y mantener la referencia de que estamos utilizando elementos de la misma. Esto nos importa para mantener cierto orden en nuestro código, por más que parezca tedioso estar anteponiendo 'np' cada vez que creamos numpy. En los ejemplos subsiguientes, vamos a considerar que se utilizó este método."
   ]
  },
  {
   "cell_type": "markdown",
   "metadata": {},
   "source": [
    "#### Listas y arrays\n",
    "\n",
    "Nótese que al crear arrays, ésto se hace a partir de una lista, es decir que los **datos almacenados en formato de lista se convierten automáticamente en arrays**. Para ejemplificarlo mejor: "
   ]
  },
  {
   "cell_type": "code",
   "execution_count": null,
   "metadata": {},
   "outputs": [],
   "source": [
    "# creamos el mismo array 'a' a partir de una lista\n",
    "lista = [1,2,5,9]\n",
    "b = np.array(lista)"
   ]
  },
  {
   "cell_type": "code",
   "execution_count": null,
   "metadata": {},
   "outputs": [],
   "source": [
    "a, b"
   ]
  },
  {
   "cell_type": "markdown",
   "metadata": {},
   "source": [
    "> Pero, mientras en las listas se pueden incluir elementos de distinto tipo, en el array todos deben ser un mismo tipo de datos."
   ]
  },
  {
   "cell_type": "code",
   "execution_count": 8,
   "metadata": {},
   "outputs": [
    {
     "data": {
      "text/plain": [
       "array(['bla', '1', 'True', '3.14'], dtype='<U4')"
      ]
     },
     "execution_count": 8,
     "metadata": {},
     "output_type": "execute_result"
    }
   ],
   "source": [
    "# otra lista con datos de distinto tipo\n",
    "otra_lista = [\"bla\", 1, True, 3.14]\n",
    "\n",
    "# si la intentamos convertir en array, ¿fracasamos?:\n",
    "x = np.array(otra_lista)\n",
    "\n",
    "# le pedimos a la consola que nos muestre el array\n",
    "x"
   ]
  },
  {
   "cell_type": "markdown",
   "metadata": {},
   "source": [
    "Vemos que el array se crea a partir de una lista con elementos de distinto tipo. Sin embargo, le asigna a todos un mismo formato, en este caso un string del tipo *Unicode* con longitud igual a 4."
   ]
  },
  {
   "cell_type": "code",
   "execution_count": null,
   "metadata": {},
   "outputs": [],
   "source": [
    "np.arange(1,10,1) # Devuelve valores espaciados uniformemente dentro de un intervalo dado."
   ]
  },
  {
   "cell_type": "code",
   "execution_count": null,
   "metadata": {},
   "outputs": [],
   "source": [
    "np.linspace(1,10,3) # Devuelve valores espaciados uniformemente dentro de un intervalo dado."
   ]
  },
  {
   "cell_type": "markdown",
   "metadata": {},
   "source": [
    "### Matplotlib\n",
    "\n",
    "Para visulizar las secuencias necesitamos de una libreria destinada a la producción de graficos, como es el caso de [matplotlib](https://matplotlib.org/).\n",
    "\n",
    "La forma estándar de utilizar `matplotlib`, o por lo menos la más didáctica, es a través del módulo `pyplot`."
   ]
  },
  {
   "cell_type": "code",
   "execution_count": 14,
   "metadata": {},
   "outputs": [],
   "source": [
    "import matplotlib.pyplot as plt"
   ]
  },
  {
   "cell_type": "markdown",
   "metadata": {},
   "source": [
    "Con la siguiente línea \"mágica\" de comando, indicamos a Jupyter que muestre las gráficas junto con el código:"
   ]
  },
  {
   "cell_type": "code",
   "execution_count": 15,
   "metadata": {},
   "outputs": [
    {
     "name": "stderr",
     "output_type": "stream",
     "text": [
      "UsageError: unrecognized arguments: # si bien `inline` es el comportamiento por defecto\n"
     ]
    }
   ],
   "source": [
    "%matplotlib inline # si bien `inline` es el comportamiento por defecto"
   ]
  },
  {
   "cell_type": "markdown",
   "metadata": {},
   "source": [
    "Retomando la definición de una secuencia, tenemos que pensar que un vector no tiene informacion sobre la posición $n$. La forma correcta de representar una secuencia requiere de dos vectores, uno para $x$ y otro para $n$. Por ejemplo la secuencia: $$x\\left\\lbrack n\\right\\rbrack =\\left\\lbrace 2,1-1,{0^{\\uparrow }} ,1,4,3,7\\right\\rbrace$$ Puede ser representada por:"
   ]
  },
  {
   "cell_type": "code",
   "execution_count": 22,
   "metadata": {},
   "outputs": [],
   "source": [
    "x = np.array([2,1,-1,0,1,4,3,7]) # secuencia - rango"
   ]
  },
  {
   "cell_type": "code",
   "execution_count": 23,
   "metadata": {},
   "outputs": [],
   "source": [
    "n = np.arange(-3,5) # indices (o posición) - dominio"
   ]
  },
  {
   "cell_type": "code",
   "execution_count": 24,
   "metadata": {},
   "outputs": [
    {
     "data": {
      "image/png": "[encoded data removed]",
      "text/plain": [
       "<Figure size 432x288 with 1 Axes>"
      ]
     },
     "metadata": {
      "needs_background": "light"
     },
     "output_type": "display_data"
    }
   ],
   "source": [
    "plt.plot(x,'.') # sin el vector de indices\n",
    "plt.grid()"
   ]
  },
  {
   "cell_type": "code",
   "execution_count": 25,
   "metadata": {},
   "outputs": [
    {
     "data": {
      "image/png": "[encoded data removed]",
      "text/plain": [
       "<Figure size 432x288 with 1 Axes>"
      ]
     },
     "metadata": {
      "needs_background": "light"
     },
     "output_type": "display_data"
    }
   ],
   "source": [
    "plt.plot(n,x,'.')\n",
    "plt.grid()"
   ]
  },
  {
   "cell_type": "code",
   "execution_count": 26,
   "metadata": {},
   "outputs": [
    {
     "data": {
      "image/png": "[encoded data removed]",
      "text/plain": [
       "<Figure size 432x288 with 1 Axes>"
      ]
     },
     "metadata": {
      "needs_background": "light"
     },
     "output_type": "display_data"
    }
   ],
   "source": [
    "plt.stem(n,x) \n",
    "plt.grid()"
   ]
  },
  {
   "cell_type": "markdown",
   "metadata": {},
   "source": [
    "## Referencias\n",
    "\n",
    " * *Numpy User Guide*, https://www.numpy.org/\n",
    " * Scott, Shell, *An introduction to Numpy and Scipy*, 2014. \n",
    " * Martín, Gaitán. *Curso de Python para ciencias e ingenierías*. Extraido de [GitHub](https://github.com/mgaitan/curso-python-cientifico), 2017.\n",
    " * Oppenheim, Alan V.; Willsky, Alan S.; Nawab, S. Hamid. Señales y sistemas. Pearson Educación, 1998."
   ]
  },
  {
   "cell_type": "markdown",
   "metadata": {},
   "source": [
    "## Licencia\n",
    "\n",
    "<a rel=\"license\" href=\"http://creativecommons.org/licenses/by-sa/4.0/\"><img alt=\"Licencia de Creative Commons\" style=\"border-width:0\" src=\"https://i.creativecommons.org/l/by-sa/4.0/88x31.png\" /></a><br />Este documento se destribuye con una <a rel=\"license\" href=\"http://creativecommons.org/licenses/by-sa/4.0/\">licencia Atribución CompartirIgual 4.0 Internacional de Creative Commons</a>.\n",
    "\n",
    "Material adaptado del curso [Introducción a Python](https://github.com/infiniemlabs-acustica/python_introduccion)\n",
    "\n",
    "© 2020. Infiniem Labs Acústica. infiniemlab.dsp@gmail.com (CC BY-SA 4.0))"
   ]
  }
 ],
 "metadata": {
  "kernelspec": {
   "display_name": "Python 3",
   "language": "python",
   "name": "python3"
  },
  "language_info": {
   "codemirror_mode": {
    "name": "ipython",
    "version": 3
   },
   "file_extension": ".py",
   "mimetype": "text/x-python",
   "name": "python",
   "nbconvert_exporter": "python",
   "pygments_lexer": "ipython3",
   "version": "3.8.10"
  }
 },
 "nbformat": 4,
 "nbformat_minor": 4
}
