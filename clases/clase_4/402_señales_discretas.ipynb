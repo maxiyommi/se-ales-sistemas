{
 "cells": [
  {
   "cell_type": "markdown",
   "metadata": {},
   "source": [
    "# Señales discretas"
   ]
  },
  {
   "cell_type": "markdown",
   "metadata": {},
   "source": [
    "## Índice\n",
    "\n",
    "* [Señales discretas básicas](#Señales-discretas-básicas)\n",
    "    * [Impulso unitario (delta de Kronecker)](#Impulso-unitario-(delta-de-Kronecker))\n",
    "    * [Pulso rectangular](#Pulso-rectangular)\n",
    "    * [Escalón unitario o heaviside discreta](#Escalon-unitario-o-heaviside-discreta)\n",
    "        * [Propiedades de las señales](#Propiedades-de-las-señales)\n",
    "    * [Otras señales de interes](#Otras-señales-de-interes)\n",
    "        * [Rampa](#Rampa)\n",
    "        * [Secuencia exponencial de valores reales](#Secuencia-exponencial-de-valores-reales)\n",
    "        * [Secuencia exponencial de valores complejos](#Secuencia-exponencial-de-valores-complejos)\n",
    "        * [Secuencia senoidal](#Secuencia-senoidal)\n",
    "        * [Secuencia aleatoria](#Secuencia-aleatoria)\n",
    "        * [Funcion Sinc](#Funcion-Sinc)\n",
    "    * [Pulso unitario desplazado y escalado](#Pulso-unitario-desplazado-y-escalado)\n",
    "    * [Escalón unitario desplazado y escalado](#Escalón-unitario-desplazado-y-escalado) \n",
    "* [Tipos de datos](#Tipos-de-datos)\n",
    "* [Longitud y dimensiones de un array](#Longitud-y-dimensiones-de-un-array)\n",
    "* [Indizado en arrays](#Indizado-en-arrays)\n",
    "* [Referencias](#Referencias)\n",
    "* [Licencia](#Licencia)"
   ]
  },
  {
   "cell_type": "markdown",
   "metadata": {},
   "source": [
    "## Objetivos del notebook\n",
    "\n",
    "* Definir y trabajar con señales básicas.\n",
    "* Conocer sobre tipo de datos."
   ]
  },
  {
   "cell_type": "markdown",
   "metadata": {},
   "source": [
    "## Periodicidad de señales"
   ]
  },
  {
   "cell_type": "markdown",
   "metadata": {},
   "source": [
    "### Impulso unitario (delta de Kronecker)\n",
    "\n",
    "$$\\delta[n]=\\begin{cases} 1, \\text{para } n=0 \\\\  0, \\text{para  } n\\neq 0 \\end{cases}=\\left\\lbrace \\ldotp \\ldotp \\ldotp ,0,0,1^{\\uparrow } ,0,0,\\ldotp \\ldotp \\ldotp \\right\\rbrace$$\n",
    "\n",
    "$$\\delta \\left\\lbrack n-n_0 \\right\\rbrack =\\left\\lbrace \\begin{array}{c}1 & n=n_0 \\\\0 & n\\ne n_0 \\end{array}\\right.$$"
   ]
  },
  {
   "cell_type": "code",
   "execution_count": 2,
   "metadata": {},
   "outputs": [
    {
     "ename": "NameError",
     "evalue": "name 'np' is not defined",
     "output_type": "error",
     "traceback": [
      "\u001b[0;31m---------------------------------------------------------------------------\u001b[0m",
      "\u001b[0;31mNameError\u001b[0m                                 Traceback (most recent call last)",
      "\u001b[0;32m<ipython-input-2-0e0536daf23f>\u001b[0m in \u001b[0;36m<module>\u001b[0;34m\u001b[0m\n\u001b[0;32m----> 1\u001b[0;31m \u001b[0mdelta\u001b[0m \u001b[0;34m=\u001b[0m \u001b[0mnp\u001b[0m\u001b[0;34m.\u001b[0m\u001b[0mconcatenate\u001b[0m\u001b[0;34m(\u001b[0m\u001b[0;34m(\u001b[0m\u001b[0mnp\u001b[0m\u001b[0;34m.\u001b[0m\u001b[0mzeros\u001b[0m\u001b[0;34m(\u001b[0m\u001b[0;36m10\u001b[0m\u001b[0;34m)\u001b[0m\u001b[0;34m,\u001b[0m\u001b[0mnp\u001b[0m\u001b[0;34m.\u001b[0m\u001b[0mones\u001b[0m\u001b[0;34m(\u001b[0m\u001b[0;36m1\u001b[0m\u001b[0;34m)\u001b[0m\u001b[0;34m,\u001b[0m\u001b[0mnp\u001b[0m\u001b[0;34m.\u001b[0m\u001b[0mzeros\u001b[0m\u001b[0;34m(\u001b[0m\u001b[0;36m10\u001b[0m\u001b[0;34m)\u001b[0m\u001b[0;34m)\u001b[0m\u001b[0;34m)\u001b[0m \u001b[0;31m# Une una secuencia de matrices a lo largo de un eje existente.\u001b[0m\u001b[0;34m\u001b[0m\u001b[0;34m\u001b[0m\u001b[0m\n\u001b[0m\u001b[1;32m      2\u001b[0m \u001b[0mn\u001b[0m \u001b[0;34m=\u001b[0m \u001b[0mnp\u001b[0m\u001b[0;34m.\u001b[0m\u001b[0marange\u001b[0m\u001b[0;34m(\u001b[0m\u001b[0;34m-\u001b[0m\u001b[0;36m10\u001b[0m\u001b[0;34m,\u001b[0m \u001b[0;36m11\u001b[0m\u001b[0;34m)\u001b[0m\u001b[0;34m\u001b[0m\u001b[0;34m\u001b[0m\u001b[0m\n\u001b[1;32m      3\u001b[0m \u001b[0;34m\u001b[0m\u001b[0m\n\u001b[1;32m      4\u001b[0m \u001b[0mplt\u001b[0m\u001b[0;34m.\u001b[0m\u001b[0mstem\u001b[0m\u001b[0;34m(\u001b[0m\u001b[0mn\u001b[0m\u001b[0;34m,\u001b[0m\u001b[0mdelta\u001b[0m\u001b[0;34m)\u001b[0m\u001b[0;34m\u001b[0m\u001b[0;34m\u001b[0m\u001b[0m\n\u001b[1;32m      5\u001b[0m \u001b[0mplt\u001b[0m\u001b[0;34m.\u001b[0m\u001b[0mtitle\u001b[0m\u001b[0;34m(\u001b[0m\u001b[0;34m'Impulso unitario'\u001b[0m\u001b[0;34m)\u001b[0m\u001b[0;34m\u001b[0m\u001b[0;34m\u001b[0m\u001b[0m\n",
      "\u001b[0;31mNameError\u001b[0m: name 'np' is not defined"
     ]
    }
   ],
   "source": [
    "delta = np.concatenate((np.zeros(10),np.ones(1),np.zeros(10))) # Une una secuencia de matrices a lo largo de un eje existente.\n",
    "n = np.arange(-10, 11)\n",
    "\n",
    "plt.stem(n,delta)\n",
    "plt.title('Impulso unitario')\n",
    "plt.ylabel('Amplitud $\\delta[n]$')\n",
    "plt.xlabel('Muestras $n$')"
   ]
  },
  {
   "cell_type": "markdown",
   "metadata": {},
   "source": [
    "### Pulso rectangular\n",
    "\n",
    "$$P[n]=\\begin{cases} 1/\\tau, \\text{para } \\vert n \\vert< \\tau/2  \\\\  0, \\text{resto  } \n",
    "\\end{cases}$$\n"
   ]
  },
  {
   "cell_type": "code",
   "execution_count": 7,
   "metadata": {},
   "outputs": [
    {
     "name": "stderr",
     "output_type": "stream",
     "text": [
      "/home/max/miniconda3/lib/python3.7/site-packages/ipykernel_launcher.py:4: UserWarning: In Matplotlib 3.3 individual lines on a stem plot will be added as a LineCollection instead of individual lines. This significantly improves the performance of a stem plot. To remove this warning and switch to the new behaviour, set the \"use_line_collection\" keyword argument to True.\n",
      "  after removing the cwd from sys.path.\n"
     ]
    },
    {
     "data": {
      "text/plain": [
       "Text(0.5, 0, 'Muestras $n$')"
      ]
     },
     "execution_count": 7,
     "metadata": {},
     "output_type": "execute_result"
    },
    {
     "data": {
      "image/png": "[encoded data removed]",
      "text/plain": [
       "<Figure size 432x288 with 1 Axes>"
      ]
     },
     "metadata": {
      "needs_background": "light"
     },
     "output_type": "display_data"
    }
   ],
   "source": [
    "P = np.concatenate((np.zeros(5),np.ones(11),np.zeros(5)))\n",
    "n = np.arange(-10, 11)\n",
    "\n",
    "plt.stem(n,P)\n",
    "plt.title('Pulso rectangular')\n",
    "plt.ylabel('Amplitud $P[n]$')\n",
    "plt.xlabel('Muestras $n$')"
   ]
  },
  {
   "cell_type": "markdown",
   "metadata": {},
   "source": [
    "### Escalon unitario o heaviside discreta\n",
    "\n",
    "$$u[n]=\\begin{cases} 0, \\text{para } n<0  \\\\  1, \\text{para  } n\\geq 0 \\end{cases}$$\n",
    "\n",
    "$$u\\left\\lbrack n-n_0 \\right\\rbrack =\\left\\lbrace \\begin{array}{c}\n",
    "1 & n\\ge n_0 \\\\0 & n<n_0 \\end{array}\\right.$$"
   ]
  },
  {
   "cell_type": "code",
   "execution_count": null,
   "metadata": {},
   "outputs": [],
   "source": [
    "u = np.concatenate((np.zeros(10),np.ones(11)))\n",
    "n = np.arange(-10, 11)\n",
    "\n",
    "plt.stem(n,u)\n",
    "plt.title('Escalón unitario')\n",
    "plt.ylabel('Amplitud $u[n]$')\n",
    "plt.xlabel('Muestras $n$')"
   ]
  },
  {
   "cell_type": "markdown",
   "metadata": {},
   "source": [
    "### Propiedades de las señales"
   ]
  },
  {
   "cell_type": "markdown",
   "metadata": {},
   "source": [
    "$$\\delta[n]=u[n]-u[n-1]$$"
   ]
  },
  {
   "cell_type": "code",
   "execution_count": null,
   "metadata": {},
   "outputs": [],
   "source": [
    "u1 = np.concatenate((np.zeros(10),np.ones(11)))\n",
    "u2 = np.concatenate((np.zeros(11),np.ones(10)))\n",
    "\n",
    "delta = u1-u2\n",
    "n = np.arange(-10, 11)\n",
    "\n",
    "plt.stem(n,delta)\n",
    "plt.title('Impulso unitario')\n",
    "plt.ylabel('Amplitud $\\delta[n]$')\n",
    "plt.xlabel('Muestras $n$')"
   ]
  },
  {
   "cell_type": "markdown",
   "metadata": {},
   "source": [
    "$$u[n]=\\sum_{m=-\\infty}^{n}{\\delta[m]}$$"
   ]
  },
  {
   "cell_type": "code",
   "execution_count": null,
   "metadata": {},
   "outputs": [],
   "source": [
    "u1 = np.concatenate((np.zeros(10),np.ones(11)))\n",
    "u2 = np.concatenate((np.zeros(11),np.ones(10)))\n",
    "delta = u1-u2\n",
    "\n",
    "u = np.cumsum(delta) # Devuelve la suma acumulada de los elementos a lo largo de un eje dado\n",
    "n = np.arange(-10, 11)\n",
    "\n",
    "plt.stem(n,u)\n",
    "plt.title('Escalón unitario')\n",
    "plt.ylabel('Amplitud $u[n]$')\n",
    "plt.xlabel('Muestras $n$')"
   ]
  },
  {
   "cell_type": "markdown",
   "metadata": {},
   "source": [
    "## Otras señales de interes"
   ]
  },
  {
   "cell_type": "markdown",
   "metadata": {},
   "source": [
    "### Rampa\n",
    "\n",
    "$$r[n]=\\begin{cases} n, \\text{para } n=0,1,... \\\\  0, \\text{para  } n\\neq -1,-2,... \\end{cases} =\\left\\lbrace \\ldotp \\ldotp \\ldotp ,0,0^{\\uparrow } ,1{} ,2,3,\\ldotp \\ldotp \\ldotp \\right\\rbrace$$"
   ]
  },
  {
   "cell_type": "code",
   "execution_count": 11,
   "metadata": {},
   "outputs": [
    {
     "name": "stderr",
     "output_type": "stream",
     "text": [
      "/home/max/miniconda3/lib/python3.7/site-packages/ipykernel_launcher.py:7: UserWarning: In Matplotlib 3.3 individual lines on a stem plot will be added as a LineCollection instead of individual lines. This significantly improves the performance of a stem plot. To remove this warning and switch to the new behaviour, set the \"use_line_collection\" keyword argument to True.\n",
      "  import sys\n"
     ]
    },
    {
     "data": {
      "text/plain": [
       "Text(0.5, 0, 'Muestras $n$')"
      ]
     },
     "execution_count": 11,
     "metadata": {},
     "output_type": "execute_result"
    },
    {
     "data": {
      "image/png": "[encoded data removed]",
      "text/plain": [
       "<Figure size 432x288 with 1 Axes>"
      ]
     },
     "metadata": {
      "needs_background": "light"
     },
     "output_type": "display_data"
    }
   ],
   "source": [
    "u1 = np.concatenate((np.zeros(11),np.ones(10)))\n",
    "\n",
    "r = np.cumsum(u1)\n",
    "\n",
    "n = np.arange(-11, 10)\n",
    "\n",
    "plt.stem(n+1,r)\n",
    "plt.title('Rampa')\n",
    "plt.ylabel('Amplitud $r[n]$')\n",
    "plt.xlabel('Muestras $n$')"
   ]
  },
  {
   "cell_type": "markdown",
   "metadata": {},
   "source": [
    "### Secuencia exponencial de valores reales\n",
    "\n",
    "$$x\\left\\lbrack n\\right\\rbrack =a^n ,\\forall  n,a\\in \\Re$$"
   ]
  },
  {
   "cell_type": "code",
   "execution_count": null,
   "metadata": {},
   "outputs": [],
   "source": [
    "n = np.arange(0, 10)\n",
    "x = (0.9)**n\n",
    "\n",
    "plt.stem(n,x)\n",
    "plt.title('Exponencial')\n",
    "plt.ylabel('Amplitud $x[n]$')\n",
    "plt.xlabel('Muestras $n$')"
   ]
  },
  {
   "cell_type": "markdown",
   "metadata": {},
   "source": [
    "### Secuencia exponencial de valores complejos\n",
    "\n",
    "$$x\\left\\lbrack n\\right\\rbrack =e^{\\left(\\sigma +jw_0 \\right)n} ,\\forall n$$"
   ]
  },
  {
   "cell_type": "code",
   "execution_count": 12,
   "metadata": {},
   "outputs": [
    {
     "name": "stderr",
     "output_type": "stream",
     "text": [
      "/home/max/miniconda3/lib/python3.7/site-packages/ipykernel_launcher.py:4: UserWarning: In Matplotlib 3.3 individual lines on a stem plot will be added as a LineCollection instead of individual lines. This significantly improves the performance of a stem plot. To remove this warning and switch to the new behaviour, set the \"use_line_collection\" keyword argument to True.\n",
      "  after removing the cwd from sys.path.\n"
     ]
    },
    {
     "data": {
      "text/plain": [
       "Text(0.5, 0, 'Muestras $n$')"
      ]
     },
     "execution_count": 12,
     "metadata": {},
     "output_type": "execute_result"
    },
    {
     "data": {
      "image/png": "[encoded data removed]",
      "text/plain": [
       "<Figure size 432x288 with 1 Axes>"
      ]
     },
     "metadata": {
      "needs_background": "light"
     },
     "output_type": "display_data"
    }
   ],
   "source": [
    "n = np.arange(0, 10)\n",
    "x = np.exp((2+3j)*n) # Calcula la exponencial de todos los elementos de la matriz de entrada.\n",
    "\n",
    "plt.stem(n,abs(x))\n",
    "plt.title('Exponencial')\n",
    "plt.ylabel('Amplitud $x[n]$')\n",
    "plt.xlabel('Muestras $n$')"
   ]
  },
  {
   "cell_type": "markdown",
   "metadata": {},
   "source": [
    "### Secuencia senoidal\n",
    "\n",
    "$$x\\left\\lbrack n\\right\\rbrack =A cos\\left(w_0 n+\\theta_0 \\right),\\forall n$$\n",
    "\n",
    "Donde A es la amplitud y $\\theta_0$ es la fase en radianes."
   ]
  },
  {
   "cell_type": "code",
   "execution_count": 19,
   "metadata": {},
   "outputs": [
    {
     "name": "stderr",
     "output_type": "stream",
     "text": [
      "/home/max/miniconda3/lib/python3.7/site-packages/ipykernel_launcher.py:8: UserWarning: In Matplotlib 3.3 individual lines on a stem plot will be added as a LineCollection instead of individual lines. This significantly improves the performance of a stem plot. To remove this warning and switch to the new behaviour, set the \"use_line_collection\" keyword argument to True.\n",
      "  \n"
     ]
    },
    {
     "data": {
      "text/plain": [
       "Text(0.5, 0, 'Muestras $n$')"
      ]
     },
     "execution_count": 19,
     "metadata": {},
     "output_type": "execute_result"
    },
    {
     "data": {
      "image/png": "[encoded data removed]",
      "text/plain": [
       "<Figure size 432x288 with 1 Axes>"
      ]
     },
     "metadata": {
      "needs_background": "light"
     },
     "output_type": "display_data"
    }
   ],
   "source": [
    "A = 1\n",
    "w0 = 2*np.pi*2\n",
    "n = np.linspace(0, 100,200)\n",
    "#O = -np.pi/2\n",
    "O = 0\n",
    "x = A*np.cos(w0*n)\n",
    "\n",
    "plt.stem(n,x)\n",
    "plt.title('Senoidal')\n",
    "plt.ylabel('Amplitud $x[n]$')\n",
    "plt.xlabel('Muestras $n$')"
   ]
  },
  {
   "cell_type": "markdown",
   "metadata": {},
   "source": [
    "### Secuencia aleatoria"
   ]
  },
  {
   "cell_type": "code",
   "execution_count": null,
   "metadata": {},
   "outputs": [],
   "source": [
    "#np.random.seed(0) # fijar semilla\n",
    "n = np.arange(0,10)\n",
    "x = np.random.standard_normal(10)\n",
    "\n",
    "plt.stem(n,x)\n",
    "plt.title('Aleatoria')\n",
    "plt.ylabel('Amplitud $x[n]$')\n",
    "plt.xlabel('Muestras $n$')"
   ]
  },
  {
   "cell_type": "markdown",
   "metadata": {},
   "source": [
    "### Funcion Sinc\n",
    "\n",
    "$$sinc[n]=\\begin{cases} \\frac {sen(n)}{n}, \\text{si } n \\neq 0 \\\\  1, \\text{caso contrario  } \\end{cases}$$"
   ]
  },
  {
   "cell_type": "code",
   "execution_count": null,
   "metadata": {},
   "outputs": [],
   "source": [
    "n = np.arange(-10,11)\n",
    "s = np.sin(n)/(n)\n",
    "s[10] = 1\n",
    "\n",
    "plt.stem(n,s)\n",
    "plt.title('Sinc')\n",
    "plt.ylabel('Amplitud $x[n]$')\n",
    "plt.xlabel('Muestras $n$')"
   ]
  },
  {
   "cell_type": "markdown",
   "metadata": {
    "tags": [
     "prueba"
    ]
   },
   "source": [
    "> Más funciones matemáticas en la [documentación oficial](https://numpy.org/doc/stable/reference/routines.math.html). En particular señales en el siguiente [apartado](https://docs.scipy.org/doc/scipy/reference/signal.html#waveforms)."
   ]
  },
  {
   "cell_type": "markdown",
   "metadata": {},
   "source": [
    "## Pulso unitario desplazado y escalado"
   ]
  },
  {
   "cell_type": "code",
   "execution_count": null,
   "metadata": {},
   "outputs": [],
   "source": [
    "mov = -2\n",
    "ampl = 2\n",
    "\n",
    "ini = -3\n",
    "fin = 4\n",
    "n = np.arange(ini,fin+1)\n",
    "delta = ampl*np.concatenate((np.zeros(abs(ini)- mov), np.ones(1), np.zeros(fin + mov)))\n",
    "\n",
    "plt.stem(n,delta)\n",
    "plt.title('Pulso unitario')\n",
    "plt.ylabel('Amplitud $\\delta[n]$')\n",
    "plt.xlabel('Muestras $n$')"
   ]
  },
  {
   "cell_type": "markdown",
   "metadata": {},
   "source": [
    "## Escalón unitario desplazado y escalado"
   ]
  },
  {
   "cell_type": "code",
   "execution_count": null,
   "metadata": {},
   "outputs": [],
   "source": [
    "mov = -2\n",
    "ampl = 2\n",
    "\n",
    "ini = -3\n",
    "fin = 4\n",
    "n = np.arange(ini,fin+1)\n",
    "\n",
    "U = ampl*np.concatenate((np.zeros(abs(ini) - mov), np.ones(1), np.ones( fin + mov)))\n",
    "\n",
    "\n",
    "plt.stem(n,U)\n",
    "plt.title('Sinc')\n",
    "plt.ylabel('Amplitud $x[n]$')\n",
    "plt.xlabel('Muestras $n$')"
   ]
  },
  {
   "cell_type": "markdown",
   "metadata": {},
   "source": [
    "## Tipos de datos\n",
    "\n",
    "Los **argumentos** que se deben indicar para crear el array son dos: los **elementos que contendrá**, que se ingresan en forma de lista, y el **tipo de datos** que tendrá la lista. En los ejemplos anteriores no especificamos el tipo de datos, ya que éste se asigna automáticamente al crear la lista. No obstante, es recomendable indicarlo siempre ya que cada tipo de datos ocupa un espacio en memoria distinto.\n",
    "\n",
    "Los tipos de datos que podemos utilizar dentro de un array son los siguientes:\n",
    "* **Números enteros** de 8, 16, 32 y 64 bits, con signo y sin signo.\n",
    "* **Números complejos** de 64 y 128 bits.\n",
    "* **Números de punto flotante** de 16, 32, 64 y 128 bits\n",
    "* **Booleanos** (‘True’ o ‘False’), **strings**, **bytes...**\n",
    "\n",
    "En el caso del array 'a' que creamos anteriormente, el formato que se asigna automáticamente es un entero de 64 bits con signo (int64). Nos resulta conveniente utilizar un formato entero sin signo y de 8 bits, de acuerdo a los datos que contiene. El formato se especifica de la siguiente forma:\n"
   ]
  },
  {
   "cell_type": "code",
   "execution_count": null,
   "metadata": {},
   "outputs": [],
   "source": [
    "b = np.array([1,2,5,9], dtype = np.uint8)\n",
    "\n",
    "# la consola nos muestra el array\n",
    "b"
   ]
  },
  {
   "cell_type": "markdown",
   "metadata": {},
   "source": [
    "En este caso, definimos un array 'b' con un formato adecuado. Entonces, ¿cómo elegimos un tipo de datos conveniente para nuestros arrays? En la siguiente tabla podemos ver los rangos de valores para cada tipo de dato:\n",
    "\n",
    "| Tipo | Rango | Precisión |\n",
    "| ---  | ---   | --- |\n",
    "| int8 | -128 a 127 | |\n",
    "| int16 | -32768 a 32767 | |\n",
    "| int32 | -2147483648 a 2147483647 | |\n",
    "| int64 | -9223372036854775808 a 9223372036854775807 | |\n",
    "| uint8 | 0 a 255 | |\n",
    "| uint16 | 0 a 65535 | |\n",
    "| uint32 | 0 a 4294967295 | |\n",
    "| uint64 | 0 a 18446744073709551615 | |\n",
    "| float16 | ± 65504 | Hasta 3 dígitos decimales |\n",
    "| float32 | ± 10^(38.53) | Hasta 6 dígitos decimales |\n",
    "| float64 | ± 10^(308.25) | Hasta 16 dígitos decimales |"
   ]
  },
  {
   "cell_type": "markdown",
   "metadata": {},
   "source": [
    "De todo este despliegue de números podemos extraer las siguientes premisas:\n",
    "\n",
    "* Si utilizamos números **enteros positivos**, es conveniente usar un **formato sin signo** para aprovechar el rango de la mejor manera posible.\n",
    "* Si deseamos representar valores de **números reales**, utilizamos un **formato float**.\n",
    "* **Siempre debemos formatear nuestros arrays**. Si no lo especificamos, estaremos utilizando 64 bits (float o entero) para definir a cada elemento de la lista. Esto generalmente no es necesario, y es contraproducente en dos sentidos: consume excesivo espacio en memoria y afecta a la velocidad de los algoritmos, lo que se hace notable cuando trabajamos con arrays extensos (por ejemplo, un archivo wav de varios minutos).\n",
    "\n",
    "Contamos con algunos **comandos útiles para saber el tamaño de un array y de sus elementos** (cantidad de bytes que ocupa en memoria):\n"
   ]
  },
  {
   "cell_type": "code",
   "execution_count": null,
   "metadata": {},
   "outputs": [],
   "source": [
    "# devuelve el número de bytes del array 'a'\n",
    "bytes_array_a = a.nbytes\n",
    "\n",
    "# devuelve el número de bytes que ocupa cada elemento de 'a'\n",
    "bytes_item_a = a.itemsize\n",
    "\n",
    "print (\"El array 'a' ocupa %r bytes, y cada uno de sus elementos ocupa %r bytes. \\n\" \n",
    "       % (bytes_array_a, bytes_item_a))\n",
    "\n",
    "print (\"Éstos son todos los formatos que admite Numpy:\")\n",
    "# devuelve el número de bytes que ocupan los elementos de cada tipo de datos disponibles en Numpy\n",
    "np.nbytes"
   ]
  },
  {
   "cell_type": "markdown",
   "metadata": {},
   "source": [
    "### Definamos el formato numerico mas conveniente\n",
    "\n",
    "Ahora veamos algunos ejemplos para poner en práctica lo que mencionamos. Definamos los formatos que son más convenientes para los siguientes arrays:"
   ]
  },
  {
   "cell_type": "code",
   "execution_count": 49,
   "metadata": {},
   "outputs": [
    {
     "ename": "SyntaxError",
     "evalue": "invalid syntax (<ipython-input-49-edb3784d9aed>, line 6)",
     "output_type": "error",
     "traceback": [
      "\u001b[0;36m  File \u001b[0;32m\"<ipython-input-49-edb3784d9aed>\"\u001b[0;36m, line \u001b[0;32m6\u001b[0m\n\u001b[0;31m    arr_a = np.array(a, dtype = ) # completar\u001b[0m\n\u001b[0m                                ^\u001b[0m\n\u001b[0;31mSyntaxError\u001b[0m\u001b[0;31m:\u001b[0m invalid syntax\n"
     ]
    }
   ],
   "source": [
    "a = [-1, 0, 1] \n",
    "b = [0.2, 12.7,-30.52]\n",
    "c = [10**10, 12**10, 3**18, 0]\n",
    "d = [3 + 1j, -5j]\n",
    "\n",
    "arr_a = np.array(a, dtype = ) # completar\n",
    "arr_b = np.array(b, dtype = ) # completar\n",
    "arr_c = np.array([c], dtype = ) # completar\n",
    "arr_d = np.array([d], dtype = ) # completar\n",
    "\n",
    "print (\" array a: \", arr_a,\"\\n array b: \", arr_b, \"\\n array c: \", arr_c,\n",
    "      \"\\n array d: \", arr_d)"
   ]
  },
  {
   "cell_type": "code",
   "execution_count": 48,
   "metadata": {},
   "outputs": [
    {
     "ename": "NameError",
     "evalue": "name 'arr_a' is not defined",
     "output_type": "error",
     "traceback": [
      "\u001b[0;31m---------------------------------------------------------------------------\u001b[0m",
      "\u001b[0;31mNameError\u001b[0m                                 Traceback (most recent call last)",
      "\u001b[0;32m<ipython-input-48-846b9e6112fb>\u001b[0m in \u001b[0;36m<module>\u001b[0;34m\u001b[0m\n\u001b[0;32m----> 1\u001b[0;31m \u001b[0marr_a\u001b[0m\u001b[0;34m//\u001b[0m\u001b[0;36m2\u001b[0m\u001b[0;34m\u001b[0m\u001b[0;34m\u001b[0m\u001b[0m\n\u001b[0m",
      "\u001b[0;31mNameError\u001b[0m: name 'arr_a' is not defined"
     ]
    }
   ],
   "source": [
    "arr_a//2"
   ]
  },
  {
   "cell_type": "markdown",
   "metadata": {},
   "source": [
    "## Longitud y dimensiones de un array\n",
    "\n",
    "Los ejemplos mencionados hasta ahora han sido de arrays de dimensiones $1 x N$. Podemos crear **arrays de varias dimensiones** de la siguiente manera:"
   ]
  },
  {
   "cell_type": "code",
   "execution_count": null,
   "metadata": {},
   "outputs": [],
   "source": [
    "# array de dos dimensiones y longitud igual a 3\n",
    "b = np.array([[1,2,3],[3,2,1]], dtype = np.uint8)"
   ]
  },
  {
   "cell_type": "code",
   "execution_count": null,
   "metadata": {},
   "outputs": [],
   "source": [
    "# array de tres dimensiones y longitud igual a 2\n",
    "c = np.array([[1,-1],[0,1],[-5,2]], dtype = np.int8)"
   ]
  },
  {
   "cell_type": "markdown",
   "metadata": {},
   "source": [
    "La **longitud** representa la cantidad de elementos que posee el array. Su valor, y el de las dimensiones de un array, se pueden obtener de la siguiente manera: "
   ]
  },
  {
   "cell_type": "code",
   "execution_count": null,
   "metadata": {},
   "outputs": [],
   "source": [
    "# devuelve la forma de un array, de la siguiente forma (n° de filas, n° de columnas)\n",
    "(dim1, dim2) = b.shape\n",
    "\n",
    "#longitud del array\n",
    "longitud = b.size\n",
    "\n",
    "print(dim1, dim2)\n",
    "print(longitud)\n",
    "\n",
    "len(b) #elementos en la primera dimensión"
   ]
  },
  {
   "cell_type": "markdown",
   "metadata": {},
   "source": [
    "### Matrices"
   ]
  },
  {
   "cell_type": "code",
   "execution_count": null,
   "metadata": {},
   "outputs": [],
   "source": [
    "np.zeros((2,3)) # matriz de ceros"
   ]
  },
  {
   "cell_type": "code",
   "execution_count": null,
   "metadata": {},
   "outputs": [],
   "source": [
    "np.ones((5,7)) # matriz de unos"
   ]
  },
  {
   "cell_type": "code",
   "execution_count": null,
   "metadata": {},
   "outputs": [],
   "source": [
    "a = np.arange(36)\n",
    "a\n",
    "a.shape = (6,6) # reconstruir una matriz\n",
    "a"
   ]
  },
  {
   "cell_type": "markdown",
   "metadata": {},
   "source": [
    "## Indezado en arrays\n",
    "\n",
    "Los **índices** se utilizan para indicar la posición de cada elemento de un array. De esta manera, podemos acceder al valor de una posición específica o extraer el valor de un grupo de elementos. Cada elemento posee una posición $[i,j]$, donde $i$ representa el número de fila y $j$ representa el número  de columna en que se ubica."
   ]
  },
  {
   "cell_type": "code",
   "execution_count": null,
   "metadata": {},
   "outputs": [],
   "source": [
    "# devuelve el elemento de la posición [1,2] del array 'a', igual a 8.\n",
    "print(a[1,2])\n",
    "\n",
    "# devuelve el elemento de la posición [2,0] del array 'a', igual a 12.\n",
    "print(a[2,0])\n"
   ]
  },
  {
   "cell_type": "markdown",
   "metadata": {},
   "source": [
    "Es importante tener en cuenta que los índices que se asignan se inician desde 0, por lo que si tengo 4 elementos, sus índices irán del rango de 0 a 3.\n",
    "Podemos **desplazarnos** dentro de una array, y **seleccionar** un rango de elementos utilizando la notación *[i: j: k]*, donde 'i' representa el índice a partir del cual nos desplazamos, 'j' es el índice en el cual nos detenemos y 'k' es el paso con el cual nos desplazamos a los elementos subsiguientes. "
   ]
  },
  {
   "cell_type": "code",
   "execution_count": null,
   "metadata": {},
   "outputs": [],
   "source": [
    "s = [0, 0.5, 1, 1.5, 2, 2.5, 3, 3.5, 4, 4.5] \n",
    "sec = np.array(s, dtype = np.float16)\n",
    "\n",
    "# desplazamiento a partir del 1° elemento, hasta el 8° (no inclusive), \n",
    "# en pasos de cada 2 elementos\n",
    "print (sec[0:8:2])\n",
    "\n",
    "# desplazamiento entre las mismas posiciones en pasos de a 1\n",
    "print (sec[:8])\n",
    "\n",
    "# desplazamiento desde la posición n-5 hasta la posición 9, siendo n la cantidad de elementos.\n",
    "print (sec[-5:9])\n",
    "\n",
    "# desplazamiento desde la posición 7 hasta la posición n-8, en pasos de 1 hacia atrás\n",
    "print (sec[7:-8:-1])\n",
    "\n",
    "# desplazamiento desde la posición 4 hasta el final del array\n",
    "print (sec[3:])\n",
    "\n",
    "# desplazamiento desde la posición 4 hasta el final del array en pasos de a tres\n",
    "print (sec[3::3])\n",
    "\n",
    "# desplazamiento desde el comienzo hasta la posición 6 en pasos de a 2\n",
    "print (sec[:6:2])"
   ]
  },
  {
   "cell_type": "markdown",
   "metadata": {},
   "source": [
    "Como se puede ver en el ejemplo, tenemos varias opciones para desplazarnos de distintas maneras. Es posible ir hacia adelante, atrás e indicar las posiciones inicial y final con respecto a la longitud del array. Notemos que el elemento $j$, que indica el fin del desplazamiento, no se incluye en el resultado. Es decir, el resultado nos arroja los **elementos desde $i$ hasta $j-1$**.\n",
    "\n",
    "Para el caso de **matrices**, el desplazamiento es similar, contando con algunas opciones adicionales. Veamos algunos casos."
   ]
  },
  {
   "cell_type": "code",
   "execution_count": null,
   "metadata": {},
   "outputs": [],
   "source": [
    "# definimos la misma secuencia, pero en forma de matriz de 3x3\n",
    "fibo_mtx = np.array([[0,1,1],[2,3,5],[8,13,21]], dtype = np.uint8)\n",
    "\n",
    "# el desplazamiento es ahora entre dimensiones, para ver las dos primeras (filas 0 y 1):\n",
    "print(fibo_mtx[0:2], \"\\n\")\n",
    "\n",
    "# veo elementos de la submatriz de 2x2 (primeras dos filas y dos columnas):\n",
    "print(fibo_mtx[0:2,0:2], \"\\n\")\n",
    "\n",
    "# desplazamiento entre los dos primeros elementos de la 3° fila \n",
    "print(fibo_mtx[2,0:2], \"\\n\")\n",
    "\n",
    "# desplazamiento entre filas:\n",
    "print(fibo_mtx[0:2,0::], \"\\n\")\n",
    "\n",
    "# desplazamiento entre los elementos de la 2° columna \n",
    "print(fibo_mtx[...,1])"
   ]
  },
  {
   "cell_type": "markdown",
   "metadata": {},
   "source": [
    "La notación *[i , j, k]* sirve para desplazarnos entre filas de una matriz. Por otra parte, podemos acceder a todos los elementos de una columna o fila con la notación *[..., x]* o *[x, ...]* respectivamente, siendo *x* el índice de la columna o fila en la que nos desplazamos.\n",
    "\n",
    "> **Nota:** Numpy también cuenta con el objeto matrix, que es una subclase del objeto array. La ventaja de usar este objeto es que las operaciones matemáticas son matriciales por defecto, y en un array se hacen elemento a elemento (vamos a este tema en la siguiente sección). A fines prácticos, el array también se puede implementar como matriz, teniendo en consideración lo mencionado anteriormente."
   ]
  },
  {
   "cell_type": "markdown",
   "metadata": {},
   "source": [
    "### Apliquemos lo visto en un ejercicio\n",
    "\n",
    "Apliquemos lo visto sobre índices y desplazamiento en un ejercicio. Éste comienza con la creación de un array a partir de una función. Python nos permite crear objetos llamados funciones para generar una instancia de una función matemática. En este caso, nos valemos de esta cómoda funcionalidad para crear un array con los valores de esa función en un conjunto finito de valores dentro de su dominio."
   ]
  },
  {
   "cell_type": "code",
   "execution_count": null,
   "metadata": {},
   "outputs": [],
   "source": [
    "# creacion de un array a partir de una función\n",
    "func = lambda y,x : 0.5*x + np.cos(y)  # creo un objeto 'funcion'\n",
    "sec = np.fromfunction(func, (3,5), dtype = np.float16)  # armo array con la función fromfunction\n",
    "sec"
   ]
  },
  {
   "cell_type": "code",
   "execution_count": null,
   "metadata": {},
   "outputs": [],
   "source": [
    "# imprimir la cantidad de filas y columnas del array\n",
    "print()  # completar\n",
    "print(\"\\n\")\n",
    "\n",
    "# imprimir el valor de la función en el punto (x,y)=(0,0)\n",
    "print()  # completar\n",
    "print(\"\\n\")\n",
    "\n",
    "# imprimir los valores de la función para x(i) con i = (1,3) e y(j) con j = (1,2)\n",
    "print()  # completar\n",
    "print(\"\\n\")\n",
    "\n",
    "# imprimir los valores de la función para x(i) con i = (0, 2, 4)\n",
    "print()  # completar\n",
    "print(\"\\n\")"
   ]
  },
  {
   "cell_type": "markdown",
   "metadata": {},
   "source": [
    "## Referencias\n",
    "\n",
    " * *Numpy User Guide*, https://www.numpy.org/\n",
    " * Scott, Shell, *An introduction to Numpy and Scipy*, 2014. \n",
    " * Martín, Gaitán. *Curso de Python para ciencias e ingenierías*. Extraido de [GitHub](https://github.com/mgaitan/curso-python-cientifico), 2017.\n",
    " * Oppenheim, Alan V.; Willsky, Alan S.; Nawab, S. Hamid. Señales y sistemas. Pearson Educación, 1998."
   ]
  },
  {
   "cell_type": "markdown",
   "metadata": {},
   "source": [
    "## Licencia\n",
    "\n",
    "<a rel=\"license\" href=\"http://creativecommons.org/licenses/by-sa/4.0/\"><img alt=\"Licencia de Creative Commons\" style=\"border-width:0\" src=\"https://i.creativecommons.org/l/by-sa/4.0/88x31.png\" /></a><br />Este documento se destribuye con una <a rel=\"license\" href=\"http://creativecommons.org/licenses/by-sa/4.0/\">licencia Atribución CompartirIgual 4.0 Internacional de Creative Commons</a>.\n",
    "\n",
    "Material adaptado del curso [Introducción a Python](https://github.com/infiniemlabs-acustica/python_introduccion)\n",
    "\n",
    "© 2020. Infiniem Labs Acústica. infiniemlab.dsp@gmail.com (CC BY-SA 4.0))"
   ]
  }
 ],
 "metadata": {
  "kernelspec": {
   "display_name": "Python 3",
   "language": "python",
   "name": "python3"
  },
  "language_info": {
   "codemirror_mode": {
    "name": "ipython",
    "version": 3
   },
   "file_extension": ".py",
   "mimetype": "text/x-python",
   "name": "python",
   "nbconvert_exporter": "python",
   "pygments_lexer": "ipython3",
   "version": "3.8.10"
  }
 },
 "nbformat": 4,
 "nbformat_minor": 4
}
