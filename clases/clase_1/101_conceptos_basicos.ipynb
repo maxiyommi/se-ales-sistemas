{
 "cells": [
  {
   "cell_type": "markdown",
   "metadata": {
    "colab_type": "text",
    "id": "pJhfkZ9TnD-E"
   },
   "source": [
    "# Conceptos básicos de programación"
   ]
  },
  {
   "cell_type": "markdown",
   "metadata": {
    "colab_type": "text",
    "id": "4DEoGGL9nD-G"
   },
   "source": [
    "## Contenido\n",
    "\n",
    "* [Definiciones básicas de programación](#Definiciones-basicas-de-programacion)\n",
    "    * [Algoritmos](#Algoritmos)\n",
    "    * [Paradigma de programación](#Paradigma-de-programacion)\n",
    "* [Lenguajes de programación](#Lenguajes-de-programacion)\n",
    "    * [Python](#Python)\n",
    "    * [Caracteristicas de Python](#Caracteristicas-de-Python)\n",
    "* [Ejecutando snippets](#Ejecutando-snippets)\n",
    "    * [Desde la terminal](#Desde-la-terminal)\n",
    "    * [Desde IDE](#Desde-IDE)\n",
    "* [Referencias usadas en el notebook](#Referencias-usadas-en-el-notebook)"
   ]
  },
  {
   "cell_type": "markdown",
   "metadata": {},
   "source": [
    "## Objetivos del notebook\n",
    "\n",
    "* Definir la programación imperativa.\n",
    "* Conocer las características más importantes de Python.\n",
    "* Ejecutar snippets de código Python."
   ]
  },
  {
   "cell_type": "markdown",
   "metadata": {
    "colab_type": "text",
    "id": "CGs4IBrlnD-I"
   },
   "source": [
    "## Definiciones basicas de programacion\n",
    "\n",
    "Definamos algunos conceptos que forman parte del punto de partida y a lo largo del curso profundizaremos en algunos de ellos.\n",
    "\n",
    "### Algoritmos\n",
    "\n",
    "Un algoritmo se define como una **descripción no ambigua y precisa de las acciones** que hay que realizar para resolver un problema bien definido en un tiempo finito. Sin embargo, es un método general para resolver todos los casos posibles del mismo problema y, por lo tanto, debe ser **independiente de los datos de entrada** de cualquier caso concreto. **Un algoritmo se transforma en un programa a partir de que el mismo es codificado en un lenguaje de programación que la computadora es capaz de interpretar**.\n",
    "\n",
    "### Paradigma de programacion\n",
    "\n",
    "Un paradigma de programación es una **propuesta tecnológica adoptada por una comunidad de programadores y desarrolladores**. Representa un **enfoque particular o filosófico** para diseñar soluciones. Los paradigmas difieren unos de otros, en los conceptos y la forma de **abstraer** los elementos involucrados en un problema, así como en los pasos que integran la solución del problema. En general la mayoría son variantes de los dos tipos principales, **imperativa** y **declarativa**:\n",
    "\n",
    "* **Programación imperativa**: los programas son **secuencias de instrucciones** que deben llevarse a cabo como una receta para resolver un problema determinado. Es la programación más utilizada y más antigua. Ejemplos puros de este paradigma serían: C, BASIC, Pascal.\n",
    "\n",
    "* **Programación declarativa**: en contraposición a la programación imperativa, es un paradigma de programación que está basado en el desarrollo de programas **especificando o declarando** un conjunto de condiciones, proposiciones, afirmaciones, restricciones, ecuaciones o transformaciones que describen el problema y detallan su solución. La solución es obtenida mediante **mecanismos internos de control, sin especificar exactamente cómo encontrarla** (tan sólo se le indica a la computadora qué es lo que se desea obtener o qué es lo que se está buscando. A su vez, este paradigma se dividen en **lenguajes funcionales** y **lenguajes lógicos**.\n",
    "\n",
    "A continuación, una figura que menciona otros paradigmas y algunos de los lenguajes para trabajar en ellos [Extraído de](https://medium.com/@Loopa/paradigmas-de-programaci%C3%B3n-programaci%C3%B3n-imperativa-y-programaci%C3%B3n-declarativa-4c4a4182fd87): \n",
    "\n",
    "![](https://miro.medium.com/max/1616/1*VahJ7tMFoZXCUyAPkVyIgg.png)\n",
    "\n",
    "Hay muchos más tipos de paradigmas, pero la mayoría se desprenden de los mencionados anteriormente. \n",
    "Para conocer más del tema [Paradigma de programación - Wikipedia](https://es.wikipedia.org/wiki/Paradigma_de_programaci%C3%B3n) o [Paradigma de programación](https://ferestrepoca.github.io/paradigmas-de-programacion/proglogica/logica_teoria/introduccion.html).\n",
    "\n",
    "> Si bien Python es multiparadigma, el curso se focaliza a trabajar con **programación imperativa**."
   ]
  },
  {
   "cell_type": "markdown",
   "metadata": {},
   "source": [
    "## Lenguajes de programacion\n",
    "\n",
    "Los lenguajes de programación son herramientas (de manera simplificada) para transferir una idea o solución a un idioma que logre interpretar la computadora. Por lo tanto, hay lenguajes que resolverán  algunos problemas mejor que otros, en este sentido la siguiente infografía resume [que lenguaje de programación deberia aprender](https://miro.medium.com/max/4000/1*oObCyTiPPTaqgmIaT13VSw.png), entre los lenguajes más utilizados hoy en dia.\n",
    "\n",
    "### Python\n",
    "\n",
    "Porque es un **lenguaje de programación poderoso y fácil de aprender**. Cuenta con estructuras de datos eficientes y de alto nivel, posee un enfoque simple pero efectivo a la **programación orientada a objetos**. La elegante sintaxis de Python y su **tipado dinámico**, junto con su naturaleza interpretada, hacen de éste un lenguaje ideal para el desarrollo rápido de aplicaciones en diversas áreas [G. Van Rossum., 2017]. Su filosofía de diseño enfatiza la **productividad del programador** y la **legibilidad del código**. Tiene un núcleo sintáctico minimalista con unos pocos comandos básicos y simple semántica, pero además una enorme y variada librería estándar. Fue creado a finales de los ochenta por Guido van Rossum.\n",
    "\n",
    "![](../img/guidoVanRossum.jpg)\n",
    "\n",
    "> Paradójicamente el apellido de Guido, es igual  al nombre de la compañía que fabrica las máquinas en la obra teatral de ciencia ficción **[R.U.R - Rossum's Universal Robots](https://es.wikipedia.org/wiki/R.U.R._(Robots_Universales_Rossum)) (1921)**. La obra teatral trata sobre una empresa que construye humanos artificiales orgánicos con el fin de aligerar la carga de trabajo a las personas. Es conocida por contener la primera aparición del término **robot**. Dicha palabra había sido ideada por el hermano del autor, Josef Čapek (1887 - 1945) a partir de la palabra checa **robota**, que significa **trabajo**.\n",
    "\n",
    "![](../img/rur.jpg)\n",
    "\n",
    "* Python te permite **separar el programa en módulos** que pueden reusarse en otros programas en Python.\n",
    "* Python es un **lenguaje interpretado**, lo cual puede ahorrarte mucho tiempo durante el desarrollo ya que no es necesario compilar.\n",
    "* Python permite **escribir programas compactos y legibles**.\n",
    "\n",
    "El intérprete de Python y la extensa biblioteca estándar están a libre disposición en forma binaria y el código fuente para las principales plataformas desde el [sitio web de Python](https://www.python.org/), y puede distribuirse libremente [G. Van Rossum., 2017]. \n",
    "\n",
    "> Por cierto, el lenguaje recibe su nombre del programa de televisión de la BBC [\"Monty Python's Flying Circus\"](https://es.wikipedia.org/wiki/Monty_Python%27s_Flying_Circus) y **no tiene nada que ver con reptiles**."
   ]
  },
  {
   "cell_type": "markdown",
   "metadata": {},
   "source": [
    "### Caracteristicas de Python\n",
    "\n",
    "* **Libre y open source**. Python es estable, confiable, con gran soporte y una gran comunidad de desarrolladores.\n",
    "* **Propósito general**. Python viene con una gran cantidad de librerías instaladas, haciéndolo muy versátil. Se puede usar directamente en el shell (microtasks), o de forma interactiva, o en scripts, o para crear software comercial con GUI.\n",
    "* **Cross platform**. Puede ejecutarse código de Python en cualquier arquitectura, versiones para Windows, Linux/Unix, MAC OS X y muchos otros.\n",
    "* **Objetos**. Los tipos son asociados con objetos, no con variables. Python opera generalmente en un alto nivel de abstracción. Las reglas de sintaxis son muy simples.\n",
    "* **Expresivo**. Las buenas prácticas de programación, \"Zen de Python\", además de una sintaxis muy simple hacen un codigo muy facil de leer en menos líneas, que en otros lenguajes.\n",
    "* **Multiparadigma**. Si bien predomina el POO, es posible trabajar con otros paradigmas.\n",
    "* **Código eficiente**. Los módulos numéricos de Python son computacionalmente eficientes. "
   ]
  },
  {
   "cell_type": "markdown",
   "metadata": {},
   "source": [
    " Con respecto a otros lenguajes de programación (C, C++, Fortran, Julia, Scilab, Octave, R, entre otros), [¿Cómo se compara Python?](http://www.scipy-lectures.org/intro/intro.html#how-does-python-compare-to-other-solutions)"
   ]
  },
  {
   "cell_type": "code",
   "execution_count": 12,
   "metadata": {},
   "outputs": [
    {
     "name": "stdout",
     "output_type": "stream",
     "text": [
      "The Zen of Python, by Tim Peters\n",
      "\n",
      "Beautiful is better than ugly.\n",
      "Explicit is better than implicit.\n",
      "Simple is better than complex.\n",
      "Complex is better than complicated.\n",
      "Flat is better than nested.\n",
      "Sparse is better than dense.\n",
      "Readability counts.\n",
      "Special cases aren't special enough to break the rules.\n",
      "Although practicality beats purity.\n",
      "Errors should never pass silently.\n",
      "Unless explicitly silenced.\n",
      "In the face of ambiguity, refuse the temptation to guess.\n",
      "There should be one-- and preferably only one --obvious way to do it.\n",
      "Although that way may not be obvious at first unless you're Dutch.\n",
      "Now is better than never.\n",
      "Although never is often better than *right* now.\n",
      "If the implementation is hard to explain, it's a bad idea.\n",
      "If the implementation is easy to explain, it may be a good idea.\n",
      "Namespaces are one honking great idea -- let's do more of those!\n"
     ]
    }
   ],
   "source": [
    "import this"
   ]
  },
  {
   "cell_type": "markdown",
   "metadata": {},
   "source": [
    "* Hermoso es mejor que feo\n",
    "* Explícito es mejor que implícito.\n",
    "* Simple es mejor que complejo.\n",
    "* .. etc"
   ]
  },
  {
   "cell_type": "markdown",
   "metadata": {},
   "source": [
    "## Ejecutando snippets\n",
    "\n",
    "Existen **varias formas de trabajar con Python**, vamos a ver algunas de ellas y concentrarnos en las utilizadas en el curso. Antes que nada abrir **Jupyter Lab** como se mostro en la clase [100_instalacion.ipynb](100_instalacion.ipynb#Utilizar-el-material-del-seminario).\n",
    "\n",
    "![](../img/jupyterlab_launcher.png)"
   ]
  },
  {
   "cell_type": "markdown",
   "metadata": {},
   "source": [
    "Antes vimos como crear, abrir y editar un **Noteook**, ahora abramos un **Text File** y copiemos el siguiente fragmento de código (snippet)."
   ]
  },
  {
   "cell_type": "code",
   "execution_count": 13,
   "metadata": {},
   "outputs": [
    {
     "name": "stdout",
     "output_type": "stream",
     "text": [
      "-------------------------\n",
      "2019-09-24 14:07:02.711253\n",
      "-------------------------\n",
      "La semana pasada fue:  2019-09-17 14:07:02.711253\n",
      "100 dias antes fue:  2019-06-16 14:07:02.711253\n",
      "Una semana desde ahora es:  2019-10-01 14:07:02.711253\n",
      "1000 dias desde hoy es:  2022-06-20 14:07:02.711253\n",
      "-------------------------\n",
      "Para mi cumpleaños falta  284 days, 9:52:57.288747\n",
      "-------------------------\n"
     ]
    }
   ],
   "source": [
    "import datetime\n",
    "\n",
    "now = datetime.datetime.now()\n",
    "print (\"-\" * 25)\n",
    "print (now)\n",
    "\n",
    "print ('-' * 25)\n",
    "print (\"La semana pasada fue: \", now - datetime.timedelta(weeks=1))\n",
    "print (\"100 dias antes fue: \", now - datetime.timedelta(days=100))\n",
    "print (\"Una semana desde ahora es: \",  now + datetime.timedelta(weeks=1))\n",
    "print (\"1000 dias desde hoy es: \", now + datetime.timedelta(days=1000))\n",
    "\n",
    "print (\"-\" * 25)\n",
    "birthday = datetime.datetime(2020,7,5)\n",
    "\n",
    "print (\"Para mi cumpleaños falta \", birthday - now)\n",
    "print (\"-\" * 25)"
   ]
  },
  {
   "cell_type": "markdown",
   "metadata": {},
   "source": [
    "> El snippets puede copiarse en cualquier editor de texto (ej, bloc de notas), pero siempre guardarlo con la extensión ***.py**."
   ]
  },
  {
   "cell_type": "markdown",
   "metadata": {},
   "source": [
    "El archivo anteriormente guardado con la extensión **.py**, lo podemos ejecutar desde:\n",
    "\n",
    "### Desde la terminal del sistema operativo\n",
    "\n",
    "![](../img/python_terminal.png)\n",
    "\n",
    "Ejecutando:\n",
    "\n",
    "``` bash\n",
    "python <nombre_del_archivo>.py\n",
    "```\n",
    "\n",
    "> Si la terminal no reconoce el comando, el intérprete de Python no está agregado a las variables de entorno del sistema operativo. En tal caso proceder como recomienda la siguiente [publicación](https://medium.com/@hektorprofe/tutorial-windows-10-agregar-el-python-de-anaconda-al-path-para-utilizarlo-en-la-cmd-y-powershell-72acf22901a), para agregar el intérprete a las variables de entorno del sistema operativo.\n",
    "\n",
    "### Desde IDE\n",
    "\n",
    "#### [Jupyter Lab](https://jupyterlab.readthedocs.io/en/stable/index.html)\n",
    "\n",
    "* Desde su terminal, en modo interactivo.\n",
    "\n",
    "> Se dice que estamos usando el **intérprete en modo interactivo**, cuando los comandos son leídos desde una terminal. En este modo se espera el siguiente comando con el prompt primario (prompt - mensaje, define un evento o acción), usualmente tres signos mayor-que (>>>). Antes de mostrar el prompt primario, el intérprete muestra un mensaje de bienvenida reportando su número de versión y una nota de copyright. **En nuestro caso el prompt se identifica con el numero de linea \"In [ ]\", es porque la consola invocada usa [IPython](https://ipython.org/ipython-doc/stable/interactive/reference.html#gui-event-loop-support).**\n",
    "\n",
    "* Desde la consola del intérprete.\n",
    "* Desde un notebook.\n",
    "* Desde el editor de texto.\n",
    "\n",
    "#### [Spyder](https://www.spyder-ide.org/) \n",
    "IDE con caracteristicas similares a MATLAB.\n",
    "\n",
    "#### [Sublime Text](https://www.sublimetext.com/) \n",
    "\n",
    "Un IDE muy simple pero no por eso menos potente, no es solo para Python. Para trabajar con Python hay que [configurarlo previamente](http://damnwidget.github.io/anaconda/) o una [configuración más especifica](https://realpython.com/setting-up-sublime-text-3-for-full-stack-python-development/).\n",
    "\n",
    "#### [Visual Studio Code](https://code.visualstudio.com/)\n",
    "Para trabajar con Python hay que [configurarlo previamente](https://code.visualstudio.com/docs/languages/pythonhttps://code.visualstudio.com/docs/languages/python)"
   ]
  },
  {
   "cell_type": "markdown",
   "metadata": {
    "colab_type": "text",
    "id": "CptqqFUmnD-Q"
   },
   "source": [
    "## Referencias usadas en el notebook\n",
    "\n",
    "* Yossi Farjoun. RES.18-002 Introduction to MATLAB. Massachusetts Institute of Technology: MIT OpenCourseWare. Disponible en: https://ocw.mit.edu. License: Creative Commons BY-NC-SA. Spring 2008.\n",
    "* Julio Liarte. Escuela de Informáticos. Cómo elegir tu primer lenguaje de programación. Disponible en: http://escueladeinformaticos.com/elegir-primer-lenguaje-de-programacion. 2016.\n",
    "* Kamen, Edward W., and Bonnie S. Heck. Fundamentos de señales y sistemas usando la Web y Matlab. Pearson Prentice-Hall, 2008.\n",
    "* Holly Moore. MATLAB para ingenieros. Pearson, 2007.\n",
    "* Giannakopoulos, Theodoros, and Aggelos Pikrakis. Introduction to Audio Analysis: A MATLAB® Approach. Academic Press, 2014.\n",
    "* Mat.caminos.upm.es. Lenguaje de programación - MateWiki. Disponible en:  https://mat.caminos.upm.es/wiki/Lenguaje_de_programaci%C3%B3n#Tipado_est.C3.A1tico_y_din.C3.A1mico. Universidad Politécnica de Madrid. 2017.\n",
    "* M. Jesús Marco Galindo, Josep Vilaplana Pastó. Introducción a la programación. Universitat Oberta de Catalunya. pp 1-16, 2010.\n",
    "* G. Van Rossum. El tutorial de Python. PyAr, disponible en: http://docs.python.org.ar/tutorial/\n",
    "* Villalobos J., Casallas R., \"Fundamentos de Programación\". Universidad de los Andes, Facultad de Ingeniería, Departamento de Ingeniería de Sistemas y Computación. Disponible en: https://universidad-de-los-andes.gitbooks.io/fundamentos-de-programacion/"
   ]
  },
  {
   "cell_type": "markdown",
   "metadata": {},
   "source": [
    "## Licencia\n",
    "\n",
    "<a rel=\"license\" href=\"http://creativecommons.org/licenses/by-sa/4.0/\"><img alt=\"Licencia de Creative Commons\" style=\"border-width:0\" src=\"https://i.creativecommons.org/l/by-sa/4.0/88x31.png\" /></a><br />Este documento se destribuye con una <a rel=\"license\" href=\"http://creativecommons.org/licenses/by-sa/4.0/\">licencia Atribución CompartirIgual 4.0 Internacional de Creative Commons</a>.\n",
    "\n",
    "Material adaptado del curso [Introducción a Python](https://github.com/infiniemlabs-acustica/python_introduccion)\n",
    "\n",
    "© 2020. Infiniem Labs Acústica. infiniemlab.dsp@gmail.com (CC BY-SA 4.0))"
   ]
  }
 ],
 "metadata": {
  "colab": {
   "default_view": {},
   "name": "10_introduccion.ipynb",
   "provenance": [],
   "version": "0.3.2",
   "views": {}
  },
  "kernelspec": {
   "display_name": "Python 3",
   "language": "python",
   "name": "python3"
  },
  "language_info": {
   "codemirror_mode": {
    "name": "ipython",
    "version": 3
   },
   "file_extension": ".py",
   "mimetype": "text/x-python",
   "name": "python",
   "nbconvert_exporter": "python",
   "pygments_lexer": "ipython3",
   "version": "3.8.10"
  }
 },
 "nbformat": 4,
 "nbformat_minor": 4
}
