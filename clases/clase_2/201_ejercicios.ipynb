{
 "cells": [
  {
   "cell_type": "markdown",
   "metadata": {
    "slideshow": {
     "slide_type": "-"
    }
   },
   "source": [
    "# Ejercicios Propuestos "
   ]
  },
  {
   "cell_type": "markdown",
   "metadata": {
    "slideshow": {
     "slide_type": "-"
    }
   },
   "source": [
    "**1.** realizar los siguientes cálculos utilizando la consola de python:\n",
    "\n",
    "* $((5^3+3/4)+\\sqrt{3})^{1/3}=5.032...$ \n",
    "\n",
    "* $\\frac{1}{\\frac{2}{(0.3)^1/3}*21}=0.0159....$"
   ]
  },
  {
   "cell_type": "code",
   "execution_count": null,
   "metadata": {},
   "outputs": [],
   "source": []
  },
  {
   "cell_type": "markdown",
   "metadata": {
    "slideshow": {
     "slide_type": "-"
    }
   },
   "source": [
    "**2.** Las ecuación que define la caída libre de un cuerpo, sin considerar las fuerzas de rozamiento, es la siguiente:\n",
    "\n",
    "\\begin{equation}\n",
    "    x = 0.5 \\cdot g \\cdot t^2\n",
    "\\end{equation}\n",
    "\\begin{equation}\n",
    "    v = g \\cdot t\n",
    "\\end{equation}\n",
    "\n",
    "Donde $g = 9,8 m/s^2$ es la fuerza de gravedad, $x$ es la distancia recorrida, $v$ es la velocidad instantánea y $t$ es el tiempo transcurrido.\n",
    "Calculemos el valor de $x$ y $v$ para un instante de tiempo $t=2$ segundos. \n",
    "\n",
    "Primero pensemos, ¿cuántas variables tengo que definir? ¿De qué tipo serán? A su vez tratemos de comentar todos los pasos que estamos desarrollando en nuestro código."
   ]
  },
  {
   "cell_type": "code",
   "execution_count": null,
   "metadata": {},
   "outputs": [],
   "source": []
  },
  {
   "cell_type": "markdown",
   "metadata": {},
   "source": [
    "**3.** En el punto anterior hemos hecho los pasos para calcular el valor de $x$ y de $y$. Si queremos que el programa nos devuelva sus valores, podemos usar `print`. Tratemos de obtener el siguiente mensaje de salida a partir del uso de este comando:\n",
    "\n",
    "*La distancia recorrida tras 2 segundos es de 19.6  metros*\n",
    "\n",
    "*La velocidad instantánea a los 2 segundos es de  9.6 m/s*\n"
   ]
  },
  {
   "cell_type": "code",
   "execution_count": null,
   "metadata": {},
   "outputs": [],
   "source": []
  },
  {
   "cell_type": "markdown",
   "metadata": {},
   "source": [
    "**4.** Desarrollar un programa que permita ingresar  dos números enteros A y B a través del teclado. Imprima su suma, su diferencia , su cociente."
   ]
  },
  {
   "cell_type": "code",
   "execution_count": null,
   "metadata": {},
   "outputs": [],
   "source": []
  },
  {
   "cell_type": "markdown",
   "metadata": {},
   "source": [
    "**5.** Ingresar la longitud del radio de un círculo. Calcular e imprimir:\n",
    "* La superficie del círculo Sup = pi * r ^2\n",
    "* El perímetro de la circunferencia Per = pi * diámetro\n",
    "* La superficie de la esfera                   Sup = 4 * pi * r ^ 2\n",
    "* El volumen de la esfera                     Vol = 4/3 * pi * r ^3\n",
    "\n",
    "**Nota1:** importar la libreria math.\n",
    "\n",
    "**Nota2:** para limitar la cantidad de decimales a mostrar usar `.format`. (Ej:`print(\"{:.20f}\".format(10/3))`)"
   ]
  },
  {
   "cell_type": "code",
   "execution_count": null,
   "metadata": {},
   "outputs": [],
   "source": []
  },
  {
   "cell_type": "markdown",
   "metadata": {},
   "source": [
    "**6.** Realizar un programa que permita ingresar la edad de una persona en años y la conviertaa días. Imprimir el resultado. Considerar que todos los años tienen 365 días."
   ]
  },
  {
   "cell_type": "code",
   "execution_count": null,
   "metadata": {},
   "outputs": [],
   "source": []
  },
  {
   "cell_type": "markdown",
   "metadata": {},
   "source": [
    "**7.** Ingresar 3 números enteros. Calcular su promedio y mostrarlo por pantalla."
   ]
  },
  {
   "cell_type": "code",
   "execution_count": null,
   "metadata": {},
   "outputs": [],
   "source": []
  },
  {
   "cell_type": "markdown",
   "metadata": {},
   "source": [
    "**8.** Una inmobiliaria paga a sus vendedores un salario de 800, más una comisión de 50 por cada venta realizada más el 5% de valor de esas ventas. Realizar un programa queimprima el número del vendedor y el salario que le corresponde en un determinado mes. Seleen el número del vendedor, la cantidad de ventas que realizó y el valor total de lasmismas."
   ]
  },
  {
   "cell_type": "code",
   "execution_count": null,
   "metadata": {},
   "outputs": [],
   "source": []
  }
 ],
 "metadata": {
  "kernelspec": {
   "display_name": "Python 3",
   "language": "python",
   "name": "python3"
  },
  "language_info": {
   "codemirror_mode": {
    "name": "ipython",
    "version": 3
   },
   "file_extension": ".py",
   "mimetype": "text/x-python",
   "name": "python",
   "nbconvert_exporter": "python",
   "pygments_lexer": "ipython3",
   "version": "3.6.9"
  }
 },
 "nbformat": 4,
 "nbformat_minor": 4
}
