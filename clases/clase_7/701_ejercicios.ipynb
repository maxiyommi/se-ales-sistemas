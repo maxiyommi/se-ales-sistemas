{
 "cells": [
  {
   "cell_type": "markdown",
   "metadata": {},
   "source": [
    "## Ejercicios"
   ]
  },
  {
   "cell_type": "markdown",
   "metadata": {},
   "source": [
    "Resolver el ejercicio n°2, 3,  5, 6, 7 y 8.\n",
    "\n",
    "Ejemplo, en el ejercicio n°5, determine si el sistema definido por la transformación T es lineal.\n",
    "\n",
    "$$y[n]=t\\lbrace x[n] \\rbrace = \\frac{1}{3} \\lbrace x[n+1] + x[n] + x[n-1] \\rbrace$$"
   ]
  },
  {
   "cell_type": "code",
   "execution_count": null,
   "metadata": {},
   "outputs": [],
   "source": []
  }
 ],
 "metadata": {
  "kernelspec": {
   "display_name": "Python 3",
   "language": "python",
   "name": "python3"
  },
  "language_info": {
   "codemirror_mode": {
    "name": "ipython",
    "version": 3
   },
   "file_extension": ".py",
   "mimetype": "text/x-python",
   "name": "python",
   "nbconvert_exporter": "python",
   "pygments_lexer": "ipython3",
   "version": "3.8.10"
  }
 },
 "nbformat": 4,
 "nbformat_minor": 4
}
