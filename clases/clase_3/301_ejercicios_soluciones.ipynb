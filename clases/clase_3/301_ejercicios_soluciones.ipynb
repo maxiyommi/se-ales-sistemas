{
 "cells": [
  {
   "cell_type": "markdown",
   "metadata": {
    "slideshow": {
     "slide_type": "-"
    }
   },
   "source": [
    "# Ejercicios Propuestos (soluciones)"
   ]
  },
  {
   "cell_type": "markdown",
   "metadata": {},
   "source": [
    "**1.** Desarrollar un programa que imprima los números impares comprendidos entre 1 y 100"
   ]
  },
  {
   "cell_type": "code",
   "execution_count": 3,
   "metadata": {},
   "outputs": [
    {
     "name": "stdout",
     "output_type": "stream",
     "text": [
      "[2, 4, 6, 8, 10, 12, 14, 16, 18, 20, 22, 24, 26, 28, 30, 32, 34, 36, 38, 40, 42, 44, 46, 48, 50, 52, 54, 56, 58, 60, 62, 64, 66, 68, 70, 72, 74, 76, 78, 80, 82, 84, 86, 88, 90, 92, 94, 96, 98, 100]\n"
     ]
    }
   ],
   "source": [
    "lista = []\n",
    "for i in range (100):\n",
    "    if (i+1)%2 == 0:\n",
    "        lista.append (i+1)    \n",
    "print(lista)"
   ]
  },
  {
   "cell_type": "markdown",
   "metadata": {},
   "source": [
    "**2.** Leer diez números enteros e imprimir el mayor."
   ]
  },
  {
   "cell_type": "code",
   "execution_count": null,
   "metadata": {},
   "outputs": [],
   "source": [
    "ingresos = []\n",
    "for i in range(3):\n",
    "    ingresos.append (int(input(\"Ingrese un número: \")))\n",
    "\n",
    "print(\"El max valor ingresado es: \",max(ingresos)) "
   ]
  },
  {
   "cell_type": "markdown",
   "metadata": {},
   "source": [
    "**3.** Leer dos números A y B enteros positivos. Calcular el producto A * B por sumas sucesivase imprimir el resultado. Ejemplo: $4 * 3 = 4 + 4 + 4$ (4 sumado 3 veces)."
   ]
  },
  {
   "cell_type": "code",
   "execution_count": null,
   "metadata": {},
   "outputs": [],
   "source": [
    "input_1 = int(input(\"Ingrese un numero\"))\n",
    "input_2 = int(input(\"Ingrese oto numero\"))\n",
    "\n",
    "salida = 0\n",
    "\n",
    "for i in range(input_2):\n",
    "    salida += input_1\n",
    "print (salida)"
   ]
  },
  {
   "cell_type": "markdown",
   "metadata": {},
   "source": [
    "**4.** Leer diez números e imprimir el menor de ellos, indicando además el número de orden conque fue leído."
   ]
  },
  {
   "cell_type": "code",
   "execution_count": null,
   "metadata": {},
   "outputs": [],
   "source": [
    "ingresos = []\n",
    "for i in range(3):\n",
    "    ingresos.append (int(input(\"Ingrese un número: \")))\n",
    "\n",
    "print(\"El minimo valor ingresado es \",min(ingresos), \", ingresado en la posición \", ingresos.index(min(ingresos))+1)"
   ]
  },
  {
   "cell_type": "markdown",
   "metadata": {},
   "source": [
    "**5.** Escribir un programa que imprima los múltiplos de 7 hasta el 3000."
   ]
  },
  {
   "cell_type": "code",
   "execution_count": null,
   "metadata": {},
   "outputs": [],
   "source": [
    "multi = 0\n",
    "i = 0\n",
    "while multi < 3000:\n",
    "    multi = 7*i \n",
    "    if multi > 3000:\n",
    "        break\n",
    "    else:\n",
    "        print (multi)\n",
    "        i += 1 "
   ]
  },
  {
   "cell_type": "markdown",
   "metadata": {},
   "source": [
    "**6.** Leer diez números e imprimir el mayor, el menor y el rango del conjunto (El rango de unconjunto se calcula restando el mayor menos el menor)."
   ]
  },
  {
   "cell_type": "code",
   "execution_count": null,
   "metadata": {},
   "outputs": [],
   "source": [
    "ingresos = []\n",
    "for i in range(3):\n",
    "    ingresos.append (int(input(\"Ingrese un número: \")))\n",
    "print(\"El maximo número ingresado es: \", max(ingresos))\n",
    "print(\"El minimo número ingresado es: \", min(ingresos))\n",
    "print(\"El rango del conjunto es: \", max(ingresos)-min(ingresos))"
   ]
  },
  {
   "cell_type": "markdown",
   "metadata": {},
   "source": [
    "**7.** El factorial de un número entero $N$ mayor que cero se define como el producto detodos los enteros $X$ tales que $ 0<X\\leq N$. Desarrollar un programa para calcular el factorial de un número dado. Deberán rechazarse las entradas inválidas ($<0$)."
   ]
  },
  {
   "cell_type": "code",
   "execution_count": null,
   "metadata": {},
   "outputs": [],
   "source": [
    "ingreso = int(input(\"Ingrese un número: \"))\n",
    "salida = 1\n",
    "if ingreso < 0:\n",
    "    print(\"Entrada invalida.\")\n",
    "    pass\n",
    "else:\n",
    "    for i in range(ingreso):\n",
    "        salida *= i+1\n",
    "    print(salida)"
   ]
  }
 ],
 "metadata": {
  "kernelspec": {
   "display_name": "Python 3",
   "language": "python",
   "name": "python3"
  },
  "language_info": {
   "codemirror_mode": {
    "name": "ipython",
    "version": 3
   },
   "file_extension": ".py",
   "mimetype": "text/x-python",
   "name": "python",
   "nbconvert_exporter": "python",
   "pygments_lexer": "ipython3",
   "version": "3.8.10"
  }
 },
 "nbformat": 4,
 "nbformat_minor": 4
}
