{
 "cells": [
  {
   "cell_type": "markdown",
   "metadata": {},
   "source": [
    "## Ejercicios Resueltos"
   ]
  },
  {
   "cell_type": "markdown",
   "metadata": {},
   "source": [
    "**1.** El factorial de un entero positivo $n$, se define en principio como el producto de todos los números enteros positivos desde 1 (es decir, los números naturales) hasta $n$. Por ejemplo: \n",
    "$$5! = 1*2*3*4*5=120$$\n",
    "Escribir una función que devuelva el factorial de un número $n$"
   ]
  },
  {
   "cell_type": "code",
   "execution_count": 1,
   "metadata": {},
   "outputs": [
    {
     "name": "stdout",
     "output_type": "stream",
     "text": [
      "2\n"
     ]
    }
   ],
   "source": [
    "def fact(n):\n",
    "    \"\"\"Devuelve el factorial de un número\"\"\"\n",
    "    \n",
    "    r = 1\n",
    "    while n > 0:\n",
    "        r *= n\n",
    "        n -= 1\n",
    "    return r\n",
    "\n",
    "r = fact(2)\n",
    "print(r)"
   ]
  },
  {
   "cell_type": "markdown",
   "metadata": {},
   "source": [
    "**2.** Definir una función para pasar de Celsius a Kelvin."
   ]
  },
  {
   "cell_type": "code",
   "execution_count": null,
   "metadata": {},
   "outputs": [],
   "source": [
    "def celsius_kelvin(temp):\n",
    "    return temp + 273.15\n",
    "\n",
    "k = celsius_kelvin(22)\n",
    "print (k)"
   ]
  },
  {
   "cell_type": "markdown",
   "metadata": {},
   "source": [
    "**3.**Escribir una función que, dado un número de DNI, retorne True si el número es válido y False si no lo es. Para que un número de DNI sea válido debe tener entre 7 y 8 dígitos."
   ]
  },
  {
   "cell_type": "code",
   "execution_count": 17,
   "metadata": {},
   "outputs": [
    {
     "name": "stdin",
     "output_type": "stream",
     "text": [
      "Ingrese su numero de DNI, sin puntos ni comas:  12\n"
     ]
    },
    {
     "name": "stdout",
     "output_type": "stream",
     "text": [
      "2\n",
      "DNI no valido\n"
     ]
    },
    {
     "name": "stdin",
     "output_type": "stream",
     "text": [
      "Ingrese su numero de DNI, sin puntos ni comas:  2334\n"
     ]
    },
    {
     "name": "stdout",
     "output_type": "stream",
     "text": [
      "DNI no valido\n"
     ]
    },
    {
     "name": "stdin",
     "output_type": "stream",
     "text": [
      "Ingrese su numero de DNI, sin puntos ni comas:  223132132\n"
     ]
    },
    {
     "name": "stdout",
     "output_type": "stream",
     "text": [
      "DNI no valido\n"
     ]
    },
    {
     "name": "stdin",
     "output_type": "stream",
     "text": [
      "Ingrese su numero de DNI, sin puntos ni comas:  1234567\n"
     ]
    }
   ],
   "source": [
    "def doc():\n",
    "    dni = int(input(\"Ingrese su numero de DNI, sin puntos ni comas: \"))\n",
    "    print(len(str(dni)))\n",
    "    while len(str((dni)))< 7 or len(str((dni)))> 8:\n",
    "        print (\"DNI no valido\")\n",
    "        dni = int(input(\"Ingrese su numero de DNI, sin puntos ni comas: \"))\n",
    "        \n",
    "doc()"
   ]
  },
  {
   "cell_type": "markdown",
   "metadata": {},
   "source": [
    "**4.** Una empresa cuenta con 100 empleados, divididos en tres categorías A, B y C. Por cada empleado se lee su legajo, categoría y salario. Se solicita elaborar un informe que contenga:\n",
    "\n",
    "* Importe total de salarios pagados por la empresa. \n",
    "* Cantidad de empleados que ganan más de 20000. \n",
    "* Cantidad de empleados que ganan menos de 5000, cuya categoría sea “C”. \n",
    "* Legajo del empleado que más gana.\n",
    "* Sueldo más bajo.\n",
    "* Importe total de sueldos porcada categoría. \n",
    "* Salario promedio."
   ]
  },
  {
   "cell_type": "code",
   "execution_count": null,
   "metadata": {},
   "outputs": [],
   "source": [
    "def ingreso_empleados():\n",
    "    empleados = {}\n",
    "    for i in range(2):\n",
    "        legajo = int(input(\"Ingrese el legajo del empleado: \"))\n",
    "        categoria = input(\"Ingrese la categoria: \")\n",
    "        salario = float(input(\"Ingrese el salario: \"))\n",
    "        empleados[legajo] = [categoria, salario]\n",
    "    #print (empleados)    \n",
    "    return empleados\n",
    "\n",
    "def importe_total(empleados):\n",
    "    suma = 0\n",
    "    for n in empleados:\n",
    "        suma += empleados[n][1]\n",
    "    #print (\"Importe total de salarios pagados por la empresa es: $\", suma)\n",
    "    return suma\n",
    "\n",
    "def ganan_mas(empleados):\n",
    "    cant = 0\n",
    "    for n in empleados:\n",
    "        if empleados[n][1] > 20000:\n",
    "            cant += 1\n",
    "        else:\n",
    "            pass\n",
    "    #print (\"La cantidad de empleados que ganan más de 20000 es: \", cant)\n",
    "\n",
    "def ganan_menos(empleados):\n",
    "    cant = 0\n",
    "    for n in empleados:\n",
    "        if empleados[n][1] < 5000 and (empleados[n][0] == 'C' or empleados[n][0] == 'c'):\n",
    "            cant += 1\n",
    "        else:\n",
    "            pass\n",
    "    #print (\"La cantidad de empleados que ganan menos de 5000, cuya categoría sea “C” es: \", cant)\n",
    "    \n",
    "def ganan_max(empleados):\n",
    "    lista = []\n",
    "    for n in empleados:\n",
    "        lista.append(empleados[n][1])\n",
    "    #print (\"Legajo del empleado que más gana es: \", max(lista))\n",
    "\n",
    "def sueldo_menor(empleados):\n",
    "    lista = []\n",
    "    for n in empleados:\n",
    "        lista.append(empleados[n][1])\n",
    "    #print (\"El sueldo más bajo es: $\", lista.index(max(lista))+1)\n",
    "\n",
    "def sueldo_categoria(empleados):\n",
    "    lista_A = []\n",
    "    lista_B = []\n",
    "    lista_C = []\n",
    "    for n in empleados:\n",
    "        if empleados[n][0] == 'A' or empleados[n][0] == 'a':\n",
    "            lista_A.append(empleados[n][1])\n",
    "        elif empleados[n][0] == 'B' or empleados[n][0] == 'b':\n",
    "            lista_B.append(empleados[n][1])\n",
    "        elif empleados[n][0] == 'C' or empleados[n][0] == 'c':\n",
    "            lista_C.append(empleados[n][1])\n",
    "    #print (\"Importe total de sueldos por cada categoría es --> A:\", sum(lista_A), \" B:\", sum(lista_B), \" C:\", sum(lista_C))\n",
    "\n",
    "def sueldo_promedio(empleados):\n",
    "    total = importe_total(empleados)\n",
    "    print(\"El salario promedio de la empresa es: $\", total/len(empleados.keys()))\n",
    "   \n",
    "    \n",
    "if __name__ == \"__main__\":\n",
    "    #empleados = ingreso_empleados()\n",
    "    empleados = {1:['A',123000] , 2:['a',13000000] , 3:['B',13000000] , 4:['c',13000000]}\n",
    "    sueldo_promedio(empleados)"
   ]
  },
  {
   "cell_type": "markdown",
   "metadata": {},
   "source": [
    "**5.** Rellenar una lista con números enteros entre 0 y 100 obtenidos al azar e imprimir el valor mínimo y el lugar que ocupa. Tener en cuenta que el mínimo puede estarrepetido, en cuyo caso deberán mostrarse todas las posiciones que ocupe. La carga de datos termina cuando se obtenga un 0 como número al azar, el que no deberá cargarse enla lista."
   ]
  },
  {
   "cell_type": "code",
   "execution_count": null,
   "metadata": {},
   "outputs": [],
   "source": [
    "import random\n",
    "\n",
    "def listaAleatorios():\n",
    "    lista = []\n",
    "    while True:\n",
    "        numero = random.randint(0, 100)\n",
    "        if numero == 0:\n",
    "            break\n",
    "        else:\n",
    "            lista.append(numero)\n",
    "    return lista\n",
    "\n",
    "def buscar_posicion(lista):\n",
    "    minimo = min(lista)\n",
    "    index = []\n",
    "    for n in range(len(lista)):\n",
    "        if lista[n] == minimo:\n",
    "            index.append(n)\n",
    "        else:\n",
    "            pass  \n",
    "    return (minimo,index)\n",
    "\n",
    "lista = listaAleatorios()\n",
    "[minimo,index] = buscar_posicion(lista)\n",
    "print(\"El minimo valor es: \", minimo, \" y se ubica en:\", index)"
   ]
  },
  {
   "cell_type": "markdown",
   "metadata": {},
   "source": [
    "**6.** Dado una lista de N números (por ejemplo 5), devolver una lista de N-1 valores booleanos,tal que cada valor de este último arreglo corresponde al resultado de la comparación de los pares de valores consecutivos del primer arreglo. El valor booleano es True si el primer elemento del par es menor o igual que el siguiente, y False si no lo es. \n",
    "Ejemplo:\n",
    "* Lista original: 4 2 8 8 6\n",
    "* Resultado: F T T F"
   ]
  },
  {
   "cell_type": "code",
   "execution_count": null,
   "metadata": {},
   "outputs": [],
   "source": [
    "def ingresar():\n",
    "    ingreso = []\n",
    "    for i in range(5):\n",
    "        ingreso.append(int(input(\"Ingrese un número: \")))\n",
    "    #print (ingreso)    \n",
    "    return ingreso\n",
    "\n",
    "def comparacion(ingreso):\n",
    "    resultado = []\n",
    "    for i in range(len(ingreso)-1):\n",
    "        if ingreso[i] <= ingreso[i+1]:\n",
    "            resultado.append('T')\n",
    "        else:\n",
    "            resultado.append('F')\n",
    "    return resultado\n",
    "            \n",
    "if __name__ == \"__main__\":\n",
    "    ingreso = ingresar()\n",
    "    resultado = comparacion(ingreso)\n",
    "    print ('Lista original: ', ingreso)\n",
    "    print ('Resultado: ', resultado)"
   ]
  },
  {
   "cell_type": "markdown",
   "metadata": {},
   "source": [
    "**7.** Desarrollar un programa que genere un número entero al azar de cuatro cifras y proponerle al usuario que lo descubra, ingresando valores repetidamente hasta hallarlo. En cada intento el programa mostrará mensajes indicando si el número ingresado es mayor o menor\n",
    "que el valor secreto. Permitir que el usuario abandone al ingresar -1. Informar la cantidad de intentos realizada al terminar el juego, haciendo que el usuario ingrese su nombre si mejoró la mejor marca de intentos obtenida hasta el momento. Luego mostrar la lista de los 5 mejores puntajes y preguntar si se desea jugar otra vez, reiniciando el juego en casoa firmativo."
   ]
  },
  {
   "cell_type": "code",
   "execution_count": null,
   "metadata": {},
   "outputs": [],
   "source": [
    "import random\n",
    "import pandas as pd\n",
    "\n",
    "def generador():\n",
    "    numero = random.randint(0, 9999)\n",
    "    #print(numero)\n",
    "    return numero\n",
    "\n",
    "def score(intentos):\n",
    "    nombre = input('Ingresa tu nombre para almacenar tu puntaje: ') \n",
    "    data = {\"Nombre\":[nombre], \"Intentos\":[intentos]}\n",
    "    df_actual = pd.DataFrame(data)\n",
    "    df_almacenado = pd.read_csv('/home/maxi/Dropbox/Proyectos Git/Python/Cursos/curso_python_UTN/repo_personal/clase_2/score.csv')   \n",
    "    df_almacenado = df_almacenado.append(df_actual, ignore_index = True)\n",
    "    df_almacenado = df_almacenado.sort_values(by='Intentos', ascending = True)\n",
    "    df_almacenado.to_csv('/home/maxi/Dropbox/Proyectos Git/Python/Cursos/curso_python_UTN/repo_personal/clase_2/score.csv', index=False)\n",
    "\n",
    "def limpiar_score():\n",
    "    data = {\"Nombre\":[], \"Intentos\":[]}\n",
    "    df_actual = pd.DataFrame(data)\n",
    "    df_actual.to_csv('/home/maxi/Dropbox/Proyectos Git/Python/Cursos/curso_python_UTN/repo_personal/clase_2/score.csv', index=False)\n",
    "\n",
    "def pruebas(numero):\n",
    "    intentos = 0\n",
    "    usuario = 0\n",
    "    while usuario != -1:\n",
    "        usuario = int(input(\"Ingresa un número entero de hasta cuatro cifras: \"))\n",
    "        if numero == usuario:\n",
    "            print('Acertaste!')\n",
    "            score(intentos)\n",
    "            #usuario = -1\n",
    "            break\n",
    "        elif numero > usuario:\n",
    "            print('El número es mayor al ingresado')\n",
    "            intentos += 1\n",
    "        else:\n",
    "            print('El número es menor al ingresado')\n",
    "            intentos += 1\n",
    "            \n",
    "if __name__ == \"__main__\":\n",
    "    #limpiar_score()\n",
    "    numero = generador()\n",
    "    pruebas(numero)"
   ]
  },
  {
   "cell_type": "markdown",
   "metadata": {},
   "source": [
    "**8.** Cargar dos listas de números A y B. Se solicita construir e imprimir tres nuevas listas C, D y E que contengan:\n",
    "* La concatenación de los valores pares de A con los impares de B.\n",
    "* La concatenación de los valores pares de A con el reverso de los valores pares de B. (\"valores pares\" o \"valores impares\" se refiere a los elementos propiamente dichos y no a sus posiciones). \n",
    "* La intercalación de los elementos de A y B."
   ]
  },
  {
   "cell_type": "code",
   "execution_count": null,
   "metadata": {},
   "outputs": [],
   "source": [
    "def ingresar_lista():\n",
    "    lista = []\n",
    "    for i in range (5):\n",
    "        lista.append(int(input(\"Ingrese un número: \")))   \n",
    "    return lista\n",
    "\n",
    "def pares_impares(lista):\n",
    "    pares = []\n",
    "    impares = []\n",
    "    for i in range(len(lista)):\n",
    "        if lista[i]%2 == 0:\n",
    "            pares.append(lista[i])\n",
    "        else:\n",
    "            impares.append(lista[i])\n",
    "    return pares,impares\n",
    "\n",
    "def lista_E(lista_A, lista_B):\n",
    "    lista_E = []\n",
    "    for i in range(len(lista_A)):\n",
    "        lista_E.append(lista_A[i])\n",
    "        lista_E.append(lista_B[i])\n",
    "    return lista_E\n",
    "        \n",
    "if __name__ == '__main__':\n",
    "    lista_A = ingresar_lista()\n",
    "    print(lista_A)\n",
    "    lista_B = ingresar_lista()\n",
    "    print(lista_B)\n",
    "    [pares_A, impares_A] = pares_impares(lista_A)\n",
    "    [pares_B, impares_B] = pares_impares(lista_B)\n",
    "    lista_C = pares_A + impares_B\n",
    "    print(lista_C)\n",
    "    lista_D = pares_A + pares_B\n",
    "    print(lista_D)\n",
    "    lista_E = lista_E(lista_A, lista_B)\n",
    "    print(lista_E)"
   ]
  },
  {
   "cell_type": "markdown",
   "metadata": {},
   "source": [
    "**9.** Ingresar por teclado un número N y construir una lista llamada SECUENCIAS con números enteros al azar entre 1 y 20. Esta lista se caracterizará porque sus valores deben encontrarse divididos en secuencias de números separadas por ceros, cuya suma no sea mayor que 20. Para eso se deberá agregar un elemento de valor 0 a fin de separar cada secuencia de la siguiente, cuidando que ninguna secuencia sume más de 20. Agregar un 0 adicional al final de la lista y mostrar la lista obtenida por pantalla. \n",
    "Ejemplo: \n",
    "* Valor de N ingresado: 11 \n",
    "* Números al azar generados: 5, 2, 9, 6, 4, 15, 3, 19, 12, 1, 5\n",
    "* Lista SECUENCIAS construida: 5 2 9 0 6 4 0 15 3 0 19 0 12 1 5 0"
   ]
  },
  {
   "cell_type": "code",
   "execution_count": 55,
   "metadata": {},
   "outputs": [
    {
     "name": "stdin",
     "output_type": "stream",
     "text": [
      "Ingrese un número:  5\n"
     ]
    },
    {
     "name": "stdout",
     "output_type": "stream",
     "text": [
      "[12, 12, 4, 18, 20]\n",
      "[[12], 0, [12, 12], 0, [12, 12, 4], 0]\n"
     ]
    }
   ],
   "source": [
    "import random\n",
    "\n",
    "def generador(numero):\n",
    "    secuencia = []\n",
    "    for i in range(numero):\n",
    "        secuencia.append(random.randint(1, 20))\n",
    "    return secuencia\n",
    "\n",
    "def secuencia(lista):\n",
    "    acumulador = 0\n",
    "    secuencia = []\n",
    "    for i in range(len(lista)):\n",
    "        acumulador = sum(lista[0:i])\n",
    "        if acumulador > 20:\n",
    "            secuencia.append(lista[0:i-1])\n",
    "            secuencia.append(0)\n",
    "    return secuencia\n",
    "\n",
    "if __name__ == '__main__':\n",
    "    numero = int(input(\"Ingrese un número: \"))\n",
    "    lista = generador(numero)\n",
    "    secuencia = secuencia(lista)\n",
    "    print(lista)\n",
    "    print(secuencia)"
   ]
  }
 ],
 "metadata": {
  "kernelspec": {
   "display_name": "Python 3",
   "language": "python",
   "name": "python3"
  },
  "language_info": {
   "codemirror_mode": {
    "name": "ipython",
    "version": 3
   },
   "file_extension": ".py",
   "mimetype": "text/x-python",
   "name": "python",
   "nbconvert_exporter": "python",
   "pygments_lexer": "ipython3",
   "version": "3.7.0"
  }
 },
 "nbformat": 4,
 "nbformat_minor": 4
}
