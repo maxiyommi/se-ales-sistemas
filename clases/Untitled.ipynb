{
 "cells": [
  {
   "cell_type": "code",
   "execution_count": 4,
   "id": "mediterranean-romania",
   "metadata": {},
   "outputs": [
    {
     "name": "stdout",
     "output_type": "stream",
     "text": [
      "Esperar\n"
     ]
    }
   ],
   "source": [
    "# Si el semáforo esta en verde, cruzar la calle. Sino, esperar.\n",
    "\n",
    "semaforo = \"rojo\"\n",
    "\n",
    "if (semaforo == \"verde\"):\n",
    "    print (\"Cruzar la calle\")\n",
    "else: \n",
    "    print (\"Esperar\")"
   ]
  },
  {
   "cell_type": "code",
   "execution_count": 10,
   "id": "literary-cleveland",
   "metadata": {},
   "outputs": [
    {
     "name": "stdout",
     "output_type": "stream",
     "text": [
      "Pago en efectivo\n"
     ]
    }
   ],
   "source": [
    "'''\n",
    "Si gasto hasta $100, pago con dinero en efectivo. \n",
    "Si no, si gasto más de $100 pero menos de $300, pago con tarjeta de débito. \n",
    "Si no, pago con tarjeta de crédito.\n",
    "'''\n",
    "compra = 50 \n",
    "\n",
    "if compra<=100 : # completar! \n",
    "    print (\"Pago en efectivo\")\n",
    "    \n",
    "elif compra<300 : # completar!  \n",
    "    print (\"Pago con tarjeta de débito\") \n",
    "    \n",
    "else: \n",
    "    print (\"Pago con tarjeta de crédito\")"
   ]
  },
  {
   "cell_type": "code",
   "execution_count": null,
   "id": "introductory-pressing",
   "metadata": {},
   "outputs": [],
   "source": []
  }
 ],
 "metadata": {
  "kernelspec": {
   "display_name": "Python 3",
   "language": "python",
   "name": "python3"
  },
  "language_info": {
   "codemirror_mode": {
    "name": "ipython",
    "version": 3
   },
   "file_extension": ".py",
   "mimetype": "text/x-python",
   "name": "python",
   "nbconvert_exporter": "python",
   "pygments_lexer": "ipython3",
   "version": "3.6.9"
  }
 },
 "nbformat": 4,
 "nbformat_minor": 5
}
