{
 "cells": [
  {
   "cell_type": "markdown",
   "metadata": {},
   "source": []
  },
  {
   "cell_type": "markdown",
   "metadata": {},
   "source": [
    "## Índice\n",
    " * [Manipulación de arrays](#Manipulacion-de-arrays)\n",
    " * [Operaciones matemáticas entre arrays](#Operaciones-matematicas-entre-arrays)\n",
    " * [Broadcasting](#Broadcasting)\n",
    " * [Otras formas de crear arrays](#Otras-formas-de-crear-arrays)\n",
    " * [Aplicando funciones matemáticas](#Aplicando-funciones-matematicas)"
   ]
  },
  {
   "cell_type": "markdown",
   "metadata": {},
   "source": [
    "## Manipulacion de arrays\n",
    "\n",
    "Muchas veces necesitaremos manipular los arrays para manejar sus datos en la forma que nos resulte más conveniente a fin de realizar operaciones entre ellos, guardarlos o para otros propósitos. Numpy provee algunas funciones útiles para:\n",
    "* unir arrays: `concatenate`, `stack`, `append`\n",
    "* separar arrays: `split`\n",
    "* cambiar la forma: `reshape`"
   ]
  },
  {
   "cell_type": "code",
   "execution_count": null,
   "metadata": {},
   "outputs": [],
   "source": [
    "import numpy as np\n",
    "\n",
    "jamon = np.array([1,0,1,0], dtype = np.int8)\n",
    "queso = np.array([2,0,2,0], dtype = np.int8)\n",
    "tomate = np.array([3,0,3,0], dtype = np.int8)\n",
    "\n",
    "# uno jamon y queso\n",
    "jamon_y_queso = np.concatenate((jamon, queso))\n",
    "\n",
    "# uno queso y tomate, con función stack\n",
    "queso_y_tomate = np.stack((queso, tomate))\n",
    "\n",
    "# uno todos los arrays\n",
    "jamon_queso_tomate = np.concatenate((jamon, queso, tomate))  # completar\n",
    "\n",
    "# uno los arrays en columnas: 1° columna jamon, 2° columna queso, ...\n",
    "jamon_queso_tomate_col = np.column_stack((jamon, queso, tomate))\n",
    "\n",
    "# uno jamon y queso con la funcion append, agregando dos números al final\n",
    "jamon_queso_tomate_app = np.append((np.append(jamon, queso)),[100,-4])\n",
    "\n",
    "# separo el jamon en dos mitades\n",
    "jamon_1, jamon_2 = np.split(jamon, 2)\n",
    "\n",
    "# separo el array jamon_queso_tomate en 3 partes: una con los primeros 5 elementos, otra con \n",
    "# los siguientes 3, y otra con los restantes\n",
    "primeros_cinco, siguientes_tres,resto = np.split(jamon_queso_tomate, [5,8])\n",
    "\n",
    "# cambio la forma de jamon, queso y tomate\n",
    "jamon_queso_tomate = jamon_queso_tomate.reshape(3,4)\n",
    "\n",
    "# traspongo la matriz\n",
    "jamon_queso_tomate_tras = np.transpose(jamon_queso_tomate)\n",
    "\n",
    "# agrupo jamon, queso y tomate en forma vertical\n",
    "jamon_queso_tomate_vert = np.column_stack(np.concatenate((jamon, queso, tomate)))\n"
   ]
  },
  {
   "cell_type": "code",
   "execution_count": null,
   "metadata": {},
   "outputs": [],
   "source": [
    "# uno arrays jamon y jamon_queso_tomate y cambio la forma del array resultante para \n",
    "# que tenga dos columnas\n",
    "jjqt =   # completar (unir arrays)\n",
    "  # completar (cambio de forma)\n",
    "\n",
    "# separo el array jjqt en 4 partes iguales \n",
    "p1, p2, p3, p4 =  # completar\n",
    "\n",
    "# separo el array jjqt en 4 partes: una con los primeros 2 elementos, otra con los \n",
    "# siguientes 4, otra con 2, y una última con los restantes\n",
    "p5, p6, p7, p8 =   # completar\n",
    "\n",
    "# probar qué pasa si ponemos np.ravel(jjqt)\n",
    "misterio = \n",
    "\n",
    "print(jjqt,\"\\n\")\n",
    "print(p1,p2,p3,p4,\"\\n\")\n",
    "print(p5,p6,p7,p8,\"\\n\")\n",
    "print(misterio,\"\\n\")"
   ]
  },
  {
   "cell_type": "markdown",
   "metadata": {},
   "source": [
    "## Operaciones matematicas entre arrays\n",
    "\n",
    "Las operaciones matemáticas entre arrays se realizan **elemento a elemento**. Esto quiere decir que si sumamos dos arrays 'a' y 'b', el elemento *a[i,j]* se suma con el elemento *b[i,j]*. Por lo tanto, debemos operar entre arrays de iguales tamaños (aunque existen excepciones, las cuales veremos en el apartado ['broadcasting'](#Broadcasting)."
   ]
  },
  {
   "cell_type": "code",
   "execution_count": null,
   "metadata": {},
   "outputs": [],
   "source": [
    "a = np.array([1,2,3,1], dtype = np.uint8)\n",
    "b = np.array([2,4,2,1], dtype = np.uint8)"
   ]
  },
  {
   "cell_type": "code",
   "execution_count": null,
   "metadata": {},
   "outputs": [],
   "source": [
    "# producto por escalar\n",
    "5 * a"
   ]
  },
  {
   "cell_type": "code",
   "execution_count": null,
   "metadata": {},
   "outputs": [],
   "source": [
    "# suma de arrays (la resta es igual)\n",
    "a + b"
   ]
  },
  {
   "cell_type": "code",
   "execution_count": null,
   "metadata": {},
   "outputs": [],
   "source": [
    "# producto de arrays (elemento a elemento)\n",
    "a * b"
   ]
  },
  {
   "cell_type": "code",
   "execution_count": null,
   "metadata": {},
   "outputs": [],
   "source": [
    "# producto matricial entre arrays\n",
    "a.dot(b)"
   ]
  },
  {
   "cell_type": "code",
   "execution_count": null,
   "metadata": {},
   "outputs": [],
   "source": [
    "# cociente de arrays\n",
    "a / b"
   ]
  },
  {
   "cell_type": "code",
   "execution_count": null,
   "metadata": {},
   "outputs": [],
   "source": [
    "# potencia de arrays (?)\n",
    "a**b"
   ]
  },
  {
   "cell_type": "code",
   "execution_count": null,
   "metadata": {},
   "outputs": [],
   "source": [
    "# operación módulo\n",
    "a % b"
   ]
  },
  {
   "cell_type": "markdown",
   "metadata": {},
   "source": [
    "Tenemos una restricción en el caso de las potencias. **Los formatos enteros no admiten potencias negativas**, en esos casos debemos utilizar un formato float para el array de la base."
   ]
  },
  {
   "cell_type": "code",
   "execution_count": null,
   "metadata": {},
   "outputs": [],
   "source": [
    "# si cambio un elemento de 'b' por un número negativo...\n",
    "b.dtype = np.int8  # ahora necesitamos un formato CON signo para b\n",
    "b[3] = -1\n",
    "\n",
    "# aplicar la potencia de 'a elevado a la b' no me funciona\n",
    "a**b"
   ]
  },
  {
   "cell_type": "code",
   "execution_count": null,
   "metadata": {},
   "outputs": [],
   "source": [
    "# ahora intento de nuevo convirtiendo el formato de 'a' a un float\n",
    "a = np.array([1,2,3,1], dtype = np.float16)\n",
    "\n",
    "# y entonces...\n",
    "a**b"
   ]
  },
  {
   "cell_type": "markdown",
   "metadata": {},
   "source": [
    "# Broadcasting\n",
    "\n",
    "Sólo es posible operar entre arrays bajo una de las siguientes condiciones:\n",
    " * Ambos arrays tienen $m$ x $n$ dimensiones\n",
    " * Un array tiene $1$ x $n$ dimensiones y el otro tiene $m$ x $n$\n",
    "\n",
    "En el segundo caso, la operación entre arrays se realiza igualmente, aunque no coincidan en una de sus dimensiones. Mediante el broadcasting, el array más pequeño se replica $m$ veces para poder operar con el más grande. El término alude a cómo Numpy realiza las operaciones con arrays. En español, se podría traducir como 'expansión' ya que describe lo que sucede al operar entre arrays de distintos tamaños, donde **el array más pequeño se expande a lo largo del array más grande** para poder realizar la operación. Esto se hace automáticamente y puede ser aprovechado para realizar operaciones en pocos pasos, sin necesidad de aplicar iteraciones."
   ]
  },
  {
   "cell_type": "code",
   "execution_count": null,
   "metadata": {},
   "outputs": [],
   "source": [
    "# Veamos en detalle cómo funciona el broadcasting\n",
    "\n",
    "# partimos de estos dos vectores\n",
    "t = np.array([1,2,3,4], dtype = np.int8)\n",
    "u = np.array([0,5,10], dtype = np.int8)\n",
    "\n",
    "t.shape, u.shape\n",
    "t, u"
   ]
  },
  {
   "cell_type": "code",
   "execution_count": null,
   "metadata": {},
   "outputs": [],
   "source": [
    "t + u"
   ]
  },
  {
   "cell_type": "markdown",
   "metadata": {},
   "source": [
    "En el ejemplo, las longitudes de a y b son distintas. A pesar de que el comando `shape` nos muestra sólo una de las longitudes, podemos trabajar considerando que son de la forma (4,1) y (3,1). Vemos que la primer longitud de ambos es distinta (4 y 3), mientras que la segunda longitud es igual (1 y 1). Ninguna operación puede hacerse bajo estas condiciones. Sin embargo, podemos manipular la forma de ellos para que sea posible operar. Si aplicamos `reshape` a 'u' para que sea de la forma (1,3), sus longitudes serán compatibles. Por un lado tendremos un array de la forma $4$ x $1$ y por el otro uno de la forma $1$ x $3$. Todavía son distintas pero sucede que es posible operar por haber adecuado la forma de uno de los vectores. Ahora vemos lo siguiente:\n",
    "* 'u' tiene $1$ columna, 't' tiene $4$ columnas --> 'u' se expande para tener 4 columnas\n",
    "* 'u' tiene $3$ filas, 't' tiene $1$ fila --> 'v' se expande para tener tres filas\n"
   ]
  },
  {
   "cell_type": "code",
   "execution_count": null,
   "metadata": {},
   "outputs": [],
   "source": [
    "# cambiamos la forma de 'u' para poder operar\n",
    "u = u.reshape(3,1)\n",
    "print(u)"
   ]
  },
  {
   "cell_type": "code",
   "execution_count": null,
   "metadata": {},
   "outputs": [],
   "source": [
    "t + u"
   ]
  },
  {
   "cell_type": "markdown",
   "metadata": {},
   "source": [
    "Lo anterior es equivalente a realizar la siguiente operación entre arrays de iguales dimensiones:"
   ]
  },
  {
   "cell_type": "code",
   "execution_count": null,
   "metadata": {},
   "outputs": [],
   "source": [
    "t2 = np.array([[1,2,3,4],[1,2,3,4],[1,2,3,4]], dtype=np.int8)\n",
    "u2 = np.array([[0,0,0,0],[5,5,5,5],[10,10,10,10]], dtype=np.int8)"
   ]
  },
  {
   "cell_type": "code",
   "execution_count": null,
   "metadata": {},
   "outputs": [],
   "source": [
    "t2 + u2"
   ]
  },
  {
   "cell_type": "markdown",
   "metadata": {},
   "source": [
    "## Otras formas de crear arrays\n",
    "\n",
    "Numpy provee funciones para crear ciertos tipos de arrays de común uso. Veamos algunos casos:"
   ]
  },
  {
   "cell_type": "code",
   "execution_count": null,
   "metadata": {},
   "outputs": [],
   "source": [
    "# creamos un array de unos\n",
    "array_unos = np.ones((2,6), dtype = np.uint8)\n",
    "\n",
    "# creamos un array de ceros\n",
    "array_ceros = np.zeros((3,3), dtype = np.uint8)\n",
    "\n",
    "# creamos una secuencia creciente de números\n",
    "sec_nros = np.arange(10, dtype = np.uint8)\n",
    "\n",
    "# otra secuencia de números\n",
    "otra_sec_nros = np.linspace(0,5,5, dtype=np.float16)\n",
    "\n",
    "print(array_unos, \"\\n\") \n",
    "print(array_ceros, \"\\n\")\n",
    "print(sec_nros, \"\\n\")\n",
    "print(otra_sec_nros, \"\\n\")"
   ]
  },
  {
   "cell_type": "markdown",
   "metadata": {},
   "source": [
    "Veamos algunas formas de crear secuencias aleatorias:"
   ]
  },
  {
   "cell_type": "code",
   "execution_count": null,
   "metadata": {},
   "outputs": [],
   "source": [
    "# randint = enteros aleatorios - se especifica el rango de valores\n",
    "\n",
    "rand_sec = np.random.randint(-100, 100, 8, dtype=np.int8)\n",
    "print(rand_sec)"
   ]
  },
  {
   "cell_type": "code",
   "execution_count": null,
   "metadata": {},
   "outputs": [],
   "source": [
    "# rand = array con valores aleatorios entre 0 y 1 - se especifican las dimensiones y \n",
    "# longitud del array\n",
    "\n",
    "rand_sec = np.random.rand(2,3)\n",
    "print(rand_sec)"
   ]
  },
  {
   "cell_type": "code",
   "execution_count": null,
   "metadata": {},
   "outputs": [],
   "source": [
    "# ranf = floats aleatorios - se especifica la longitud\n",
    "\n",
    "rand_sec = np.random.ranf(5)\n",
    "print(rand_sec)"
   ]
  },
  {
   "cell_type": "markdown",
   "metadata": {},
   "source": [
    "## Aplicando funciones matematicas\n",
    "\n",
    "Numpy dispone de varias funciones matemáticas para aplicar sobre un simple escalar o sobre un array. La lista completa de funciones matemáticas que provee Numpy puede verse haciendo [clic acá](https://docs.scipy.org/doc/numpy/reference/routines.math.html#trigonometric-functions).\n",
    "\n",
    "Veamos un ejemplo:"
   ]
  },
  {
   "cell_type": "code",
   "execution_count": null,
   "metadata": {},
   "outputs": [],
   "source": [
    "# multiplico una array por el escalar pi.\n",
    "x = np.linspace(0., 2., 20, dtype = np.float16)*np.pi\n",
    "\n",
    "# funciones seno y coseno\n",
    "f_seno = np.sin(x)\n",
    "f_coseno = np.cos(x)\n",
    "\n",
    "# redondeo los valores del coseno \n",
    "f_coseno_red = np.around(f_coseno, 1)\n"
   ]
  },
  {
   "cell_type": "code",
   "execution_count": null,
   "metadata": {},
   "outputs": [],
   "source": [
    "%matplotlib inline\n",
    "import matplotlib.pyplot as plt\n",
    "\n",
    "plt.plot(x, f_coseno, label='coseno')\n",
    "plt.plot(x, f_seno, label='seno')\n",
    "plt.plot(x, f_coseno_red, label='coseno_red')\n",
    "plt.legend()"
   ]
  },
  {
   "cell_type": "markdown",
   "metadata": {},
   "source": [
    "Entonces, podemos crear arrays para representar funciones matemáticas conocidas. Primero creamos un array para definir una serie de puntos en el dominio de la función y luego aplicamos la función sobre estos puntos.\n",
    "\n",
    "Una de las funciones que utilizamos fue *linspace*. Es una función práctica para crear una representación de una función o un conjunto de datos. En este caso, con *x* tenemos representados los puntos en el dominio del tiempo, y aplicando la función sobre esos puntos creamos una array que representa a la misma."
   ]
  },
  {
   "cell_type": "markdown",
   "metadata": {},
   "source": [
    "## Referencias\n",
    "\n",
    " * *Numpy User Guide*, https://www.numpy.org/\n",
    "\n",
    " * Scott Shell, *An introduction to Numpy and Scipy*, 2014. "
   ]
  },
  {
   "cell_type": "markdown",
   "metadata": {},
   "source": [
    "## Licencia\n",
    "\n",
    "<a rel=\"license\" href=\"http://creativecommons.org/licenses/by-sa/4.0/\"><img alt=\"Licencia de Creative Commons\" style=\"border-width:0\" src=\"https://i.creativecommons.org/l/by-sa/4.0/88x31.png\" /></a><br />Este documento se destribuye con una <a rel=\"license\" href=\"http://creativecommons.org/licenses/by-sa/4.0/\">licencia Atribución CompartirIgual 4.0 Internacional de Creative Commons</a>.\n",
    "\n",
    "© 2019. Infiniem Lab DSP. infiniemlab.dsp@gmail.com. Introducción a Python3 (CC BY-SA 4.0))"
   ]
  }
 ],
 "metadata": {
  "kernelspec": {
   "display_name": "Python 3",
   "language": "python",
   "name": "python3"
  },
  "language_info": {
   "codemirror_mode": {
    "name": "ipython",
    "version": 3
   },
   "file_extension": ".py",
   "mimetype": "text/x-python",
   "name": "python",
   "nbconvert_exporter": "python",
   "pygments_lexer": "ipython3",
   "version": "3.7.9"
  }
 },
 "nbformat": 4,
 "nbformat_minor": 4
}
