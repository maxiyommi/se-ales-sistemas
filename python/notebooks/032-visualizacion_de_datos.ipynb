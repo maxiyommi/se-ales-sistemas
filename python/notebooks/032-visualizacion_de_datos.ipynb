{
 "cells": [
  {
   "cell_type": "markdown",
   "metadata": {},
   "source": [
    "![](../imagenes/titulo_032.png)"
   ]
  },
  {
   "cell_type": "markdown",
   "metadata": {},
   "source": [
    "## Índice\n",
    "\n",
    "* [Primeros graficos](#Primeros-graficos)\n",
    "* [Formateo](#Formateo)\n",
    "* [Manejo de figuras](#Manejo-de-figuras)\n",
    "* [Agrupamiento y tipos de grafico](#Agrupamiento-y-tipos-de-gráfico)\n",
    "* [Acceso y modificacion de las propiedades](#Acceso-y-modificacion-de-las-propiedades)\n",
    "* [Contornos de igual nivel](#Contornos-de-igual-nivel)\n",
    "* [Creando animaciones](#Creando-animaciones)\n",
    "* [Referencias](#Referencias)\n",
    "* [Licencia](#Licencia)"
   ]
  },
  {
   "cell_type": "markdown",
   "metadata": {},
   "source": [
    "[Matplotlib](https://matplotlib.org/) es una biblioteca de Python destinada a la producción de gráficas de alta calidad. \n",
    "\n",
    "![](../imagenes/matplotlib_logo.png)\n",
    "\n",
    "Puede ser utilizada en scripts, consolas interactivas y notebooks, particularmente Jupyter, como haremos en este curso.\n"
   ]
  },
  {
   "cell_type": "markdown",
   "metadata": {},
   "source": [
    "## Primeros graficos\n",
    "\n",
    "La forma estándar de utilizar `matplotlib`, o por lo menos la más didáctica, es a través del módulo `pyplot`."
   ]
  },
  {
   "cell_type": "code",
   "execution_count": null,
   "metadata": {},
   "outputs": [],
   "source": [
    "import matplotlib.pyplot as plt"
   ]
  },
  {
   "cell_type": "markdown",
   "metadata": {},
   "source": [
    "Con la siguiente línea \"mágica\" de comando, indicamos a Jupyter que muestre las gráficas junto con el código:"
   ]
  },
  {
   "cell_type": "code",
   "execution_count": null,
   "metadata": {},
   "outputs": [],
   "source": [
    "%matplotlib inline"
   ]
  },
  {
   "cell_type": "markdown",
   "metadata": {},
   "source": [
    "Para más información sobre \"comandos mágicos\", ver [Built-in magic commands](https://ipython.org/ipython-doc/3/interactive/magics.html) en la documentación de IPython.\n",
    "\n",
    "Si bien `inline` es el comportamiento por defecto, de todas formas, consideramos plausible aclararlo. Prosigamos."
   ]
  },
  {
   "cell_type": "markdown",
   "metadata": {},
   "source": [
    "Grafiquemos un escalón unitario. Una forma sencilla de hacerlo es como sigue."
   ]
  },
  {
   "cell_type": "code",
   "execution_count": null,
   "metadata": {},
   "outputs": [],
   "source": [
    "plt.plot( [-1, 0, 0, 1], [0, 0, 1, 1] )\n",
    "plt.show()"
   ]
  },
  {
   "cell_type": "markdown",
   "metadata": {},
   "source": [
    "La función `plot` toma dos vectores 'x' e 'y' de igual tamaño\n",
    "\n",
    "\\begin{align*}\n",
    "    \\mathbf{x} &= \\begin{bmatrix} x_1 & x_2 & \\cdots & x_N \\end{bmatrix} \\\\\n",
    "    \\mathbf{y} &= \\begin{bmatrix} y_1 & y_2 & \\cdots & y_N \\end{bmatrix}\n",
    "\\end{align*}\n",
    "\n",
    "y    construye segmentos de recta en el plano cartesiano para unir  los puntos.\n",
    "\n",
    "\\begin{equation*}\n",
    "    (x_1,y_1), (x_2,y_2), \\dots (x_N,y_N)\n",
    "\\end{equation*}\n",
    "\n",
    "Nótese que tales puntos coinciden con las columnas de la matriz resultante de apilar 'x' e 'y' como filas ( queda de $2 \\times N$, o sea 2 filas y $N$ columnas).\n",
    "\n",
    "En el caso del escalón unitario, lo que hicimos fue proveer los vectores\n",
    "\n",
    "\\begin{align*}\n",
    "    \\mathbf{x} &= \\begin{bmatrix} -1 & 0 & 0 & 1 \\end{bmatrix} \\\\\n",
    "    \\mathbf{y} &= \\begin{bmatrix} \\phantom{-}0 & 0 & 1 & 1 \\end{bmatrix}\n",
    "\\end{align*}\n",
    "\n",
    "de forma tal que `plot` construyó la poligonal a partir de los puntos\n",
    "\n",
    "\n",
    "\\begin{equation*}\n",
    "    (-1,0),(0,0),(0,1),(1,1)\n",
    "\\end{equation*}\n",
    "\n",
    "Una vez ejecutado `plot`, se instancia la clase `Line2D` de `matplotlib.lines` para utilizarla como contenedor de la poligonal, y se la guarda en un espacio de memoria. El comando `show`, invocado justo después de `plot`,  genera un dibujo con el objeto `Line2D` almacenado.\n",
    "\n",
    "El comando `plot` puede utilizarse dando **y** como argumento único.\n"
   ]
  },
  {
   "cell_type": "code",
   "execution_count": null,
   "metadata": {},
   "outputs": [],
   "source": [
    "plt.plot([0, 0, 1, 1])\n",
    "plt.show()"
   ]
  },
  {
   "cell_type": "markdown",
   "metadata": {},
   "source": [
    "Los puntos que se unieron son:\n",
    "\n",
    "\\begin{equation*}\n",
    "    (0,0), (1,0), (2,1), (3,1)\n",
    "\\end{equation*}\n",
    "\n",
    "Observemos que los valores de abscisa, correspondientes a los valores de ordenada $\\mathbf{y} = \\begin{bmatrix} 0 & 0 & 1 & 1 \\end{bmatrix}$ proporcionados al comando, quedaron $\\mathbf{x} = \\begin{bmatrix} 0 & 1 & 2 & 3 \\end{bmatrix}$. \n",
    "\n",
    "En general, si ejecutamos `plot(y)` con $\\mathbf{y} = \\begin{bmatrix} y_1 & y_2 & \\cdots & y_N \\end{bmatrix}$ un vector cualquiera, `pyplot` construirá un $\\mathbf{x} = \\begin{bmatrix} 0 & 1 & \\cdots & N-1 \\end{bmatrix}$ automáticamente para representarlo en el plano.\n",
    "\n",
    "\"Elevemos la apuesta\" y tratemos de graficar una función trigonométrica (vieja conocida). No tiene sentido tratar de realizar el proceso definiendo los vectores 'x' e 'y', como hicimos recién. Utilizaremos `numpy` para generar vectores dinámicamente, ahorrándonos trabajo."
   ]
  },
  {
   "cell_type": "code",
   "execution_count": null,
   "metadata": {},
   "outputs": [],
   "source": [
    "import numpy as np\n",
    "\n",
    "x = np.linspace(0, 2, 10, dtype = np.float16)\n",
    "y = np.sin(2 * np.pi * x) \n",
    "\n",
    "plt.plot(x, y)\n",
    "plt.show()"
   ]
  },
  {
   "cell_type": "markdown",
   "metadata": {},
   "source": [
    "El resultado es espantoso. Esto se debe a que  tenemos sólo 10&nbsp;muestras del eje *x*.\n",
    "\n",
    "El comando `linspace` toma un determinado intervalo de números reales, en este caso el $[0, 2] \\in \\mathbb{R}$, y lo divide de forma equiespaciada en *N* elementos. Mejoraremos la resolución en tiempo  aumentando *N* (y por lo tanto, mejorará el dibujo, pues la curva no es otra cosa que la gráfica de una función 'y' dependiendo de 'x'). Hecho destacable de la informática: la computadora no maneja el continuo y conecuentemente discretiza, es decir,  todo aquello percibido como \"curva\", no es más que un conjunto de aproximaciones poligonales.\n",
    "\n",
    "En nuestro caso, la poligonal se parece aceptablemente a una curva sinsuoide a partir de $N=50$. Podemos jugar con los valores de *N* y ver cómo va cambiando la figura."
   ]
  },
  {
   "cell_type": "code",
   "execution_count": null,
   "metadata": {},
   "outputs": [],
   "source": [
    "x = np.linspace(0, 2, 50, dtype = np.float16) \n",
    "y = np.sin(2 * np.pi * x) \n",
    "\n",
    "plt.plot(x, y)\n",
    "plt.show()"
   ]
  },
  {
   "cell_type": "markdown",
   "metadata": {},
   "source": [
    "¡Mucho mejor!\n",
    "\n",
    "Para superponer otras gráficas encima de la que acabamos de hacer, basta ejecutar tantas veces como sea necesario el comando `plot` antes de `show`. Ejemplo:"
   ]
  },
  {
   "cell_type": "code",
   "execution_count": null,
   "metadata": {},
   "outputs": [],
   "source": [
    "y2 = np.cos(2 * np.pi * (x - 0.1))\n",
    "\n",
    "x3 = np.linspace(-1, 2, 99, dtype = np.float16) # tip: le dejamos 99 elementos para que el vector no contenga 0...\n",
    "y3 = np.sin(8 * np.pi * x3) / (8 * np.pi * x3) - 0.5 # ... ¡así podemos dividir por x3!\n",
    "\n",
    "plt.plot(x, y)\n",
    "plt.plot(x, y2)\n",
    "plt.plot(x3, y3)\n",
    "\n",
    "plt.show()"
   ]
  },
  {
   "cell_type": "markdown",
   "metadata": {},
   "source": [
    "> Otra forma de graficar varias curvas simultáneamente con `plot` es proporcionando tantos pares de vectores como curvas requiramos, es decir si **x1, y1** son los vectores que contienen los puntos de la primer poligonal, **x2, y2** los de la segunda, y siguiendo, **xN,yN** los de la *N*-ésima, entonces\n",
    ">\n",
    "> `plt.plot(x1, y1, x2, y2, ... xN, yN)`\n",
    ">\n",
    "> en el ejemplo aquí abordado, quedaría\n",
    ">\n",
    "> `plt.plot(x, y, x, y2, x3, y3)`\n",
    ">\n",
    "> ¡compruebe que da igual! Y no diga que no le avisamos."
   ]
  },
  {
   "cell_type": "markdown",
   "metadata": {},
   "source": [
    "## Formateo\n",
    "\n",
    "Agregaremos algunas cosas, para que se vea todo más bonito:\n",
    "\n",
    "* una grilla, con `grid(True)`;\n",
    "* título al gráfico con `title`;\n",
    "* nombres a los ejes `x` e `y` con `xlabel`, `ylabel` respectivamente."
   ]
  },
  {
   "cell_type": "code",
   "execution_count": null,
   "metadata": {},
   "outputs": [],
   "source": [
    "plt.plot(x, y)\n",
    "plt.plot(x, y2)\n",
    "plt.plot(x3, y3)\n",
    "\n",
    "# \"Embellecimiento\"\n",
    "plt.grid(True)\n",
    "plt.title('¡Hola, mundo!')\n",
    "plt.xlabel('Tiempo (s)')\n",
    "plt.ylabel('Amplitud normalizada')\n",
    "\n",
    "plt.show()"
   ]
  },
  {
   "cell_type": "markdown",
   "metadata": {},
   "source": [
    "Ahora, demos nombres y estilo a cada una de las curvas. Construyamos también una leyenda para poder identificarlas. Los nombres pueden asignarse con el atributo `label` de cada `plot`, los estilos con atributos como `color`, `linewidth` y `linestyle`, mientras que la leyenda se muestra con el comando `legend`.\n",
    "\n",
    "> **Nota:** El comando `plot` consta de innumerables opciones que no serán particularmente tratadas en este curso. Ante la duda, siempre podrá consultar la [documentación online de Matplotlib](https://matplotlib.org/api/_as_gen/matplotlib.pyplot.plot.html) o bien, ejecutar `help(plt.plot)` en una consola."
   ]
  },
  {
   "cell_type": "code",
   "execution_count": null,
   "metadata": {
    "scrolled": true
   },
   "outputs": [],
   "source": [
    "plt.plot(x, y, label='Sinusoidal') # Nombramos cada curva con el atributo label\n",
    "plt.plot(\n",
    "    x, y2,\n",
    "    label='$ y_2(t) = \\cos(2\\pi(t-t_0))$ ', # podemos usar TeX escribiendo entre signos $\n",
    "    color='r',     # asignamos el color rojo\n",
    "    linestyle='--' # trazo de línea interrumpido\n",
    ")\n",
    "plt.plot(\n",
    "    x3, y3,\n",
    "    label='$ y_3(t) = \\mathrm{sinc}(8\\pi t) - 0,5$',\n",
    "    color=(0, 0.7, 0.3), # podemos especificar el color mediante ternas (rojo, verde, azul)\n",
    "    linewidth=4.5          # grosor igual a 4.5\n",
    ")\n",
    "\n",
    "plt.grid(True)\n",
    "plt.title('¡Hola, mundo!')\n",
    "plt.xlabel('Tiempo (s)')\n",
    "plt.ylabel('Amplitud normalizada')\n",
    "\n",
    "plt.legend() # esta sentencia muestra la lista de etiquetas cargadas anteriormente con label\n",
    "\n",
    "plt.show()"
   ]
  },
  {
   "cell_type": "markdown",
   "metadata": {},
   "source": [
    "La leyenda oculta parte del gráfico. Esto sucede porque no hay más espacio en el mismo. La solución es darle más espacio, para ubicar correctamente dicha leyenda.\n",
    "\n",
    "Para esto emplearemos `ylim` especificando el intervalo de ordenadas que deseemos visualizar. En este caso, bastará con extender superiormente al intervalo, tomando p.&nbsp;ej. el $[-1,5; 2]$."
   ]
  },
  {
   "cell_type": "code",
   "execution_count": null,
   "metadata": {
    "scrolled": true
   },
   "outputs": [],
   "source": [
    "plt.plot(x, y, label='Sinusoidal')\n",
    "plt.plot(x, y2, label='$ y_2(t) = \\cos(2\\pi(t-t_0))$ ', color='r', linestyle='--')\n",
    "plt.plot(x3, y3, label='$ y_3(t) = \\mathrm{sinc}(8\\pi t) - 0,5 $', color=(0, 0.7, 0.3), linewidth=4.5)\n",
    "\n",
    "plt.grid(True)\n",
    "plt.title('¡Hola, mundo!')\n",
    "plt.xlabel('Tiempo (s)')\n",
    "plt.ylabel('Amplitud normalizada')\n",
    "\n",
    "plt.ylim(-1.5, 2)\n",
    "\n",
    "plt.legend()\n",
    "\n",
    "plt.show()\n"
   ]
  },
  {
   "cell_type": "markdown",
   "metadata": {},
   "source": [
    "Para elegir el rango de abscisa, se utiliza el comando `xlim`. Si queremos elegir  un rectángulo plano de visualización, basta ejecutar el comando `axis`. A este último se le otorga  un vector  de cuatro componentes $ \\begin{bmatrix} x_{min} & x_{max} & y_{min} & y_{max} \\end{bmatrix} $ conformado por los vértices de dicho rectángulo.\n",
    "\n",
    "> Pruebe por ejemplo la siguiente sentencia\n",
    ">\n",
    "> `plt.axis([ -0.5, 0.5, 0, 1 ])`\n",
    ">\n",
    "> en lugar de `ylim`."
   ]
  },
  {
   "cell_type": "markdown",
   "metadata": {},
   "source": [
    "También podemos incluir anotaciones dentro del gráfico.\n",
    "\n",
    "1. Señalemos uno de los lóbulos laterales del [sinc](https://es.wikipedia.org/wiki/Funci%C3%B3n_sinc) en el gráfico, para ello usaremos `annotate`.\n",
    "2. Dejemos un mensaje para la posteridad en la esquina inferior izquierda mediante `text`:"
   ]
  },
  {
   "cell_type": "code",
   "execution_count": null,
   "metadata": {
    "scrolled": true
   },
   "outputs": [],
   "source": [
    "plt.plot(x, y, label='Sinusoidal')\n",
    "plt.plot(x, y2, label='$ y_2(t) = \\cos(2\\pi(t-t_0))$ ', color='r', linestyle='--')\n",
    "plt.plot(x3, y3, label='$ y_3(t) = \\mathrm{sinc}(8\\pi t) - 0,5 $', color=(0, 0.7, 0.3), linewidth=4.5)\n",
    "\n",
    "plt.grid(True)\n",
    "plt.title('¡Hola, mundo!')\n",
    "plt.xlabel('Tiempo (s)')\n",
    "plt.ylabel('Amplitud normalizada')\n",
    "\n",
    "\n",
    "plt.annotate( # inserta flecha y texto en el gráfico\n",
    "    'Lóbulo secundario', # texto\n",
    "    xytext=(-0.5, 1.4),  # posición del texto en el gráfico\n",
    "    horizontalalignment='center', # alineación horizontal\n",
    "    arrowprops=dict(shrink=0.05), # propiedades de la flecha (shrink es un factor de escala)\n",
    "    xy=(-0.29, -0.37) # punto señalizado del gráfico\n",
    ")\n",
    "\n",
    "plt.text(      # inserta sólo texto\n",
    "    -1, -1.25, # coordenadas dentro del gráfico\n",
    "    'Yo estuve en el Workshop\\nUNTREF de Python3', # texto\n",
    "    bbox = dict(\n",
    "        facecolor = (0.9, 0.9, 0.4), # color de relleno de la caja dado como terna (R, V, A)\n",
    "        edgecolor = (0.8, 0.2, 0), # color de borde\n",
    "        linewidth = 2, # grosor de línea\n",
    "        boxstyle = 'round, pad=0.5' # estilo rectangular con esquinas redondeadas y con zona de relleno igual a 0.5\n",
    "    )\n",
    ") \n",
    "\n",
    "plt.ylim(-1.5, 2)\n",
    "\n",
    "plt.legend()\n",
    "\n",
    "plt.show()\n"
   ]
  },
  {
   "cell_type": "markdown",
   "metadata": {},
   "source": [
    "## Manejo de figuras\n",
    "Separemos las gráficas anteriores en figuras diferentes. El proceso es tan sencillo como llamar al comando `figure` por cada una que necesitemos."
   ]
  },
  {
   "cell_type": "code",
   "execution_count": null,
   "metadata": {},
   "outputs": [],
   "source": [
    "plt.figure()\n",
    "plt.plot(x, y)\n",
    "\n",
    "plt.figure()\n",
    "plt.plot(x, y2)\n",
    "\n",
    "plt.figure()\n",
    "plt.plot(x3, y3)\n",
    "\n",
    "plt.grid(True)\n",
    "plt.title('¡Hola, mundo!')\n",
    "plt.xlabel('Tiempo (s)')\n",
    "plt.ylabel('Amplitud normalizada')\n",
    "\n",
    "plt.show()"
   ]
  },
  {
   "cell_type": "markdown",
   "metadata": {},
   "source": [
    "En Jupyter, todas las gráficas se ven como si estuviesen juntas, pero en realidad cada una está en su respectiva figura. Esto se pone de manifiesto al invocar los comandos de formateo: sólo aplican a los gráficos de la última figura creada.\n",
    "\n",
    "> En una consola interactiva de Ipython, p.&nbsp;ej., cada llamada a `figure` generaría una ventana, siempre que el `backend` de `matplotlib` esté configurado con alguna interfaz gráfica. El `backend` es una biblioteca de interfaz gráfica que maneja el transfondo de la creación de figuras. Interesa particularmente a la hora de generar gráficas interactivas de `matplotlib` dentro de GUI. Si bien omitiremos la explicación en este curso, pues el desarrollo avanzado de GUI requeriría un curso por sí mismo, hay mucha información y ejemplos disponibles en la [documentación oficial de matplotlib](https://matplotlib.org/tutorials/introductory/usage.html#backends).\n",
    "\n",
    "Si quisiéramos cambiar las propiedades de figuras específicas, primero deberíamos darles un nombre (lo más fácil es un valor numérico) e invocar `figure` con el identificador de la figura que precisemos modificar."
   ]
  },
  {
   "cell_type": "code",
   "execution_count": null,
   "metadata": {},
   "outputs": [],
   "source": [
    "plt.figure(1)\n",
    "plt.plot(x, y)\n",
    "\n",
    "plt.figure(2)\n",
    "plt.plot(x, y2)\n",
    "\n",
    "plt.figure(3)\n",
    "plt.plot(x3, y3)\n",
    "\n",
    "plt.title('Inserto un título en la figura 3')\n",
    "\n",
    "plt.figure(1)\n",
    "plt.text(0.5, 0, 'Agrego texto a la figura 1', size=18)\n",
    "\n",
    "plt.show()"
   ]
  },
  {
   "cell_type": "markdown",
   "metadata": {},
   "source": [
    "Las figuras pueden guardarse como archivos con el comando `savefig`. El siguiente ejemplo genera una imagen [PNG](https://es.wikipedia.org/wiki/Portable_Network_Graphics) del [sinc](https://es.wikipedia.org/wiki/Funci%C3%B3n_sinc) con 300 [dpi de resolución](https://es.wikipedia.org/wiki/Puntos_por_pulgada). Si ejecuta el código desde este notebook, la imagen PNG se creará junto al archivo `ipynb` correspondiente."
   ]
  },
  {
   "cell_type": "code",
   "execution_count": null,
   "metadata": {},
   "outputs": [],
   "source": [
    "plt.plot(x3, y3)\n",
    "plt.savefig('sinc.png', dpi=300)"
   ]
  },
  {
   "cell_type": "markdown",
   "metadata": {},
   "source": [
    "## Agrupamiento de graficos\n",
    "\n",
    "A veces necesitamos más de un gráfico dentro de una misma figura. Es posible agrupar la cantidad de gráficos que deseamos ella a través del comando `subplot`. Éste permite dividir la figura en una grilla con las posiciones donde se ubicará cada uno. La forma de utilización sería indicando `subplot(nfilas, ncolumnas, índice)`, donde los dos primeros argumentos son la cantidad de filas y columnas que tendrá la figura, y el último es la posición del gráfico en esta fila. El índice va desde 1 hasta `nfilas` x `ncolumnas`. \n",
    "\n",
    "> Nota: cuando el rango del índice es menor a 10 los argumentos de subplot se pueden indicar sin las comas separadoras, es decir, `subplot(221)` es equivalente a `subplot(2,2,1)`  "
   ]
  },
  {
   "cell_type": "code",
   "execution_count": null,
   "metadata": {},
   "outputs": [],
   "source": [
    "# primera figura\n",
    "plt.figure(1)\n",
    "\n",
    "plt.subplot(121)  # defino el figure con una fila y dos columnas, me ubico en el índice 1\n",
    "plt.plot(x,y)  # grafico en la 1° posición\n",
    "\n",
    "plt.subplot(122)  # me ubico en el índice 2\n",
    "plt.plot(x,y2)  # grafico en la 2° posición\n",
    "\n",
    "# segunda figura\n",
    "plt.figure(2)\n",
    "\n",
    "plt.subplot(211)  # defino el figure con una columna y dos filas, me ubico en el índice 1\n",
    "plt.plot(x,y)  # grafico en la 1° posición\n",
    "\n",
    "plt.subplot(212)  # me ubico en el índice 2\n",
    "plt.plot(x,y2)  # grafico en la 1° posición\n",
    "\n",
    "plt.show()"
   ]
  },
  {
   "cell_type": "markdown",
   "metadata": {},
   "source": [
    "## Otros tipos de gráfico \n",
    "\n",
    "A diferencia de `plot`, el comando `stem` no traza poligonales entre los puntos dados. En cambio, una vez ubicados los puntos, se traza una línea horizontal en el cero, y se une cada uno de los puntos con dicha línea mediante segmentos verticales.\n",
    "\n",
    "> Nótese que sólo hemos proporcionado a `stem` valores de ordenada, por ende, lo que se ve en abscisas es  la sucesión de números enteros entre $0$ y $N-1$ ($N\\,=\\,longitud\\,de\\,x[n]$)."
   ]
  },
  {
   "cell_type": "code",
   "execution_count": null,
   "metadata": {},
   "outputs": [],
   "source": [
    "plt.subplot(311)\n",
    "plt.stem(y)\n",
    "\n",
    "plt.subplot(312)\n",
    "plt.stem(y2, ':')  # línea vertical punteada\n",
    "\n",
    "plt.subplot(313)\n",
    "plt.stem(y, '--')  # línea vertical con guiones\n",
    "\n",
    "plt.show()"
   ]
  },
  {
   "cell_type": "markdown",
   "metadata": {},
   "source": [
    "Hay otros tipos de gráfico, a continuación mostramos, dentro de una misma figura:\n",
    "* semilogarítmico;\n",
    "* polar;\n",
    "* histograma;\n",
    "* dispersión (XY)"
   ]
  },
  {
   "cell_type": "code",
   "execution_count": null,
   "metadata": {},
   "outputs": [],
   "source": [
    "# datos gráfico semilogarítmico\n",
    "f = np.array([125, 250, 500, 1000, 2000, 4000, 8000], dtype = np.float16)\n",
    "T = np.array([0.84, 0.55, 0.41, 0.43, 0.42, 0.42, 0.41], dtype = np.float16)\n",
    "\n",
    "# datos gráfico polar\n",
    "ang = np.linspace(0, 2 * np.pi, 20, dtype = np.float16)\n",
    "rad = 0.5 + np.cos(ang)\n",
    "\n",
    "# datos histograma\n",
    "t  = np.linspace(0, 6, 100, dtype = np.float16)\n",
    "xt = np.exp(-0.3 * t) * np.sin(10 * t)  \n",
    "\n",
    "# datos dispersion\n",
    "np.random.seed(24)\n",
    "dispersion_x = np.arange(6, dtype = np.int8)\n",
    "dispersion_y = 2 * dispersion_x + np.random.randint(-5, 5, dispersion_x.size, dtype = np.int8)\n",
    "\n",
    "# grafico semilogarítmico\n",
    "plt.subplot(221)\n",
    "plt.semilogx(f, T)\n",
    "\n",
    "plt.subplot(222, polar=True)\n",
    "plt.polar(ang, rad)\n",
    "\n",
    "plt.subplot(223)\n",
    "plt.hist(xt)\n",
    "\n",
    "plt.subplot(224)\n",
    "plt.scatter(dispersion_x, dispersion_y)\n",
    "\n",
    "plt.show()"
   ]
  },
  {
   "cell_type": "markdown",
   "metadata": {},
   "source": [
    "## Acceso y modificacion de las propiedades\n",
    "Hay varias formas. La que usamos hasta el momento fue la declaración explícita de propiedades dentro de las funciones de `pyplot`, p.&nbsp;ej. "
   ]
  },
  {
   "cell_type": "code",
   "execution_count": null,
   "metadata": {},
   "outputs": [],
   "source": [
    "curva, = plt.plot(x, y2, label='$ y_2(t) = \\cos(2\\pi(t-t_0))$ ', color='r', linestyle='--')\n",
    "plt.show()"
   ]
  },
  {
   "cell_type": "markdown",
   "metadata": {},
   "source": [
    "indica al graficador que la curva generada por los vectores `x` e `y2` tiene asociadas tres propiedades:\n",
    "1. Una etiqueta (`label`) con el texto de leyenda;\n",
    "2. La cadena `'r'` asignada a la propiedad `color`, indicando que la curva debe mostrarse coloreada en *rojo*;\n",
    "3. Un estilo de línea (`linestyle`) interrumpido.\n",
    "\n",
    "Estas propiedades están asociadas a una instancia de la clase `Line2D` del módulo `matplotlib.lines`. Como hemos asignado la variable `curva` a la salida del comando `plot`,  podremos acceder a las propiedades del gráfico:"
   ]
  },
  {
   "cell_type": "code",
   "execution_count": null,
   "metadata": {},
   "outputs": [],
   "source": [
    "curva.get_label(), curva.get_color(), curva.get_linestyle()"
   ]
  },
  {
   "cell_type": "markdown",
   "metadata": {},
   "source": [
    "Vemos que las propiedades obtenidas coinciden con las asignadas anteriormente por el comando `plot`. \n",
    "\n",
    "Si graficamos más de una curva, `plot` devolverá una **lista** de objetos `Line2D`, a cuyos elementos podemos acceder, como siempre, mediante indizado."
   ]
  },
  {
   "cell_type": "code",
   "execution_count": null,
   "metadata": {},
   "outputs": [],
   "source": [
    "lista_curvas = plt.plot(x, y, x, y2, x3, y3)\n",
    "plt.show()\n",
    "\n",
    "# Color del primer gráfico\n",
    "lista_curvas[0].get_c()"
   ]
  },
  {
   "cell_type": "code",
   "execution_count": null,
   "metadata": {
    "scrolled": true
   },
   "outputs": [],
   "source": [
    "# Algunas propiedades de la gráfica correspondiente al sinc\n",
    "lista_curvas[2].get_c(), lista_curvas[2].get_linewidth(), lista_curvas[2].get_animated()"
   ]
  },
  {
   "cell_type": "markdown",
   "metadata": {},
   "source": [
    "> **Nota:** la sentencia\n",
    ">\n",
    "> `curva, = plt.plot(x, y2, label='$ y_2(t) = \\cos(2\\pi(t-t_0))$ ', color='r', linestyle='--')`\n",
    ">\n",
    "> asigna solamente el **primer elemento de la lista** que devuelve `plot` a la variable `curva`. Implícitamente, lo que hacemos es utilizar la prestación de *desempaquetado*, ya incorporada en Python. Para más información, dirigirse a la [documentación correspondiente](https://docs.python.org/3/tutorial/controlflow.html#tut-unpacking-arguments). Hay también una explicación con ejemplos en un [artículo del blog de Abhinav](https://virtualenvblog.wordpress.com/2017/08/27/packing-and-unpacking-arguments-in-python/).\n",
    "\n",
    "Para asignar valores a las propiedades de los gráficos, bien podemos:\n",
    "1. Incluirlas como argumentos de la función `plot` (lo que venimos haciendo);\n",
    "2. Instanciar los objetos `Line2D` que devuelve `plot` y llamar a la función `setp`;\n",
    "3. Instanciar y utilizar los métodos `set` correspondientes."
   ]
  },
  {
   "cell_type": "code",
   "execution_count": null,
   "metadata": {},
   "outputs": [],
   "source": [
    "lista_curvas = plt.plot(x, y, x, y2, x3, y3)\n",
    "\n",
    "plt.setp(lista_curvas, color='b', linestyle='--') # todas las líneas son azules e interrumpidas\n",
    "\n",
    "lista_curvas[0].set_linewidth(5)   # la primera pasa a tener grosor 5\n",
    "lista_curvas[1].set_marker('.')    # agregamos marcadores a la segunda curva\n",
    "lista_curvas[1].set_markersize(12) # de tamaño 12\n",
    "lista_curvas[1].set_markerfacecolor((0.4, 1, 0.4)) # rellenos con color verde clarito\n",
    "\n",
    "plt.show()"
   ]
  },
  {
   "cell_type": "markdown",
   "metadata": {},
   "source": [
    "La lista de propiedades que posee la clase `Line2D` está detallada en la [documentación de matplotlib](https://matplotlib.org/api/_as_gen/matplotlib.lines.Line2D.html#matplotlib.lines.Line2D)."
   ]
  },
  {
   "cell_type": "markdown",
   "metadata": {},
   "source": [
    "## Metodo recomendado de uso\n",
    "\n",
    "Si bien la creación de gráficas con el módulo  `pyplot` es fácil y rápida, en la documentación oficial de `matplotlib` se recomienda enfocar la programación al paradigma de orientación a objetos, por presentar la segunda forma más flexibilidad que la primera. La mayor parte de las funciones de `pyplot` están implementadas como métodos de la clase `Axes`, perteneciente al módulo `matplotlib.axes`.  Para profundizar,  contamos con la [documentación correspondiente.](https://matplotlib.org/2.2.2/api/axes_api.html#matplotlib.axes.Axes)\n",
    "\n",
    "De todas formas, veamos un ejemplo práctico de cómo se usa. En la sección [agrupamiento de gráficos](#Agrupamiento-de-graficos) vimos cómo implementar varios gráficos dentro de una misma figura. Veamos cómo se haría con la forma alternativa."
   ]
  },
  {
   "cell_type": "code",
   "execution_count": null,
   "metadata": {},
   "outputs": [],
   "source": [
    "figura, (graf1, graf2) = plt.subplots(2, 1, sharex=True)  # dos gráficos agrupados en columnas\n",
    "figura.suptitle('graficos hasta en la sopa')\n",
    "\n",
    "graf1.plot(x,y)\n",
    "graf2.plot(x,y2)\n",
    "graf1.grid()\n",
    "graf2.set(xlabel = 'tiempo (s)')"
   ]
  },
  {
   "cell_type": "markdown",
   "metadata": {},
   "source": [
    "Si nuestra cantidad de gráficos se hace grande, podemos empaquetarlos en una especie de 'lista' al momento de su creación y luego acceder a cada gráfico individual con el índice correspondiente.  "
   ]
  },
  {
   "cell_type": "code",
   "execution_count": null,
   "metadata": {},
   "outputs": [],
   "source": [
    "fig, grafico = plt.subplots(2, 2)  # la lista grafico contiene los cuatro gráficos en las \n",
    "                                   # posiciones [0,0], [0,1], [1,0], [1,1]\n",
    "    \n",
    "grafico[0, 0].plot(x, y)  # creo el primer gráfico\n",
    "grafico[0, 0].set_title('Gráfico [0,0]')\n",
    "grafico[0, 1].scatter(x, y)\n",
    "grafico[0, 1].set_title('Gráfico [0,1]')\n",
    "grafico[1, 0].plot(x, y ** 2)\n",
    "grafico[1, 0].set_title('Gráfico [1,0]')\n",
    "grafico[1, 1].scatter(x, y ** 2)\n",
    "grafico[1, 1].set_title('Gráfico [1,1]')\n",
    "\n",
    "# una forma cómoda de definir ejes, flat es un atributo de arrays para iterar sobre sus elementos\n",
    "for ejes in grafico.flat:\n",
    "    ejes.set(xlabel='tiempo', ylabel='amplitud')\n",
    "# Hide x labels and tick labels for top plots and y ticks for right plots.\n",
    "for ejes in grafico.flat:\n",
    "    ejes.label_outer()"
   ]
  },
  {
   "cell_type": "markdown",
   "metadata": {},
   "source": [
    "## Graficos en tres dimensiones\n",
    "\n",
    "Matplotlib cuenta con una herramienta adicional llamada `mplot3D` que nos permite graficar en 3 dimensiones de manera similar a la que usamos para hacer gráficos en 2 dimensiones. Los pasos para realizar un gráfico en 3D son los siguientes:\n",
    "\n",
    "* PASO 1: Se definen los vectores X y Y con los rangos a representar\n",
    "* PASO 2: Se crea la grilla del plano, es decir, su representación con pares (X,Y)\n",
    "* PASO 3: Se define la función f(X,Y)\n",
    "* PASO 4: Se crea la figura y se genera el gráfico como un objeto Axes3D\n",
    "* PASO 5: Se utiliza la función `plot_surface` de manera similar a la que haríamos con `plot`. Ésta lleva argumentos adicionales para mejorar la calidad del dibujo: `rstride` y `cstride` son valores enteros para controlar la resolución, y `cmap` se usa para indicar el mapeo de colores de acuerdo al valor de Z."
   ]
  },
  {
   "cell_type": "code",
   "execution_count": null,
   "metadata": {},
   "outputs": [],
   "source": [
    "import numpy as np\n",
    "import matplotlib.pyplot as plt\n",
    "from matplotlib import cm\n",
    "from mpl_toolkits.mplot3d import Axes3D\n",
    "\n",
    "X = np.arange(-15, 15, 0.25)  # PASO 1\n",
    "Y = np.arange(-15, 15, 0.25)  # PASO 1\n",
    "X, Y = np.meshgrid(X, Y)  # PASO 2, creo una grilla de puntos que representa al plano XY\n",
    "R = np.sqrt(X**2 + Y**2)  # PASO 3a radio alrededor del plano\n",
    "Z = np.sin(R)  # PASO 3b valor de la función\n",
    "\n",
    "fig = plt.figure()  # PASO 4a\n",
    "grafico = Axes3D(fig)  # PASO 4b\n",
    "grafico.plot_surface(X, Y, Z, rstride=1, cstride=1, cmap=cm.brg)  # PASO 5\n",
    "\n",
    "plt.show()"
   ]
  },
  {
   "cell_type": "markdown",
   "metadata": {},
   "source": [
    "## Referencias\n",
    "\n",
    " * J. Hunter et. al. Matplotlib - Release 2.2.2,  Extraído de [Matplotlib.org](https://matplotlib.org/)\n",
    " * A. Devert. Matplotlib Plotting Cookbook, Packt Publishing, 2014."
   ]
  },
  {
   "cell_type": "markdown",
   "metadata": {},
   "source": [
    "## Licencia\n",
    "\n",
    "<a rel=\"license\" href=\"http://creativecommons.org/licenses/by-sa/4.0/\"><img alt=\"Licencia de Creative Commons\" style=\"border-width:0\" src=\"https://i.creativecommons.org/l/by-sa/4.0/88x31.png\" /></a><br />Este documento se destribuye con una <a rel=\"license\" href=\"http://creativecommons.org/licenses/by-sa/4.0/\">licencia Atribución CompartirIgual 4.0 Internacional de Creative Commons</a>.\n",
    "\n",
    "© 2019. Infiniem Lab DSP. infiniemlab.dsp@gmail.com. Introducción a Python3 (CC BY-SA 4.0))"
   ]
  }
 ],
 "metadata": {
  "kernelspec": {
   "display_name": "Python 3",
   "language": "python",
   "name": "python3"
  },
  "language_info": {
   "codemirror_mode": {
    "name": "ipython",
    "version": 3
   },
   "file_extension": ".py",
   "mimetype": "text/x-python",
   "name": "python",
   "nbconvert_exporter": "python",
   "pygments_lexer": "ipython3",
   "version": "3.7.1"
  }
 },
 "nbformat": 4,
 "nbformat_minor": 2
}
