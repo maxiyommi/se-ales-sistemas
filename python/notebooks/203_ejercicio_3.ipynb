{
 "cells": [
  {
   "cell_type": "markdown",
   "metadata": {
    "slideshow": {
     "slide_type": "-"
    }
   },
   "source": [
    "[comment]: <> (los titulares se generan en el siguiente link: https://docs.google.com/drawings/d/1TLM83sTn9w2Jmq0l0Jy1ivIeLRVO_rKBCamm5Tq11Yo/edit?usp=sharing)\n",
    "\n",
    "![](../img/titulos_ejercicios.png)"
   ]
  },
  {
   "cell_type": "markdown",
   "metadata": {
    "slideshow": {
     "slide_type": "-"
    }
   },
   "source": [
    "# Ejercicios propuesto "
   ]
  },
  {
   "cell_type": "markdown",
   "metadata": {},
   "source": [
    "**1.** Ingresar dos números A y B e imprimir el mayor o cualquiera si son iguales"
   ]
  },
  {
   "cell_type": "code",
   "execution_count": null,
   "metadata": {},
   "outputs": [],
   "source": []
  },
  {
   "cell_type": "markdown",
   "metadata": {},
   "source": [
    "**2.** Leer un número entero A e imprimir un mensaje indicando si es par o impar. (Operador%)"
   ]
  },
  {
   "cell_type": "code",
   "execution_count": null,
   "metadata": {},
   "outputs": [],
   "source": []
  },
  {
   "cell_type": "markdown",
   "metadata": {},
   "source": [
    "**3.** Leer un número entero N y determinar si es un número natural (positivo y distinto decero). Si lo es, imprimirlo junto con su doble. En caso contrario, imprimirlo junto con su triple."
   ]
  },
  {
   "cell_type": "code",
   "execution_count": null,
   "metadata": {},
   "outputs": [],
   "source": []
  },
  {
   "cell_type": "markdown",
   "metadata": {},
   "source": [
    "**4.** Ingresar dos números enteros A y B. Desarrollar un programa que determine si A esmúltiplo de B y si B es múltiplo de A. Imprimir mensajes aclaratorios"
   ]
  },
  {
   "cell_type": "code",
   "execution_count": null,
   "metadata": {},
   "outputs": [],
   "source": []
  },
  {
   "cell_type": "markdown",
   "metadata": {},
   "source": [
    "**5.** Desarrollar un programa para leer la base y la altura de un triángulo e imprimir susuperficie. El algoritmo debe validar los datos de entrada, verificando que éstos seannúmeros positivos. En caso contrario debe imprimirse el dato erróneo junto con una leyendaaclaratoria. Se recuerda que Sup = (Base * Altura) / 2"
   ]
  },
  {
   "cell_type": "code",
   "execution_count": null,
   "metadata": {},
   "outputs": [],
   "source": []
  },
  {
   "cell_type": "markdown",
   "metadata": {},
   "source": [
    "**6.** Una empresa aplica el siguiente procedimiento en la comercialización de sus productos:· Aplica el precio base a la primera docena de unidades. · Aplica un 10% de descuento a todas las unidades entre 13 y 100. · Aplica un 25% de descuento a todas las unidades porencima de las 100. Por ejemplo, supongamos que vende 230 unidades de un producto cuyoprecio base es 100. El cálculo resultante sería: 100 * 12 + 90 * 88 + 75 * 130 = 18870, y elprecio promedio será 18870 / 230 = 82,04"
   ]
  },
  {
   "cell_type": "code",
   "execution_count": null,
   "metadata": {},
   "outputs": [],
   "source": []
  },
  {
   "cell_type": "markdown",
   "metadata": {
    "slideshow": {
     "slide_type": "-"
    }
   },
   "source": [
    "**7.** Determinar junto a la ecuación de Einstein ($E=mc^2$), cuánta materia se debe convertir en energía para producir esa cantidad de radiación en un día. Esta ecuación sorprendentemente sencilla, vincula los mundos antes separados de la **materia** y la **energía**, y se puede utilizar para **encontrar la cantidad de energía que se libera conforme la materia se destruye en reacciones nucleares** tanto naturales como inducidas por el hombre.\n",
    "El **Sol** irradia $385x10^{24} \\text{J/s}$ de energía, los cuales se generan mediante reacciones nucleares\n",
    "que **convierten la materia en energía**. \n",
    "\n",
    "Ayudas: \n",
    "* $c=3.0x10^8 \\text{m/s}$.\n",
    "* $1\\text{J = kg m}^2/\\text{s}^2$\n",
    "\n",
    "Respuesta: \n",
    "* $m = 3.6960x10^{14}$"
   ]
  },
  {
   "cell_type": "code",
   "execution_count": null,
   "metadata": {},
   "outputs": [],
   "source": []
  },
  {
   "cell_type": "markdown",
   "metadata": {},
   "source": [
    "**8.** Determinar si una palabra ingresada es **palíndromo** (es igual si se lee de izquierda a derecha que de derecha a izquierda)."
   ]
  },
  {
   "cell_type": "code",
   "execution_count": null,
   "metadata": {},
   "outputs": [],
   "source": []
  }
 ],
 "metadata": {
  "kernelspec": {
   "display_name": "Python 3",
   "language": "python",
   "name": "python3"
  },
  "language_info": {
   "codemirror_mode": {
    "name": "ipython",
    "version": 3
   },
   "file_extension": ".py",
   "mimetype": "text/x-python",
   "name": "python",
   "nbconvert_exporter": "python",
   "pygments_lexer": "ipython3",
   "version": "3.7.5"
  }
 },
 "nbformat": 4,
 "nbformat_minor": 4
}
