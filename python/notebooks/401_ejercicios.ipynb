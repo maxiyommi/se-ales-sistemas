{
 "cells": [
  {
   "cell_type": "markdown",
   "metadata": {},
   "source": [
    "## Ejercicios\n",
    "\n",
    "> Comparar los resultados con la resoluciones analíticas de los ejercicios."
   ]
  },
  {
   "cell_type": "markdown",
   "metadata": {},
   "source": [
    "**1.** Ejercicio 1 de la guia n°1 (Guia de ejercicios analíticos). Determinar la energía y la potencia de las siguientes señales:  "
   ]
  },
  {
   "cell_type": "markdown",
   "metadata": {},
   "source": [
    "a) $x(t)=3e^{-2t}u(t)$"
   ]
  },
  {
   "cell_type": "code",
   "execution_count": null,
   "metadata": {},
   "outputs": [],
   "source": []
  },
  {
   "cell_type": "markdown",
   "metadata": {},
   "source": [
    "b) $x(t)=2cos(\\omega_0t+\\pi)$"
   ]
  },
  {
   "cell_type": "code",
   "execution_count": null,
   "metadata": {},
   "outputs": [],
   "source": []
  },
  {
   "cell_type": "markdown",
   "metadata": {},
   "source": [
    "c) $x[n]=2u[n]$  ($u[n]$ = Escalon unitario o Heaviside discreta)"
   ]
  },
  {
   "cell_type": "code",
   "execution_count": null,
   "metadata": {},
   "outputs": [],
   "source": []
  },
  {
   "cell_type": "markdown",
   "metadata": {},
   "source": [
    "**2.** Crear array, definir formato y acceder a sus elementos:\n",
    " * Crear un array a partir de la siguiente función: \n",
    " \n",
    "$f(x,y) = 0.5 x + cos(y)$\n",
    " \n",
    " usar `numpy.fromfunction` y especificar el tipo de datos\n",
    " * Imprimir la cantidad de filas y columnas del array\n",
    " * Imprimir el valor de la función en el punto $(x,y) = (0,0)$\n",
    " * Imprimir los valores de la función para $x(i,j)$ con $i \\in (1,3)$ y con $j \\in (1,2)$\n",
    " * Imprimir los valores de la función para $x(i)$ con $i = (0, 2, 4)$"
   ]
  },
  {
   "cell_type": "code",
   "execution_count": null,
   "metadata": {},
   "outputs": [],
   "source": []
  },
  {
   "cell_type": "markdown",
   "metadata": {},
   "source": [
    "**3.**  Representar la ecuación de descarga de un capacitor.\n",
    "\n",
    "$ V(t) = V_0 \\cdot e^\\frac{-t}{RC} $\n",
    "\n",
    " * Construir el vector tiempo con una duración de 1 segundo y 30 elementos.\n",
    " * Definimos R como un array con tres valores (1k, 5k y 10k) para evaluar la función de carga para distintas resistencias\n",
    " * $C = 100 \\mu F$ , $V_{0} = 25 V$\n",
    " * Graficar las funciones resultantes, poner rótulos a los ejes"
   ]
  },
  {
   "cell_type": "code",
   "execution_count": null,
   "metadata": {},
   "outputs": [],
   "source": []
  }
 ],
 "metadata": {
  "kernelspec": {
   "display_name": "Python 3",
   "language": "python",
   "name": "python3"
  },
  "language_info": {
   "codemirror_mode": {
    "name": "ipython",
    "version": 3
   },
   "file_extension": ".py",
   "mimetype": "text/x-python",
   "name": "python",
   "nbconvert_exporter": "python",
   "pygments_lexer": "ipython3",
   "version": "3.7.9"
  }
 },
 "nbformat": 4,
 "nbformat_minor": 4
}
