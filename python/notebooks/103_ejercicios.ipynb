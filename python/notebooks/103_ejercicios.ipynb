{
 "cells": [
  {
   "cell_type": "markdown",
   "metadata": {
    "slideshow": {
     "slide_type": "-"
    }
   },
   "source": [
    "# Ejercicios Propuestos"
   ]
  },
  {
   "cell_type": "markdown",
   "metadata": {
    "slideshow": {
     "slide_type": "-"
    }
   },
   "source": [
    "**1.** Descargar el software Miniconda desde su [sitio web](https://docs.conda.io/en/latest/miniconda.html). Recordemos que en el apunte [instalacion](100_instalacion.ipynb) vamos encontrar material de consulta sobre el proceso de instalación y errores comunes. Luego de instalar, es conveniente hacer una actualización del software."
   ]
  },
  {
   "cell_type": "markdown",
   "metadata": {
    "slideshow": {
     "slide_type": "-"
    }
   },
   "source": [
    "**2.** Instalar un IDE para poder crear archivos .py, .md, .ipynb, entre otros. Para lo cual desde la consola usamos las siguientes intrucciones:\n",
    "\n",
    "``` bash\n",
    "conda install spyder \n",
    "\n",
    "conda install jupyterlab\n",
    "```"
   ]
  },
  {
   "cell_type": "markdown",
   "metadata": {
    "slideshow": {
     "slide_type": "-"
    }
   },
   "source": [
    "**3.** Descargar o clonar el contenido en un repositorio local, como figura en el [README.md](../../README.md) del [repositorio en Github](https://github.com/maxiyommi/signal-systems). \n",
    "\n",
    "> En caso de querer conocer más como trabajar con repositorios, Git, GitHub, entre otros, preparamos un [notebook](101_intro_git.ipynb) que da una breve introduccíon al mismo"
   ]
  },
  {
   "cell_type": "markdown",
   "metadata": {
    "slideshow": {
     "slide_type": "-"
    }
   },
   "source": [
    "**4.** Abrimos **Jupyter Lab**, dentro de la carpeta descargada previamente y exploraremos su interfaz, lo primero que debemos hacer es pulsar el botón '+' para crear un nuevo lanzador. Las pestaña emergente nos muestra dos opciones principales: **Notebook y Console**. Abramos una consola seleccionando la segunda opción y tratemos de utilizarla como una calculadora, realizando operaciones entre números de todo tipo. Abrir todos los archivos que figuran en la carpeta descargada: .py, .md, .ipynb, entre otros."
   ]
  },
  {
   "cell_type": "markdown",
   "metadata": {
    "slideshow": {
     "slide_type": "-"
    }
   },
   "source": [
    "**5.** Explorar las herramientas instaladas con los **snippets** que figuran en la carpeta de *../code*.\n",
    "\n",
    "``` bash\n",
    "run snippet_1.py # desde consola de Python\n",
    "\n",
    "python snippet_2.py # desde terminal del sistema operativo\n",
    "\n",
    "python snippet_3.py\n",
    "\n",
    "python snippet_4.py # solo desde terminal del sistema operativo\n",
    "```"
   ]
  }
 ],
 "metadata": {
  "file_extension": ".py",
  "kernelspec": {
   "display_name": "Python 3",
   "language": "python",
   "name": "python3"
  },
  "language_info": {
   "codemirror_mode": {
    "name": "ipython",
    "version": 3
   },
   "file_extension": ".py",
   "mimetype": "text/x-python",
   "name": "python",
   "nbconvert_exporter": "python",
   "pygments_lexer": "ipython3",
   "version": "3.7.9"
  },
  "mimetype": "text/x-python",
  "name": "python",
  "npconvert_exporter": "python",
  "pygments_lexer": "ipython3",
  "version": 3
 },
 "nbformat": 4,
 "nbformat_minor": 4
}
