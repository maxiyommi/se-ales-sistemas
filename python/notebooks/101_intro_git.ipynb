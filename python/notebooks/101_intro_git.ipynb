{
 "cells": [
  {
   "cell_type": "markdown",
   "metadata": {},
   "source": [
    "# Introducción a Git"
   ]
  },
  {
   "cell_type": "markdown",
   "metadata": {},
   "source": [
    "## Contenido\n",
    "\n",
    "* [Introducción](#Introduccion).\n",
    "* [Git en windows](#Git-en-windows).\n",
    "* [Antes que nada](#Antes-que-nada).\n",
    "* [Configurar Git](#Configurar-Git).\n",
    "* [Obteniendo ayuda](#Obteniendo-ayuda).\n",
    "* [Creando un Git repositorio](#Creando-un-Git-repositorio).\n",
    "    * [Agregue un script Python al nuevo directorio](#Agregue-un-script-Python-al-nuevo-directorio).\n",
    "    * [Inicializando un repositorio](#Inicializando-un-repositorio).\n",
    "* [Estado de un repositorio](#Estado-de-un-repositorio).\n",
    "* [Agregar archivos al repositorio](#Agregar-archivos-al-repositorio).\n",
    "* [Committing changes I](#Committing-changes-I).\n",
    "* [Editando un tracked file](#Editando-un-tracked-file).\n",
    "* [Ver cambios](#Ver-cambios).\n",
    "* [Committing changes II](#Committing-changes-II).\n",
    "* [Viendo el historial del repositorio](#Viendo-el-historial-del-repositorio).\n",
    "* [Ciclo de vida del estado de los archivos](#Ciclo-de-vida-del-estado-de-los-archivos).\n",
    "* [Push para crear un nuevo proyecto](#Push-para-crear-un-nuevo-proyecto).\n",
    "    * [Git push usando HTTP](Git-push-usando-HTTP).\n",
    "* [Actualizar el repositorio en Github, Gitlab o Bitbucket](#Actualizar-el-repositorio-en-Github,-Gitlab-o-Bitbucket).\n",
    "* [403 Forbidden while accessing](#403-Forbidden-while-accessing...).\n",
    "* [Ver en el repositorio de GitHub](#Ver-en-el-repositorio-de-GitHub).\n",
    "* [Workflow en Git](#Workflow-en-Git)"
   ]
  },
  {
   "cell_type": "markdown",
   "metadata": {},
   "source": [
    "## Objetivos del notebook\n",
    "\n",
    "* Instalar y configurar git.\n",
    "* Crear, administrar y compartir repositorios.\n",
    "* Usar y mantener repositorio remotos como Github, Gitlab o Bitbucket."
   ]
  },
  {
   "cell_type": "markdown",
   "metadata": {},
   "source": [
    "## Introduccion\n",
    "\n",
    "![](https://encrypted-tbn0.gstatic.com/images?q=tbn:ANd9GcSvbsAry3Ml-OxuapvoN6m0BMxm6lgrp0R8CrUXeFwc0YcpoIJI)\n",
    "\n",
    "**Traducido** de [@mglerner en GitHub](https://github.com/numerical-mooc/numerical-mooc/blob/master/lessons/00_getting_started/00_04_Intro_to_git.md) por [Google Translate](https://translate.google.com/?hl=es) y adaptado para este workshop.\n",
    "\n",
    "**El control de versiones es un método para realizar un seguimiento de los cambios que presentamos a un conjunto de archivos o documentos que usamos**. El control de versiones nos permite comparar versiones más nuevas de código con versiones anteriores e investigar cuándo se realizaron ciertos cambios que pueden haber causado un mal funcionamiento del código. [Git](https://git-scm.com/) es uno de esos software de control de versiones, que fue creado por [Linus Torvalds](https://es.wikipedia.org/wiki/Linus_Torvalds) para ayudar a escribir el kernel de Linux.\n",
    "\n",
    "Los sistemas de control de versiones almacenan archivos en un directorio conocido como **repositorio** de manera local o remota. Además de los archivos, un repositorio también contiene información sobre el historial de cada archivo y todas las modificaciones que se realizaron. \n",
    "\n",
    "Ante cualquier duda ir a la [documentación oficial Git](https://git-scm.com/book/es/v2).\n",
    "\n",
    "Un versión simplificada de los comandos básicos y uso más común de la herramienta, se encuentra en el siguiente [link](http://rogerdudler.github.io/git-guide/index.es.html).\n",
    "\n",
    "> Una excelente **aplicación web diseñada para ayudar a los principantes** a manejar los poderosos conceptos que hay detrás del trabajo con ramas (branches) en Git es [learngitbranching.js.org](https://learngitbranching.js.org/)."
   ]
  },
  {
   "cell_type": "markdown",
   "metadata": {},
   "source": [
    "## Git en windows\n",
    "\n",
    "Instalar Git en Windows es muy fácil, simplemente descarga el archivo `.exe` del instalador desde la página de [Git for windows](https://gitforwindows.org/).\n",
    "Una vez instalado (con todas las configuraciones por defecto), tendrás tanto la versión de línea de comandos (incluido un cliente SSH) como la interfaz gráfica de usuario estándar."
   ]
  },
  {
   "cell_type": "markdown",
   "metadata": {},
   "source": [
    "## Antes que nada\n",
    "\n",
    "Cuando escribimos mensajes **commit**, necesitamos usar un editor de texto. El editor de texto predeterminado, `vim`, es ... antipático. Es increíblemente poderoso, pero no es amigable. A la luz de eso, cambiemos el editor predeterminado al `nano` haciendo lo siguiente en una terminal (solo hacemos esto una vez, los cambios persistirán):\n",
    "\n",
    "``` shell\n",
    "echo \"export EDITOR=nano\" >> .bashrc\n",
    "source .bashrc\n",
    "```"
   ]
  },
  {
   "cell_type": "markdown",
   "metadata": {},
   "source": [
    "## Configurar Git\n",
    "\n",
    "Antes de usar Git, tenemos que configurar dos cosas  para ayudar a rastrear los cambios que hacemos a los archivos. Ejecute los siguientes comandos, completando su información personal. Asegúrese de usar la misma dirección de correo electrónico que utilizó para registrarse en [Github](https://github.com/), [Gitlab](https://about.gitlab.com/) o [Bitbucket](https://bitbucket.org/).\n",
    "\n",
    "``` shell\n",
    "git config --global user.email \"your.github.email\"\n",
    "git config --global user.name \"First Last\"\n",
    "```\n",
    "\n",
    "> Si copia y pega éstos, asegúrese de hacerlo una línea a la vez. Si pega dos líneas en un terminal, ejecutará el primer comando automáticamente y Git pensará que su dirección de correo electrónico es \"your.github.email\".\n",
    "\n",
    "Para comprobar la configuración usar el comando `git config --global --list` ."
   ]
  },
  {
   "cell_type": "markdown",
   "metadata": {},
   "source": [
    "## Obteniendo ayuda\n",
    "\n",
    "Si alguna vez necesitas ayuda usando Git, hay tres formas de ver la página del manual (manpage) para cualquier comando de Git:\n",
    "\n",
    "``` shell\n",
    "git help <comando>\n",
    "```\n",
    "Por ejemplo, puedes ver la página del manual para el comando config ejecutando:\n",
    "\n",
    "``` shell\n",
    "git help config\n",
    "```"
   ]
  },
  {
   "cell_type": "markdown",
   "metadata": {},
   "source": [
    "## Creando un Git repositorio\n",
    "\n",
    "Primero vamos a hacer un nuevo directorio que se convertirá en nuestro primer repositorio de git.\n",
    "¿Recuerdas el comando para hacer un nuevo directorio? ¡Es `mkdir`! Nos gusta mantener todos nuestros directorios de git en una carpeta llamada \"git\". Hagamos esa carpeta primero.\n",
    "\n",
    "``` shell\n",
    "mkdir git\n",
    "```\n",
    "\n",
    "Ahora creemos una nueva carpeta llamada \"first_repo\" que será, como era de esperar, nuestro primer repositorio.\n",
    "\n",
    "``` shell\n",
    "cd git\n",
    "mkdir first_repo\n",
    "```\n",
    "\n",
    "**Cuidado:** si está acostumbrado a usar espacios en los nombres de las carpetas, ¡cuidado! En Linux (y OSX) si ejecuta el comando.\n",
    "\n",
    "``` shell\n",
    "mkdir first repo\n",
    "```\n",
    "\n",
    "De hecho, terminará con dos carpetas, una llamada \"first\" y otra llamada \"repo\"."
   ]
  },
  {
   "cell_type": "markdown",
   "metadata": {},
   "source": [
    "### Agregue un script Python al nuevo directorio\n",
    "\n",
    "Vamos a `cd` en \"first_repo\" y luego creamos un script rápido de Python.\n",
    "\n",
    "``` shell\n",
    "cd first_repo\n",
    "nano HelloWorld.py\n",
    "```\n",
    "\n",
    "**¿Qué es `nano`?**\n",
    "\n",
    "`nano` es un editor de texto simple basado en terminal. Hay varios editores increíblemente potentes basados en terminales (Vim, Emacs) pero vienen con curvas de aprendizaje bastante empinadas. `nano` es mucho más amigable.\n",
    "\n",
    "El archivo `HelloWorld.py` no existe, pero ejecutamos `nano HelloWorld.py` y crea ese archivo y lo abre para su edición.\n",
    "\n",
    "**Volviendo al script**\n",
    "\n",
    "Ingresar:\n",
    "\n",
    "``` python\n",
    "print(\"Hello, World!\")\n",
    "```\n",
    "\n",
    "> Luego presiona `Ctrl + o` para guardar el archivo, luego `Ctrl + x` para salir de `nano`."
   ]
  },
  {
   "cell_type": "markdown",
   "metadata": {},
   "source": [
    "### Inicializando un repositorio\n",
    "\n",
    "Ahora tenemos una carpeta llamada \"first_repo\" con el script `HelloWorld.py` en ella. Ahora vamos a convertir esta carpeta en un repositorio de Git\n",
    "\n",
    "Primero, verifica que estés en la carpeta que creaste con `pwd`:\n",
    "\n",
    "``` shell\n",
    "pwd\n",
    "```\n",
    "\n",
    "Si estás en el lugar correcto:\n",
    "\n",
    "``` shell\n",
    "git init\n",
    "```\n",
    "\n",
    "Ahora \"first_repo\" es un repositorio Git."
   ]
  },
  {
   "cell_type": "markdown",
   "metadata": {},
   "source": [
    "## Estado de un repositorio\n",
    "\n",
    "Para chequear el status del repositorio:\n",
    "\n",
    "``` shell\n",
    "git status\n",
    "```\n",
    "\n",
    "Devolverá lo siguiente:\n",
    "\n",
    "``` shell\n",
    "# On branch master\n",
    "#\n",
    "# Initial commit\n",
    "#\n",
    "# Untracked files:\n",
    "#   (use \"git add <file>...\" to include in what will be committed)\n",
    "#\n",
    "#   HelloWorld.py\n",
    "nothing added to commit but untracked files present (use \"git add\" to track)\n",
    "```\n",
    "\n",
    "**¿Qué está pasando aquí?**\n",
    "\n",
    "* El historial del repositorio se almacena a lo largo de una línea de tiempo conocida como branch (rama). Estamos en la **branch** \"master\" (principal).\n",
    "* En cualquier momento, el usuario puede elegir guardar una **snapshot** de todos los archivos en el repositorio. Cada **snapshot** se conoce como **commit**. El acto de guardar una instantánea se conoce como **committing changes**."
   ]
  },
  {
   "cell_type": "markdown",
   "metadata": {},
   "source": [
    "## Agregar archivos al repositorio\n",
    "\n",
    "El comando `status` también nos dijo que tenemos un \"Untracked files\" (HelloWorld.py). Eso significa que HelloWorld.py no forma parte de ninguna snapshots y Git no registra su historial.\n",
    "\n",
    "El resultado también nos dice qué debemos hacer para **commit** a nuestros cambios: (use \"git add <file> ...\" para incluir el **commit**). Así que hagámoslo y revisemos el estado nuevamente:\n",
    "    \n",
    "``` shell\n",
    "git add HelloWorld.py\n",
    "git status\n",
    "```   \n",
    "\n",
    "Que nos da:\n",
    "  \n",
    "``` shell\n",
    "# On branch master\n",
    "#\n",
    "# Initial commit\n",
    "#\n",
    "# Changes to be committed:\n",
    "#   (use \"git rm --cached <file>...\" to unstage)\n",
    "#\n",
    "#   new file:   HelloWorld.py\n",
    "#\n",
    "``` \n",
    "\n",
    "**Tenga en cuenta que esto aún no confirma los cambios**. El comando `git add`  agrega el archivo a lo que se conoce como el área **staging** (de ensayo). Aquí es donde se almacenan todos los cambios en los archivos que están listos para **committed**. Todos los archivos en el área **staging** se enumeran en \"Changes to be committed:\". Podemos ver que HelloWorld.py se ha agregado a esta lista."
   ]
  },
  {
   "cell_type": "markdown",
   "metadata": {},
   "source": [
    "## Committing changes I\n",
    "\n",
    "Queremos guardar un snapshot del repositorio tal como está ahora; es hora de **commit**!\n",
    "\n",
    "``` shell\n",
    "git commit\n",
    "``` \n",
    "\n",
    "Esto abrirá `nano` y verá un montón de información sobre el **commit** que está realizando. Centrémonos en escribir nuestro primer mensaje **commit**. Escriba un mensaje **commit**:\n",
    "\n",
    "``` shell\n",
    "First commit.  Add HelloWorld.py\n",
    "``` \n",
    "\n",
    "Luego presiona `Ctrl + o` para guardar y luego `Ctrl + x` para salir.\n",
    "\n",
    "¡Felicitaciones! ¡Acabas de hacer tu primer commit! Escribir buenos mensajes de **commit** es una buena práctica de programación. Te ayudará a vos y a cualquier otra persona que use tu código más adelante.git st\n",
    "\n",
    "Verifique el estado del repositorio nuevamente:\n",
    "\n",
    "``` shell\n",
    "git status\n",
    "``` \n",
    "\n",
    "Y se deberia ver, algo asi:\n",
    "\n",
    "``` shell\n",
    "# On branch master\n",
    "nothing to commit (working directory clean)\n",
    "``` "
   ]
  },
  {
   "cell_type": "markdown",
   "metadata": {},
   "source": [
    "## Editando un tracked file\n",
    "\n",
    "Ahora, supongamos que decide realizar algunos cambios en el archivo. En lugar de imprimir \"Hello, World!\", Quieres mostrar \"Greetings Earth! We come in peace.\" Abre `nano` nuevamente para editar el archivo.\n",
    "\n",
    "``` shell\n",
    "nano HelloWorld.py\n",
    "``` \n",
    "\n",
    "y realice los cambios apropiados en el archivo:\n",
    "\n",
    "``` shell\n",
    "print(\"Greetings Earth! We come in peace.\")\n",
    "``` \n",
    "\n",
    "Luego presiona `Ctrl + o` para guardar y luego `Ctrl + x` para salir.\n",
    "\n",
    "Verifique el estado del repositorio nuevamente:\n",
    "\n",
    "``` shell\n",
    "git status\n",
    "``` \n",
    "\n",
    "Y se deberia ver, algo asi:\n",
    "\n",
    "``` shell\n",
    "# On branch master\n",
    "# Changes not staged for commit:\n",
    "#   (use \"git add <file>...\" to update what will be committed)\n",
    "#   (use \"git checkout -- <file>...\" to discard changes in working directory)\n",
    "#\n",
    "#   modified:   HelloWorld.py\n",
    "#\n",
    "no changes added to commit (use \"git add\" and/or \"git commit -a\")\n",
    "``` \n",
    "\n",
    "Tiene una lista de archivos que se han modificado desde el último **commit**, junto con algunos consejos sobre lo que puede hacer con ellos."
   ]
  },
  {
   "cell_type": "markdown",
   "metadata": {},
   "source": [
    "## Ver cambios\n",
    "\n",
    "Solo cambiamos una línea en un archivo; pgit diero a veces puede editar varias líneas, o tomar un café y volver, y descubrir que no puede recordar todo lo que ha hecho. Aquí es donde entra en juego `git diff`. Mostrará todos los cambios realizados en el repositorio actual (¡incluso si aún no están **committed** !).\n",
    "\n",
    "``` shell\n",
    "git diff\n",
    "``` \n",
    "\n",
    "Y se deberia ver, algo asi:\n",
    "\n",
    "``` shell\n",
    "diff --git a/HelloWorld.py b/HelloWorld.py\n",
    "index ed708ec..ce3f2ef 100644\n",
    "--- a/HelloWorld.py\n",
    "+++ b/HelloWorld.py\n",
    "@@ -1 +1 @@\n",
    "-print \"Hello world!\"\n",
    "+print \"Greetings Earth! We come in peace.\"\n",
    "``` \n",
    "\n",
    "> Todas las líneas que comienzan con - son aquellas que han sido eliminadas, y las líneas que comienzan con + son las que se han agregado. En nuestro caso, podemos ver que la impresión (\"Hello world!\") Se ha eliminado y agregado (\"Greetings Earth! We come in peace.\") en su lugar."
   ]
  },
  {
   "cell_type": "markdown",
   "metadata": {},
   "source": [
    "## Committing changes II\n",
    "\n",
    "Queremos agregar los cambios que hicimos al historial del archivo \"HelloWorld.py\". Para hacer esto, seguimos los mismos pasos que cuando agregamos el archivo por primera vez.\n",
    "\n",
    "Primero, el **stage** de los cambios ejecutandos\n",
    "\n",
    "``` shell\n",
    "git add HelloWorld.py\n",
    "``` \n",
    "\n",
    "Ahora revisa el estado del repositorio nuevamente:\n",
    "\n",
    "``` shell\n",
    "> git status\n",
    "# On branch master\n",
    "# Changes to be committed:\n",
    "#   (use \"git reset HEAD <file>...\" to unstage)\n",
    "#\n",
    "#   modified:   HelloWorld.py\n",
    "#\n",
    "``` \n",
    "\n",
    "¡Ahora estamos listos para **commit** ese cambio! Pero es un cambio bastante simple, ¿no? Si sabemos que no necesitamos escribir un mensaje de **commit** más complicado, podemos usar un atajo:\n",
    "\n",
    "``` shell\n",
    "git commit -m \"Edit the message to sound more friendly\"\n",
    "```\n",
    "\n",
    "-m es la abreviatura de mensaje. Este comando confirmará los cambios con el mensaje que le pasamos. ¡No es necesario abrir `nano` esta vez!."
   ]
  },
  {
   "cell_type": "markdown",
   "metadata": {},
   "source": [
    "## Viendo el historial del repositorio\n",
    "\n",
    "Hemos guardado dos **snapshots** de este repositorio. Podemos ver la lista de todas las commits usando el comando `git log`.\n",
    "\n",
    "``` shell\n",
    "git log\n",
    "```\n",
    "\n",
    "que dará como resultado algo así como:\n",
    "\n",
    "``` shell\n",
    "commit e9d7cbab2205d00d5ef574fcae8ff75701529565\n",
    "Author: Gil Forsyth <gforsyth@...>\n",
    "Date:   Tue Aug 19 16:36:08 2015 -0400\n",
    "\n",
    "    Edit the message to sound more friendly.\n",
    "\n",
    "commit 16bb3d3b5af5e485e4713a3fdefcff7ae88ce7df\n",
    "Author: Gil Forsyth <gforsyth@...>\n",
    "Date:   Tue Aug 19 15:45:12 2015 -0400\n",
    "\n",
    "    First commit. Add HelloWorld.py.\n",
    "```"
   ]
  },
  {
   "cell_type": "markdown",
   "metadata": {},
   "source": [
    "# Ciclo de vida del estado de los archivos\n",
    "\n",
    "Dado un repositorio Git completo, y una copia de trabajo de los archivos de ese proyecto (en algún repositorio remoto), surge la necesidad hacer algunos cambios, y confirmar **snapshot** de esos cambios a tu repositorio cada vez que el proyecto alcance un estado que desees grabar.\n",
    "\n",
    "Recuerda que cada archivo de tu directorio de trabajo puede estar en uno de estos dos estados: bajo seguimiento (tracked), o sin seguimiento (untracked). Los archivos bajo seguimiento son aquellos que existían en la última instantánea; pueden estar sin modificaciones, modificados, o preparados. Los archivos sin seguimiento son todos los demás —cualquier archivo de tu directorio que no estuviese en tu última **snapshot** ni está en tu área de preparación—. La primera vez que clonas un repositorio, todos tus archivos estarán bajo seguimiento y sin modificaciones, ya que los acabas de copiar y no has modificado nada.\n",
    "\n",
    "A medida que editas archivos, Git los ve como modificados, porque los has cambiado desde tu última confirmación. Preparas estos archivos modificados y luego confirmas todos los cambios que hayas preparado, y el ciclo se repite. Este proceso queda ilustrado en la siguiente figura:\n",
    "\n",
    "![](../img/diagramGit_lifecycle.png)"
   ]
  },
  {
   "cell_type": "markdown",
   "metadata": {},
   "source": [
    "## Push para crear un nuevo proyecto\n",
    "\n",
    "Cuando crea un nuevo repositorio localmente, en lugar de ir a GitLab (por elegir una opción) manualmente crea un nuevo proyecto y luego presiona el repositorio, puedes presionarlo directamente para GitLab para crear el nuevo proyecto, todo sin salir de tu terminal. Si tienes acceso a eso espacio de nombres, crearemos automáticamente un nuevo proyecto en ese espacio de nombre de GitLab con su visibilidad configurada como Privada de manera predeterminada (más tarde puede cambiarla en la configuración del proyecto).\n",
    "\n",
    "### Git push usando HTTP\n",
    "\n",
    "``` shell\n",
    "git push --set-upstream https://gitlab.example.com/namespace/nonexistent-project.git master\n",
    "```"
   ]
  },
  {
   "cell_type": "markdown",
   "metadata": {},
   "source": [
    "## Actualizar el repositorio en Github, Gitlab o Bitbucket\n",
    "\n",
    "Una de las características ingeniosas de Git es que le permite copiar la carpeta que contiene el repositorio a cualquier otra ubicación, y toda la información relacionada con el historial del repositorio también se transfiere automáticamente. También le permite crear una copia de seguridad de su repositorio en un servidor remoto. **Los servicios como Github ejecutan servidores donde puede alojar sus repositorios de forma gratuita.**\n",
    "\n",
    "Crea una cuenta en Github y sigue las instrucciones para crear tu propio repositorio Github.\n",
    "\n",
    "> Para evitar confusiones, es una buena idea darle al repositorio de Github el mismo nombre que la carpeta en su computadora.\n",
    "\n",
    "Después de que se crea el repositorio, Github mostrará instrucciones para enviar un repositorio existente a Github usando la línea de comando. Los comandos son:\n",
    "\n",
    "``` shell\n",
    "git remote add origin https://github.com/gforsyth/first_repo.git\n",
    "git push -u origin master\n",
    "```\n",
    "\n",
    "Por supuesto, debe hacer los cambios apropiados para que refleje su nombre de usuario Github y el nombre de su repositorio.\n",
    "\n",
    "* `git remote add` es el comando utilizado para especificar información sobre el repositorio remoto al que desea cargar. Para hacer esto, necesitamos proporcionar un nombre para el control remoto y la dirección del servidor donde está alojado. En lo anterior, nombramos el `origin` del repositorio remoto (por convención) y especificamos el URL creado por Github.\n",
    "\n",
    "* `git push` se usa para enviar todos los cambios desde el repositorio local al repositorio remoto. La bandera `-u` solo se usa la primera vez que empuja una nueva rama."
   ]
  },
  {
   "cell_type": "markdown",
   "metadata": {},
   "source": [
    "## 403 Forbidden while accessing...\n",
    "\n",
    "La versión anterior de `git` a veces arroja errores al intentar push a GitHub o cualquier otro sitio que utiliza la autenticación HTTPS. Si obtienes el error anterior al intentar hacer `git push`, puedes arreglarlo con una línea adicional:\n",
    "\n",
    "``` shell\n",
    "git remote add origin https://github.com/gforsyth/first_repo.git\n",
    "git remote set-url origin https://gforsyth@github.com/gforsyth/first_repo.git\n",
    "git push -u origin master\n",
    "```\n",
    "**Asegúrese de cambiar el nombre de usuario y el nombre del repositorio para que coincida con lo que ha creado**. Si está utilizando una versión anterior de `git`, la solución más fácil es actualizar, pero si no puede hacerlo por el motivo que sea, ejecutar ese comando adicional cuando configure un nuevo repositorio debería solucionar el problema."
   ]
  },
  {
   "cell_type": "markdown",
   "metadata": {},
   "source": [
    "## Ver en el repositorio de GitHub\n",
    "\n",
    "Sus cambios deben reflejarse inmediatamente en Github. La URL de su repositorio debe ser `https://github.com/<your username>/first_repo`."
   ]
  },
  {
   "cell_type": "markdown",
   "metadata": {},
   "source": [
    "![](../img/diagramGit.png)"
   ]
  },
  {
   "cell_type": "markdown",
   "metadata": {},
   "source": [
    "## Workflow en Git\n",
    "\n",
    "![](../img/gitWorkflow.png)\n",
    "\n",
    "Esta sección analiza brevemente el flujo de trabajo en Github, en una situación en la que un repositorio tiene muchos colaboradores. Para más detalles ver [este link](https://guides.github.com/introduction/flow/) del sitio Github, que incluye una versión más linda del diagrama y una explicación detallada de cada parte del proceso.\n",
    "\n",
    "La rama principal, llamada **master**, sólo contiene avances probados y concluidos. Cada vez que queremos aplicar un avance o idea nueva en un repositorio creamos una rama o **branch** sobre la cual probamos las nuevas modificaciones. Los **commits** se hacen dentro de la rama y cuando consideremos que hemos finalizado con el avance en que estuvimos trabajando realizamos un **pull request**. Ésto hace que se inicie una discusión sobre el avance con los colaboradores y el dueño/administrador del repositorio. Éste último puede aceptar el 'request' y agregar el avance en la rama 'master' mediante un **merge**.\n",
    "\n",
    "Comandos para la consola de GIT:\n",
    "\n",
    "* Crear un branch con el nombre 'pantalla-principal': `git branch pantalla-principal`\n",
    "* Ubicarse dentro del branch para hacer cambios ahí: `git checkout pantalla-principal`\n",
    "* Forma abreviada para hacer ambas cosas a la vez: `git checkout -b pantalla-principal`"
   ]
  },
  {
   "cell_type": "markdown",
   "metadata": {},
   "source": [
    "## Licencia\n",
    "\n",
    "<a rel=\"license\" href=\"http://creativecommons.org/licenses/by-sa/4.0/\"><img alt=\"Licencia de Creative Commons\" style=\"border-width:0\" src=\"https://i.creativecommons.org/l/by-sa/4.0/88x31.png\" /></a><br />Este documento se destribuye con una <a rel=\"license\" href=\"http://creativecommons.org/licenses/by-sa/4.0/\">licencia Atribución CompartirIgual 4.0 Internacional de Creative Commons</a>.\n",
    "\n",
    "Material adaptado del curso [Introducción a Python](https://github.com/infiniemlabs-acustica/python_introduccion)\n",
    "\n",
    "© 2020. Infiniem Labs Acústica. infiniemlab.dsp@gmail.com (CC BY-SA 4.0))"
   ]
  }
 ],
 "metadata": {
  "kernelspec": {
   "display_name": "Python 3",
   "language": "python",
   "name": "python3"
  },
  "language_info": {
   "codemirror_mode": {
    "name": "ipython",
    "version": 3
   },
   "file_extension": ".py",
   "mimetype": "text/x-python",
   "name": "python",
   "nbconvert_exporter": "python",
   "pygments_lexer": "ipython3",
   "version": "3.7.9"
  }
 },
 "nbformat": 4,
 "nbformat_minor": 4
}
