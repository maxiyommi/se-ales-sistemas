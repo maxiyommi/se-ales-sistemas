{
 "cells": [
  {
   "cell_type": "markdown",
   "metadata": {},
   "source": [
    "## Ejercicios Propuestos"
   ]
  },
  {
   "cell_type": "markdown",
   "metadata": {},
   "source": [
    "**1.** El factorial de un entero positivo $n$, se define en principio como el producto de todos los números enteros positivos desde 1 (es decir, los números naturales) hasta $n$. Por ejemplo: \n",
    "$$5! = 1*2*3*4*5=120$$\n",
    "Escribir una función que devuelva el factorial de un número $n$"
   ]
  },
  {
   "cell_type": "code",
   "execution_count": null,
   "metadata": {},
   "outputs": [],
   "source": []
  },
  {
   "cell_type": "markdown",
   "metadata": {},
   "source": [
    "**2.** Definir una función para pasar de Celsius a Kelvin."
   ]
  },
  {
   "cell_type": "code",
   "execution_count": null,
   "metadata": {},
   "outputs": [],
   "source": []
  },
  {
   "cell_type": "markdown",
   "metadata": {},
   "source": [
    "**3.** Escribir una función que, dado un número de DNI, retorne `True` si el número es válido y `False` si no lo es. Para que un número de DNI sea válido debe tener entre 7 y 8 dígitos."
   ]
  },
  {
   "cell_type": "code",
   "execution_count": null,
   "metadata": {},
   "outputs": [],
   "source": []
  },
  {
   "cell_type": "markdown",
   "metadata": {},
   "source": [
    "**4.** Una empresa cuenta con 100 empleados, divididos en tres categorías A, B y C. Por cada empleado se lee su legajo, categoría y salario. Se solicita elaborar un informe que contenga:\n",
    "\n",
    "* Importe total de salarios pagados por la empresa. \n",
    "* Cantidad de empleados que ganan más de 20000. \n",
    "* Cantidad de empleados que ganan menos de 5000, cuya categoría sea “C”. \n",
    "* Legajo del empleado que más gana.\n",
    "* Sueldo más bajo.\n",
    "* Importe total de sueldos por cada categoría. \n",
    "* Salario promedio."
   ]
  },
  {
   "cell_type": "code",
   "execution_count": null,
   "metadata": {},
   "outputs": [],
   "source": []
  },
  {
   "cell_type": "markdown",
   "metadata": {},
   "source": [
    "**5.** Rellenar una lista con números enteros entre 0 y 100 obtenidos al azar e imprimir el valor mínimo y el lugar que ocupa. Tener en cuenta que el mínimo puede estar repetido, en cuyo caso deberán mostrarse todas las posiciones que ocupe. La carga de datos termina cuando se obtenga un 0 como número al azar, el que no deberá cargarse enla lista."
   ]
  },
  {
   "cell_type": "code",
   "execution_count": null,
   "metadata": {},
   "outputs": [],
   "source": []
  },
  {
   "cell_type": "markdown",
   "metadata": {},
   "source": [
    "**6.** Dado una lista de N números (por ejemplo 5), devolver una lista de N-1 valores booleanos,tal que cada valor de este último arreglo corresponde al resultado de la comparación de los pares de valores consecutivos del primer arreglo. El valor booleano es True si el primer elemento del par es menor o igual que el siguiente, y False si no lo es. \n",
    "Ejemplo:\n",
    "* Lista original: 4 2 8 8 6\n",
    "* Resultado: F T T F"
   ]
  },
  {
   "cell_type": "code",
   "execution_count": null,
   "metadata": {},
   "outputs": [],
   "source": []
  },
  {
   "cell_type": "markdown",
   "metadata": {},
   "source": [
    "**7.** Desarrollar un programa que genere un número entero al azar de cuatro cifras y proponerle al usuario que lo descubra, ingresando valores repetidamente hasta hallarlo. En cada intento el programa mostrará mensajes indicando si el número ingresado es mayor o menor\n",
    "que el valor secreto. Permitir que el usuario abandone al ingresar -1. Informar la cantidad de intentos realizada al terminar el juego, haciendo que el usuario ingrese su nombre si mejoró la mejor marca de intentos obtenida hasta el momento. Luego mostrar la lista de los 5 mejores puntajes y preguntar si se desea jugar otra vez, reiniciando el juego en caso afirmativo."
   ]
  },
  {
   "cell_type": "code",
   "execution_count": null,
   "metadata": {},
   "outputs": [],
   "source": []
  },
  {
   "cell_type": "markdown",
   "metadata": {},
   "source": [
    "**8.** Cargar dos listas de números A y B. Se solicita construir e imprimir tres nuevas listas C, D y E que contengan:\n",
    "* La concatenación de los valores pares de A con los impares de B.\n",
    "* La concatenación de los valores pares de A con el reverso de los valores pares de B. (\"valores pares\" o \"valores impares\" se refiere a los elementos propiamente dichos y no a sus posiciones). \n",
    "* La intercalación de los elementos de A y B."
   ]
  },
  {
   "cell_type": "code",
   "execution_count": null,
   "metadata": {},
   "outputs": [],
   "source": []
  },
  {
   "cell_type": "markdown",
   "metadata": {},
   "source": [
    "**9.** Ingresar por teclado un número N y construir una lista llamada SECUENCIAS con números enteros al azar entre 1 y 20. Esta lista se caracterizará porque sus valores deben encontrarse divididos en secuencias de números separadas por ceros, cuya suma no sea mayor que 20. Para eso se deberá agregar un elemento de valor 0 a fin de separar cada secuencia de la siguiente, cuidando que ninguna secuencia sume más de 20. Agregar un 0 adicional al final de la lista y mostrar la lista obtenida por pantalla. \n",
    "Ejemplo: \n",
    "* Valor de N ingresado: 11 \n",
    "* Números al azar generados: 5, 2, 9, 6, 4, 15, 3, 19, 12, 1, 5\n",
    "* Lista SECUENCIAS construida: 5 2 9 0 6 4 0 15 3 0 19 0 12 1 5 0"
   ]
  },
  {
   "cell_type": "code",
   "execution_count": null,
   "metadata": {},
   "outputs": [],
   "source": []
  }
 ],
 "metadata": {
  "kernelspec": {
   "display_name": "Python 3",
   "language": "python",
   "name": "python3"
  },
  "language_info": {
   "codemirror_mode": {
    "name": "ipython",
    "version": 3
   },
   "file_extension": ".py",
   "mimetype": "text/x-python",
   "name": "python",
   "nbconvert_exporter": "python",
   "pygments_lexer": "ipython3",
   "version": "3.7.0"
  }
 },
 "nbformat": 4,
 "nbformat_minor": 4
}
