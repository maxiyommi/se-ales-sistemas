{
 "cells": [
  {
   "cell_type": "markdown",
   "metadata": {},
   "source": [
    "https://www.kdnuggets.com/2020/02/audio-file-processing-ecg-audio-python.html\n",
    "https://www.kaggle.com/ejlok1/notebooks\n",
    "https://opensource.com/article/19/9/audio-processing-machine-learning-python\n",
    "https://heartbeat.fritz.ai/working-with-audio-signals-in-python-6c2bd63b2daf\n",
    "https://publish.illinois.edu/augmentedlistening/tutorials/music-processing/tutorial-3-amplitude-clipping-effects/\n",
    "https://nbviewer.jupyter.org/github/JoseRZapata/Pycon2018Colombia/blob/master/Pycon2018-AudioAnalysis-en.ipynb\n",
    "https://dolby.io/blog/analyzing-and-enhancing-archival-recording-collections\n",
    "https://dolby.io/blog/enhance-audio-by-removing-stationary-background-noise\n",
    "https://dolby.io/blog/improving-intelligibility-with-spatial-audio\n",
    "https://essentia.upf.edu/essentia_python_examples.html\n",
    "https://www.ifs.tuwien.ac.at/~schindler/lectures/MIR_Feature_Extraction.html\n",
    "https://awesomeopensource.com/project/scottlawsonbc/audio-reactive-led-strip"
   ]
  },
  {
   "cell_type": "markdown",
   "metadata": {},
   "source": [
    "https://www.coursera.org/learn/audio-signal-processing"
   ]
  }
 ],
 "metadata": {
  "kernelspec": {
   "display_name": "Python 3",
   "language": "python",
   "name": "python3"
  },
  "language_info": {
   "codemirror_mode": {
    "name": "ipython",
    "version": 3
   },
   "file_extension": ".py",
   "mimetype": "text/x-python",
   "name": "python",
   "nbconvert_exporter": "python",
   "pygments_lexer": "ipython3",
   "version": "3.7.9"
  }
 },
 "nbformat": 4,
 "nbformat_minor": 4
}
