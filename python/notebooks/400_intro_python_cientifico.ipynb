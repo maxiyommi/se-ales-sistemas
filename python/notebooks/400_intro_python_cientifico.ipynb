{
 "cells": [
  {
   "cell_type": "markdown",
   "metadata": {},
   "source": [
    "# Introducción a Python Científico"
   ]
  },
  {
   "cell_type": "markdown",
   "metadata": {},
   "source": [
    "## Índice\n",
    "\n",
    " * [Scientific Computing Tools for Python](#Scientific-Computing-Tools-for-Python)\n",
    " * [Energía y potencia](#Energia-y-potencia)\n",
    "     * [SymPy](#SymPy)\n",
    " * [Secuencias](#Secuencias)\n",
    "     * [Numpy](#Numpy)\n",
    "         * [Importando la librería y creando un array](#Importando-la-libreria-y-creando-un-array)\n",
    "         * [Listas y arrays](#Listas-y-arrays)\n",
    "     * [Matplotlib](#Matplotlib) \n",
    " * [Señales discretas básicas](#Señales-discretas-básicas)   \n",
    "     * [Impulso unitario (delta de Kronecker)](#Impulso-unitario-(delta-de-Kronecker))\n",
    "     * [Pulso rectangular](#Pulso-rectangular)\n",
    "     * [Escalón unitario o heaviside discreta](#Escalon-unitario-o-heaviside-discreta)\n",
    "     * [Propiedades de las señales](#Propiedades-de-las-señales)  \n",
    " * [Otras señales de interes](#Otras-señales-de-interes)\n",
    "     * [Rampa](#Rampa)\n",
    "     * [Secuencia exponencial de valores reales](#Secuencia-exponencial-de-valores-reales)\n",
    "     * [Secuencia exponencial de valores complejos](#Secuencia-exponencial-de-valores-complejos)\n",
    "     * [Secuencia senoidal](#Secuencia-senoidal)\n",
    "     * [Secuencia aleatoria](#Secuencia-aleatoria)\n",
    "     * [Funcion Sinc](#Funcion-Sinc)\n",
    "     * [Pulso unitario desplazado y escalado](#Pulso-unitario-desplazado-y-escalado)\n",
    "     * [Escalón unitario desplazado y escalado](#Escalón-unitario-desplazado-y-escalado)     \n",
    " * [Tipos de datos](#Tipos-de-datos)\n",
    " * [Longitud y dimensiones de un array](#Longitud-y-dimensiones-de-un-array)\n",
    " * [Indizado en arrays](#Indizado-en-arrays)\n",
    " * [Referencias](#Referencias)\n",
    " * [Licencia](#Licencia)"
   ]
  },
  {
   "cell_type": "markdown",
   "metadata": {},
   "source": [
    "## Objetivos del notebook\n",
    "\n",
    "* Importar y trabajar con librerias de Scipy (Sympy, numpy y matplotlib)\n",
    "* Calcular energía y potencia.\n",
    "* Definir y trabajar con señales básicas.\n",
    "* Conocer sobre tipo de datos."
   ]
  },
  {
   "cell_type": "markdown",
   "metadata": {},
   "source": [
    "## Scientific Computing Tools for Python\n",
    "\n",
    "Se denomina **SciPy (Scientific Comuting Tools for Python)** a todo el paquete de librerías que engloba a Numpy, Matplotlib, la librería del mismo nombre, Sympy y Pandas. Éstas, en su conjunto, proveen **herramientas Open Source** para la **implementación de operaciones matemáticas y algebraicas, algoritmos de procesamiento de señales, estadísticas y graficadores en 2 y 3 dimensiones**.\n",
    "\n",
    "![](../img/scipy-org.png)\n",
    "\n",
    "**Podemos encontrar una extensa documentación en su [página web](https://www.scipy.org/)**\n",
    "\n",
    "**Para lo usuarios de [MATLAB](https://www.mathworks.com/products/matlab.html) la [siguiente documentación](https://www.mathworks.com/products/matlab.html) es util para facilitar la migración.**"
   ]
  },
  {
   "cell_type": "markdown",
   "metadata": {},
   "source": [
    "## Energia y potencia\n",
    "\n",
    "En muchas aplicaciones, aunque no en todas, las señales que examinamos están directamente realacionas con cantidades físicas que capturan potencia y energia de un sistema físico [Oppenheim A.,pp. 5-7, 1998]. Por ejemplo, el voltaje y la corriente a través de un resistor con resistencia R, entonces la **potencia istantánea** es:\n",
    "\n",
    "$$ p(t)=v(t)i(t)=\\frac {1}{R}v^2(t) $$\n",
    "\n",
    "Entonces la **energía total** gastada durante un **intervalo de tiempo continuo** $[t_1:t_2]$ se define como:\n",
    "\n",
    "$$E[p(t)]_{t_1 \\rightarrow t_2} = \\int_{t_1}^{t_2} p(t) dt = \\int_{t_1}^{t_2} \\frac {1}{R} \\vert v(t) \\vert^2 dt$$\n",
    "\n",
    "La **potencia promedio** durante el mismo **intervalo de tiempo continuo** $[t_1:t_2]$ es:\n",
    "\n",
    "$$P[p(t)]_{t_1 \\rightarrow t_2} = \\frac {1}{t_2-t_1} \\int_{t_1}^{t_2} p(t) dt = \\frac {1}{t_2-t_1} \\int_{t_1}^{t_2} \\frac {1}{R} \\vert v(t) \\vert^2 dt$$\n",
    "\n",
    "De lo presentado anteriormente se desprende la definición de **energia total** durante un **intervalo de tiempo continuo** $[t_1:t_2]$:\n",
    "\n",
    "$$E[x(t)]_{t_1 \\rightarrow t_2} = \\int_{t_1}^{t_2} \\vert x(t) \\vert^2 dt$$\n",
    "\n",
    "En el **caso discreto** de una señal $x[n]$ en el intervalo $[N_1:N_2]$ se define como:\n",
    "\n",
    "$$E[x[n]]_{N_1 \\rightarrow N_2} = \\sum_{n \\rightarrow N_1}^{N_2} \\vert x[n] \\vert^2$$\n",
    "\n",
    "Y la definición de la **potencia promedio** durante el mismo **intervalo de tiempo continuo** $[t_1:t_2]$:\n",
    "\n",
    "$$P[x(t)]_{t_1 \\rightarrow t_2} = \\frac {1}{t_2-t_1} \\int_{t_1}^{t_2} \\vert x(t) \\vert^2 dt$$\n",
    "\n",
    "En el **caso discreto** de una señal $x[n]$ en el intervalo $[N_1:N_2]$ se define como:\n",
    "\n",
    "$$P[x[n]]_{N_1 \\rightarrow N_2} = \\frac {1}{N_2-N_1+1} \\sum_{n \\rightarrow N_1}^{N_2} \\vert x[n] \\vert^2$$\n",
    "\n",
    "Con $\\vert x(t) \\vert$ la magnitud de una señal continua o señal discreta ."
   ]
  },
  {
   "cell_type": "markdown",
   "metadata": {},
   "source": [
    "En muchos sistemas nos interesa examinar la **potencia** y **energía de señales** en un **intervalo de tiempo infinito**:\n",
    "* **Energía** total para tiempo **continuo**:\n",
    "\n",
    "$$E_\\infty=\\lim_{T \\to \\infty }\\int _{-T}^{T} \\vert x(t) \\vert^2 dt=\\int _{-\\infty}^{\\infty} \\vert x(t) \\vert^2 dt$$\n",
    "\n",
    "* **Energía** total para tiempo **discreto**:\n",
    "\n",
    "$$E_\\infty=\\lim_{N \\to \\infty }\\sum _{n=-N}^{N} \\vert x[n] \\vert^2 =\\sum_{n=-\\infty}^{\\infty} \\vert x[n] \\vert^2$$\n",
    "\n",
    "* **Potencia** promedio para tiempo **continuo**:\n",
    "\n",
    "$$P_\\infty=\\lim_{T \\to \\infty } \\frac{1}{2T} \\int _{-T}^{T} \\vert x(t) \\vert^2 dt$$\n",
    "\n",
    "* **Potencia** promedio para tiempo **discreto**:\n",
    "\n",
    "$$P_\\infty=\\lim_{N \\to \\infty } \\frac{1}{2N+1} \\sum_{n=-N}^{N} \\vert x[n] \\vert^2 $$\n"
   ]
  },
  {
   "cell_type": "markdown",
   "metadata": {},
   "source": [
    "El analisis de las señales $x(t)$ o $x[n]$ en un **intervalo infinito** permite identificar tres clases importantes de señales: \n",
    "* Son señales con **energía finita (o señales de energía)**, si y sólo si, $0<E_\\infty<\\infty$ (**energía total finita**). Una señal de este tipo debe tener una **potencia promedio igual a cero**, ya que, en el caso de tiempo continuo, por ejemplo, vemos que:\n",
    "$$P_\\infty=\\lim_{T \\to \\infty}\\frac{E_\\infty}{2T}=0$$\n",
    "\n",
    "* Son señales con **potencia promedio finita (señales de potencia)**, si y sólo si $0<P<\\infty$ (**potencia promedio finita**). Entonces, si $P_\\infty >0$, por necesidad $E_\\infty \\to \\infty$. Esto tiene sentido, ya que si se tiene una energía promedio por unidad de tiempo diferente de cero, entonces integrando o sumando en un intervalo de tiempo infinito produce una cantidad de **energía infinita**. Por ejemplo, la señal constante $x[n]=4$ tiene energía infinita, pero la potencia promedio es $P_\\infty=16$. Otro ejemplo de esto son las señales periodicas.\n",
    "\n",
    "* Señales con **energia** y **potencia promedio infinita**, por ejemplo la señal $x(t)=t$."
   ]
  },
  {
   "cell_type": "markdown",
   "metadata": {},
   "source": [
    "### SymPy\n",
    "\n",
    "![](../img/sympy.jpeg)\n",
    "\n",
    "[SymPy](https://www.sympy.org/en/index.html) es una biblioteca para matemática simbólica, similar a software como [Mathematica](https://www.wolfram.com/mathematica/) o [Mathcad](https://www.mathcad.com/es).\n",
    "Comunmente, las computadoras usan una [coma flotante](https://en.wikipedia.org/wiki/Floating_point) para representar números reales (y complejos) y calcular operaciones matemáticas. Esto implica que la precisión es limitada"
   ]
  },
  {
   "cell_type": "code",
   "execution_count": null,
   "metadata": {},
   "outputs": [],
   "source": [
    "import math\n",
    "math.sqrt(8)"
   ]
  },
  {
   "cell_type": "markdown",
   "metadata": {},
   "source": [
    "Los sistemas de cálculo simbólico (o álgebra computacional, CAS), utilizan una representación simbólica (presentada de la manera más simplicifada posible). Es un área científica que se refiere al estudio y desarrollo de algoritmos y software para la manipulación de expresiones matemáticas y otros objetos matemáticos. Aunque, hablando con propiedad, el álgebra computacional debe ser un sub-campo de la computación científica, ellos son considerados generalmente como campos distintos, porque la computación científica se basa generalmente en el análisis numérico con números aproximados en punto flotante; mientras que, el álgebra computacional enfatiza el cálculo exacto con expresiones que contengan variables y por lo tanto son manipulados como símbolos (de ahí se debe el nombre de cálculo simbólico)."
   ]
  },
  {
   "cell_type": "code",
   "execution_count": null,
   "metadata": {},
   "outputs": [],
   "source": [
    "import sympy\n",
    "\n",
    "raiz8 = sympy.sqrt(8)\n",
    "raiz8"
   ]
  },
  {
   "cell_type": "markdown",
   "metadata": {},
   "source": [
    "> **Nota 1**: en caso que figuré el siguiente error: *ModuleNotFoundError: No module named 'sympy'*. Indica que no esta instalada la librería, hacerlo usando pip:`pip install sympy`."
   ]
  },
  {
   "cell_type": "markdown",
   "metadata": {},
   "source": [
    "> **Nota 2**: para obtener una salida enriquecida:\n",
    "```python\n",
    "import sympy\n",
    "from sympy.interactive import printing\n",
    "printing.init_printing(use_latex='mathjax')\n",
    "```"
   ]
  },
  {
   "cell_type": "markdown",
   "metadata": {},
   "source": [
    "Podemos, por supuesto, evaluar la expresión simbólica"
   ]
  },
  {
   "cell_type": "code",
   "execution_count": null,
   "metadata": {},
   "outputs": [],
   "source": [
    "raiz8.evalf()"
   ]
  },
  {
   "cell_type": "markdown",
   "metadata": {},
   "source": [
    "Por defecto la evaluación numérica se lleva a cabo con un precisión de 15 decimales. Pero puede ajustarse la precisión al número de decimales que uno desee, enviando el número de decimales como argumento a evalf()."
   ]
  },
  {
   "cell_type": "code",
   "execution_count": null,
   "metadata": {},
   "outputs": [],
   "source": [
    "raiz8.evalf(n=150)"
   ]
  },
  {
   "cell_type": "markdown",
   "metadata": {},
   "source": [
    "SymPy utiliza como background la biblioteca [mpmath](https://code.google.com/archive/p/mpmath/) que le permite realizar cálculos con aritmética de precisión arbitraria, de forma tal que ciertas constantes especiales, como pi, el número e, $\\infty$, son tratadas como símbolos y pueden ser evaluadas con aritmética de alta precisión."
   ]
  },
  {
   "cell_type": "markdown",
   "metadata": {},
   "source": [
    "Veamos un ejemplo, para entender como resolver estos problemas. Calcular energía y potencia de la siguiente señal:\n",
    "$$x(t)=2e^{-t}u(t)$$"
   ]
  },
  {
   "cell_type": "code",
   "execution_count": null,
   "metadata": {},
   "outputs": [],
   "source": [
    "from sympy import exp, Heaviside # importar funciones\n",
    "t, T, h = sympy.symbols('t T h') # asignación multiple"
   ]
  },
  {
   "cell_type": "code",
   "execution_count": null,
   "metadata": {},
   "outputs": [],
   "source": [
    "f = 2*exp(-t)*Heaviside(t) # definicion\n",
    "f"
   ]
  },
  {
   "cell_type": "code",
   "execution_count": null,
   "metadata": {},
   "outputs": [],
   "source": [
    "from sympy.plotting import plot # función para graficar"
   ]
  },
  {
   "cell_type": "code",
   "execution_count": null,
   "metadata": {},
   "outputs": [],
   "source": [
    "plot(f)"
   ]
  },
  {
   "cell_type": "markdown",
   "metadata": {},
   "source": [
    "$$E_\\infty=2\\int _{0}^{\\infty} \\vert e^{-t} \\vert^2 dt$$"
   ]
  },
  {
   "cell_type": "code",
   "execution_count": null,
   "metadata": {},
   "outputs": [],
   "source": [
    "from sympy import limit, integrate # función limite y integral"
   ]
  },
  {
   "cell_type": "code",
   "execution_count": null,
   "metadata": {},
   "outputs": [],
   "source": [
    "E =  integrate(f,(t,-sympy.oo, sympy.oo))\n",
    "E"
   ]
  },
  {
   "cell_type": "markdown",
   "metadata": {},
   "source": [
    "$$P_\\infty=\\lim_{T \\to \\infty } \\frac{1}{2T} 4 \\int _{0}^{T} \\vert e^{-t} \\vert^2 dt$$"
   ]
  },
  {
   "cell_type": "code",
   "execution_count": null,
   "metadata": {},
   "outputs": [],
   "source": [
    "P = limit((1/(2*T)*integrate(f,(t,-sympy.oo, sympy.oo))),T,sympy.oo)\n",
    "P"
   ]
  },
  {
   "cell_type": "markdown",
   "metadata": {},
   "source": [
    "## Secuencias\n",
    "\n",
    "Las señales pueden ser clasificadas en **analogicas** o **discretas**. Una señal **analogica** es denotada por $x(t)$, donde la variable t (**variable independiente**) puede ser representada como alguna cantidad fisica **continua**. En nuestro caso de estudio representa el tiempo en segundos (continua). En el caso de una señal **discreta** se denota por $x[n]$ , donde la **variable n** son **valores enteros** y representa instancias de tiempo discreto. A lo largo de este apunte haremos mayor hicapié en las señales discretas, para lo cual vamos a definir una secuencia discreta como:\n",
    "\n",
    "$$x\\left\\lbrack n\\right\\rbrack =\\left\\lbrace x\\left(x\\right)\\right\\rbrace =\\left\\lbrace \\ldotp \\ldotp \\ldotp ,x\\left(-1\\right),x^{\\uparrow }{} \\left(0\\right),x\\left(1\\right),\\ldotp \\ldotp \\ldotp \\right\\rbrace$$\n",
    "\n",
    "Python, puede representar solo secuencias de duración finita, por medio de un vector fila. ESto es posible utilizando la libreria [Numpy](https://numpy.org/)."
   ]
  },
  {
   "cell_type": "markdown",
   "metadata": {},
   "source": [
    "### Numpy\n",
    "\n",
    "![](../img/numpy.png)\n",
    "\n",
    "Numpy es la librería dedicada a manipular datos numéricos, ya sea en forma de vectores, matrices u otras estructuras. El **dato** principal con el que se trabaja en numpy es un **array** de una o varias dimensiones. El mismo contiene elementos, en general de formato numérico.  Se pueden definir las siguientes características para un array de numpy:\n",
    "\n",
    "* Los elementos que lo componen son todos de un mismo tipo o formato.\n",
    "* Cuenta con una longitud, igual a la cantidad de elementos que contiene por fila; y una cantidad de ejes o dimensiones, igual a la cantidad de filas que contiene.\n",
    "* Cada elemento del array posee un índice que denota su ubicación dentro del mismo."
   ]
  },
  {
   "cell_type": "markdown",
   "metadata": {},
   "source": [
    "#### Importando la libreria y creando un array\n",
    "\n",
    "Para utilizar Numpy en nuestro código, primero debemos importarla utilizando el comando `import numpy`. Existen varias formas de importar librerías en  Python (como ya vimos en la [clase 3](302_modulos_funciones.ipynb/#Modulos)), en el caso de numpy:"
   ]
  },
  {
   "cell_type": "code",
   "execution_count": null,
   "metadata": {},
   "outputs": [],
   "source": [
    "# 1° forma\n",
    "import numpy\n",
    "\n",
    "a = numpy.array([1,2,5,9])"
   ]
  },
  {
   "cell_type": "code",
   "execution_count": null,
   "metadata": {},
   "outputs": [],
   "source": [
    "# 2° forma\n",
    "from numpy import *\n",
    "\n",
    "a = array([1,2,5,9])"
   ]
  },
  {
   "cell_type": "code",
   "execution_count": null,
   "metadata": {},
   "outputs": [],
   "source": [
    "# 3° forma\n",
    "import numpy as np\n",
    "\n",
    "a = np.array([1,2,5,9])"
   ]
  },
  {
   "cell_type": "markdown",
   "metadata": {},
   "source": [
    "Por convención general, se suele utilizar la tercera forma para la importación de numpy. Es una forma de abreviar el nombre de la librería, y mantener la referencia de que estamos utilizando elementos de la misma. Esto nos importa para mantener cierto orden en nuestro código, por más que parezca tedioso estar anteponiendo 'np' cada vez que creamos numpy. En los ejemplos subsiguientes, vamos a considerar que se utilizó este método."
   ]
  },
  {
   "cell_type": "markdown",
   "metadata": {},
   "source": [
    "#### Listas y arrays\n",
    "\n",
    "Nótese que al crear arrays, ésto se hace a partir de una lista, es decir que los **datos almacenados en formato de lista se convierten automáticamente en arrays**. Para ejemplificarlo mejor: "
   ]
  },
  {
   "cell_type": "code",
   "execution_count": null,
   "metadata": {},
   "outputs": [],
   "source": [
    "# creamos el mismo array 'a' a partir de una lista\n",
    "lista = [1,2,5,9]\n",
    "b = np.array(lista)"
   ]
  },
  {
   "cell_type": "code",
   "execution_count": null,
   "metadata": {},
   "outputs": [],
   "source": [
    "a, b"
   ]
  },
  {
   "cell_type": "markdown",
   "metadata": {},
   "source": [
    "> Pero, mientras en las listas se pueden incluir elementos de distinto tipo, en el array todos deben ser un mismo tipo de datos."
   ]
  },
  {
   "cell_type": "code",
   "execution_count": null,
   "metadata": {},
   "outputs": [],
   "source": [
    "# otra lista con datos de distinto tipo\n",
    "otra_lista = [\"bla\", 1, True, 3.14]\n",
    "\n",
    "# si la intentamos convertir en array, ¿fracasamos?:\n",
    "x = np.array(otra_lista)\n",
    "\n",
    "# le pedimos a la consola que nos muestre el array\n",
    "x"
   ]
  },
  {
   "cell_type": "markdown",
   "metadata": {},
   "source": [
    "Vemos que el array se crea a partir de una lista con elementos de distinto tipo. Sin embargo, le asigna a todos un mismo formato, en este caso un string del tipo *Unicode* con longitud igual a 4."
   ]
  },
  {
   "cell_type": "code",
   "execution_count": null,
   "metadata": {},
   "outputs": [],
   "source": [
    "np.arange(1,10,1) # Devuelve valores espaciados uniformemente dentro de un intervalo dado."
   ]
  },
  {
   "cell_type": "code",
   "execution_count": null,
   "metadata": {},
   "outputs": [],
   "source": [
    "np.linspace(1,10,3) # Devuelve valores espaciados uniformemente dentro de un intervalo dado."
   ]
  },
  {
   "cell_type": "markdown",
   "metadata": {},
   "source": [
    "### Matplotlib\n",
    "\n",
    "Para visulizar las secuencias necesitamos de una libreria destinada a la producción de graficos, como es el caso de [matplotlib](https://matplotlib.org/).\n",
    "\n",
    "La forma estándar de utilizar `matplotlib`, o por lo menos la más didáctica, es a través del módulo `pyplot`."
   ]
  },
  {
   "cell_type": "code",
   "execution_count": null,
   "metadata": {},
   "outputs": [],
   "source": [
    "import matplotlib.pyplot as plt"
   ]
  },
  {
   "cell_type": "markdown",
   "metadata": {},
   "source": [
    "Con la siguiente línea \"mágica\" de comando, indicamos a Jupyter que muestre las gráficas junto con el código:"
   ]
  },
  {
   "cell_type": "code",
   "execution_count": null,
   "metadata": {},
   "outputs": [],
   "source": [
    "%matplotlib inline # si bien `inline` es el comportamiento por defecto"
   ]
  },
  {
   "cell_type": "markdown",
   "metadata": {},
   "source": [
    "Retomando la definición de una secuencia, tenemos que pensar que un vector no tiene informacion sobre la posición $n$. La forma correcta de representar una secuencia requiere de dos vectores, uno para $x$ y otro para $n$. Por ejemplo la secuencia: $$x\\left\\lbrack n\\right\\rbrack =\\left\\lbrace 2,1-1,{0^{\\uparrow }} ,1,4,3,7\\right\\rbrace$$ Puede ser representada por:"
   ]
  },
  {
   "cell_type": "code",
   "execution_count": null,
   "metadata": {},
   "outputs": [],
   "source": [
    "x = np.array([2,1,-1,0,1,4,3,7]) # secuencia - rango"
   ]
  },
  {
   "cell_type": "code",
   "execution_count": null,
   "metadata": {},
   "outputs": [],
   "source": [
    "n = np.arange(-3,5) # indices (o posición) - dominio"
   ]
  },
  {
   "cell_type": "code",
   "execution_count": null,
   "metadata": {},
   "outputs": [],
   "source": [
    "plt.plot(x,'.') # sin el vector de indices\n",
    "plt.grid()"
   ]
  },
  {
   "cell_type": "code",
   "execution_count": null,
   "metadata": {},
   "outputs": [],
   "source": [
    "plt.plot(n,x,'.')\n",
    "plt.grid()"
   ]
  },
  {
   "cell_type": "code",
   "execution_count": null,
   "metadata": {},
   "outputs": [],
   "source": [
    "plt.stem(n,x) \n",
    "plt.grid()"
   ]
  },
  {
   "cell_type": "markdown",
   "metadata": {},
   "source": [
    "## Señales discretas básicas"
   ]
  },
  {
   "cell_type": "markdown",
   "metadata": {},
   "source": [
    "### Impulso unitario (delta de Kronecker)\n",
    "\n",
    "$$\\delta[n]=\\begin{cases} 1, \\text{para } n=0 \\\\  0, \\text{para  } n\\neq 0 \\end{cases}=\\left\\lbrace \\ldotp \\ldotp \\ldotp ,0,0,1^{\\uparrow } ,0,0,\\ldotp \\ldotp \\ldotp \\right\\rbrace$$\n",
    "\n",
    "$$\\delta \\left\\lbrack n-n_0 \\right\\rbrack =\\left\\lbrace \\begin{array}{c}1 & n=n_0 \\\\0 & n\\ne n_0 \\end{array}\\right.$$"
   ]
  },
  {
   "cell_type": "code",
   "execution_count": null,
   "metadata": {},
   "outputs": [],
   "source": [
    "delta = np.concatenate((np.zeros(10),np.ones(1),np.zeros(10))) # Une una secuencia de matrices a lo largo de un eje existente.\n",
    "n = np.arange(-10, 11)\n",
    "\n",
    "plt.stem(n,delta)\n",
    "plt.title('Impulso unitario')\n",
    "plt.ylabel('Amplitud $\\delta[n]$')\n",
    "plt.xlabel('Muestras $n$')"
   ]
  },
  {
   "cell_type": "markdown",
   "metadata": {},
   "source": [
    "### Pulso rectangular\n",
    "\n",
    "$$P[n]=\\begin{cases} 1/\\tau, \\text{para } \\vert n \\vert< \\tau/2  \\\\  0, \\text{resto  } \n",
    "\\end{cases}$$\n"
   ]
  },
  {
   "cell_type": "code",
   "execution_count": null,
   "metadata": {},
   "outputs": [],
   "source": [
    "P = np.concatenate((np.zeros(5),np.ones(11),np.zeros(5)))\n",
    "n = np.arange(-10, 11)\n",
    "\n",
    "plt.stem(n,P)\n",
    "plt.title('Pulso rectangular')\n",
    "plt.ylabel('Amplitud $P[n]$')\n",
    "plt.xlabel('Muestras $n$')"
   ]
  },
  {
   "cell_type": "markdown",
   "metadata": {},
   "source": [
    "### Escalon unitario o heaviside discreta\n",
    "\n",
    "$$u[n]=\\begin{cases} 0, \\text{para } n<0  \\\\  1, \\text{para  } n\\geq 0 \\end{cases}$$\n",
    "\n",
    "$$u\\left\\lbrack n-n_0 \\right\\rbrack =\\left\\lbrace \\begin{array}{c}\n",
    "1 & n\\ge n_0 \\\\0 & n<n_0 \\end{array}\\right.$$"
   ]
  },
  {
   "cell_type": "code",
   "execution_count": null,
   "metadata": {},
   "outputs": [],
   "source": [
    "u = np.concatenate((np.zeros(10),np.ones(11)))\n",
    "n = np.arange(-10, 11)\n",
    "\n",
    "plt.stem(n,u)\n",
    "plt.title('Escalón unitario')\n",
    "plt.ylabel('Amplitud $u[n]$')\n",
    "plt.xlabel('Muestras $n$')"
   ]
  },
  {
   "cell_type": "markdown",
   "metadata": {},
   "source": [
    "### Propiedades de las señales"
   ]
  },
  {
   "cell_type": "markdown",
   "metadata": {},
   "source": [
    "$$\\delta[n]=u[n]-u[n-1]$$"
   ]
  },
  {
   "cell_type": "code",
   "execution_count": null,
   "metadata": {},
   "outputs": [],
   "source": [
    "u1 = np.concatenate((np.zeros(10),np.ones(11)))\n",
    "u2 = np.concatenate((np.zeros(11),np.ones(10)))\n",
    "\n",
    "delta = u1-u2\n",
    "n = np.arange(-10, 11)\n",
    "\n",
    "plt.stem(n,delta)\n",
    "plt.title('Impulso unitario')\n",
    "plt.ylabel('Amplitud $\\delta[n]$')\n",
    "plt.xlabel('Muestras $n$')"
   ]
  },
  {
   "cell_type": "markdown",
   "metadata": {},
   "source": [
    "$$u[n]=\\sum_{m=-\\infty}^{n}{\\delta[m]}$$"
   ]
  },
  {
   "cell_type": "code",
   "execution_count": null,
   "metadata": {},
   "outputs": [],
   "source": [
    "u1 = np.concatenate((np.zeros(10),np.ones(11)))\n",
    "u2 = np.concatenate((np.zeros(11),np.ones(10)))\n",
    "delta = u1-u2\n",
    "\n",
    "u = np.cumsum(delta) # Devuelve la suma acumulada de los elementos a lo largo de un eje dado\n",
    "n = np.arange(-10, 11)\n",
    "\n",
    "plt.stem(n,u)\n",
    "plt.title('Escalón unitario')\n",
    "plt.ylabel('Amplitud $u[n]$')\n",
    "plt.xlabel('Muestras $n$')"
   ]
  },
  {
   "cell_type": "markdown",
   "metadata": {},
   "source": [
    "## Otras señales de interes"
   ]
  },
  {
   "cell_type": "markdown",
   "metadata": {},
   "source": [
    "### Rampa\n",
    "\n",
    "$$r[n]=\\begin{cases} n, \\text{para } n=0,1,... \\\\  0, \\text{para  } n\\neq -1,-2,... \\end{cases} =\\left\\lbrace \\ldotp \\ldotp \\ldotp ,0,0^{\\uparrow } ,1{} ,2,3,\\ldotp \\ldotp \\ldotp \\right\\rbrace$$"
   ]
  },
  {
   "cell_type": "code",
   "execution_count": null,
   "metadata": {},
   "outputs": [],
   "source": [
    "u1 = np.concatenate((np.zeros(11),np.ones(10)))\n",
    "\n",
    "r = np.cumsum(u1)\n",
    "\n",
    "n = np.arange(-11, 10)\n",
    "\n",
    "plt.stem(n+1,r)\n",
    "plt.title('Rampa')\n",
    "plt.ylabel('Amplitud $r[n]$')\n",
    "plt.xlabel('Muestras $n$')"
   ]
  },
  {
   "cell_type": "markdown",
   "metadata": {},
   "source": [
    "### Secuencia exponencial de valores reales\n",
    "\n",
    "$$x\\left\\lbrack n\\right\\rbrack =a^n ,\\forall  n,a\\in \\Re$$"
   ]
  },
  {
   "cell_type": "code",
   "execution_count": null,
   "metadata": {},
   "outputs": [],
   "source": [
    "n = np.arange(0, 10)\n",
    "x = (0.9)**n\n",
    "\n",
    "plt.stem(n,x)\n",
    "plt.title('Exponencial')\n",
    "plt.ylabel('Amplitud $x[n]$')\n",
    "plt.xlabel('Muestras $n$')"
   ]
  },
  {
   "cell_type": "markdown",
   "metadata": {},
   "source": [
    "### Secuencia exponencial de valores complejos\n",
    "\n",
    "$$x\\left\\lbrack n\\right\\rbrack =e^{\\left(\\sigma +jw_0 \\right)n} ,\\forall n$$"
   ]
  },
  {
   "cell_type": "code",
   "execution_count": null,
   "metadata": {},
   "outputs": [],
   "source": [
    "n = np.arange(0, 10)\n",
    "x = np.exp((2+3j)*n) # Calcula la exponencial de todos los elementos de la matriz de entrada.\n",
    "\n",
    "plt.stem(n,abs(x))\n",
    "plt.title('Exponencial')\n",
    "plt.ylabel('Amplitud $x[n]$')\n",
    "plt.xlabel('Muestras $n$')"
   ]
  },
  {
   "cell_type": "markdown",
   "metadata": {},
   "source": [
    "### Secuencia senoidal\n",
    "\n",
    "$$x\\left\\lbrack n\\right\\rbrack =A cos\\left(w_0 n+\\theta_0 \\right),\\forall n$$\n",
    "\n",
    "Donde A es la amplitud y $\\theta_0$ es la fase en radianes."
   ]
  },
  {
   "cell_type": "code",
   "execution_count": null,
   "metadata": {},
   "outputs": [],
   "source": [
    "A = 2\n",
    "w0 = 2*np.pi*2\n",
    "n = np.linspace(0, 100,200)\n",
    "#O = -np.pi/2\n",
    "O = 0\n",
    "x = A*np.cos(w0*n+O) # Calcula la exponencial de todos los elementos de la matriz de entrada.\n",
    "\n",
    "plt.stem(n,x)\n",
    "plt.title('Senoidal')\n",
    "plt.ylabel('Amplitud $x[n]$')\n",
    "plt.xlabel('Muestras $n$')"
   ]
  },
  {
   "cell_type": "markdown",
   "metadata": {},
   "source": [
    "### Secuencia aleatoria"
   ]
  },
  {
   "cell_type": "code",
   "execution_count": null,
   "metadata": {},
   "outputs": [],
   "source": [
    "#np.random.seed(0) # fijar semilla\n",
    "n = np.arange(0,10)\n",
    "x = np.random.standard_normal(10)\n",
    "\n",
    "plt.stem(n,x)\n",
    "plt.title('Aleatoria')\n",
    "plt.ylabel('Amplitud $x[n]$')\n",
    "plt.xlabel('Muestras $n$')"
   ]
  },
  {
   "cell_type": "markdown",
   "metadata": {},
   "source": [
    "### Funcion Sinc\n",
    "\n",
    "$$sinc[n]=\\begin{cases} \\frac {sen(n)}{n}, \\text{si } n \\neq 0 \\\\  1, \\text{caso contrario  } \\end{cases}$$"
   ]
  },
  {
   "cell_type": "code",
   "execution_count": null,
   "metadata": {},
   "outputs": [],
   "source": [
    "n = np.arange(-10,11)\n",
    "s = np.sin(n)/(n)\n",
    "s[10] = 1\n",
    "\n",
    "plt.stem(n,s)\n",
    "plt.title('Sinc')\n",
    "plt.ylabel('Amplitud $x[n]$')\n",
    "plt.xlabel('Muestras $n$')"
   ]
  },
  {
   "cell_type": "markdown",
   "metadata": {
    "tags": [
     "prueba"
    ]
   },
   "source": [
    "> Más funciones matemáticas en la [documentación oficial](https://numpy.org/doc/stable/reference/routines.math.html). En particular señales en el siguiente [apartado](https://docs.scipy.org/doc/scipy/reference/signal.html#waveforms)."
   ]
  },
  {
   "cell_type": "markdown",
   "metadata": {},
   "source": [
    "## Pulso unitario desplazado y escalado"
   ]
  },
  {
   "cell_type": "code",
   "execution_count": 65,
   "metadata": {},
   "outputs": [
    {
     "name": "stderr",
     "output_type": "stream",
     "text": [
      "/home/max/miniconda3/lib/python3.7/site-packages/ipykernel_launcher.py:9: UserWarning: In Matplotlib 3.3 individual lines on a stem plot will be added as a LineCollection instead of individual lines. This significantly improves the performance of a stem plot. To remove this warning and switch to the new behaviour, set the \"use_line_collection\" keyword argument to True.\n",
      "  if __name__ == '__main__':\n"
     ]
    },
    {
     "data": {
      "text/plain": [
       "Text(0.5, 0, 'Muestras $n$')"
      ]
     },
     "execution_count": 65,
     "metadata": {},
     "output_type": "execute_result"
    },
    {
     "data": {
      "image/png": "[encoded data removed]",
      "text/plain": [
       "<Figure size 432x288 with 1 Axes>"
      ]
     },
     "metadata": {
      "needs_background": "light"
     },
     "output_type": "display_data"
    }
   ],
   "source": [
    "mov = -2\n",
    "ampl = 2\n",
    "\n",
    "ini = -3\n",
    "fin = 4\n",
    "n = np.arange(ini,fin+1)\n",
    "delta = ampl*np.concatenate((np.zeros(abs(ini)- mov), np.ones(1), np.zeros(fin + mov)))\n",
    "\n",
    "plt.stem(n,delta)\n",
    "plt.title('Pulso unitario')\n",
    "plt.ylabel('Amplitud $\\delta[n]$')\n",
    "plt.xlabel('Muestras $n$')"
   ]
  },
  {
   "cell_type": "markdown",
   "metadata": {},
   "source": [
    "## Escalón unitario desplazado y escalado"
   ]
  },
  {
   "cell_type": "code",
   "execution_count": 67,
   "metadata": {},
   "outputs": [
    {
     "name": "stderr",
     "output_type": "stream",
     "text": [
      "/home/max/miniconda3/lib/python3.7/site-packages/ipykernel_launcher.py:11: UserWarning: In Matplotlib 3.3 individual lines on a stem plot will be added as a LineCollection instead of individual lines. This significantly improves the performance of a stem plot. To remove this warning and switch to the new behaviour, set the \"use_line_collection\" keyword argument to True.\n",
      "  # This is added back by InteractiveShellApp.init_path()\n"
     ]
    },
    {
     "data": {
      "text/plain": [
       "Text(0.5, 0, 'Muestras $n$')"
      ]
     },
     "execution_count": 67,
     "metadata": {},
     "output_type": "execute_result"
    },
    {
     "data": {
      "image/png": "[encoded data removed]",
      "text/plain": [
       "<Figure size 432x288 with 1 Axes>"
      ]
     },
     "metadata": {
      "needs_background": "light"
     },
     "output_type": "display_data"
    }
   ],
   "source": [
    "mov = -2\n",
    "ampl = 2\n",
    "\n",
    "ini = -3\n",
    "fin = 4\n",
    "n = np.arange(ini,fin+1)\n",
    "\n",
    "U = ampl*np.concatenate((np.zeros(abs(ini) - mov), np.ones(1), np.ones( fin + mov)))\n",
    "\n",
    "\n",
    "plt.stem(n,U)\n",
    "plt.title('Sinc')\n",
    "plt.ylabel('Amplitud $x[n]$')\n",
    "plt.xlabel('Muestras $n$')"
   ]
  },
  {
   "cell_type": "markdown",
   "metadata": {},
   "source": [
    "## Tipos de datos\n",
    "\n",
    "Los **argumentos** que se deben indicar para crear el array son dos: los **elementos que contendrá**, que se ingresan en forma de lista, y el **tipo de datos** que tendrá la lista. En los ejemplos anteriores no especificamos el tipo de datos, ya que éste se asigna automáticamente al crear la lista. No obstante, es recomendable indicarlo siempre ya que cada tipo de datos ocupa un espacio en memoria distinto.\n",
    "\n",
    "Los tipos de datos que podemos utilizar dentro de un array son los siguientes:\n",
    "* **Números enteros** de 8, 16, 32 y 64 bits, con signo y sin signo.\n",
    "* **Números complejos** de 64 y 128 bits.\n",
    "* **Números de punto flotante** de 16, 32, 64 y 128 bits\n",
    "* **Booleanos** (‘True’ o ‘False’), **strings**, **bytes...**\n",
    "\n",
    "En el caso del array 'a' que creamos anteriormente, el formato que se asigna automáticamente es un entero de 64 bits con signo (int64). Nos resulta conveniente utilizar un formato entero sin signo y de 8 bits, de acuerdo a los datos que contiene. El formato se especifica de la siguiente forma:\n"
   ]
  },
  {
   "cell_type": "code",
   "execution_count": null,
   "metadata": {},
   "outputs": [],
   "source": [
    "b = np.array([1,2,5,9], dtype = np.uint8)\n",
    "\n",
    "# la consola nos muestra el array\n",
    "b"
   ]
  },
  {
   "cell_type": "markdown",
   "metadata": {},
   "source": [
    "En este caso, definimos un array 'b' con un formato adecuado. Entonces, ¿cómo elegimos un tipo de datos conveniente para nuestros arrays? En la siguiente tabla podemos ver los rangos de valores para cada tipo de dato:\n",
    "\n",
    "| Tipo | Rango | Precisión |\n",
    "| ---  | ---   | --- |\n",
    "| int8 | -128 a 127 | |\n",
    "| int16 | -32768 a 32767 | |\n",
    "| int32 | -2147483648 a 2147483647 | |\n",
    "| int64 | -9223372036854775808 a 9223372036854775807 | |\n",
    "| uint8 | 0 a 255 | |\n",
    "| uint16 | 0 a 65535 | |\n",
    "| uint32 | 0 a 4294967295 | |\n",
    "| uint64 | 0 a 18446744073709551615 | |\n",
    "| float16 | ± 65504 | Hasta 3 dígitos decimales |\n",
    "| float32 | ± 10^(38.53) | Hasta 6 dígitos decimales |\n",
    "| float64 | ± 10^(308.25) | Hasta 16 dígitos decimales |"
   ]
  },
  {
   "cell_type": "markdown",
   "metadata": {},
   "source": [
    "De todo este despliegue de números podemos extraer las siguientes premisas:\n",
    "\n",
    "* Si utilizamos números **enteros positivos**, es conveniente usar un **formato sin signo** para aprovechar el rango de la mejor manera posible.\n",
    "* Si deseamos representar valores de **números reales**, utilizamos un **formato float**.\n",
    "* **Siempre debemos formatear nuestros arrays**. Si no lo especificamos, estaremos utilizando 64 bits (float o entero) para definir a cada elemento de la lista. Esto generalmente no es necesario, y es contraproducente en dos sentidos: consume excesivo espacio en memoria y afecta a la velocidad de los algoritmos, lo que se hace notable cuando trabajamos con arrays extensos (por ejemplo, un archivo wav de varios minutos).\n",
    "\n",
    "Contamos con algunos **comandos útiles para saber el tamaño de un array y de sus elementos** (cantidad de bytes que ocupa en memoria):\n"
   ]
  },
  {
   "cell_type": "code",
   "execution_count": null,
   "metadata": {},
   "outputs": [],
   "source": [
    "# devuelve el número de bytes del array 'a'\n",
    "bytes_array_a = a.nbytes\n",
    "\n",
    "# devuelve el número de bytes que ocupa cada elemento de 'a'\n",
    "bytes_item_a = a.itemsize\n",
    "\n",
    "print (\"El array 'a' ocupa %r bytes, y cada uno de sus elementos ocupa %r bytes. \\n\" \n",
    "       % (bytes_array_a, bytes_item_a))\n",
    "\n",
    "print (\"Éstos son todos los formatos que admite Numpy:\")\n",
    "# devuelve el número de bytes que ocupan los elementos de cada tipo de datos disponibles en Numpy\n",
    "np.nbytes"
   ]
  },
  {
   "cell_type": "markdown",
   "metadata": {},
   "source": [
    "### Definamos el formato numerico mas conveniente\n",
    "\n",
    "Ahora veamos algunos ejemplos para poner en práctica lo que mencionamos. Definamos los formatos que son más convenientes para los siguientes arrays:"
   ]
  },
  {
   "cell_type": "code",
   "execution_count": null,
   "metadata": {},
   "outputs": [],
   "source": [
    "a = [-1, 0, 1] \n",
    "b = [0.2, 12.7,-30.52]\n",
    "c = [10**10, 12**10, 3**18, 0]\n",
    "d = [3 + 1j, -5j]\n",
    "\n",
    "arr_a = np.array(a, dtype = ) # completar\n",
    "arr_b = np.array(b, dtype = ) # completar\n",
    "arr_c = np.array([c], dtype = ) # completar\n",
    "arr_d = np.array([d], dtype = ) # completar\n",
    "\n",
    "print (\" array a: \", arr_a,\"\\n array b: \", arr_b, \"\\n array c: \", arr_c,\n",
    "      \"\\n array d: \", arr_d)"
   ]
  },
  {
   "cell_type": "code",
   "execution_count": null,
   "metadata": {},
   "outputs": [],
   "source": [
    "arr_a//2"
   ]
  },
  {
   "cell_type": "markdown",
   "metadata": {},
   "source": [
    "## Longitud y dimensiones de un array\n",
    "\n",
    "Los ejemplos mencionados hasta ahora han sido de arrays de dimensiones $1 x N$. Podemos crear **arrays de varias dimensiones** de la siguiente manera:"
   ]
  },
  {
   "cell_type": "code",
   "execution_count": null,
   "metadata": {},
   "outputs": [],
   "source": [
    "# array de dos dimensiones y longitud igual a 3\n",
    "b = np.array([[1,2,3],[3,2,1]], dtype = np.uint8)\n",
    "\n",
    "# array de tres dimensiones y longitud igual a 2\n",
    "c = np.array([[1,-1],[0,1],[-5,2]], dtype = np.int8)"
   ]
  },
  {
   "cell_type": "markdown",
   "metadata": {},
   "source": [
    "La **longitud** representa la cantidad de elementos que posee el array. Su valor, y el de las dimensiones de un array, se pueden obtener de la siguiente manera: "
   ]
  },
  {
   "cell_type": "code",
   "execution_count": null,
   "metadata": {},
   "outputs": [],
   "source": [
    "# devuelve la forma de un array, de la siguiente forma (n° de filas, n° de columnas)\n",
    "(dim1, dim2) = b.shape\n",
    "\n",
    "#longitud del array\n",
    "longitud = b.size\n",
    "\n",
    "print(dim1, dim2)\n",
    "print(longitud)"
   ]
  },
  {
   "cell_type": "markdown",
   "metadata": {},
   "source": [
    "## Indezado en arrays\n",
    "\n",
    "Los **índices** se utilizan para indicar la posición de cada elemento de un array. De esta manera, podemos acceder al valor de una posición específica o extraer el valor de un grupo de elementos. Cada elemento posee una posición $[i,j]$, donde $i$ representa el número de fila y $j$ representa el número  de columna en que se ubica."
   ]
  },
  {
   "cell_type": "code",
   "execution_count": null,
   "metadata": {},
   "outputs": [],
   "source": [
    "# devuelve el elemento de la posición [1,2] del array 'a', igual a 2.\n",
    "print(b[1,2])\n",
    "\n",
    "# devuelve el elemento de la posición [2,0] del array 'b', igual a -5.\n",
    "print(c[2,0])\n"
   ]
  },
  {
   "cell_type": "markdown",
   "metadata": {},
   "source": [
    "Es importante tener en cuenta que los índices que se asignan se inician desde 0, por lo que si tengo 4 elementos, sus índices irán del rango de 0 a 3.\n",
    "Podemos **desplazarnos** dentro de una array, y **seleccionar** un rango de elementos utilizando la notación *[i: j: k]*, donde 'i' representa el índice a partir del cual nos desplazamos, 'j' es el índice en el cual nos detenemos y 'k' es el paso con el cual nos desplazamos a los elementos subsiguientes. "
   ]
  },
  {
   "cell_type": "code",
   "execution_count": null,
   "metadata": {},
   "outputs": [],
   "source": [
    "s = [0, 0.5, 1, 1.5, 2, 2.5, 3, 3.5, 4, 4.5] \n",
    "sec = np.array(s, dtype = np.float16)\n",
    "\n",
    "# desplazamiento a partir del 1° elemento, hasta el 8° (no inclusive), \n",
    "# en pasos de cada 2 elementos\n",
    "print (sec[0:8:2])\n",
    "\n",
    "# desplazamiento entre las mismas posiciones en pasos de a 1\n",
    "print (sec[:8])\n",
    "\n",
    "# desplazamiento desde la posición n-5 hasta la posición 9, siendo n la cantidad de elementos.\n",
    "print (sec[-5:9])\n",
    "\n",
    "# desplazamiento desde la posición 7 hasta la posición n-8, en pasos de 1 hacia atrás\n",
    "print (sec[7:-8:-1])\n",
    "\n",
    "# desplazamiento desde la posición 4 hasta el final del array\n",
    "print (sec[3:])\n",
    "\n",
    "# desplazamiento desde la posición 4 hasta el final del array en pasos de a tres\n",
    "print (sec[3::3])\n",
    "\n",
    "# desplazamiento desde el comienzo hasta la posición 6 en pasos de a 2\n",
    "print (sec[:6:2])"
   ]
  },
  {
   "cell_type": "markdown",
   "metadata": {},
   "source": [
    "Como se puede ver en el ejemplo, tenemos varias opciones para desplazarnos de distintas maneras. Es posible ir hacia adelante, atrás e indicar las posiciones inicial y final con respecto a la longitud del array. Notemos que el elemento $j$, que indica el fin del desplazamiento, no se incluye en el resultado. Es decir, el resultado nos arroja los **elementos desde $i$ hasta $j-1$**.\n",
    "\n",
    "Para el caso de **matrices**, el desplazamiento es similar, contando con algunas opciones adicionales. Veamos algunos casos."
   ]
  },
  {
   "cell_type": "code",
   "execution_count": null,
   "metadata": {},
   "outputs": [],
   "source": [
    "# definimos la misma secuencia, pero en forma de matriz de 3x3\n",
    "fibo_mtx = np.array([[0,1,1],[2,3,5],[8,13,21]], dtype = np.uint8)\n",
    "\n",
    "# el desplazamiento es ahora entre dimensiones, para ver las dos primeras (filas 0 y 1):\n",
    "print(fibo_mtx[0:2], \"\\n\")\n",
    "\n",
    "# veo elementos de la submatriz de 2x2 (primeras dos filas y dos columnas):\n",
    "print(fibo_mtx[0:2,0:2], \"\\n\")\n",
    "\n",
    "# desplazamiento entre los dos primeros elementos de la 3° fila \n",
    "print(fibo_mtx[2,0:2], \"\\n\")\n",
    "\n",
    "# desplazamiento entre filas:\n",
    "print(fibo_mtx[0:2,0::], \"\\n\")\n",
    "\n",
    "# desplazamiento entre los elementos de la 2° columna \n",
    "print(fibo_mtx[...,1])"
   ]
  },
  {
   "cell_type": "markdown",
   "metadata": {},
   "source": [
    "La notación *[i , j, k]* sirve para desplazarnos entre filas de una matriz. Por otra parte, podemos acceder a todos los elementos de una columna o fila con la notación *[..., x]* o *[x, ...]* respectivamente, siendo *x* el índice de la columna o fila en la que nos desplazamos.\n",
    "\n",
    "> **Nota:** Numpy también cuenta con el objeto matrix, que es una subclase del objeto array. La ventaja de usar este objeto es que las operaciones matemáticas son matriciales por defecto, y en un array se hacen elemento a elemento (vamos a este tema en la siguiente sección). A fines prácticos, el array también se puede implementar como matriz, teniendo en consideración lo mencionado anteriormente."
   ]
  },
  {
   "cell_type": "markdown",
   "metadata": {},
   "source": [
    "### Apliquemos lo visto en un ejercicio\n",
    "\n",
    "Apliquemos lo visto sobre índices y desplazamiento en un ejercicio. Éste comienza con la creación de un array a partir de una función. Python nos permite crear objetos llamados funciones para generar una instancia de una función matemática. En este caso, nos valemos de esta cómoda funcionalidad para crear un array con los valores de esa función en un conjunto finito de valores dentro de su dominio."
   ]
  },
  {
   "cell_type": "code",
   "execution_count": null,
   "metadata": {},
   "outputs": [],
   "source": [
    "# creacion de un array a partir de una función\n",
    "func = lambda y,x : 0.5*x + np.cos(y)  # creo un objeto 'funcion'\n",
    "sec = np.fromfunction(func, (3,5), dtype = np.float16)  # armo array con la función fromfunction\n",
    "\n",
    "# imprimir la cantidad de filas y columnas del array\n",
    "print()  # completar\n",
    "print(\"\\n\")\n",
    "\n",
    "# imprimir el valor de la función en el punto (x,y)=(0,0)\n",
    "print()  # completar\n",
    "print(\"\\n\")\n",
    "\n",
    "# imprimir los valores de la función para x(i) con i = (1,3) e y(j) con j = (1,2)\n",
    "print()  # completar\n",
    "print(\"\\n\")\n",
    "\n",
    "# imprimir los valores de la función para x(i) con i = (0, 2, 4)\n",
    "print()  # completar\n",
    "print(\"\\n\")\n"
   ]
  },
  {
   "cell_type": "markdown",
   "metadata": {},
   "source": [
    "## Referencias\n",
    "\n",
    " * *Numpy User Guide*, https://www.numpy.org/\n",
    " * Scott, Shell, *An introduction to Numpy and Scipy*, 2014. \n",
    " * Martín, Gaitán. *Curso de Python para ciencias e ingenierías*. Extraido de [GitHub](https://github.com/mgaitan/curso-python-cientifico), 2017.\n",
    " * Oppenheim, Alan V.; Willsky, Alan S.; Nawab, S. Hamid. Señales y sistemas. Pearson Educación, 1998."
   ]
  },
  {
   "cell_type": "markdown",
   "metadata": {},
   "source": [
    "## Licencia\n",
    "\n",
    "<a rel=\"license\" href=\"http://creativecommons.org/licenses/by-sa/4.0/\"><img alt=\"Licencia de Creative Commons\" style=\"border-width:0\" src=\"https://i.creativecommons.org/l/by-sa/4.0/88x31.png\" /></a><br />Este documento se destribuye con una <a rel=\"license\" href=\"http://creativecommons.org/licenses/by-sa/4.0/\">licencia Atribución CompartirIgual 4.0 Internacional de Creative Commons</a>.\n",
    "\n",
    "Material adaptado del curso [Introducción a Python](https://github.com/infiniemlabs-acustica/python_introduccion)\n",
    "\n",
    "© 2020. Infiniem Labs Acústica. infiniemlab.dsp@gmail.com (CC BY-SA 4.0))"
   ]
  }
 ],
 "metadata": {
  "kernelspec": {
   "display_name": "Python 3",
   "language": "python",
   "name": "python3"
  },
  "language_info": {
   "codemirror_mode": {
    "name": "ipython",
    "version": 3
   },
   "file_extension": ".py",
   "mimetype": "text/x-python",
   "name": "python",
   "nbconvert_exporter": "python",
   "pygments_lexer": "ipython3",
   "version": "3.7.9"
  }
 },
 "nbformat": 4,
 "nbformat_minor": 4
}
