{
 "cells": [
  {
   "cell_type": "markdown",
   "metadata": {},
   "source": [
    "## Modulos y Funciones"
   ]
  },
  {
   "cell_type": "markdown",
   "metadata": {},
   "source": [
    "## Contenido\n",
    "\n",
    "* [Modulos](#Modulos)\n",
    "    * [Modulos matemáticos - math y cmath](#Modulos-matematicos-\\--math-y-cmath)\n",
    "    * [From ... import](#From-...-import)\n",
    "    * [Import ... as](#Import-...-as)\n",
    "* [Funciones definidas por el usuario](#Funciones-definidas-por-el-usuario)\n",
    "    * [Encoding - codificacion del codigo fuente](#Encoding-\\--codificacion-del-codigo-fuente)\n",
    "    * [Definición de funciones](#Definicion-de-funciones)\n",
    "    * [Retorno - return](#Retorno-\\--return)\n",
    "    * [Scope](#Scope)\n",
    "    * [Argumentos](#Argumentos)\n",
    "* [Referencias usadas en el notebook](#Referencias-usadas-en-el-notebook)"
   ]
  },
  {
   "cell_type": "markdown",
   "metadata": {},
   "source": [
    "## Objetivos del notebook\n",
    "\n",
    "* Importar y trabajar con modulos externos.\n",
    "* Definir e instanciar funciones.\n",
    "* Trabajar con argumentos de funciones."
   ]
  },
  {
   "cell_type": "markdown",
   "metadata": {},
   "source": [
    "## Modulos\n",
    "\n",
    "Para aquellas funciones que **no están dentro de la librería estandar, se utilizan módulos (librerías), archivos Python **.py** que constan de código Python**. Un [módulo](http://docs.python.org.ar/tutorial/3/modules.html) puede definir funciones, clases y variables, además puede incluir código ejecutable. Se puede hacer referencia a cualquier archivo de Python como un módulo. Un archivo de Python llamado *hello.py* tiene el nombre de módulo \"hello\" que se puede importar a otros archivos de Python o utilizar en el intérprete de línea de comandos de Python. Estos módulos, a la vez, pueden formar parte de **paquetes**. Un paquete, **es una carpeta que contiene archivos .py**, pero para que una carpeta pueda ser considerada un paquete, debe **contener un archivo de inicio llamado __init__.py**. \n",
    "\n",
    "> **Nota:** este archivo, no necesita contener ninguna instrucción. De hecho, puede estar completamente vacío.\n",
    "\n",
    "La estructura general de un módulo es:\n",
    "\n",
    "![](../img/estructura_modulos.jpg)"
   ]
  },
  {
   "cell_type": "markdown",
   "metadata": {},
   "source": [
    "### Modulos matematicos - math y cmath"
   ]
  },
  {
   "cell_type": "code",
   "execution_count": null,
   "metadata": {},
   "outputs": [],
   "source": [
    "# Operaciones matemáticas comunes\n",
    "\n",
    "import math\n",
    "\n",
    "print(\"sin(2\\u03c0/3) = {}\".format(math.sin(2 * math.pi / 3)))\n",
    "print(\"cos(2\\u03c0/3) = {}\".format(math.cos(2 * math.pi / 3)))"
   ]
  },
  {
   "cell_type": "code",
   "execution_count": null,
   "metadata": {},
   "outputs": [],
   "source": [
    "# En cmath tambien se encuentran las de números complejos\n",
    "\n",
    "import cmath\n",
    "\n",
    "z = 2 + 3j\n",
    "print(\"{0:.3} = modulo = {1[0]:.3} fase = {1[1]:.3}\".format(z,cmath.polar(z)))\n",
    "print(\"sin(z) = {0:.3f}\".format(cmath.sin(z)))"
   ]
  },
  {
   "cell_type": "markdown",
   "metadata": {},
   "source": [
    "### From ... import\n",
    "\n",
    "Para hacer **referencia a los elementos de un módulo**, puede usar la declaración de `from ... import`. Cuando se importa un módulo de esta manera, puede referirse a las funciones por nombres y no a través de la notación de punto."
   ]
  },
  {
   "cell_type": "code",
   "execution_count": null,
   "metadata": {},
   "outputs": [],
   "source": [
    "from math import floor\n",
    "\n",
    "# redondear un número al entero anterior\n",
    "floor(5 / 2)"
   ]
  },
  {
   "cell_type": "code",
   "execution_count": null,
   "metadata": {},
   "outputs": [],
   "source": [
    "from math import ceil\n",
    "\n",
    "# redondear un número al entero posterior\n",
    "math.ceil(5 / 2)"
   ]
  },
  {
   "cell_type": "markdown",
   "metadata": {},
   "source": [
    "### Import ... as\n",
    "\n",
    "Es posible **modificar los nombres de los módulos** utilizando la palabra clave `as`. Esto es útil para abreviar un nombre más largo. La construcción de esta declaración se ven así:`import [module] as [another_name]`.\n"
   ]
  },
  {
   "cell_type": "code",
   "execution_count": 4,
   "metadata": {},
   "outputs": [
    {
     "data": {
      "text/plain": [
       "[<matplotlib.lines.Line2D at 0x7fae69290e50>]"
      ]
     },
     "execution_count": 4,
     "metadata": {},
     "output_type": "execute_result"
    },
    {
     "data": {
      "image/png": "[encoded data removed]",
      "text/plain": [
       "<Figure size 432x288 with 1 Axes>"
      ]
     },
     "metadata": {
      "needs_background": "light"
     },
     "output_type": "display_data"
    }
   ],
   "source": [
    "%matplotlib inline\n",
    "import matplotlib.pyplot as p # módulo para hacer plot\n",
    "\n",
    "p.plot(range(7),range(7),'-.',color='b' )"
   ]
  },
  {
   "cell_type": "markdown",
   "metadata": {},
   "source": [
    "Veamos otro ejemplo, la **aproximación de orden 3 del desarrollo de Taylor en 0 de la función seno** es (crean que es así...):\n",
    "\n",
    "$sen(x)\\approx x-x^{3}/6$"
   ]
  },
  {
   "cell_type": "code",
   "execution_count": 3,
   "metadata": {},
   "outputs": [
    {
     "data": {
      "image/png": "[encoded data removed]",
      "text/plain": [
       "<Figure size 432x288 with 1 Axes>"
      ]
     },
     "metadata": {
      "needs_background": "light"
     },
     "output_type": "display_data"
    }
   ],
   "source": [
    "import numpy as np  # módulo para trabajar con array\n",
    "import matplotlib.pyplot as plt # módulo para hacer plot\n",
    "\n",
    "x = np.linspace(-np.pi,+np.pi,100)\n",
    "aprox = x - np.power(x,3)/6\n",
    "\n",
    "plt.plot(x/np.pi,np.sin(x),'r',x/np.pi,aprox,'.')\n",
    "plt.xlabel(\"Radianes [$\\pi$]\")\n",
    "plt.ylabel(\"Amplitud\")\n",
    "plt.grid()"
   ]
  },
  {
   "cell_type": "markdown",
   "metadata": {},
   "source": [
    "Hay módulos de infinidad de disciplinas, a continuación algunas referencias de librerias más utilizadas:\n",
    "\n",
    "* [20 librerías de Python que son sencillamente irresistibles.](https://programacion.net/articulo/20_librerias_de_python_que_son_sencillamente_irresistibles_1061)\n",
    "* [15 librerías para Python que no te debes perder si te interesa la programación.](https://hipertextual.com/2015/01/librerias-para-python)\n",
    "* [Librerías Más Usadas en Python.](http://www.decodigo.com/2019/03/librerias-mas-usadas-python.html)\n",
    "* [Librerías de Python para Machine Learning.](https://iartificial.net/librerias-de-python-para-machine-learning/)\n",
    "\n",
    "Y muchas más. Lo ideal es, antes de comenzar a trabajar en un problema, investigar qué herramientas hay disponibles, para evitar hacer trabajo en vano."
   ]
  },
  {
   "cell_type": "markdown",
   "metadata": {},
   "source": [
    "## Funciones definidas por el usuario\n",
    "\n",
    "Una [función](http://docs.python.org.ar/tutorial/3/controlflow.html#definiendo-funciones) es la forma de **agrupar expresiones y sentencias** que realicen determinadas acciones, pero que éstas, solo **se ejecuten cuando son llamadas**. Es decir, que al colocar un algoritmo dentro de una función y se corre el archivo, el algoritmo no será ejecutado si no se ha hecho una referencia a la función que lo contiene. Las funciones se pueden considerar como una herramienta para controlar flujo.\n",
    "\n",
    "En definitiva lo más importante para programar, y no solo en Python, es saber organizar el código en piezas más pequeñas que hagan tareas independientes y combinarlas entre sí. Las funciones son el primer nivel de organización del código: reciben unas entradas, las procesan y devuelven unas salidas.\n",
    "\n",
    "![](../img/blackbox.jpg)"
   ]
  },
  {
   "cell_type": "markdown",
   "metadata": {},
   "source": [
    "### Encoding - codificacion del codigo fuente\n",
    "\n",
    "Por defecto, los archivos fuente de Python son codificados en [UTF-8](https://es.wikipedia.org/wiki/UTF-8) [G. Van Rossum., 2017].\n",
    "\n",
    "El encoding (o codificación) es otro de los elementos del lenguaje que no puede omitirse a la hora de hablar de estructuras de control. **El encoding no es más que una directiva que se coloca al inicio de un archivo Python, a fin de indicar al sistema, la codificación de caracteres utilizada en el archivo**.\n",
    "\n",
    "``` python\n",
    "# -*- coding: utf-8 -*-\n",
    "``` "
   ]
  },
  {
   "cell_type": "markdown",
   "metadata": {},
   "source": [
    "### Definicion de funciones\n",
    "\n",
    "Lo vemos con un ejemplo concreto:"
   ]
  },
  {
   "cell_type": "code",
   "execution_count": 2,
   "metadata": {},
   "outputs": [],
   "source": [
    "def fib(n):\n",
    "    \"\"\" Escribe la serie de Fibonacci hasta n. \"\"\"\n",
    "    \n",
    "    a, b = 0, 1  # asignacion multiple\n",
    "    while a < n:\n",
    "        print (a, end = ' ') # es para imprimirlos seguidos y no uno debajo del otro.\n",
    "        a, b = b, a + b"
   ]
  },
  {
   "cell_type": "code",
   "execution_count": 5,
   "metadata": {},
   "outputs": [
    {
     "name": "stdout",
     "output_type": "stream",
     "text": [
      "Object `fib(n)` not found.\n"
     ]
    }
   ],
   "source": [
    "?fib(n)"
   ]
  },
  {
   "cell_type": "code",
   "execution_count": 6,
   "metadata": {},
   "outputs": [
    {
     "name": "stdout",
     "output_type": "stream",
     "text": [
      "0 1 1 2 3 5 8 13 21 34 55 89 144 233 377 610 987 1597 "
     ]
    }
   ],
   "source": [
    "# Invocamos la función definida.    \n",
    "fib(2000)"
   ]
  },
  {
   "cell_type": "markdown",
   "metadata": {},
   "source": [
    "La palabra reservada `def` se usa para **definir funciones**. Debe seguirle el nombre de la función y la **lista de argumentos entre paréntesis**. Las sentencias que forman el cuerpo de la función empiezan en la línea siguiente, y deben estar con identado. **La primer sentencia** del cuerpo de la función puede ser opcionalmente una cadena de texto literal (utilizar `\"\"\"`, en lugar de `#`); esta es la cadena de texto de documentación de la función, o **docstring**. Es una buena práctica, no solo documentar las funciones, sino hacerlo con un estilo único y estandarizado. Una referencia respaldada en el ecosistema científico es el estilo de documentación de [NumPy](https://numpydoc.readthedocs.io/en/latest/format.html#docstring-standard)."
   ]
  },
  {
   "cell_type": "markdown",
   "metadata": {},
   "source": [
    "### Retorno - return\n",
    "\n",
    "Si lo que buscamos es escribir una función que **retorne** una lista con los números de la serie de Fibonacci en lugar de imprimirlos, podemos pensar en el siguiente ejemplo para completar:"
   ]
  },
  {
   "cell_type": "code",
   "execution_count": 6,
   "metadata": {},
   "outputs": [
    {
     "name": "stdout",
     "output_type": "stream",
     "text": [
      "[0, 1, 1, 2, 3, 5, 8, 13, 21, 34, 55, 89, 144, 233, 377, 610, 987, 1597]\n"
     ]
    }
   ],
   "source": [
    "def fib2(n):\n",
    "    \"\"\"Devuelve una lista conteniendo la serie de Fibonacci hasta n.\"\"\"\n",
    "    \n",
    "    resultado = [] # inicializo la lista completar! \n",
    "    a, b = 0, 1  # asignacion multiple\n",
    "    while a < n:\n",
    "        resultado # completar! \n",
    "        a, b = # completar! \n",
    "    return # completar! \n",
    "\n",
    "# Invocamos la función definida.    \n",
    "fib2000 = fib2(2000) \n",
    "print() # completar"
   ]
  },
  {
   "cell_type": "code",
   "execution_count": null,
   "metadata": {},
   "outputs": [],
   "source": [
    "%run ../code/fibo.py"
   ]
  },
  {
   "cell_type": "markdown",
   "metadata": {},
   "source": [
    "### Scope\n",
    "\n",
    "Es importante resaltar que **las variables que se crean dentro de las funciones no son accesibles una vez que termina la ejecución de la función**. En cambio, la función si que puede acceder a cosas que se han definido fuera de ella. No obstante, esto último no constituye una buena práctica de cara a la reproducibilidad, mantenibilidad y testeo de la función. "
   ]
  },
  {
   "cell_type": "markdown",
   "metadata": {},
   "source": [
    "### Argumentos\n",
    "\n",
    "También es posible definir funciones con un número variable de argumentos. Hay tres formas que pueden ser combinadas:\n",
    "\n",
    "* Argumentos con valores por omisión.\n",
    "* Palabras claves como argumentos.\n",
    "* Listas de argumentos arbitrarios."
   ]
  },
  {
   "cell_type": "markdown",
   "metadata": {},
   "source": [
    "#### Argumentos con valores por omision\n",
    "\n",
    "La forma más útil es especificar un valor por omisión para uno o más argumentos. Esto crea una función que puede ser llamada con menos argumentos que los que permite. Por ejemplo:"
   ]
  },
  {
   "cell_type": "code",
   "execution_count": null,
   "metadata": {},
   "outputs": [],
   "source": [
    "def pedir_confirmacion(prompt, reintentos=4, recordatorio=\"Por favor, intente nuevamente!\"):\n",
    "    while True:\n",
    "        ok = input(prompt)\n",
    "        if ok in (\"s\", \"S\", \"si\", \"Si\", \"SI\", \"sI\"):  # contemplando todos los casos, \"in\" palabra resevada para probar si una secuencia contiene o no un determinado valor.\n",
    "            return True\n",
    "        if ok in (\"n\", \"N\", \"no\", \"No\", \"NO\", \"nO\"):  # contemplando todos los casos\n",
    "            return False\n",
    "        reintentos -= 1\n",
    "        if reintentos < 0:\n",
    "            raise ValueError(\"respuesta de usuario inválida\")\n",
    "        print (recordatorio)"
   ]
  },
  {
   "cell_type": "code",
   "execution_count": null,
   "metadata": {},
   "outputs": [],
   "source": [
    "# pasando solo el argumento obligatorio\n",
    "\n",
    "pedir_confirmacion(\"¿Realmente queres salir?\")"
   ]
  },
  {
   "cell_type": "code",
   "execution_count": null,
   "metadata": {},
   "outputs": [],
   "source": [
    "# pasando uno de los argumento opcionales\n",
    "\n",
    "pedir_confirmacion(\"¿Sobreescribir el archivo?\", 2)"
   ]
  },
  {
   "cell_type": "code",
   "execution_count": null,
   "metadata": {},
   "outputs": [],
   "source": [
    "# pasando todos los argumentos\n",
    "\n",
    "pedir_confirmacion(\"¿Sobreescribir el archivo?\", 2, \"Vamos, solo si o no!\")"
   ]
  },
  {
   "cell_type": "markdown",
   "metadata": {},
   "source": [
    "#### Palabras claves como argumentos\n",
    "\n",
    "Las funciones también puede ser llamadas usando argumentos con palabras claves (o argumentos nombrados) de la forma **keyword = value**. Por ejemplo, la siguiente función:"
   ]
  },
  {
   "cell_type": "code",
   "execution_count": null,
   "metadata": {},
   "outputs": [],
   "source": [
    "def loro(tension, estado='muerto', accion='explotar', tipo='Azul Nordico'):\n",
    "    print(\"-- Este loro no va a\", accion, end=' ')\n",
    "    print(\"si le aplicás\", tension, \"voltios.\")\n",
    "    print(\"-- Gran plumaje tiene el\", tipo)\n",
    "    print(\"-- Está\", estado, \"!\")"
   ]
  },
  {
   "cell_type": "markdown",
   "metadata": {},
   "source": [
    "Acepta un argumento obligatorio (tensión) y tres argumentos opcionales (estado, accion, y tipo). Esta función puede llamarse de cualquiera de las siguientes maneras:"
   ]
  },
  {
   "cell_type": "code",
   "execution_count": null,
   "metadata": {},
   "outputs": [],
   "source": [
    "loro(1000)  # 1 argumento posicional"
   ]
  },
  {
   "cell_type": "code",
   "execution_count": null,
   "metadata": {},
   "outputs": [],
   "source": [
    "loro(tension=1000)  # 1 argumento nombrado, palabra clave"
   ]
  },
  {
   "cell_type": "code",
   "execution_count": null,
   "metadata": {},
   "outputs": [],
   "source": [
    "loro(tension=1000000, accion='BOOOOOM')  # 2 argumentos nombrados"
   ]
  },
  {
   "cell_type": "code",
   "execution_count": null,
   "metadata": {},
   "outputs": [],
   "source": [
    "loro(accion='BOOOOOM', tension=1000000) # 2 argumentos nombrados, sin orden"
   ]
  },
  {
   "cell_type": "markdown",
   "metadata": {},
   "source": [
    "Cuando un parámetro formal de la forma `**nombre` está presente al final, **recibe un diccionario** conteniendo todos los argumentos nombrados excepto aquellos correspondientes a un parámetro formal. Esto puede ser combinado con un parámetro formal de la forma `*nombre` que **recibe una tupla** conteniendo los argumentos posicionales además de la lista de parámetros formales. (`*nombre` debe ocurrir antes de `**nombre`). Por ejemplo, si definimos una función así:"
   ]
  },
  {
   "cell_type": "code",
   "execution_count": null,
   "metadata": {},
   "outputs": [],
   "source": [
    "def venta_de_queso (tipo, *argumento, **palabrasclaves):\n",
    "    print(\"-- ¿Tiene\", tipo, \"?\")\n",
    "    print(\"-- Lo siento, nos quedamos sin\", tipo)\n",
    "    for arg in argumento:\n",
    "        print(arg)\n",
    "    print(\"-\" * 40)\n",
    "    for c in palabrasclaves:\n",
    "        print(c, \":\", palabrasclaves[c])"
   ]
  },
  {
   "cell_type": "markdown",
   "metadata": {},
   "source": [
    "Puede ser llamada así:"
   ]
  },
  {
   "cell_type": "code",
   "execution_count": null,
   "metadata": {},
   "outputs": [],
   "source": [
    "venta_de_queso(\"Limburger\", \"Es muy liquido, sr.\", \"Realmente es muy liquido, sr.\", \n",
    "               cliente=\"Juan Gomez\",\n",
    "               vendedor=\"Miguel Paez\",\n",
    "               puesto=\"Venta de Queso Argentino\")"
   ]
  },
  {
   "cell_type": "markdown",
   "metadata": {},
   "source": [
    "#### Listas de argumentos arbitrarios\n",
    "\n",
    "Finalmente, la opción menos frecuentemente usada es especificar que una función puede ser llamada con un número arbitrario de argumentos. Estos argumentos serán organizados en una tupla. "
   ]
  },
  {
   "cell_type": "code",
   "execution_count": null,
   "metadata": {},
   "outputs": [],
   "source": [
    "def f(*args):\n",
    "    return args"
   ]
  },
  {
   "cell_type": "code",
   "execution_count": null,
   "metadata": {},
   "outputs": [],
   "source": [
    "f(1, 5, True, False, \"Hello, world!\")"
   ]
  },
  {
   "cell_type": "markdown",
   "metadata": {},
   "source": [
    "## Referencias usadas en el notebook\n",
    "\n",
    "* G. Van Rossum. El tutorial de Python. PyAr http://docs.python.org.ar/tutorial/"
   ]
  },
  {
   "cell_type": "markdown",
   "metadata": {},
   "source": [
    "## Licencia\n",
    "\n",
    "<a rel=\"license\" href=\"http://creativecommons.org/licenses/by-sa/4.0/\"><img alt=\"Licencia de Creative Commons\" style=\"border-width:0\" src=\"https://i.creativecommons.org/l/by-sa/4.0/88x31.png\" /></a><br />Este documento se destribuye con una <a rel=\"license\" href=\"http://creativecommons.org/licenses/by-sa/4.0/\">licencia Atribución CompartirIgual 4.0 Internacional de Creative Commons</a>.\n",
    "\n",
    "© 2020. Infiniem Labs Acústica. infiniemlab.dsp@gmail.com (CC BY-SA 4.0))"
   ]
  }
 ],
 "metadata": {
  "kernelspec": {
   "display_name": "Python 3",
   "language": "python",
   "name": "python3"
  },
  "language_info": {
   "codemirror_mode": {
    "name": "ipython",
    "version": 3
   },
   "file_extension": ".py",
   "mimetype": "text/x-python",
   "name": "python",
   "nbconvert_exporter": "python",
   "pygments_lexer": "ipython3",
   "version": "3.7.0"
  }
 },
 "nbformat": 4,
 "nbformat_minor": 4
}
