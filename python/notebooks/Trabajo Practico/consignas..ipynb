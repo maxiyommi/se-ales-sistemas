{
 "cells": [
  {
   "cell_type": "markdown",
   "metadata": {},
   "source": [
    "# Trabajo Practico Integrador\n",
    "## _Desarrollo de software para el cálculo de parámetros acústicos ISO 3382_"
   ]
  },
  {
   "cell_type": "markdown",
   "metadata": {},
   "source": [
    "## Contenido\n",
    "* ### Objetivos\n",
    "    * [Objetivo Principal](#Objetivo-Principal)\n",
    "    * [Objetivos Particulares](#Objetivos-Particulares)\n",
    "* ### [Tiempo de Reverberación](#Tiempo-de-Reverberación)\n",
    "* ### [Consignas](#Consignas)\n",
    "* ### Descripcion detallada de las entregas\n",
    "    * [Primer Entrega](./primer-entrega.ipynb)"
   ]
  },
  {
   "cell_type": "markdown",
   "metadata": {},
   "source": [
    "## Objetivo Principal\n",
    "El siguiente trabajo propone realizar un software modular que permita el cálculo de parámetros\n",
    "acústicos propuestos en la normativa ISO 3382 (UNE-EN ISO 3382, 2010). Un sistema íntegro que\n",
    "contemple todos los elementos necesarios para una medición in-situ."
   ]
  },
  {
   "cell_type": "markdown",
   "metadata": {},
   "source": [
    "## Objetivos particulares\n",
    "Los alumnos adquirirán las siguientes habilidades:\n",
    "- Desarrollo de funciones para:\n",
    "     - Generación y reproducción de ruido rosa.\n",
    "     - Generación y reproducción de sine sweep.\n",
    "     - Adquisición de la RI.\n",
    "     - Procesamiento de las RI.\n",
    "- Adquirir las capacidades de interpretar los lineamientos de una normativa.\n",
    "- Autonomía en la lectura del material dispuesto por los docentes.\n",
    "- Presentación de avances de producción.\n",
    "- Documentar el procedimiento de medición y diseño de scripts."
   ]
  },
  {
   "cell_type": "markdown",
   "metadata": {},
   "source": [
    "## Tiempo de Reverberacion \n",
    "El desarrollo teórico del parámetro acústico “Tiempo de reverberación” ha sido profundamente estudiado por numerosos autores, entre ellos pueden destacarse W.C. Sabine, Eyring, Millington, Fitzroy y Kuttruff (Sabine, W.C. 1964) (Kuttruff, 2009). Una presentación clara sobre el modelo de Millington puede encontrarse en el trabajo de L. E. Kinsler (Kinsler L. E. 1982). Para interpretar el modelo propuesto por Fitzroy puede estudiarse el análisis planteado por M. Rettinger (Rettinger M. 1977). El Tiempo de Reverberación está definido en la Norma ISO 354 de la siguiente manera: “Es el tiempo necesario para que el nivel de presión sonora disminuya 60 dB después del cese de la fuente”. En la actualidad la mayoría de los equipos usualmente empleados para cuantificar el mencionado descriptor, entregan el parámetro T30, definido en la Norma ISO 3382 según: “Es el tiempo, expresado en segundos, que se requiere para que el nivel de presión sonora disminuya en 60 dB, calculado sobre una recta obtenida de la regresión lineal por mínimos cuadrados de una curva de caída medida desde un nivel 5 dB por debajo del nivel inicial, hasta un nivel de 35 dB inferior a dicho nivel” (UNE-EN ISO 3382, 2010). En este trabajo se desarrollan algunos de los descriptores que permiten caracterizar un recinto cerrado.\n"
   ]
  },
  {
   "cell_type": "markdown",
   "metadata": {},
   "source": [
    "## Consignas\n",
    "Realizar un trabajo práctico que cumpla con las cuatro etapas de entrega resumidas en la siguiente\n",
    "tabla, en grupos reducidos de 3 a 4 integrantes (excluyente). Las entregas se realizan en el dia y horario\n",
    "de las prácticas de la asignatura\n",
    "\n",
    "<table>\n",
    "\t<tr>\n",
    "\t\t<th>N° de Entrega</th>\n",
    "\t\t<th>Función</th>\n",
    "\t\t<th>Uso</th>\n",
    "        <th>Test</th>\n",
    "        <th>Fecha</th>\n",
    " \t</tr>\n",
    " \t<tr>\n",
    "  \t\t<td rowspan=\"3\">1° Entrega</td>\n",
    "   \t\t<td>Sintetización de ruido rosa</td>\n",
    "\t\t<td>Se utiliza para ajustar el nivel de la fuente al menos a 45 dB por encima del nivel de ruido de fondo en la banda de frecuencia correspondiente</td>\n",
    "   \t\t<td rowspan=\"3\" style=\"text-align:left\"><ul><li>Corroborar que ambas funciones (Ruido rosa - Sine sweep logarítmico + Filtro\n",
    "inverso) se comportan adecuadamente utilizando, por ejemplo el software Audacity, para ver sus respectivos espectros.\n",
    "</li><li>Convolucionar un sine sweep logarítmico generado y su respectivo filtro inverso y estudiar resultados.</li><li>Reproducir y grabar de manera simultánea.</li></ul>\n",
    "</td>\n",
    "\t\t<td rowspan=\"3\">Ver Git</td>\n",
    " \t</tr>\n",
    "\t<tr>\n",
    "  \t\t<td>Generación de sine sweep logarítmico + filtro inverso</td>\n",
    "   \t\t<td>Se utiliza para obtener la respuesta al impulso a partir del sine sweep logarítmico</td>\n",
    " \t</tr>\n",
    "\t<tr>\n",
    "  \t\t<td>Adquisición y reproducción</td>\n",
    "   \t\t<td>Se utiliza para adquirir y reproducir las señales durante una medición in-situ.</td>\n",
    " \t</tr>\n",
    "     \t<tr>\n",
    "  \t\t<td rowspan=\"4\">2° Entrega</td>\n",
    "   \t\t<td>Función de carga de archivos de audio (dataset)</td>\n",
    "\t\t<td>Se utiliza para administrar información al software y evaluar los parámetros acústicos ISO 3382 de dichos audio</td>\n",
    "   \t\t<td rowspan=\"4\" style=\"text-align:left\"><ul><li>Verificar el espectro de los filtros generados, utilizando scipy.</li><li><li>Obtener respuesta al impulso a partir de los sine sweep y el filtro inverso descargados (dataset).</li>\n",
    "<li>Evaluar las respuestas al impulso sintetizadas, las respuesta al impulso generadas y sine sweep, con algún programa comercial</li></ul>\n",
    "</td>\n",
    "\t\t<td rowspan=\"4\">Ver Git</td>\n",
    " \t</tr>\n",
    "\t<tr>\n",
    "  \t\t<td>Función de sintetización de respuesta al impulso</td>\n",
    "   \t\t<td>Se utiliza para obtener la respuesta al impulso a partir del sine sweep logarítmico</td>\n",
    " \t</tr>\n",
    "\t<tr>\n",
    "  \t\t<td>Función filtros norma IEC 61260/td>\n",
    "   \t\t<td>La función filtros norma IEC 61260 es útil para filtrar la respuesta al impulso y calcular los parámetros acústicos por frecuencia</td>\n",
    " \t</tr>\n",
    "    <tr>\n",
    "  \t\t<td>Informe preliminar</td>\n",
    "   \t\t<td>Realizar informe de avance usando LaTex y respetando el formato dado.</td>\n",
    " \t</tr>\n",
    "    <tr>\n",
    "  \t\t<td rowspan=\"5\">3° Entrega</td>\n",
    "   \t\t<td>Función conversión a escala logarítmica normalizada</td>\n",
    "\t\t<td>Se utiliza para visualizar la señal en una escala más acorde al fenómeno que se estudia</td>\n",
    "   \t\t<td rowspan=\"5\" style=\"text-align:left\">\n",
    "            <ul>\n",
    "                <li>Graficar en escala logarítmica la señales de interés.</li>\n",
    "                <li>Probar con las respuestas al impulso sintetizadas y las muestras descargadas. En caso de utilizar más de una toma por recinto, calcular el valor medio y la desviación estándar.</li>\n",
    "                <li>Graficar los resultados.</li>\n",
    "                <li>Establecer la integración de todas las funciones usando un archivo de programa “main”.</li>\n",
    "                <li>Compara los resultados con software específico para el análisis de señales o plugins del mercado.</li>\n",
    "            </ul>\n",
    "        </td>\n",
    "\t\t<td rowspan=\"5\">Ver Git</td>\n",
    " \t</tr>\n",
    "\t<tr>\n",
    "  \t\t<td>Función suavizado de señal</td>\n",
    "   \t\t<td>Se utiliza para las fluctuaciones producto del ruido intrínseco en la respuesta al impulso.</td>\n",
    " \t</tr>\n",
    "\t<tr>\n",
    "  \t\t<td>Función integral de Schroeder</td>\n",
    "   \t\t<td>La función integral de Schroeder representa la curva de decaimiento de la energía acústica.</td>\n",
    " \t</tr>\n",
    "    <tr>\n",
    "  \t\t<td>Función regresión lineal por mínimos cuadrados </td>\n",
    "   \t\t<td>La función regresión lineal por mínimos cuadrados permite evaluar el tiempo de reverberación.</td>\n",
    " \t</tr>\n",
    "    <tr>\n",
    "  \t\t<td>Función cálculo de parámetros acústicos </td>\n",
    "   \t\t<td>Se utiliza para determinar las características acústicas de recintos cerrados</td>\n",
    " \t</tr>\n",
    "    <tr>\n",
    "  \t\t<td rowspan=\"3\">4° Entrega</td>\n",
    "   \t\t<td>Función Lundeby</td>\n",
    "\t\t<td>Se utiliza para encontrar los extremos de integración más precisos.</td>\n",
    "   \t\t<td rowspan=\"3\" style=\"text-align:left\"><ul><li>Probar con las respuestas muestras descargadas nuevamente y cuantificar la diferencia respecto a no utilizar Lundeby.</li><li> Evaluar la experiencia de usuario de la interfaz planteada.</li></ul>\n",
    "</td>\n",
    "\t\t<td rowspan=\"3\">Ver Git</td>\n",
    " \t</tr>\n",
    "\t<tr>\n",
    "  \t\t<td>Función interfaz gráfica</td>\n",
    "   \t\t<td>Se utiliza para integrar todas las funciones y permitir una interacción con usuarios.</td>\n",
    " \t</tr>\n",
    "\t<tr>\n",
    "  \t\t<td>Informe final</td>\n",
    "   \t\t<td>Realizar informe final usando LaTex y respetando el formato dado</td>\n",
    " \t</tr>\n",
    "</table>"
   ]
  }
 ],
 "metadata": {
  "kernelspec": {
   "display_name": "Python 3",
   "language": "python",
   "name": "python3"
  },
  "language_info": {
   "codemirror_mode": {
    "name": "ipython",
    "version": 3
   },
   "file_extension": ".py",
   "mimetype": "text/x-python",
   "name": "python",
   "nbconvert_exporter": "python",
   "pygments_lexer": "ipython3",
   "version": "3.7.9"
  }
 },
 "nbformat": 4,
 "nbformat_minor": 4
}
