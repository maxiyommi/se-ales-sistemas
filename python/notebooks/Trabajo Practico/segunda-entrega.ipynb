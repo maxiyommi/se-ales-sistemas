{
 "cells": [
  {
   "cell_type": "markdown",
   "metadata": {},
   "source": [
    "# Trabajo Practico Integrador\n",
    "## Segunda Entrega"
   ]
  },
  {
   "cell_type": "markdown",
   "metadata": {},
   "source": [
    "### Función de carga de archivos de audio (dataset):  \n",
    "\n",
    "Realizar una función que permita cargar archivos de audio, en lo posible \\*.wav, que contenga, ya sea una respuesta al impulso o bien un sinesweep logarítmico grabado y su respectivo filtro inverso. Contemplar el ingreso de más de un archivo de audio, por tipo.\n",
    "\n",
    "#### 1. Respuestas al impulso: \n",
    "Elegir uno de los recintos que se encuentran en el siguiente [link](http://isophonics.net/content/room-impulse-response-data-set) y descargar las mediciones y toda la información relevante. También se puede usar los archivos dispuestos en el Drive de la asignatura\n",
    "#### 2. Sine sweep logarítmico + filtro inverso: \n",
    "Usar los archivos dispuestos en el Drive de la asignatura.\n",
    "\n",
    "El codigo en la celda genera un boton de seleccion (ver los pasos de instalacion [aqui](https://ipywidgets.readthedocs.io/en/latest/user_install.html)), y guarda las rutas a los archivos seleccionados en la variable files. La funcion desarrollada deberia tomar las rutas y leer el contenido de los archivos, utilizando alguna de las librerias vistas en clase.\n"
   ]
  },
  {
   "cell_type": "code",
   "execution_count": 24,
   "metadata": {},
   "outputs": [
    {
     "data": {
      "application/vnd.jupyter.widget-view+json": {
       "model_id": "3548d43114c844cab7e1653d690b0258",
       "version_major": 2,
       "version_minor": 0
      },
      "text/plain": [
       "Button(description='Seleccione el archivo', style=ButtonStyle())"
      ]
     },
     "metadata": {},
     "output_type": "display_data"
    },
    {
     "data": {
      "text/plain": [
       "[]"
      ]
     },
     "execution_count": 24,
     "metadata": {},
     "output_type": "execute_result"
    }
   ],
   "source": [
    "from ipywidgets import Button\n",
    "from tkinter import Tk, filedialog\n",
    "from IPython.display import clear_output, display\n",
    "files = []\n",
    "def select_files(b,files=files):\n",
    "    clear_output()\n",
    "    root = Tk()\n",
    "    root.withdraw() # Hide the main window.\n",
    "    root.call('wm', 'attributes', '.', '-topmost', True) # Raise the root to the top of all windows.\n",
    "    files.append(filedialog.askopenfilename()) # List of selected files will be set button's file attribute.\n",
    "    print(files) # Print the list of files selected.\n",
    "\n",
    "fileselect = Button(description=\"Seleccione el archivo\")\n",
    "fileselect.on_click(select_files)\n",
    "\n",
    "display(fileselect)\n",
    "files"
   ]
  },
  {
   "cell_type": "markdown",
   "metadata": {},
   "source": [
    "### Función de sintetización de respuesta al impulso:\n",
    "Realizar una función para sintetizar una respuesta al impulso. La función recibira como parametro el $T60$ que se desea obtener, y debera sintetizar una respuesta al impulso considerando las frecuencias centrales banda de octava y tercio de octava como establece la norma IEC61260(IEC61260,1995). La siguiente ecuación define una RI, para una frecuencia central $f_{i}$:\n",
    "\\begin{equation}\n",
    "y_{i}=A_{i}e^{π_{i}t}\\cos(2πf_{i}t)\n",
    "\\end{equation}\n",
    "\n",
    "donde $A_{i}$ es el coeficiente de amplitud para esa $f_{i}$(puede ser 1), y  $π_{i}$ define el decaimiento exponencial en función de $T_{60}$ (tiempo de reverberación), para una frecuencia\n",
    "\n",
    "\\begin{equation}\n",
    "π_{i}=\\frac{T_{60}}{\\ln(10^{-3})}\n",
    "\\end{equation}\n",
    "\n",
    "La suma de varias frecuencias centrales $f_{i}$ se define como:\n",
    "\\begin{equation}\n",
    "  y=\\sum_{y=1}^{n}y_{i}\n",
    "\\end{equation}\n",
    "Con $n$ la cantidad de frecuencias centrales $f_{i}$ del filtro. La funcion debe recibir el tiempo de reverberacion para cada frecuencia, y devolver la respuesta al impulso correspondiente. Al momento de definir la funcion, buscar la forma de que la misma evalue solo lo T que se encuentren definidos para cada frecuencia en particular (recordar como se definian funciones con numero de argumentos variable en python) "
   ]
  },
  {
   "cell_type": "code",
   "execution_count": null,
   "metadata": {},
   "outputs": [],
   "source": []
  },
  {
   "cell_type": "markdown",
   "metadata": {},
   "source": [
    "### Función obtener respuesta al impulso: \n",
    "Realizar una función que permita obtener la respuesta al impulso a partir del sinesweep logarítmico grabado y el filtro inverso utilizando el siguiente método: Supongamos que un recinto es excitado por una señal sinesweep logarítmica $x(t)$ y captada por un micrófono $y(t)$ y buscamos la RI del recinto $h(t)$, lo anterior se expresa de la siguiente manera:\n",
    "\n",
    "\\begin{equation}\n",
    "y(t)=x(t)*h(t)\n",
    "\\end{equation}\n",
    "\n",
    "Para un Sinesweep lineal(que no es nuestro caso) el problema es sencillo, pero en nuestro caso requiere trabajar un poco respecto $x(t)$ para obtener la siguiente expresión:\n",
    "\n",
    "\\begin{equation}\n",
    "h(t) = F^{-1}[H(jw)]=F^{-1}[Y(jw)K(jw)]\n",
    "\\end{equation}\n",
    "\n",
    "De esta manera se obtiene la respuesta al impulso buscada."
   ]
  },
  {
   "cell_type": "code",
   "execution_count": null,
   "metadata": {},
   "outputs": [],
   "source": []
  },
  {
   "cell_type": "markdown",
   "metadata": {},
   "source": [
    "### Función conversión a escala logarítmica normalizada:\n",
    "Para visualizar correctamente la señal es necesario realizar una función que convierta la respuesta al impulso en escala logarítmica, utilizando la siguiente expresión:\n",
    "\\begin{equation}\n",
    "    R(t) = 20\\log_{10}\\frac{A(t)}{A(t)_{max}}\n",
    "\\end{equation}\n",
    "Donde $A(t)$ es la señal que deseamos transformar de escala"
   ]
  },
  {
   "cell_type": "code",
   "execution_count": null,
   "metadata": {},
   "outputs": [],
   "source": []
  },
  {
   "cell_type": "markdown",
   "metadata": {},
   "source": [
    "### Función filtros norma IEC61260:\n",
    "Realizar una función que filtre todas las señales en octavas y tercio de octava según la norma IEC61260(IEC61260,1995), con el objetivo de calcular los parámetros acústicos discriminando las frecuencias. Para lo cual utilizar las funciones de el modulo Signals de SciPy(Para más detalle de su uso: []() []()). Se adjunta el codigo capaz de calcular los coeficientes del filtro y aplicarlos a una senal. La funcion debe completarse con el codigo necesario para que este proceso se repita para cada una de las frecuencias centrales determinadas en la norma. Asimismo, el primer argumento de la funcion iirfilter determina el grado del filtro. Evaluar el valor del mismo para que la frecuencia central de la banda coincida con las especificadas en la norma"
   ]
  },
  {
   "cell_type": "code",
   "execution_count": 22,
   "metadata": {},
   "outputs": [],
   "source": [
    "import numpy as np\n",
    "from matplotlib import pyplot as plt\n",
    "from scipy import signal\n",
    "\n",
    "#Octava - G = 1.0/2.0 / 1/3 de Octava - G=1.0/6.0\n",
    "G = 1.0/2.0\n",
    "factor = np.power(2, G)\n",
    "fs = 44100\n",
    "#Pruebo con una frecuencia central\n",
    "centerFrequency_Hz = 1000\n",
    "\n",
    "#Calculo los extremos de la banda a partir de la frecuencia central\n",
    "lowerCutoffFrequency_Hz=centerFrequency_Hz/factor;\n",
    "upperCutoffFrequency_Hz=centerFrequency_Hz*factor;\n",
    "\n",
    "#Extraemos los coeficientes del filtro \n",
    "b,a = signal.iirfilter(4, [lowerCutoffFrequency_Hz,upperCutoffFrequency_Hz],\n",
    "                            rs=60, btype='band', analog=False,\n",
    "                            ftype='butter', fs=fs, output='ba') \n",
    "\n",
    "w, h = signal.freqz(b,a)\n",
    "#plt.plot(w, 20 * np.log10(abs(h)), 'b')\n",
    "\n",
    "#aplicar el filtro al array en la variable audio\n",
    "#signal.sosfilter(sos, audio)"
   ]
  },
  {
   "cell_type": "markdown",
   "metadata": {},
   "source": [
    "### Informe preliminar: \n",
    "Realizar un informe preliminar en formato UNTREF para memorias cuatrimestrales (disponible en el Drive de la asignatura), utilizando la plataforma de dición de documentos LaTeX(https://es.wikipedia.org/wiki/LaTeX). Respetar las siguientes consignas:\n",
    "1. Mencionar los detalles en el diseño de los scripts(con ayuda de diagramas de flujo o pseudocódigo) sin agregar código propiamente dicho.\n",
    "2. Describir el dataset seleccionado para probar el software.\n",
    "3. El informe debe reflejar la arquitectura del software desarrollado y los avances en la producción del mismo. Los datos que se informan tienen que ser relevantes y garantizar la reproducibilidad de los mismos. No ahondar en muchos detalles teóricos y definiciones(hacer uso de referencias),hacer más bien foco en la producción del software, su evaluación y su validación.\n",
    "4. El informe preliminar no debe exceder las 3 páginas. Respetar fecha de entrega.\n",
    "5. Respetar los siguientes porcentajes de contenido por sección(también determinan los grados de importancia)\n",
    "\n",
    "| | | | | | | \n",
    "|:---|:---|:---|:---|:---|:---|\n",
    "| Resumen(5%) | Introducción(10%) | Marco teórico(10%) | Propuesta original(25%) | Resultados(30%) | Conclusiones(20%) |\n",
    "| | | | | | | "
   ]
  },
  {
   "cell_type": "code",
   "execution_count": null,
   "metadata": {},
   "outputs": [],
   "source": []
  }
 ],
 "metadata": {
  "kernelspec": {
   "display_name": "Python 3",
   "language": "python",
   "name": "python3"
  },
  "language_info": {
   "codemirror_mode": {
    "name": "ipython",
    "version": 3
   },
   "file_extension": ".py",
   "mimetype": "text/x-python",
   "name": "python",
   "nbconvert_exporter": "python",
   "pygments_lexer": "ipython3",
   "version": "3.8.3"
  }
 },
 "nbformat": 4,
 "nbformat_minor": 4
}
