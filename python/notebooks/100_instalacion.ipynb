{
 "cells": [
  {
   "cell_type": "markdown",
   "metadata": {
    "slideshow": {
     "slide_type": "-"
    }
   },
   "source": [
    "# Instalacion y configuracion del entorno de desarrollo"
   ]
  },
  {
   "cell_type": "markdown",
   "metadata": {},
   "source": [
    "## Contenido\n",
    "\n",
    "* [Entorno de desarrollo para Python](#Entorno-de-desarrollo-para-Python)\n",
    "* [Instalaciones simplificadas](#Instalaciones-simplificadas)\n",
    "    * [Anaconda](#Anaconda)\n",
    "    * [Miniconda](#Miniconda)\n",
    "    * [Instalando paquetes a través de conda (o pip)](#Instalando-paquetes-a-traves-de-conda-(o-pip))\n",
    "    * [Utilizar el material del seminario](#Utilizar-el-material-del-seminario)\n",
    "* [Bibliografía recomendada para el seminario](#Bibliografia-recomendada-para-el-seminario)\n",
    "* [Referencias usadas en el notebook](#Referencias-usadas-en-el-notebook)"
   ]
  },
  {
   "cell_type": "markdown",
   "metadata": {},
   "source": [
    "## Objetivos del notebook\n",
    "\n",
    "* Aprender a instalar y configurar el entorno de desarrollo básico.\n",
    "* Instalar paquetes.\n",
    "* Usar el material del curso desde Jupyter Lab."
   ]
  },
  {
   "cell_type": "markdown",
   "metadata": {},
   "source": [
    "## Entorno de desarrollo para Python\n",
    "\n",
    "[Python](https://www.python.org) es un lenguaje de programación multiplataforma, lo que significa que se ejecuta en todos los principales sistemas operativos, pero difiere ligeramente dependiendo de su versión. Por esto, se deberá mantener algunas consideraciones en mente a la hora de instalarlo. En terminos generales, para desarrollar en Python debemos contar con los siguientes elementos:\n",
    "\n",
    "* Intérprete de Python.\n",
    "* Administrador de paquetes (package managers).\n",
    "* IDE (Integrated Development Environment).\n",
    "* Librerías."
   ]
  },
  {
   "cell_type": "markdown",
   "metadata": {
    "slideshow": {
     "slide_type": "slide"
    }
   },
   "source": [
    "## Instalaciones simplificadas\n",
    "\n",
    "El objetivo es simplificar el procedimiento de instalación para focalizarnos en el código. La instalación por separado del intérprete de Python, un IDE y todos los paquetes que utilizaremos, puede ser una tarea confusa si no se tiene en claro el ecosistema de desarrollo. A medida que se avance en el curso se dara más detalle de estos elementos.\n",
    "\n",
    "[Anaconda](https://www.anaconda.com/distribution/) es un distribución libre y abierta de los lenguajes **Python** y **R**, que está orientada a simplificar el despliegue y administración de los paquetes de software.\n",
    "\n",
    "### Anaconda \n",
    "\n",
    "![](https://i1.wp.com/www.linuxhispano.net/wp-content/uploads/2016/08/anaconda_logo.png?fit=1080%2C540)\n",
    "\n",
    "Algunas características de Anaconda relevantes son:\n",
    "\n",
    "* Es libre, de código abierto y con una [documentación](https://docs.anaconda.com/) bastante detallada y una gran comunidad.\n",
    "* Se trata de una suite multiplataforma (Gnu/Linux, MacOS y Windows).\n",
    "* Orientada a procesamiento de datos a gran escala y computación científica.\n",
    "* Apunta a simplificar el manejo de paquetes y su distribución.\n",
    "* Su gestor de paquetes se llama [Conda](https://docs.conda.io/en/latest/).\n",
    "* Elimina problemas de dependencias de paquetes y control de versiones.\n",
    "\n",
    "#### Miniconda\n",
    "\n",
    "En lugar de instalar **Anaconda**, se puede instalar **Miniconda**, que es una versión minimalista de Anaconda que solo incluye **Python**, **Pip** y **Conda** (y otros paquetes necesarios para su funcionamiento).\n",
    "\n",
    "¿Por qué instalaría **Miniconda** en lugar de **Anaconda**?\n",
    "\n",
    "* Por cuestiones de espacio en disco: en lugar de instalar todo, pueden instalar solo lo que necesitan.\n",
    "* Para aprovechar y aprender a instalar paquetes, por si alguna vez necesitan uno que Anaconda no incluya.\n",
    "\n",
    "Entrar en la [pagina oficial de Miniconda](https://docs.conda.io/en/latest/miniconda.html) e instalar la versión correspondiente al sistema operativo que poseen.\n",
    "\n",
    "#### Actualizar Miniconda usando Conda\n",
    "\n",
    "![](https://docs.conda.io/en/latest/_images/conda_logo.svg)\n",
    "\n",
    "[Conda](https://docs.conda.io/en/latest/) es el gestor de paquetes (package managers) que utiliza tanto Miniconda como Anaconda, es análogo a [pip](https://pypi.org/). Los mismos sirven para bajar e instalar paquetes automáticamente, entre otras cosas. Ahora, vamos a actualizar Anaconda para asegurarnos de que tenemos nuestra distribución de Python con todos sus paquetes al día. Abrimos una terminal y ejecutamos los siguientes comandos de actualización (confirmando en el caso de tener que instalar paquetes nuevos):\n",
    "\n",
    "``` bash\n",
    "conda update --all\n",
    "```\n",
    "\n",
    "#### Instalacion de Anaconda\n",
    "\n",
    "Si se prefiere el paquete completo de herramientas optar por **Anaconda**:\n",
    "\n",
    "> La instalación de Anaconda depende del sistema operativo instalado, para tener los pasos detallados para cada sistema operativo [ver la documentación oficial](https://docs.anaconda.com/anaconda/install/)\n",
    "\n",
    "* Ir a la [página de descargas de Anaconda](https://www.anaconda.com/download/).\n",
    "* Seleccionar tu sistema operativo (Windows, OSX, Linux).\n",
    "* Descargar Anaconda (Version Python 3.x) y ejecutarlo."
   ]
  },
  {
   "cell_type": "markdown",
   "metadata": {},
   "source": [
    "### Instalando paquetes a traves de conda (o pip)\n",
    "\n",
    "Una vez instalado **Miniconda** (o Anaconda), abrir una consola. En Windows, van al menú inicio, escriben \"cmd\" y les va a aparecer \"cmd.exe\" o \"Command Prompt\". \n",
    "\n",
    "Primero listemos los paquetes instalados\n",
    "``` bash\n",
    "conda list\n",
    "```\n",
    "\n",
    "Probemos instalando Jupyter Lab. Para esto, escriben en la consola (como recomienda la [documentacion oficial](https://jupyter.org/install)):\n",
    "\n",
    "**Conda**\n",
    "``` bash\n",
    "conda install jupyterlab\n",
    "```\n",
    "\n",
    "**Pip**\n",
    "``` bash\n",
    "pip install jupyterlab\n",
    "```\n",
    "\n",
    "Va a mostrar un texto diciendo qué paquetes va a instalar o actualizar, y pregunta si se quiere proceder. Poniendo \"y\" automáticamente se baja el paquete desde internet y se instala. Así de sencillo.\n",
    "\n",
    "Es importante aclarar, cuando mencionemos **notebook**, se hará referencia al archivo .ipynb, en lugar al programa de **Jupyter Notebook**. El termino **notebook** se hereda de [IPython](https://es.wikipedia.org/wiki/IPython).\n",
    "\n",
    "\n",
    "![](../img/eco_anaconda.png)"
   ]
  },
  {
   "cell_type": "markdown",
   "metadata": {},
   "source": [
    "### Utilizar el material del seminario\n",
    "\n",
    "Una vez que el entorno de desarrollo está instalado y configurado, es necesario descargar el material para disponerlo offline, como figura en la [página principal](../../README.md#Uso-del-material)\n",
    ". \n",
    "Luego, abrir una terminal del sistema operativo en la carpeta que se descomprimió el material. \n",
    "\n",
    "![](../img/terminal_jupyterlab.png)\n",
    "\n",
    "> **Nota:** es importante que la dirección que aparezca en la línea de comandos sea la correspondiente a la carpeta del curso (ej. \"signal-systems/python/notebooks\"), o determinados elementos, como las imágenes incrustadas no se visualizarán correctamente.\n",
    "\n",
    "Aparecerán unas cuantas líneas y se abrirá tu navegador web predefinido. **No hace falta disponer de conexión a Internet**. Lo que está ocurriendo es que \"tu navegador está mostrando lo que le manda el programa que se está ejecutando desde la línea de comandos\". Así que no cierres la línea de comandos (terminal) hasta que termines de usar el notebook y ya lo hayas guardado y cerrado en tu navegador.\n",
    "\n",
    "En esa ventana de tu navegador puedes moverte por las carpetas y ver los archivos con extensión .ipynb. Ve a la carpeta **notebooks** y abre la primera clase haciendo click sobre ella. \n",
    "\n",
    "![](../img/jupyterlab.png)"
   ]
  },
  {
   "cell_type": "markdown",
   "metadata": {},
   "source": [
    "## Bibliografia recomendada para el curso\n",
    "\n",
    "La mayor parte del contenido teórico de este curso fue extraida de: \n",
    "\n",
    "* Varoquaux, G., Gouillart, E., Vahtras, O., Haenel, V., Rougier, N. P., Gommers, R., ... & Pinte, D. *Scipy lecture note*, 2015\n",
    "* Van Rossum, Guido; Drake, Fred L. *The python language reference manual*. Network Theory Ltd., 2011."
   ]
  },
  {
   "cell_type": "markdown",
   "metadata": {},
   "source": [
    "## Sitios para consultar"
   ]
  },
  {
   "cell_type": "markdown",
   "metadata": {},
   "source": [
    "* https://realpython.com"
   ]
  },
  {
   "cell_type": "markdown",
   "metadata": {
    "slideshow": {
     "slide_type": "slide"
    }
   },
   "source": [
    "## Referencias usadas en el notebook\n",
    "\n",
    "* Molloy, Derek. *Exploring Raspberry Pi: interfacing to the real world with embedded Linux*. John Wiley & Sons, 2016.\n",
    "* Cano, Juan Luis. *Curso Aero Python*. Extraido de [GitHub](https://github.com/AeroPython/Curso_AeroPython), 2016."
   ]
  },
  {
   "cell_type": "markdown",
   "metadata": {},
   "source": [
    "## Licencia\n",
    "\n",
    "<a rel=\"license\" href=\"http://creativecommons.org/licenses/by-sa/4.0/\"><img alt=\"Licencia de Creative Commons\" style=\"border-width:0\" src=\"https://i.creativecommons.org/l/by-sa/4.0/88x31.png\" /></a><br />Este documento se destribuye con una <a rel=\"license\" href=\"http://creativecommons.org/licenses/by-sa/4.0/\">licencia Atribución CompartirIgual 4.0 Internacional de Creative Commons</a>.\n",
    "\n",
    "Material adaptado del curso [Introducción a Python](https://github.com/infiniemlabs-acustica/python_introduccion)\n",
    "\n",
    "© 2020. Infiniem Labs Acústica. infiniemlab.dsp@gmail.com (CC BY-SA 4.0))"
   ]
  }
 ],
 "metadata": {
  "kernelspec": {
   "display_name": "Python 3",
   "language": "python",
   "name": "python3"
  },
  "language_info": {
   "codemirror_mode": {
    "name": "ipython",
    "version": 3
   },
   "file_extension": ".py",
   "mimetype": "text/x-python",
   "name": "python",
   "nbconvert_exporter": "python",
   "pygments_lexer": "ipython3",
   "version": "3.7.9"
  }
 },
 "nbformat": 4,
 "nbformat_minor": 4
}
