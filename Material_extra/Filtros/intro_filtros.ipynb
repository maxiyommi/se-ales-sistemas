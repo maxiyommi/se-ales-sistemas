{
 "cells": [
  {
   "cell_type": "markdown",
   "metadata": {},
   "source": [
    "# Introducción breve a la implementación de filtros\n",
    "\n",
    "La relación de entrada-salida de un filtro (FIR e IIR)[1] aplicado a un vector en el dominio de la transformada Z es una función de transferencia de la siguiente forma:\n",
    "\n",
    "$$\\frac{Y(z)}{X(z)}=\\frac{b_{0}+b_{1}z^{-1}+b_2z^{-2}+...+b_mz^{-m}}{1+a_1z^{-1}+a_2z^{-2}+...+a_nz^{-n}}, n\\geq m$$\n",
    "\n",
    "Donde $m$ es el orden del filtro feedback (ceros), $n$ es el orden del filtro feedforward (polos). Si $n\\geq m$ se puede asegurar que el sistema será estable, que es condición fundamental para todo tipo de filtro que se desee implementar. \n",
    "\n",
    "Dicha función de transferencia se puede expresar como la siguiente ecuación en diferencia.\n",
    "\n",
    "$$a[0]*y[n] = b[0]*x[n] + b[1]*x[n-1] + ... + b[M]*x[n-M]- a[1]*y[n-1] - ... - a[N]*y[n-N]$$\n",
    "\n",
    "Se asume que $a[0]=1$ debido a la normalización.\n",
    "\n",
    "Hay varias formas de implementar (programar) un filtro la forma directa (direct-form implementation) es una de las más conocida, hay muchos más como cascada, paralelos, entre otros[2]. En esta implementación (direct-form), los coeficientes $a_i$ y $b_i$ que son valores reales aparecen como multiplicadores en el diagrama de bloques de la realización de un filtro.\n",
    "Una variante de direct-form es *direct-form II transposed,* a continuacion se observa el diagrama[3]:\n",
    "\n",
    "![](iirfilt.gif)\n",
    "\n",
    "Se la denomina directa porque se trabaja directamente con el numerador y el denominador de la función de transferencia pulso. \n",
    "\n",
    "Esta es implementación usada en Matlab en la funcion ̣[`filter()`](https://www.mathworks.com/help/matlab/ref/filter.html) y Python-Scipy [`lfilter()`](https://docs.scipy.org/doc/scipy/reference/generated/scipy.signal.lfilter.html). \n",
    "La ecuacion en diferencia "
   ]
  },
  {
   "cell_type": "markdown",
   "metadata": {},
   "source": [
    "## MATLAB\n",
    "\n",
    "Extraido de [rosettacode](https://rosettacode.org/wiki/Apply_a_digital_filter_(direct_form_II_transposed)#MATLAB).\n",
    "\n",
    "``` matlab\n",
    "\n",
    "signal = [-0.917843918645, 0.141984778794, 1.20536903482, 0.190286794412, -0.662370894973, -1.00700480494, -0.404707073677 ,0.800482325044, 0.743500089861, 1.01090520172, 0.741527555207, 0.277841675195, 0.400833448236, -0.2085993586, -0.172842103641, -0.134316096293, 0.0259303398477, 0.490105989562, 0.549391221511, 0.9047198589];\n",
    "a = [1.00000000, -2.77555756e-16, 3.33333333e-01, -1.85037171e-17];\n",
    "b = [0.16666667, 0.5, 0.5, 0.16666667];\n",
    " \n",
    "out = filter(b,a,signal)\n",
    " \n",
    "figure\n",
    "subplot(1,2,1)\n",
    "stem(0:19, signal)\n",
    "xlabel('n')\n",
    "title('Original Signal')\n",
    " \n",
    "subplot(1,2,2)\n",
    "stem(0:19, out)\n",
    "xlabel('n')\n",
    "title('Filtered Signal')\n",
    "\n",
    "```"
   ]
  },
  {
   "cell_type": "markdown",
   "metadata": {},
   "source": [
    "## PYTHON -SCIPY\n",
    "\n",
    "Extraido de [rosettacode](https://rosettacode.org/wiki/Apply_a_digital_filter_(direct_form_II_transposed)#Python)."
   ]
  },
  {
   "cell_type": "code",
   "execution_count": 1,
   "metadata": {},
   "outputs": [
    {
     "name": "stdout",
     "output_type": "stream",
     "text": [
      "[-0.15297399 -0.43525783 -0.1360434   0.69750333  0.65644469 -0.43548245\n",
      " -1.08923946 -0.53767655  0.51704999  1.05224975  0.9618543   0.69569009\n",
      "  0.4243563   0.19626223 -0.02783512 -0.21172192 -0.17474556  0.06925841\n",
      "  0.38544587  0.65177084]\n"
     ]
    },
    {
     "data": {
      "image/png": "[encoded data removed]",
      "text/plain": [
       "<Figure size 432x288 with 1 Axes>"
      ]
     },
     "metadata": {
      "needs_background": "light"
     },
     "output_type": "display_data"
    }
   ],
   "source": [
    "from __future__ import print_function\n",
    "from scipy import signal\n",
    "import matplotlib.pyplot as plt\n",
    " \n",
    "if __name__==\"__main__\":\n",
    "\tsig = [-0.917843918645,0.141984778794,1.20536903482,0.190286794412,-0.662370894973,-1.00700480494,\n",
    "\t\t-0.404707073677,0.800482325044,0.743500089861,1.01090520172,0.741527555207,\n",
    "\t\t0.277841675195,0.400833448236,-0.2085993586,-0.172842103641,-0.134316096293,\n",
    "\t\t0.0259303398477,0.490105989562,0.549391221511,0.9047198589]\n",
    " \n",
    "\t#Create an order 3 lowpass butterworth filter\n",
    "\t#Generated using b, a = signal.butter(3, 0.5)\n",
    "\ta = [1.00000000, -2.77555756e-16, 3.33333333e-01, -1.85037171e-17]\n",
    "\tb = [0.16666667, 0.5, 0.5, 0.16666667]\n",
    " \n",
    "\t#Apply the filter to signal\n",
    "\tfilt = signal.lfilter(b, a, sig)\n",
    "\tprint (filt)\n",
    " \n",
    "\tplt.plot(sig, 'b')\n",
    "\tplt.plot(filt, 'r--')\n",
    "\tplt.show()\n"
   ]
  },
  {
   "cell_type": "markdown",
   "metadata": {},
   "source": [
    "## Referencia\n",
    "1. Oppenheim, Alan V., Ronald W. Schafer, and John R. Buck. Discrete-Time Signal Processing. Upper Saddle River, NJ: Prentice-Hall, 1999. \n",
    "2. https://en.wikipedia.org/wiki/Digital_filter#Filter_realization\n",
    "3. https://www.dsprelated.com/freebooks/filters/"
   ]
  }
 ],
 "metadata": {
  "kernelspec": {
   "display_name": "Python 3",
   "language": "python",
   "name": "python3"
  },
  "language_info": {
   "codemirror_mode": {
    "name": "ipython",
    "version": 3
   },
   "file_extension": ".py",
   "mimetype": "text/x-python",
   "name": "python",
   "nbconvert_exporter": "python",
   "pygments_lexer": "ipython3",
   "version": "3.7.7"
  }
 },
 "nbformat": 4,
 "nbformat_minor": 4
}
