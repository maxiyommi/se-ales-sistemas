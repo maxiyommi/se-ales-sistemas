{
 "cells": [
  {
   "cell_type": "markdown",
   "metadata": {},
   "source": [
    "# Game of life"
   ]
  },
  {
   "cell_type": "markdown",
   "metadata": {},
   "source": [
    "![](https://steamcdn-a.akamaihd.net/steam/apps/224700/header.jpg?t=1447356958)"
   ]
  },
  {
   "cell_type": "markdown",
   "metadata": {},
   "source": [
    "![](https://www.researchgate.net/profile/Leonardo_Sanchez3/publication/314104345/figure/fig5/AS:466792264015877@1488303356730/Figura-6-Captura-de-un-planeador-en-life-juego-de-la-vida-de-Conway-1983-Tomado-de.png)"
   ]
  },
  {
   "cell_type": "markdown",
   "metadata": {},
   "source": [
    "[Game of life](https://en.wikipedia.org/wiki/Conway%27s_Game_of_Life) es un juego de cero jugadores, quien juega es un [autómata celular](https://en.wikipedia.org/wiki/Cellular_automaton) (modelo matemático para un sistema dinámico que evoluciona en pasos discretos) que su evolución está determinada por el estado inicial y no necesita ninguna entrada de datos posterior, fue diseñado por el matemático británico [John Horton Conway](https://es.wikipedia.org/wiki/John_Horton_Conway) en 1970. \n",
    "\n",
    "![](https://static.urbantecno.com/2018/02/Este-es-John-Horton-Conway.jpg)\n",
    "\n",
    "> Falleció el pasado sabado 11 de abril producto del [COVID-19](https://www.argentina.gob.ar/salud/coronavirus-COVID-19) a los 82 años.\n",
    "\n",
    "## El juego\n",
    "\n",
    "El \"tablero de juego\" es una cuadriculado plano formada por cuadrados donde viven o mueren las \"células\" que se extiende por el infinito en todas las direcciones. COmo se observa a continuación:\n",
    "\n",
    "![](https://upload.wikimedia.org/wikipedia/commons/thumb/9/96/Game_of_life_block_with_border.svg/66px-Game_of_life_block_with_border.svg.png)\n",
    "\n",
    "Por tanto, cada célula tiene 8 células \"vecinas\", que son las que están próximas a ella, incluidas las diagonales. Las células tienen dos estados: están **vivas** o **muertas**. El estado de las células evoluciona a lo largo de unidades de tiempo discretas (se podría decir que por turnos). El estado de todas las células se tiene en cuenta para calcular el estado de las mismas al turno siguiente. Todas las células se actualizan simultáneamente en cada turno, siguiendo estas reglas:\n",
    "\n",
    "* Cada célula tienen dos posibles estados: **viva** (1) y **muerta** (0).\n",
    "* Cada célula tiene ocho células vecinas (se cuentan también las de las diagonales).\n",
    "* En cada paso, todas las células se actualizan instantáneamente teniendo en cuenta las siguientes reglas:\n",
    "    * Una célula muerta con exactamente 3 células vecinas vivas \"nace\" (es decir, al turno siguiente estará viva).\n",
    "    * Una célula viva con 2 o 3 células vecinas vivas sigue viva, en otro caso muere (por \"soledad\" o \"superpoblación\").\n",
    "\n",
    "En resumen las células permanecen vivas, mueren o generan nuevas células depende de cuántos de sus ocho vecinos estén vivos.\n",
    "\n",
    "## Patrones\n",
    "Los más interesante de este juego es la cantidad de patrones que pueden generearse a partir de un estano inicial, como se observa en el siguiente [link](http://jakevdp.github.io/blog/2013/08/07/conways-game-of-life/).\n",
    "\n",
    "## Referencias\n",
    "\n",
    "* [Game of Life con Python](https://pybonacci.org/2012/11/30/juego-de-la-vida-de-conway-con-python-usando-numpy/)\n",
    "* [Canal de Youtube Dot CSV, hablando al respecto](https://www.youtube.com/watch?v=omMcrvVGTMs)\n",
    "* [Versión del juego online](https://bitstorm.org/gameoflife/)"
   ]
  }
 ],
 "metadata": {
  "kernelspec": {
   "display_name": "Python 3",
   "language": "python",
   "name": "python3"
  },
  "language_info": {
   "codemirror_mode": {
    "name": "ipython",
    "version": 3
   },
   "file_extension": ".py",
   "mimetype": "text/x-python",
   "name": "python",
   "nbconvert_exporter": "python",
   "pygments_lexer": "ipython3",
   "version": "3.7.4"
  }
 },
 "nbformat": 4,
 "nbformat_minor": 4
}
