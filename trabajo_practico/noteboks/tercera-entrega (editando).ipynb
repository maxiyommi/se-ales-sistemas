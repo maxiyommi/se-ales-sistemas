{
 "cells": [
  {
   "cell_type": "markdown",
   "metadata": {},
   "source": [
    "# Trabajo Practico Integrador\n",
    "## Tercer Entrega"
   ]
  },
  {
   "cell_type": "markdown",
   "metadata": {},
   "source": [
    "## Función suavizado de señal:\n",
    "\n",
    "Investigar e implementar en una única función alguna o todas las técnicas que se mencionan a continuación:\n",
    "### 1. Transformada de Hilbert: \n",
    "Se trata de un operador lineal definido por la convolución de la señal que deseamos transformar $s(t)$ y la función $1/\\pi t$:\n",
    "\\begin{equation}\n",
    "H\\big\\{s(t)\\big\\} = s(t) * \\frac{1}{\\pi t} \n",
    "\\end{equation}\n",
    "Si la calculamos en el dominio de la frecuencia, \n",
    "\n",
    "\\begin{equation}\n",
    "H\\big\\{S(w)\\big\\} =  -j\\cdot sgn(w)\\cdot S(w)\n",
    "\\end{equation}\n",
    "\n",
    "donde la funcion $sgn(w)$ representa el signo de la frecuencia:\n",
    "\n",
    "\\begin{equation}\n",
    "sgn (w) = \n",
    "\\left\\{\n",
    "\\begin{array}{ll}\n",
    "      -1 & w<1 \\\\\n",
    "      0 & w=0 \\\\\n",
    "      1 & w>1 \\\\\n",
    "\\end{array} \n",
    "\\right . \n",
    "\\end{equation}\n",
    "\n",
    "Se utiliza con la función original para obtener la llamada señal analitica de $s(t)$ llamada $s_{a}(t)$, expresada como:\n",
    "\\begin{equation}\n",
    "s_{a}(t) = s(t) + j \\cdot H\\big\\{s(t)\\big\\}\n",
    "\\end{equation}\n",
    "\n",
    "La transformada de Hilbert produce entonces el efecto de desplazar la componente de frecuencias negativas de  $s(t)$ +90° y las partes de frecuencias positivas −90. La señal analitica $s_{a}(t)$\n",
    "correspondiente a una señal real $s(t)$ se define como una señal compleja cuyo espectro de frecuencias es nulo para frecuencias negativas, y cuya parte real es igual a la señal original $s(t)$. Tambien podemos afirmar que una señal es analitica si su parte imaginaria es igual a la Transformada de Hilbert de su parte real. \n",
    "De la  señal analitica se puede obtener fácilmente la envolvente de la señal, conservando tan solo el modulo de dicha transformación. Otra interpretación es que la transformada de Hilbert de $s(t)$ es la salida de un sistema LTI con entrada $s(t)$ y respuesta al impulso $1/\\pi t$.\n",
    "\n",
    "\n",
    "### 2. Filtro de promedio móvil: \n",
    "Se trata de una técnica de filtrado, la cual devuelve un valor de salida igual al promedio de $L$ muestras, dando una lista de números los cuales cada uno es el promedio de un subconjunto de los datos originales. Para cada muestra de nuestra señal, obtenemos la nueva funcion filtrada aplicando la siguiente formula:\n",
    "\\begin{equation}\n",
    "y[i]=\\frac{1}{L}\\sum_{j=0}^{L-1}x[i-j]\n",
    "\\end{equation}\n",
    "donde $i$ es la muestra actual que se esta evaluando,$x[i]$ la señal original y $y[i]$ la señal filtrada.\n",
    "El filtro d Permite filtrar las altas frecuencias (pasa bajo), devolviendo una versión suavizada de la señal.\n",
    "        "
   ]
  },
  {
   "cell_type": "code",
   "execution_count": null,
   "metadata": {},
   "outputs": [],
   "source": []
  },
  {
   "cell_type": "markdown",
   "metadata": {},
   "source": [
    "## Función integral de Schroeder:\n",
    "también conocida como transformada de Schroeder. Permite aproximar el impulso a una señal más adecuada para calcular parámetros acústicos.  Realizar una función que aplique la siguiente expresión a las señales suavizadas:\n",
    "\\begin{equation}\n",
    "E(t) = \\int_{t}^{\\infty}p^{2}(\\tau) \\partial\\tau = \\int_{0}^{\\infty}p^{2}(\\tau) \\partial\\tau - \\int_{0}^{t}p^{2}(\\tau) \\partial\\tau\n",
    "\\end{equation}\n",
    "Siendo $p(\\tau)$ la respuesta al impulso y $t$ variando de $t\\rightarrow\\infty$ hasta el principio de $p(t)$. Con objetivo de minimizar la influencia del ruido de fondo en conveniente definir el extremo superior de la integral, en lugar de llevarla hasta el final del audio."
   ]
  },
  {
   "cell_type": "code",
   "execution_count": null,
   "metadata": {},
   "outputs": [],
   "source": []
  },
  {
   "cell_type": "markdown",
   "metadata": {},
   "source": [
    "## Función regresión lineal por mínimos cuadrados: \n",
    "Aplicar la aproximación por una recta obtenida de la regresión lineal por cuadrados mínimos de la respuesta al impulso, con algoritmo propio y no utilizando funciones predefinidas. Se puede utilizar funciones ya desarrolladas en otras librerias para comparar (por ejemplo, la libreria [sklearn](https://scikit-learn.org/stable/modules/generated/sklearn.linear_model.LinearRegression.html) ), con la función desarrollada. En el anexo C de ISO 3382 del año 2008, figura como implementar la regresión lineal en su modo clásico, en la asignatura se utiliza el método matricial. Elegir un método y aplicarlo. Calcular e indicar el error cuadratico medio entre los metodos utilizados"
   ]
  },
  {
   "cell_type": "code",
   "execution_count": null,
   "metadata": {},
   "outputs": [],
   "source": []
  },
  {
   "cell_type": "markdown",
   "metadata": {},
   "source": [
    "## Función cálculo de parámetros acústicos:  \n",
    "\n",
    "Desarrollar una función que permita calcular los siguientes parámetros acústicos definidos en la ISO 3382 (UNE-EN ISO 3382, 2010), a partir de la recta aproximada o directamente de la respuesta al impulso, según corresponda. Buscar en la normativa la definición de los siguiente parámetros:\n",
    "1. EDT.\n",
    "2. T60 a partir del T10, T20 y T30.\n",
    "3. D50.\n",
    "4. C80."
   ]
  },
  {
   "cell_type": "code",
   "execution_count": null,
   "metadata": {},
   "outputs": [],
   "source": []
  },
  {
   "cell_type": "markdown",
   "metadata": {},
   "source": [
    "## Función Lundeby:\n",
    "Investigar método(Y. Hirata,1982), para encontrar el extremo superior de integración de la ecuación (12). El método de Lundeby está basado en un algoritmo iterativo que selecciona el intervalo temporal más adecuado para el cual se calcula la regresión lineal, buscando eliminar contribuciones no deseadas. A continuación se describe el algoritmo.(Y. Hirata,1982).\n",
    "1. Se calcula la media cuadrática (RMS) de la respuesta al impulso en intervalos de tiempo (10-50 ms)\n",
    "2. Estimamos el nivel de ruido de fondo a partir de la cola reverberante (último 10% de la señal)\n",
    "3. Estimamos la pendiente de decaimiento desde 0 db hasta el nivel del ruido (el punto “izquierdo” es el correspondiente a 0 dB. Buscamos el punto “derecho” 5 - 10 dB por sobre el nivel del ruido).\n",
    "4. Encontrar el punto de cruce entre la regresión lineal y el nivel de ruido\n",
    "5. Encontrar nuevos intervalos locales basándose en la pendiente actual (usar entre  3-10 intervalos cada 10 dB de decaimiento)\n",
    "6. Calcular la media cuadrática (RMS) de la respuesta al impulso en los nuevos intervalos locales\n",
    "7. Estimar ruido de fondo (comenzando por un punto de tiempo correspondiente a un decaimiento de 5-10 dB basándose en la pendiente actual luego del punto de cruce actual, tomando como longitud mínima el 10% de la RI)\n",
    "8. Estimar la nueva pendiente de decaimiento (se debería evaluar un rango dinámico de 10-20 dB, comenzando en 5-10 dB sobre el nivel de ruido)\n",
    "9. Encontrar un nuevo punto de cruce.\n",
    "10. Repetir 7,8 y  9 hasta alcanzar un punto de convergencia"
   ]
  },
  {
   "cell_type": "code",
   "execution_count": 8,
   "metadata": {},
   "outputs": [
    {
     "data": {
      "text/plain": [
       "Text(0, 0.5, 'Amplitud')"
      ]
     },
     "execution_count": 8,
     "metadata": {},
     "output_type": "execute_result"
    },
    {
     "data": {
      "image/png": "[encoded data removed]",
      "text/plain": [
       "<Figure size 432x288 with 1 Axes>"
      ]
     },
     "metadata": {
      "needs_background": "light"
     },
     "output_type": "display_data"
    }
   ],
   "source": []
  },
  {
   "cell_type": "markdown",
   "metadata": {},
   "source": [
    "## Informe final: \n",
    "Realizar un informe final, con el mismo formato establecido en el informe preliminar, pero en este caso no debe exceder las 5 páginas. Además se recuerda remitir solamente a detalles relevante, algunos puntos importantes son:\n",
    "1. Contemplar las correcciones de la primera entrega.\n",
    "2. En el informe debe figurar claramente cómo se unen todas las funciones definidas y la interacción entre ellas. Utilizar algun diagrama para visualizar dicha relación.\n",
    "3. Mencionar detalladamente el procedimiento.\n",
    "4. Mostrar curvas de filtros, plot del procesamiento de la seña.\n",
    "5. Validación del algoritmo con software comercial.\n",
    "6. Los informes finales entregados fuera de fecha no serán evaluados."
   ]
  },
  {
   "cell_type": "code",
   "execution_count": null,
   "metadata": {},
   "outputs": [],
   "source": []
  }
 ],
 "metadata": {
  "kernelspec": {
   "display_name": "Python 3",
   "language": "python",
   "name": "python3"
  },
  "language_info": {
   "codemirror_mode": {
    "name": "ipython",
    "version": 3
   },
   "file_extension": ".py",
   "mimetype": "text/x-python",
   "name": "python",
   "nbconvert_exporter": "python",
   "pygments_lexer": "ipython3",
   "version": "3.8.3"
  }
 },
 "nbformat": 4,
 "nbformat_minor": 4
}
