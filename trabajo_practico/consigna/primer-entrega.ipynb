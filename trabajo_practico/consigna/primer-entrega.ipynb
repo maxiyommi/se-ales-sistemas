{
 "cells": [
  {
   "cell_type": "markdown",
   "metadata": {},
   "source": [
    "# Trabajo Practico Integrador\n",
    "\n",
    "## Aspectos generales del notebook\n",
    "\n",
    "* Todas las funciones deben contar con su [docstring](https://realpython.com/documenting-python-code/#docstring-types).\n",
    "* Todos los gráficos deben tener correctamente etiquetados los ejes.\n"
   ]
  },
  {
   "cell_type": "markdown",
   "metadata": {},
   "source": [
    "## Alumnos\n",
    "* <Nombre, Apellido>\n",
    "* <Nombre, Apellido>"
   ]
  },
  {
   "cell_type": "markdown",
   "metadata": {},
   "source": [
    "## Librerias utilizadas\n",
    "Agregar todas las librerias utilizadas"
   ]
  },
  {
   "cell_type": "code",
   "execution_count": 7,
   "metadata": {},
   "outputs": [],
   "source": [
    "import numpy as np\n",
    "from matplotlib import pyplot as plt\n",
    "import pandas as pd"
   ]
  },
  {
   "cell_type": "markdown",
   "metadata": {},
   "source": [
    "## Primer Entrega\n",
    "\n",
    "* Fecha:"
   ]
  },
  {
   "cell_type": "markdown",
   "metadata": {},
   "source": [
    "### Función de sintetización de ruido rosa\n",
    "El ruido rosa o ruido $\\frac{1}{\\sqrt{f}}$ , dónde $f$ denota frecuencia en Hz, es un ruido con una distribución de frecuencias tal que su densidad espectral de potencia es proporcional a la inversa de la frecuencia. Esto implica que su nivel, por bandas de tercio de octava, es constante. El nivel del ruido rosa por intervalo fijo de frecuencias va decayendo a razón de 3 dB/octava, de forma no lineal aunque las frecuencias se representan en un eje lineal.\n",
    "\n",
    "![Espectro del ruido rosa](../img/image44.png)\n",
    "\n",
    "Se adjunta a continuación una función que devuelva un ruido rosa sintetizado a partir del algoritmo de Voss y Clarke (pueden encontrar mas informacion en [este enlace](https://www.dsprelated.com/showabstract/3933.php) y en [este notebook](https://github.com/AllenDowney/ThinkDSP/blob/master/code/voss.ipynb)). Modificar la función para que reciba como parametro la duración del ruido en segundos $t$ y como parametro opcional la frecuencia de muestreo $fs$ (la longitud del mismo sera el producto entre ambos). Adjuntar grafico del resultado"
   ]
  },
  {
   "cell_type": "code",
   "execution_count": null,
   "metadata": {},
   "outputs": [],
   "source": [
    "def voss(nrows, ncols=16):\n",
    "    \"\"\"\n",
    "    Genera ruido rosa utilizando el algoritmo de Voss-McCartney(https://www.dsprelated.com/showabstract/3933.php).\n",
    "    \n",
    "    nrows: numero de valores a generar\n",
    "    rcols: numero de fuentes a aleatorias a agregar\n",
    "    \n",
    "    returns: NumPy array\n",
    "    \"\"\"\n",
    "    \n",
    "    array = np.full((nrows, ncols), np.nan)\n",
    "    array[0, :] = np.random.random(ncols)\n",
    "    array[:, 0] = np.random.random(nrows)\n",
    "    \n",
    "    # el numero total de cambios es nrows\n",
    "    n = nrows\n",
    "    cols = np.random.geometric(0.5, n)\n",
    "    cols[cols >= ncols] = 0\n",
    "    rows = np.random.randint(nrows, size=n)\n",
    "    array[rows, cols] = np.random.random(n)\n",
    "    \n",
    "    #Implementacion del foward fill en numpy (opcional)\n",
    "#     mask = np.isnan(array)\n",
    "#     idx = np.where(~mask,np.arange(mask.shape[1]),0)\n",
    "#     np.maximum.accumulate(idx,axis=1, out=idx)\n",
    "#     array[mask] = array[np.nonzero(mask)[0], idx[mask]]\n",
    "#     total = np.sum(array,axis=1)\n",
    "    \n",
    "    df = pd.DataFrame(array)\n",
    "    filled = df.fillna(method='ffill', axis=0)\n",
    "    total = filled.sum(axis=1)\n",
    "    \n",
    "\n",
    "    ## Centrado de el array en 0\n",
    "    total = total - total.mean()\n",
    "    \n",
    "    ## Normalizado\n",
    "    valor_max = max(abs(max(total)),abs(min(total)))\n",
    "    total = total / valor_max\n",
    "    \n",
    "    return total"
   ]
  },
  {
   "cell_type": "markdown",
   "metadata": {},
   "source": [
    "Llamar la función."
   ]
  },
  {
   "cell_type": "code",
   "execution_count": null,
   "metadata": {},
   "outputs": [],
   "source": [
    "# completar"
   ]
  },
  {
   "cell_type": "markdown",
   "metadata": {},
   "source": [
    "Graficar el dominio temporal del resultado."
   ]
  },
  {
   "cell_type": "code",
   "execution_count": null,
   "metadata": {},
   "outputs": [],
   "source": [
    "# completar"
   ]
  },
  {
   "cell_type": "markdown",
   "metadata": {},
   "source": [
    "Graficar el dominio espectral del resultado."
   ]
  },
  {
   "cell_type": "code",
   "execution_count": null,
   "metadata": {},
   "outputs": [],
   "source": [
    "https://towardsdatascience.com/understanding-audio-data-fourier-transform-fft-spectrogram-and-speech-recognition-a4072d228520"
   ]
  },
  {
   "cell_type": "code",
   "execution_count": 12,
   "metadata": {},
   "outputs": [],
   "source": [
    "def FFTPlot (audio, fs):\n",
    "    # Normalizando los valores\n",
    "    audio = audio / (2.**15)\n",
    "    # Extraer longitud\n",
    "    len_audio = len(audio)\n",
    "    # Aplicando la transformada de Fourier\n",
    "    transformed_signal = np.fft.fft(audio)\n",
    "    half_length = int(np.ceil((len_audio + 1) / 2.0))\n",
    "    transformed_signal = abs(transformed_signal[:half_length])\n",
    "    transformed_signal /= float(len_audio)\n",
    "    transformed_signal **= 2\n",
    "    # Extraer la longitud de la señal transformada\n",
    "    len_ts = len(transformed_signal)\n",
    "\n",
    "    # Casos pares e impares\n",
    "    if len_audio % 2:\n",
    "        transformed_signal[1:len_ts] *= 2\n",
    "    else:\n",
    "        transformed_signal[1:len_ts-1] *= 2\n",
    "\n",
    "    # Extrayendo la potencia en decibeles dB\n",
    "    power = 10 * np.log10(transformed_signal)\n",
    "\n",
    "    # Construyendo el eje del tiempo\n",
    "    x_values = np.arange(half_length, 1) * (fs / len_audio) / 1000.0\n",
    "\n",
    "    # Graficando\n",
    "    plt.figure()\n",
    "    plt.plot(power, color='black')\n",
    "    plt.xlabel('Frecuencia [kHz]')\n",
    "    plt.ylabel('Potencia [dB]')\n",
    "    plt.show()"
   ]
  },
  {
   "cell_type": "code",
   "execution_count": 9,
   "metadata": {},
   "outputs": [],
   "source": [
    "# completar"
   ]
  },
  {
   "cell_type": "code",
   "execution_count": 13,
   "metadata": {},
   "outputs": [
    {
     "data": {
      "image/png": "[encoded data removed]",
      "text/plain": [
       "<Figure size 432x288 with 1 Axes>"
      ]
     },
     "metadata": {
      "needs_background": "light"
     },
     "output_type": "display_data"
    }
   ],
   "source": [
    "from scipy.io import wavfile\n",
    "# Leyendo el archivo input_freq\n",
    "fs, audio = wavfile.read('prueba.wav')\n",
    "FFTPlot (audio, fs)"
   ]
  },
  {
   "cell_type": "markdown",
   "metadata": {},
   "source": [
    "Un **método alternativo** es utilizando un filtro en el siguiente [link](https://ccrma.stanford.edu/~jos/sasp/Example_Synthesis_1_F_Noise.html) se presenta la implementación en Matlab/Octave."
   ]
  },
  {
   "cell_type": "markdown",
   "metadata": {},
   "source": [
    "### Sine Sweep\n",
    "El sine sweep es el método más indicado para generar el impulso por medio de la convolución (Nikolić, I., and O. H. Bjor, 2003). Dado que métodos tales como: explosión de globo, aplauso, disparo con pistola se salva, paper gun (Paper Popper, https://en.wikipedia.org/wiki/Paper_popper), golpe entre maderas, petardos, entre otros, carecen de reproducibilidad. Esto es debido a su nivel sonoro, duración y características espectrales, además de una muy baja relación señal ruido, la cual difícilmente se solucione filtrando o promediando con muchas mediciones. Comencemos por ver cómo generar el sine sweep logarítmico $x(t)$ que posee la siguiente forma:\n",
    "\n",
    "\\begin{equation}\n",
    "f(x) = \\sin[\\theta(t)]= \\sin[K (e^\\frac{t}{L} - 1) ]\n",
    "\\tag{1}\n",
    "\\end{equation}\n",
    "\n",
    "Donde:\n",
    "\n",
    "\\begin{equation}\n",
    "K = \\frac{T w_{1}}{R}\n",
    "\\end{equation}\n",
    "\n",
    "\\begin{equation}\n",
    "L = \\frac{T}{R}\n",
    "\\end{equation}\n",
    "\n",
    "y el Sweep Rate $R$\n",
    "\\begin{equation}\n",
    "R = \\ln \\left( \\frac{w_{2}}{w_{1}} \\right)\n",
    "\\end{equation}\n",
    "\n",
    "Con $w_{1}$ y $w_{2}$, las frecuencias angulares inferior y superior respectivamente, $T$ es el tiempo de duración del sine sweep en segundos (Meng, Q., 2008). Si estudiamos el espectro de la señal de la ecuación (1), se observa que no es plano, sino que disminuye a razón de -3 dB/octava, como el ruido rosa (Ver fig. 2, sup). De modo que el espectro de $x(-t)$ debe ser ajustado, aumentando en 3 dB/octava, de modo que cuando realizamos el cálculo se restaure la plenitud perfecta de la respuesta de impulso medida $h(t)$ (Farina A., 2000) (Ver fig. 2, inf).\n",
    "![](../../img/image43.png)\n",
    "\n",
    "<center><b>Fig 2.</b> Espectro del sine sweep. Sine sweep logarítmico  (sup). Filtro invertido (inf).</center>\n",
    "\n",
    "\n",
    "En el dominio temporal las señales del sine sweep logarítmico y el filtro inverso se comportan de la siguiente manera (Ver fig. 3). \n",
    "![](../../img/image46.png)\n",
    "\n",
    "<center><b>Fig 3.</b> Magnitud del sine sweep. Sine sweep logarítmico (sup). Filtro invertido (inf).</center>\n",
    "\n",
    "\n",
    "Para generar el filtro inverso $k(t)$ del sine sweep logarítmico $x(t)$ se requiere de una modulación $m(t)$ definida por la siguiente expresión:\n",
    "\n",
    "\\begin{equation}\n",
    "m(t) = \\frac{w_{1}}{2\\pi w(t)}\n",
    "\\tag{2}\n",
    "\\end{equation}\n",
    "\n",
    "Obtenida de la frecuencia instantánea (dado que la amplitud cambia en función de la\n",
    "frecuencia), calculada a partir de la ecuación (1):\n",
    "\n",
    "\\begin{equation}\n",
    "w(t)=\\frac{d[\\theta (t)]}{dt}=\\frac{K}{L} e^\\frac{t}{L}\n",
    "\\tag{3}\n",
    "\\end{equation}\n",
    "\n",
    "entonces, el filtro inverso $k(t)$ queda definido como:\n",
    "\n",
    "\\begin{equation}\n",
    "k(t)=m(t)x(-t)\n",
    "\\tag{4}\n",
    "\\end{equation}\n",
    "\n",
    "A continuación se adjunta una posible función generadora de un sine sweep. Se pide a los alumnos completarla para generar el filtro inverso de el mismo, a partir de las ecuaciones descriptas anteriormente, y graficar el resultado de ambos filtros. Agregar la documentacion necesaria, tomando como referencia la funcion anterior"
   ]
  },
  {
   "cell_type": "code",
   "execution_count": 2,
   "metadata": {},
   "outputs": [],
   "source": [
    "import numpy as np\n",
    "from matplotlib import pyplot as plt\n",
    "%matplotlib inline\n",
    "def sineSweep(T=3,f1=10,f2=100,fs=1000):\n",
    "    \n",
    "    t = np.arange(0, T*fs)/fs\n",
    "    w1 = 2*np.pi*f1\n",
    "    w2 = 2*np.pi*f2\n",
    "    R = np.log(w2/w1)\n",
    "    K = T*w1/R\n",
    "    L = T/R\n",
    "    \n",
    "    # Generacion del sweep exponencial\n",
    "    x = np.sin(K*(np.exp(t/L)-1))\n",
    "    \n",
    "    # Generacion del filtro inverso\n",
    "    # Agregar codigo aqui\n",
    "    "
   ]
  },
  {
   "cell_type": "markdown",
   "metadata": {},
   "source": [
    "## Extra: Reproducción y Grabación Simultanea de audio \n",
    "La función tiene que permitir la reproducción y la adquisición de manera simultánea para un tiempo determinado por el\n",
    "usuario. Es importante evaluar y constatar dicha simultaneidad. El módulo debería permitir seleccionar el hardware a utilizar. Algunos articulos de interes para el desarrollo:\n",
    "* [Sound Device - Simultaneous Playback and Recording](https://python-sounddevice.readthedocs.io/en/0.4.1/usage.html#simultaneous-playback-and-recording)\n",
    "* [Playing and Recording Sound in Python](https://realpython.com/playing-and-recording-sound-python/)\n",
    "* [Audio in Python](https://wiki.python.org/moin/Audio/)\n",
    "* [https://github.com/spatialaudio/python-sounddevice/issues/148](https://github.com/spatialaudio/python-sounddevice/issues/148)"
   ]
  },
  {
   "cell_type": "code",
   "execution_count": null,
   "metadata": {},
   "outputs": [],
   "source": []
  }
 ],
 "metadata": {
  "kernelspec": {
   "display_name": "Python 3",
   "language": "python",
   "name": "python3"
  },
  "language_info": {
   "codemirror_mode": {
    "name": "ipython",
    "version": 3
   },
   "file_extension": ".py",
   "mimetype": "text/x-python",
   "name": "python",
   "nbconvert_exporter": "python",
   "pygments_lexer": "ipython3",
   "version": "3.6.9"
  }
 },
 "nbformat": 4,
 "nbformat_minor": 4
}
